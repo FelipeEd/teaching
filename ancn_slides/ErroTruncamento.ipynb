{
 "cells": [
  {
   "cell_type": "markdown",
   "metadata": {},
   "source": [
    "# Erro da Interpolação Polinomial (ou erro de truncamento)\n",
    "\n",
    "*Créditos: Cálculo Numérico -- Fundamentos e Aplicações. Claudio Hirofume Asano e Eduardo Colli.*\n",
    "\n",
    "Imagine que utilizemos a interpolação polinomial para aproximar uma função $f: [x_L,x_R] \\rightarrow \\mathbb{R}$. Considere uma partição do seu domínio\n",
    "\n",
    "$$\n",
    "x_L = x_0 < x_1 < \\ldots < x_{k-1} < x_k  = x_R.\n",
    "$$"
   ]
  },
  {
   "cell_type": "markdown",
   "metadata": {},
   "source": [
    "Podemos interpolar um polinômio $p(x)$ de grau (no máximo) $k$, único, por estes pontos. Qual o erro desta aproximação? Ou seja, quão grande pode ser $f(x) - p(x)$?\n",
    "\n",
    "Defina\n",
    "$$\n",
    "F(x) \\equiv f(x) - p(x).\n",
    "$$"
   ]
  },
  {
   "cell_type": "markdown",
   "metadata": {},
   "source": [
    "Para $k=1$, a partição é\n",
    "$$\n",
    "    x_L = x_0 < x_1 = x_R,\n",
    "$$\n",
    "e o polinômio interpolador $p(x)$ é a reta que passa por $(x_0,y_0)$ e $(x_1,y_1)$. \n",
    "\n",
    "<img src=\"images/fp_and_F.png\"/>"
   ]
  },
  {
   "cell_type": "markdown",
   "metadata": {},
   "source": [
    "A função $F$ se anula em $x_0$ e $x_1$ e pode se anular em outros pontos.\n",
    "\n",
    "Para $k=2$, $p(x)$ é um polinômio quadrático.\n",
    "\n",
    "<img src=\"images/fp_and_F_k2.png\"/>"
   ]
  },
  {
   "cell_type": "markdown",
   "metadata": {},
   "source": [
    "Sabemos que $f$ e $p$ não diferem nos pontos da partição. Mas e para os outros pontos? Qual o pior caso?\n",
    "\n",
    "Para responder, tentaremos definir uma função (não-negativa) $S(t)$ tal que\n",
    "\n",
    "$$\n",
    "-S(x) \\leq F(x) \\leq S(x) \\quad \\textrm{para todo } x \\in [x_L,x_R].\n",
    "$$"
   ]
  },
  {
   "cell_type": "markdown",
   "metadata": {},
   "source": [
    "Exemplo de $S$ e $-S$ para $k=4$:\n",
    "\n",
    "<img src=\"images/S_k4.png\"/>"
   ]
  },
  {
   "cell_type": "markdown",
   "metadata": {},
   "source": [
    "Queremos que $S$ seja o mais simples possível. Por exemplo\n",
    "\n",
    "$$\n",
    "S(x) = c|q(x)|,\n",
    "$$\n",
    "onde\n",
    "$$\n",
    "q(x) = (x-x_0)(x-x_1)\\ldots(x-x_k).\n",
    "$$\n",
    "\n",
    "Mostraremos que, a partir de algum conhecimento sobre $f$ é possível calcular $c$.\n",
    "\n",
    "**Lema:** *Para cada $x \\in [x_L,x_R]$, existe um outro ponto $\\xi \\in [x_L,x_R]$ tal que*\n",
    "\n",
    "$$\n",
    "    F(x) = \\frac{F^{(k+1)}(\\xi)}{(k+1)!} q(x),\n",
    "$$\n",
    "*onde $F^{(k+1)}(\\xi)$ é a $(k+1)$-ésima derivada de $F$ em $\\xi$.*"
   ]
  },
  {
   "cell_type": "markdown",
   "metadata": {},
   "source": [
    "Como consequência,\n",
    "\n",
    "$$\n",
    "|F(x)| \\leq \\left( \\max_{s \\in [x_L,x_R]} \\left|\\frac{F^{(k+1)}(s)}{(k+1)!} \\right|\\right) |q(x)|.\n",
    "$$"
   ]
  },
  {
   "cell_type": "markdown",
   "metadata": {},
   "source": [
    "Nesta forma, a desigualdade não é muito útil. Mas note que $F(x) = f(x) - p(x)$, onde $p(x)$ é um polinômio de grau $k$. Tomando-se a $(k+1)$-ésima derivada dos dois lados,\n",
    "\n",
    "$$\n",
    "F^{(k+1)} = f^{(k+1)},\n",
    "$$\n",
    "\n",
    "logo,\n",
    "\n",
    "$$\n",
    "|F(x)| \\leq \\left( \\max_{s \\in [x_L,x_R]} \\left|\\frac{f^{(k+1)}(s)}{(k+1)!} \\right|\\right) |q(x)|.\n",
    "$$"
   ]
  },
  {
   "cell_type": "markdown",
   "metadata": {},
   "source": [
    "Assim, podemos tomar \n",
    "\n",
    "$$\n",
    "c = \\max_{s \\in [x_L,x_R]} \\left|\\frac{f^{(k+1)}(s)}{(k+1)!}\\right|.\n",
    "$$\n",
    "\n",
    "É claro que isto só vale se $f$ for uma função $C_{k+1}$, isto é, $(k+1)$ vezes diferenciável."
   ]
  },
  {
   "cell_type": "markdown",
   "metadata": {},
   "source": [
    "## Pausa para ver se entendemos\n",
    "\n",
    "Se a função é $f(x) = e^{2x}$ e a partição é $x_0 = 0.0$, $x_1 = 0.2$, $\\ldots$, $x_5 = 1.0$, qual o erro em $x = 0.5$?"
   ]
  },
  {
   "cell_type": "markdown",
   "metadata": {},
   "source": [
    "## Prova do Lema\n",
    "\n",
    "Queremos provar que\n",
    "\n",
    "$$\n",
    "    (k+1)! F(x) = F^{(k+1)}(\\xi) q(x).\n",
    "$$\n",
    "\n",
    "**Q:** Por que isto é válido para os pontos $x_0, x_1, \\ldots, x_k$?"
   ]
  },
  {
   "cell_type": "markdown",
   "metadata": {},
   "source": [
    "Falta provar que isto vale quando $x$ não é nenhum desses pontos.\n",
    "\n",
    "Primeiro, note que $(k+1)!$ é a $(k+1)$-ésima derivada de $q(x)$. Logo, basta mostrar que\n",
    "\n",
    "$$\n",
    "    q^{(k+1)}(s) F(x) - F^{(k+1)}(\\xi) q(x) = 0.\n",
    "$$\n",
    "\n",
    "Definindo a função\n",
    "\n",
    "$$\n",
    "G(\\xi) = q(\\xi)F(x) - F(\\xi)q(x),\n",
    "$$\n",
    "\n",
    "temos que\n",
    "\n",
    "$$\n",
    "G^{(k+1)}(\\xi) = 0 \\Rightarrow q^{(k+1)}(\\xi) F(x) - F^{(k+1)}(\\xi) q(x) = 0.\n",
    "$$\n",
    "\n",
    "Desta forma, queremos mostrar apenas que existe $\\xi$ tal que $G^{(k+1)}(\\xi)$ se anula."
   ]
  },
  {
   "cell_type": "markdown",
   "metadata": {},
   "source": [
    "Sabemos que $G(\\xi)$ se anula em $x_0, \\ldots, x_k$. Mas ela também se anula em $\\xi = t$, portanto, se anula em pelo menos $(k+2)$ pontos em $[x_L,x_R]$. \n",
    "\n",
    "Pelo Teorema do Valor Médio, entre cada par consecutivo de pontos onde $G$ se anula, há um ponto onde a derivada de $G$ se anula. Portanto, $G'$ se anula em pelo menos $k+1$ pontos.\n",
    "\n",
    "$G''$ se anula em pelo menos $k$ pontos.\n",
    "\n",
    "$G^{(k+1)}$ se anula em pelo menos um ponto. CQD."
   ]
  },
  {
   "cell_type": "code",
   "execution_count": null,
   "metadata": {},
   "outputs": [],
   "source": []
  }
 ],
 "metadata": {
  "kernelspec": {
   "display_name": "Python 3",
   "language": "python",
   "name": "python3"
  },
  "language_info": {
   "codemirror_mode": {
    "name": "ipython",
    "version": 3
   },
   "file_extension": ".py",
   "mimetype": "text/x-python",
   "name": "python",
   "nbconvert_exporter": "python",
   "pygments_lexer": "ipython3",
   "version": "3.5.4"
  }
 },
 "nbformat": 4,
 "nbformat_minor": 2
}
