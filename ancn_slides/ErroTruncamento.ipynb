{
 "cells": [
  {
   "cell_type": "markdown",
   "metadata": {},
   "source": [
    "# Erro da Interpolação Polinomial (ou erro de truncamento)\n",
    "\n",
    "*Créditos: Cálculo Numérico -- Fundamentos e Aplicações. Claudio Hirofume Asano e Eduardo Colli.*\n",
    "\n",
    "Imagine que utilizemos a interpolação polinomial para aproximar uma função $f: [x_L,x_R] \\rightarrow \\mathbb{R}$. Considere uma partição do seu domínio\n",
    "\n",
    "$$\n",
    "x_L = x_0 < x_1 < \\ldots < x_{k-1} < x_k  = x_R.\n",
    "$$"
   ]
  },
  {
   "cell_type": "markdown",
   "metadata": {},
   "source": [
    "Podemos interpolar um polinômio $p(x)$ de grau (no máximo) $k$, único, por estes pontos. Qual o erro desta aproximação? Ou seja, quão grande pode ser $f(x) - p(x)$?\n",
    "\n",
    "\n",
    "Defina\n",
    "$$\n",
    "F(x) \n",
    "$$\n"
   ]
  }
 ],
 "metadata": {
  "kernelspec": {
   "display_name": "Python 2",
   "language": "python",
   "name": "python2"
  },
  "language_info": {
   "codemirror_mode": {
    "name": "ipython",
    "version": 2
   },
   "file_extension": ".py",
   "mimetype": "text/x-python",
   "name": "python",
   "nbconvert_exporter": "python",
   "pygments_lexer": "ipython2",
   "version": "2.7.13"
  }
 },
 "nbformat": 4,
 "nbformat_minor": 2
}
