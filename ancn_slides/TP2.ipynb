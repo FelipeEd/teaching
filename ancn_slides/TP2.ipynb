{
 "cells": [
  {
   "cell_type": "markdown",
   "metadata": {},
   "source": [
    "# TP2: Interpolação Polinomial e Regressão Polinomial\n",
    "\n",
    "Nome: *escreva seu nome aqui*\n",
    "\n",
    "Matrícula: *escreva sua matrícula aqui*\n",
    "\n",
    "* Data de entrega: até 23:59 do dia 17/06/2018\n",
    "\n",
    "* Questões podem ser discutidas entre até três alunos. Nomes dos colegas precisam ser listados. Contudo, a escrita do código e a submissão deve ser feita individualmente.\n",
    "\n",
    "* Todo material consultado na Internet deve ser referenciado (incluir URL).\n",
    "\n",
    "* Submissão deve ser feita em formato de ipython notebook (extensão .ipynb) através do Moodle."
   ]
  },
  {
   "cell_type": "markdown",
   "metadata": {},
   "source": [
    "Este trabalho está dividido em quatro partes:\n",
    "\n",
    "* **Parte 0**: Apresentação das implementações vistas em sala\n",
    "* **Parte 1**: Estudo da estabilidade dos métodos para estimação de quadrados mínimos\n",
    "* **Parte 2**: Estudo do erro, interpolação vs. regressão\n",
    "* **Parte 3**: Estudo do tempo de execução, interpolação vs. regressão"
   ]
  },
  {
   "cell_type": "markdown",
   "metadata": {},
   "source": [
    "## Parte 0: Apresentação das implementações vistas em sala"
   ]
  },
  {
   "cell_type": "markdown",
   "metadata": {},
   "source": [
    "São listadas a seguir as implementações dos métodos de interpolação vistos em sala."
   ]
  },
  {
   "cell_type": "code",
   "execution_count": 1,
   "metadata": {},
   "outputs": [],
   "source": [
    "import numpy as np\n",
    "\n",
    "def PolinomioNewton(x, y, z):\n",
    "    m = len(x)\n",
    "    Delta = np.zeros((m,m))\n",
    "    Delta[:,0] = y\n",
    "    for j in range(1,m):\n",
    "        for i in range(m-j):\n",
    "            Delta[i,j] = (Delta[i+1,j-1] - Delta[i,j-1])/(x[i+j]-x[i])\n",
    "    \n",
    "    # com Processo de Horner\n",
    "    soma = 0.0\n",
    "    for j in range(m-1,0,-1):\n",
    "        soma += Delta[0,j]\n",
    "        soma *= (z-x[j-1])\n",
    "    soma += y[0]\n",
    "        \n",
    "    return soma"
   ]
  },
  {
   "cell_type": "code",
   "execution_count": 2,
   "metadata": {},
   "outputs": [],
   "source": [
    "def PolinomioLagrange(x, y, z):\n",
    "    m = len(x)\n",
    "    soma = 0\n",
    "    for i in range(m):\n",
    "        prod = y[i]\n",
    "        for j in range(m):\n",
    "            if j != i:\n",
    "                prod *= (z-x[j])/(x[i]-x[j])\n",
    "        soma += prod\n",
    "        \n",
    "    return soma"
   ]
  },
  {
   "cell_type": "code",
   "execution_count": 3,
   "metadata": {},
   "outputs": [
    {
     "name": "stdout",
     "output_type": "stream",
     "text": [
      "-7.0 -6.999999999999999\n"
     ]
    }
   ],
   "source": [
    "x = 1.0*np.array([3,5,6])\n",
    "y = 1.0*np.array([-8,-3,4])\n",
    "\n",
    "print(PolinomioNewton(x,y,4),PolinomioLagrange(x,y,4))"
   ]
  },
  {
   "cell_type": "markdown",
   "metadata": {},
   "source": [
    "Seja a regressão polinomial\n",
    "\n",
    "$$\n",
    "y = \\beta_0 + \\beta_1 x + \\beta_2 x^2 + \\ldots + \\beta_p x^p + \\epsilon.\n",
    "$$\n",
    "\n",
    "Os estimadores de mínimos quadrados $\\beta$ podem ser obtidos pela solução das equações normais\n",
    "\n",
    "$$\n",
    "X^\\top X \\beta = X^\\top y,\n",
    "$$\n",
    "\n",
    "onde a matriz $X$ é calculada pela função abaixo."
   ]
  },
  {
   "cell_type": "code",
   "execution_count": 4,
   "metadata": {},
   "outputs": [],
   "source": [
    "def RegressaoPolinomial_getX(x,p):\n",
    "    n = len(x)\n",
    "    X = np.empty((n,p+1))\n",
    "    X[:,0] = 1\n",
    "    X[:,1] = x\n",
    "    for i in range(2,p+1):\n",
    "        X[:,i] = X[:,i-1]*x\n",
    "\n",
    "    return X"
   ]
  },
  {
   "cell_type": "code",
   "execution_count": 5,
   "metadata": {},
   "outputs": [
    {
     "data": {
      "text/plain": [
       "array([[1.    , 1.1   , 1.21  , 1.331 , 1.4641],\n",
       "       [1.    , 1.2   , 1.44  , 1.728 , 2.0736],\n",
       "       [1.    , 1.7   , 2.89  , 4.913 , 8.3521]])"
      ]
     },
     "execution_count": 5,
     "metadata": {},
     "output_type": "execute_result"
    }
   ],
   "source": [
    "RegressaoPolinomial_getX([1.1,1.2,1.7],4)"
   ]
  },
  {
   "cell_type": "markdown",
   "metadata": {},
   "source": [
    "A seguir apresentamos a implementação um gerador de polinômios aleatórios. Mais precisamente, iremos escrever uma função que retorna $p+1$ números aleatórios independentes e com distribuição uniforme entre -5 e 5. Para isto, usamos a função np.random.rand. Tendo em vista que esta função do numpy gera valores em $[0,1)$, iremos transformá-los de maneira a mapeá-los para o intervalo $[-5,5)$."
   ]
  },
  {
   "cell_type": "code",
   "execution_count": 85,
   "metadata": {},
   "outputs": [],
   "source": [
    "def geraPolinomioAleatorio(p):\n",
    "    return -5+10*np.random.rand(p+1)"
   ]
  },
  {
   "cell_type": "code",
   "execution_count": 86,
   "metadata": {},
   "outputs": [
    {
     "data": {
      "text/plain": [
       "array([-2.29699594,  2.79914439,  0.6838937 , -4.2932561 ])"
      ]
     },
     "execution_count": 86,
     "metadata": {},
     "output_type": "execute_result"
    }
   ],
   "source": [
    "geraPolinomioAleatorio(3)"
   ]
  },
  {
   "cell_type": "markdown",
   "metadata": {},
   "source": [
    "A seguir apresentamos duas funções para gerar tabelas de pontos $(x,y)$ **com erros de medição em $y$**, a partir da avaliação de um polinômio. Vamos assumir que os coeficientes são dados em ordem crescente de grau.\n",
    "\n",
    "Na primeira função, as abcissas são igualmente espaçadas entre $x_1 = 0$ e $x_n=1$.\n",
    "\n",
    "Na segunda função, $x_1 = 0$, $x_n = 1$ e o restante das abcissas são escolhidas independentemente de maneira uniforme aleatória no intervalo $[0,1)$."
   ]
  },
  {
   "cell_type": "code",
   "execution_count": 8,
   "metadata": {},
   "outputs": [],
   "source": [
    "def geraTabelaAleatoriaY(n, coef):\n",
    "    x = np.linspace(0,1,n)\n",
    "    y = np.polyval(coef[::-1],x) + np.random.normal(scale=0.1,size=n)\n",
    "    return x,y"
   ]
  },
  {
   "cell_type": "code",
   "execution_count": 9,
   "metadata": {},
   "outputs": [],
   "source": [
    "def geraTabelaAleatoriaXY(n, coef):\n",
    "    x = np.array([0.0] + list(np.random.rand(n-2)) + [1.0])\n",
    "    y = np.polyval(coef[::-1],x) + np.random.normal(scale=0.1,size=n)\n",
    "    return x,y"
   ]
  },
  {
   "cell_type": "code",
   "execution_count": 11,
   "metadata": {},
   "outputs": [
    {
     "name": "stdout",
     "output_type": "stream",
     "text": [
      "[0.         0.30007382 0.47895407 0.51852018 0.75038908 0.91744072\n",
      " 0.17058754 0.2998728  0.68804024 0.08578422 1.        ] [ 0.26022602 -0.15287063 -0.17772332 -0.21295654 -0.59831744 -0.54968166\n",
      " -0.02019059 -0.01593865 -0.45772821  0.1162536  -0.93730382]\n"
     ]
    }
   ],
   "source": [
    "coef = geraPolinomioAleatorio(3)\n",
    "x, y = geraTabelaAleatoriaXY(11,coef)\n",
    "print(x,y)"
   ]
  },
  {
   "cell_type": "markdown",
   "metadata": {
    "collapsed": true
   },
   "source": [
    "## Parte 1: Estudo da estabilidade dos métodos para estimação de quadrados mínimos\n",
    "\n",
    "Nesta parte, vamos comparar os seguintes métodos para a estimação de quadrados mínimos linear:\n",
    "* SVD\n",
    "* QR, método de Gram-Schmidt (clássico)\n",
    "* QR, método de Gram-Schmidt (modificado)\n",
    "* QR, método de Reflexões de Householder\n",
    "\n",
    "Para isto, precisamos definir um problema de regressão onde a solução exata (isto é, os coeficientes $\\beta$) é conhecida. O código a seguir cria:\n",
    "* a matriz $X$ a partir de $m=50$ pontos igualmente espaçados entre 0 e 1 usando o método RegressaoPolinomial_getX,\n",
    "* o vetor $\\beta=[1.0,2.0,\\ldots,15.0]$, e\n",
    "* as respostas correspondentes ao vetor $y = X\\beta$."
   ]
  },
  {
   "cell_type": "code",
   "execution_count": 13,
   "metadata": {},
   "outputs": [],
   "source": [
    "import numpy as np\n",
    "\n",
    "def createLeastSquaresProblem(m,p):\n",
    "    x = np.linspace(0.0,1.0,num=m)\n",
    "    X = RegressaoPolinomial_getX(x,p-1)\n",
    "    beta = np.arange(1,p+1)\n",
    "    y = X.dot(beta)\n",
    "    return X, beta, y\n",
    "\n",
    "X, beta, y = createLeastSquaresProblem(50,15)"
   ]
  },
  {
   "cell_type": "code",
   "execution_count": 14,
   "metadata": {},
   "outputs": [
    {
     "data": {
      "text/plain": [
       "23271034501.60868"
      ]
     },
     "execution_count": 14,
     "metadata": {},
     "output_type": "execute_result"
    }
   ],
   "source": [
    "# numero de condicao de X\n",
    "np.linalg.cond(X)"
   ]
  },
  {
   "cell_type": "markdown",
   "metadata": {},
   "source": [
    "A estimação dos parâmetros $\\beta$ usando a decomposição em valores singulares (SVD) já está implementada."
   ]
  },
  {
   "cell_type": "code",
   "execution_count": 51,
   "metadata": {},
   "outputs": [
    {
     "name": "stdout",
     "output_type": "stream",
     "text": [
      "[-0.0166203   0.58128594 -5.15570346 10.06877577 -5.36457357]\n"
     ]
    }
   ],
   "source": [
    "def leastSquares_SVD(X, y):\n",
    "    m, n = X.shape\n",
    "    U,s,Vt = np.linalg.svd(X)\n",
    "    # assumindo m >= n\n",
    "    a1 = U[:,:n].T @ y\n",
    "    beta_tilde = a1/s\n",
    "    beta = Vt.T @ beta_tilde\n",
    "    return beta\n",
    "\n",
    "beta_svd = leastSquares_SVD(X,y)\n",
    "print(beta_svd)"
   ]
  },
  {
   "cell_type": "markdown",
   "metadata": {},
   "source": [
    "**1.1** Complete a implementação do Gram-Schmidt clássico (visto em sala)."
   ]
  },
  {
   "cell_type": "code",
   "execution_count": 17,
   "metadata": {},
   "outputs": [],
   "source": [
    "def CGS(A):\n",
    "    m,n = A.shape # numero de colunas\n",
    "    Q = np.zeros((m,n))\n",
    "    R = np.zeros((n,n))\n",
    "    for j in range(n):\n",
    "        u = A[:,j]\n",
    "        for i in range(0,j):\n",
    "            R[i,j] = # tamanho da projecao de aj em qi\n",
    "            u = u - # subtrai a componente de aj em qi, cujo tamanho eh R[i,j]\n",
    "        R[j,j] = # tamanho da projecao de u em qj\n",
    "        Q[:,j] = # u normalizado\n",
    "    return Q,R"
   ]
  },
  {
   "cell_type": "code",
   "execution_count": 18,
   "metadata": {},
   "outputs": [
    {
     "name": "stdout",
     "output_type": "stream",
     "text": [
      "[[1. 1. 0.]\n",
      " [1. 0. 1.]\n",
      " [0. 1. 1.]]\n"
     ]
    },
    {
     "data": {
      "text/plain": [
       "(array([[ 0.70710678,  0.40824829, -0.57735027],\n",
       "        [ 0.70710678, -0.40824829,  0.57735027],\n",
       "        [ 0.        ,  0.81649658,  0.57735027]]),\n",
       " array([[1.41421356, 0.70710678, 0.70710678],\n",
       "        [0.        , 1.22474487, 0.40824829],\n",
       "        [0.        , 0.        , 1.15470054]]))"
      ]
     },
     "execution_count": 18,
     "metadata": {},
     "output_type": "execute_result"
    }
   ],
   "source": [
    "A = 1.0*np.array([[1,1,0],[1,0,1],[0,1,1]])\n",
    "print(A)\n",
    "CGS(A)"
   ]
  },
  {
   "cell_type": "markdown",
   "metadata": {},
   "source": [
    "O método Gram-Schmidt modificado é, algebricamente, igual ao método Gram-Schmidt clássico. Contudo, devido a diferenças nos erros de arredondamento, a versão modificada é mais estável numericamente.\n",
    "\n",
    "O método Gram-Schmidt consiste em:\n",
    "* criar uma cópia $U$ da matriz $A$\n",
    "* para cada coluna $i=0,\\ldots$:\n",
    "    * definir $r_{i,i}$ como a norma-2 de $u_i$\n",
    "    * definir $q_i$ como $u_i$ normalizado\n",
    "    * para cada coluna $j=i+1,\\ldots$:\n",
    "        - definir $r_{i,j}$ como o tamanho da projeção de $u_j$ em $q_i$\n",
    "        - subtrair de $u_j$ a projeção de $u_j$ em $q_i$\n",
    "        \n",
    "Ou seja, no início da iteração $i$, todas as colunas de $U$ a partir de $i$-ésima são ortogonais a $q_0, q_1, \\ldots, q_{i-1}$.\n",
    "\n",
    "**1.2** Complete a implementação do Gram-Schmidt modificado."
   ]
  },
  {
   "cell_type": "code",
   "execution_count": 19,
   "metadata": {},
   "outputs": [],
   "source": [
    "def MGS(A):\n",
    "    m,n = A.shape # numero de colunas\n",
    "    U = A.copy()\n",
    "    Q = np.zeros((m,n))\n",
    "    R = np.zeros((n,n))\n",
    "    for i in range(n):\n",
    "        R[i,i] =\n",
    "        Q[:,i] =\n",
    "        for j in range():\n",
    "            R[i,j] =  # tamanho da projecao de uj em qi\n",
    "            U[:,j] = U[:,j] -\n",
    "    return Q,R"
   ]
  },
  {
   "cell_type": "code",
   "execution_count": 20,
   "metadata": {},
   "outputs": [
    {
     "data": {
      "text/plain": [
       "(array([[ 0.70710678,  0.40824829, -0.57735027],\n",
       "        [ 0.70710678, -0.40824829,  0.57735027],\n",
       "        [ 0.        ,  0.81649658,  0.57735027]]),\n",
       " array([[1.41421356, 0.70710678, 0.70710678],\n",
       "        [0.        , 1.22474487, 0.40824829],\n",
       "        [0.        , 0.        , 1.15470054]]))"
      ]
     },
     "execution_count": 20,
     "metadata": {},
     "output_type": "execute_result"
    }
   ],
   "source": [
    "MGS(A)"
   ]
  },
  {
   "cell_type": "markdown",
   "metadata": {},
   "source": [
    "Os métodos a seguir encontram a solução para o problema de quadrados mínimos linear usando SVD, CGS, MGS e Reflexões de Householder, respectivamente. A solução via SVD já está implementada."
   ]
  },
  {
   "cell_type": "markdown",
   "metadata": {},
   "source": [
    "**1.3** Sabendo que CGS, MGS e Reflexões de Householder são métodos de decomposição QR e que, quando $X$ é de posto completo, a solução de\n",
    "\n",
    "$$\n",
    "X^\\top X \\beta = X^\\top y\n",
    "$$\n",
    "\n",
    "pode ser encontrada resolvendo-se\n",
    "\n",
    "$$\n",
    "R\\beta = Q^\\top y,\n",
    "$$\n",
    "\n",
    "complete as três funções abaixo de forma a encontrar as estimativas de quadrados mínimos usando a decomposição QR."
   ]
  },
  {
   "cell_type": "code",
   "execution_count": 27,
   "metadata": {},
   "outputs": [
    {
     "name": "stdout",
     "output_type": "stream",
     "text": [
      "(50, 15) (15, 15)\n",
      "[ 8.67778776e-01  2.18872756e+01 -4.80574546e+02  4.59284429e+03\n",
      " -2.17276789e+04  5.62887365e+04 -7.93450983e+04  5.03710328e+04\n",
      "  6.34434682e+03 -2.67797432e+04  1.15165211e+04 -5.74618055e+02\n",
      " -7.95429343e+01 -2.11430286e+01 -7.68701597e+00]\n"
     ]
    }
   ],
   "source": [
    "def leastSquares_CGS(X, y):\n",
    "    Q,R = CGS(X)\n",
    "    beta = np.linalg.solve(,)\n",
    "    return beta\n",
    "\n",
    "beta_cgs = leastSquares_CGS(X,y)\n",
    "print(beta_cgs)"
   ]
  },
  {
   "cell_type": "code",
   "execution_count": 28,
   "metadata": {},
   "outputs": [
    {
     "name": "stdout",
     "output_type": "stream",
     "text": [
      "[ 1.00000342e+00  1.99665316e+00  3.21134716e+00 -1.12488686e+00\n",
      "  7.02691254e+01 -4.96291762e+02  2.52989793e+03 -8.64398386e+03\n",
      "  2.07813163e+04 -3.52487028e+04  4.21266697e+04 -3.46149193e+04\n",
      "  1.86662499e+04 -5.91228764e+03  8.56699287e+02]\n"
     ]
    }
   ],
   "source": [
    "def leastSquares_MGS(X, y):\n",
    "    Q,R = MGS(X)\n",
    "    beta = np.linalg.solve(,)\n",
    "    return beta\n",
    "\n",
    "beta_mgs = leastSquares_MGS(X,y)\n",
    "print(beta_mgs)"
   ]
  },
  {
   "cell_type": "code",
   "execution_count": 29,
   "metadata": {},
   "outputs": [
    {
     "name": "stdout",
     "output_type": "stream",
     "text": [
      "[ 1.          2.          3.          4.          4.99999998  6.00000017\n",
      "  6.99999915  8.00000285  8.99999321 10.00001147 10.99998631 12.00001128\n",
      " 12.9999939  14.00000195 14.99999972]\n"
     ]
    }
   ],
   "source": [
    "import scipy.linalg\n",
    "\n",
    "def leastSquares_Householder(X,y):\n",
    "    Q,R = scipy.linalg.qr(X, mode='economic')\n",
    "    beta = np.linalg.solve(,)\n",
    "    return beta\n",
    "\n",
    "beta_hh = leastSquares_Householder(X,y)\n",
    "print(beta_hh)"
   ]
  },
  {
   "cell_type": "markdown",
   "metadata": {},
   "source": [
    "No caso da estimação de quadrados mínimos via Decomposição QR (qualquer que seja o método), podemos decompor a matriz $X|y$, isto é, a matriz $X$ augumentada por $y$. Seja $X|b = Q R$. Fazendo-se $Qb = R[0:n,n]$ e $R = R[0:n,0:n]$, pode se mostrar que a solução para $R \\beta = Q_b$ é a solução das equações normais.\n",
    "\n",
    "A seguir, utilizamos esta ideia para obter a versão augumentada do método Gram-Schmidt modificado."
   ]
  },
  {
   "cell_type": "code",
   "execution_count": 30,
   "metadata": {},
   "outputs": [
    {
     "name": "stdout",
     "output_type": "stream",
     "text": [
      "[ 1.          2.          3.          4.          5.          5.99999996\n",
      "  7.0000002   7.9999993   9.00000175  9.99999693 11.00000378 11.99999681\n",
      " 13.00000176 13.99999943 15.00000008]\n"
     ]
    }
   ],
   "source": [
    "def leastSquares_MGSAug(X, y):\n",
    "    Qb,R = MGS(np.hstack((X,y[:,np.newaxis])))\n",
    "    beta = np.linalg.solve(R[:-1,:-1],R[:-1,-1])\n",
    "    return beta\n",
    "\n",
    "beta_mgsaug = leastSquares_MGSAug(X,y)\n",
    "print(beta_mgsaug)"
   ]
  },
  {
   "cell_type": "markdown",
   "metadata": {},
   "source": [
    "**1.4** Para podermos comparar os métodos, vamos escrever uma função que calcula duas medidas de erro. A primeira é a norma do resíduo *normalizada*. Seja um sistema linear $Ax = b$. A norma do resíduo de uma solução $x$ é definida por $\\|b - Ax\\|_2$. Contudo, este valor não é invariante às normas $\\|A\\|_2$ e $\\|b\\|_2$. Por esta razão, a primeira medida de erro, $\\rho(x)$ é a razão entre a norma do resíduo e o produto $\\|A\\|_2\\|b\\|_2$: \n",
    "\n",
    "$$\n",
    "    \\rho(x) = \\frac{\\|b - Ax\\|_2}{\\|A\\|\\|b\\|_2}.\n",
    "$$\n",
    "\n",
    "A segunda medida de erro é simplesmente:\n",
    "\n",
    "$$\n",
    "\\textrm{erro} = \\|x - x_\\textrm{exato}\\|_2.,\n",
    "$$\n",
    "\n",
    "onde $x_\\textrm{exato}$ é a solução exata para $Ax=b$."
   ]
  },
  {
   "cell_type": "code",
   "execution_count": 31,
   "metadata": {},
   "outputs": [
    {
     "name": "stdout",
     "output_type": "stream",
     "text": [
      "1.650805403355461e-16 2.328448500264901e-05\n"
     ]
    }
   ],
   "source": [
    "def calculaErros(A,b,x,x_exato):\n",
    "    rho = \n",
    "    erro = \n",
    "    return rho, erro\n",
    "\n",
    "rho, erro = calculaErros(X,y,beta_hh,beta)\n",
    "print(rho,erro)"
   ]
  },
  {
   "cell_type": "markdown",
   "metadata": {},
   "source": [
    "A seguir contruímos uma tabela com os resultados de cada um dos métodos para determinar qual deles é melhor."
   ]
  },
  {
   "cell_type": "code",
   "execution_count": 36,
   "metadata": {},
   "outputs": [
    {
     "name": "stdout",
     "output_type": "stream",
     "text": [
      "(50, 15) (15, 15)\n"
     ]
    },
    {
     "data": {
      "text/plain": [
       "{'CGS': (5.061734797296098e-07, 115693.86968000102),\n",
       " 'Householder': (1.650805403355461e-16, 2.328448500264901e-05),\n",
       " 'MGS': (4.297271331252853e-11, 71502.93641997196),\n",
       " 'MSGAug': (1.3207705681800357e-16, 5.9848696721262775e-06)}"
      ]
     },
     "execution_count": 36,
     "metadata": {},
     "output_type": "execute_result"
    }
   ],
   "source": [
    "names = ['CGS','MGS','MSGAug','Householder']\n",
    "functions = [leastSquares_CGS,leastSquares_MGS,leastSquares_MGSAug,leastSquares_Householder]\n",
    "\n",
    "name2error = dict()\n",
    "\n",
    "for i in range(len(names)):\n",
    "    beta_ = functions[i](X,y)\n",
    "    name2error[names[i]] = calculaErros(X,y,beta_,beta)\n",
    "    \n",
    "name2error"
   ]
  },
  {
   "cell_type": "markdown",
   "metadata": {},
   "source": [
    "Veja abaixo o resultado obtido com a implementação existente na biblioteca scipy.optmize. O erro medido através de $\\|\\beta - \\beta_\\textrm{exato}\\|_2$ é apenas um pouco menor do que aquele obtido com MSGAug:"
   ]
  },
  {
   "cell_type": "code",
   "execution_count": 37,
   "metadata": {},
   "outputs": [
    {
     "name": "stdout",
     "output_type": "stream",
     "text": [
      "Scipy (4.907026365372843e-16, 4.521820132160345e-06)\n"
     ]
    }
   ],
   "source": [
    "import scipy.optimize\n",
    "ret = scipy.optimize.lsq_linear(X,y)\n",
    "print('Scipy',calculaErros(X,y,ret.x,beta))"
   ]
  },
  {
   "cell_type": "markdown",
   "metadata": {},
   "source": [
    "## Parte 2: Estudo do erro, interpolação vs. regressão\n",
    "\n",
    "Nesta parte, iremos usar os métodos mais estáveis de Interpolação e de estimação de mínimos quadrados para avaliar o erro de previsão quando há erros de medição. Iremos investigar as seguintes questões:\n",
    "\n",
    "* O que acontece com o erro de interpolação quando aumentamos o grau do polinômio?\n",
    "* O que acontece com o erro da regressão polinomial quando aumentamos o número de pontos?\n",
    "* Dado um polinômio de grau $n$, qual dos métodos retorna as melhores previsões?\n",
    "\n",
    "**2.1** Antes de mais nada, precisamos definir uma função que fará a escolha de pontos.\n",
    "\n",
    "**Entrada:** um vetor $x$, uma abscissa $z$ e o número de pontos $n$ a serem escolhidos.\n",
    "\n",
    "**Saída:** Sejam $i$ e $j$ o menor e o maior índice dos pontos que devem ser usados como pontos-base. A função deve retornar $i$ e $j+1$.\n",
    "\n",
    "Você pode assumir que as coordenadas de $x$ estão em ordem estritamente crescente e que $x[0] < z < x[-1]$. Usaremos a função numpy.searchsorted."
   ]
  },
  {
   "cell_type": "code",
   "execution_count": 38,
   "metadata": {},
   "outputs": [
    {
     "name": "stdout",
     "output_type": "stream",
     "text": [
      "(2, 5)\n",
      "(0, 3)\n",
      "(1, 3)\n",
      "(1, 5)\n",
      "(0, 4)\n"
     ]
    }
   ],
   "source": [
    "def escolhePontos(x,z,n):\n",
    "    right_pos = np.searchsorted(x,z)\n",
    "    left_pos = right_pos-1\n",
    "    \n",
    "    xlen = len(x)\n",
    "    while (right_pos - left_pos +1) < n:\n",
    "        if right_pos == :\n",
    "            left_pos =\n",
    "            break\n",
    "        if left_pos == :\n",
    "            right_pos =\n",
    "            break\n",
    "        if :\n",
    "            right_pos += 1\n",
    "        else:\n",
    "            left_pos -= 1\n",
    "    return left_pos, right_pos+1\n",
    "\n",
    "print(escolhePontos([0,1,3,5,6],4,3))\n",
    "print(escolhePontos([0,1,3,5,6],0.5,3))\n",
    "print(escolhePontos([0,1,3,5,6],1.5,2))\n",
    "print(escolhePontos([0,1,3,5,6],5.5,4))\n",
    "print(escolhePontos([0,1,2,3,4,5],1.5,4))"
   ]
  },
  {
   "cell_type": "markdown",
   "metadata": {},
   "source": [
    "**2.2** O que acontece com o erro de interpolação quando aumentamos o grau do polinômio?\n",
    "Para responder esta pergunta, vamos:\n",
    "* gerar um polinômio de grau $p=4$\n",
    "* gerar uma tabela com $n=30$ pontos igualmente espaçados em $[0,1)$ (ver itens 1.3 e 1.4),\n",
    "* gerar um vetor z_vec contendo $\\textrm{ntests}=1000$ abscissas aleatórias dos pontos a serem aproximados,\n",
    "* para cada grau $t=2,\\ldots,p+4$:\n",
    "    * para cada $z$ em z_vec:\n",
    "        - usar interpolação polinomial de grau $t$ para aproximar ordenada de $z_j$\n",
    "        - calcular o erro quadrático da aproximação, i.e. $(y_\\textrm{exato}-y_\\textrm{aprox})^2$"
   ]
  },
  {
   "cell_type": "code",
   "execution_count": 126,
   "metadata": {},
   "outputs": [
    {
     "data": {
      "text/plain": [
       "Text(0,0.5,'erro quadrático médio')"
      ]
     },
     "execution_count": 126,
     "metadata": {},
     "output_type": "execute_result"
    },
    {
     "data": {
      "image/png": "[encoded data removed]",
      "text/plain": [
       "<Figure size 432x288 with 1 Axes>"
      ]
     },
     "metadata": {},
     "output_type": "display_data"
    }
   ],
   "source": [
    "import matplotlib.pyplot as plt\n",
    "%matplotlib inline\n",
    "\n",
    "p = 4\n",
    "n = 30\n",
    "ntests = 1000\n",
    "\n",
    "# gera coeficientes do polinomio\n",
    "coef = \n",
    "\n",
    "# gera tabela de n pontos\n",
    "x,y = \n",
    "\n",
    "# gera abscissas aleatorias (casos de teste)\n",
    "z_vec = \n",
    "y_exato = np.polyval(coef[::-1],z_vec)\n",
    "\n",
    "erros = np.zeros(p+3)\n",
    "for t in range(2,p+5):\n",
    "    for i in range(ntests):\n",
    "        z =\n",
    "        l_ind,r_ind = escolhePontos(x, z, t+1)\n",
    "        y_aprox = PolinomioNewton(x[:], y[:], z)\n",
    "        erros[t-2] += \n",
    "    erros[t-2] /= ntests\n",
    "\n",
    "fig = plt.figure()\n",
    "fig.add_subplot(111)\n",
    "plt.plot(np.arange(2,p+5),erros)\n",
    "plt.xlabel('grau da interpolação')\n",
    "plt.ylabel('erro quadrático médio')"
   ]
  },
  {
   "cell_type": "markdown",
   "metadata": {},
   "source": [
    "**2.3** O que acontece com o erro da regressão polinomial quando aumentamos o número de pontos dados?\n",
    "\n",
    "Agora iremos fixar o grau da regressão polinomial $t=2,4, \\ldots, p+4$ e aumentar o número de pontos $m=t+1,\\ldots,t+20$ usados para estimar os parâmetros.\n",
    "\n",
    "Os pontos serão escolhidos aleatoriamente dentre aqueles no vetor $x$ gerado na questão anterior. Além disso, é interessante que a estimação feita com $m=t+i$ pontos inclua todos os pontos usados na estimação feita com $m=t+i-1$ pontos. Uma forma de se satisfazer ambos os requisitos isto é embaralhar os vetores $x$ e $y$ e usar sempre os $m$ primeiros elementos."
   ]
  },
  {
   "cell_type": "code",
   "execution_count": 132,
   "metadata": {},
   "outputs": [
    {
     "data": {
      "image/png": "[encoded data removed]",
      "text/plain": [
       "<Figure size 432x288 with 1 Axes>"
      ]
     },
     "metadata": {},
     "output_type": "display_data"
    }
   ],
   "source": [
    "\n",
    "\n",
    "x_shuffled = \n",
    "y_shuffled = \n",
    "\n",
    "X = RegressaoPolinomial_getX(x_shuffled,p+4)\n",
    "\n",
    "fig = plt.figure()\n",
    "fig.add_subplot(111)\n",
    "for t in range(2,p+5,2):\n",
    "    erros = np.zeros(20)\n",
    "    for m in range(t+1,t+21):\n",
    "        beta = leastSquares_MGSAug(,)\n",
    "        y_aprox = np.polyval(beta[::-1],z_vec)\n",
    "        erros[m-(t+1)] = \n",
    "        \n",
    "    # plotar os resultados para grau t\n",
    "    plt.semilogy(np.arange(0,20),erros,label='t={}'.format(t))\n",
    "    plt.xlabel('número de pontos extras (n-(t+1))')\n",
    "    plt.ylabel('erro quadrático médio')\n",
    "    plt.legend()"
   ]
  },
  {
   "cell_type": "markdown",
   "metadata": {},
   "source": [
    "**2.4** Dado um polinômio de grau $t=2,\\ldots,p+4$, qual dos métodos retorna as melhores previsões?\n",
    "\n",
    "Para responder esta pergunta, iremos repetir o experimento anterior, adicionando uma reta tracejada correspondente ao erro da interpolação para cada grau."
   ]
  },
  {
   "cell_type": "code",
   "execution_count": 136,
   "metadata": {},
   "outputs": [
    {
     "data": {
      "image/png": "[encoded data removed]",
      "text/plain": [
       "<Figure size 432x288 with 1 Axes>"
      ]
     },
     "metadata": {},
     "output_type": "display_data"
    }
   ],
   "source": [
    "fig = plt.figure()\n",
    "fig.add_subplot(111)\n",
    "for t in range(2,p+5,2):\n",
    "    erros = np.zeros(20)\n",
    "    for m in range(t+1,t+21):\n",
    "        beta = leastSquares_MGSAug(,)\n",
    "        y_aprox = np.polyval(beta[::-1],z_vec)\n",
    "        erros[m-(t+1)] =\n",
    "\n",
    "    y_interp = np.zeros(ntests)\n",
    "    for i in range(ntests):\n",
    "        z =\n",
    "        l_ind, r_ind = escolhePontos(x,z,t+1)\n",
    "        y_interp[i] = PolinomioNewton(x[:],y[:],z)\n",
    "    erro_interp  = np.average()\n",
    "          \n",
    "    # plotar os resultados para grau t\n",
    "    plt.semilogy(np.arange(0,20),erros,label='reg t={}'.format(t))\n",
    "    plt.hlines(erro_interp,0,20,colors=colors[t-2],linestyles='--',label='int t={}'.format(t))\n",
    "    plt.xlabel('número de pontos extras (n-(t+1))')\n",
    "    plt.ylabel('erro quadrático médio')\n",
    "    plt.legend(ncol=2)"
   ]
  },
  {
   "cell_type": "markdown",
   "metadata": {},
   "source": [
    "## Parte 3: Estudo do tempo de execução, interpolação vs. regressão\n",
    "\n",
    "Vimos em sala que o custo da interpolação polinomial de grau $n$ é $\\mathcal{O}(n^2)$ e que o custo para se construir as equações normais de uma regressão polinomial é $\\mathcal{O}(np^2) = \\mathcal{O}(n^3)$.\n",
    "\n",
    "Contudo, tanto a interpolação polinomial quanto a regressão polinomial raramente consideram valores grandes de $n$, fazendo com que a diferença no custo computacional seja irrisória caso o método seja executado poucas vezes.\n",
    "\n",
    "Nesta parte iremos medir o tempo de execução dos dois métodos variando $n$. Mais adiante, iremos considerar também o tempo necessário para se resolver as equações normais por Cholesky como parte integrante da regressão polinomial."
   ]
  },
  {
   "cell_type": "markdown",
   "metadata": {},
   "source": [
    "Vamos utilizar o comando mágico %timeit para medir o tempo de execução de cada um dos métodos. Consulte a [documentação do IPython](http://ipython.readthedocs.io/en/stable/interactive/magics.html) para ver o seu funcionamento. *Não confundir com o comando time*.\n",
    "\n",
    "**3.1** Escolha os parâmetros do comando %timeit de modo a executar 4 vezes um loop com $10^4$ chamadas a PolinomioNewton(x, y, z). No bloco de código seguinte, faça o mesmo para a função constroiEquacoesNormais_v1."
   ]
  },
  {
   "cell_type": "code",
   "execution_count": 143,
   "metadata": {},
   "outputs": [
    {
     "name": "stdout",
     "output_type": "stream",
     "text": [
      "23.7 µs ± 2.18 µs per loop (mean ± std. dev. of 4 runs, 1000 loops each)\n"
     ]
    }
   ],
   "source": [
    "# geracao da funcao y = P(x)\n",
    "\n",
    "p = 4\n",
    "coef = geraPolinomioAleatorio(p) \n",
    "x, y = geraTabelaAleatoriaY(p+1, coef)\n",
    "\n",
    "# geracao do ponto a ser interpolado\n",
    "z = np.random.rand()\n",
    "  \n",
    "%timeit PolinomioNewton(x, y, z)"
   ]
  },
  {
   "cell_type": "code",
   "execution_count": 142,
   "metadata": {},
   "outputs": [
    {
     "name": "stdout",
     "output_type": "stream",
     "text": [
      "130 µs ± 9.2 µs per loop (mean ± std. dev. of 4 runs, 1000 loops each)\n"
     ]
    }
   ],
   "source": [
    "def constroiEquacoesNormais_v1(x,y,p):\n",
    "    n = len(x)\n",
    "    p = p+1\n",
    "    A = np.zeros((p,p))\n",
    "    b = np.zeros(p)\n",
    "    for i in range(p):\n",
    "        for j in range(p):\n",
    "            for k in range(n):\n",
    "                A[i,j] += x[k]**(i+j)\n",
    "                \n",
    "    for i in range(p):\n",
    "        for k in range(n):\n",
    "            b[i] += y[k] * x[k]**i\n",
    "            \n",
    "    return A,b\n",
    "            \n",
    "\n",
    "%timeit constroiEquacoesNormais_v1(x,y,p)"
   ]
  },
  {
   "cell_type": "markdown",
   "metadata": {},
   "source": [
    "Note que só a construção das equações normais está levando bem mais tempo que a interpolação polinomial. Contudo, veremos que as constantes da complexidade de tempo vão depender da nossa implementação.\n",
    "\n",
    "**3.2** Usando o fato de que a matriz $A = X^\\top X$ é simétrica, altere a implementação anterior reproduzida abaixo para calcular apenas a diagonal e elementos superiores de $A$. Em seguida, some $A$ e sua transposta $A^\\top$, subtraindo também os elementos da diagonal de $A$, tendo em vista que eles foram somados duas vezes. Use a função np.diag."
   ]
  },
  {
   "cell_type": "code",
   "execution_count": 141,
   "metadata": {},
   "outputs": [
    {
     "name": "stdout",
     "output_type": "stream",
     "text": [
      "97.7 µs ± 6.42 µs per loop (mean ± std. dev. of 4 runs, 1000 loops each)\n"
     ]
    }
   ],
   "source": [
    "def constroiEquacoesNormais_v2(x,y,p):\n",
    "    n = len(x)\n",
    "    p = p+1\n",
    "    A = np.zeros((p,p))\n",
    "    b = np.zeros(p)\n",
    "    for i in range(p):\n",
    "        for j in range(p):\n",
    "            for k in range(n):\n",
    "                A[i,j] += x[k]**(i+j)\n",
    "                \n",
    "    for i in range(p):\n",
    "        for k in range(n):\n",
    "            b[i] += y[k] * x[k]**i\n",
    "            \n",
    "    return A,b\n",
    "            \n",
    "\n",
    "%timeit constroiEquacoesNormais_v2(x,y,p)"
   ]
  },
  {
   "cell_type": "markdown",
   "metadata": {},
   "source": [
    "Esta nova implementação deve ter reduzido um pouco o tempo de execução, mas este ainda deve ser bem maior que o tempo da interpolação polinomial. (Por quê o tempo não foi reduzido pela metade?) Veremos a seguir que o uso de operações algébricas com matrizes podem acelerar consideravelmente uma função.\n",
    "\n",
    "**3.3** Complete a função abaixo usando a função RegressaoPolinomial_getX para construir a matriz $X$ e, em seguinda, calcular $A = X^\\top X$ e $b = X^\\top y$ através de operações matriciais. Calcule o tempo de execução. "
   ]
  },
  {
   "cell_type": "code",
   "execution_count": 45,
   "metadata": {},
   "outputs": [
    {
     "name": "stdout",
     "output_type": "stream",
     "text": [
      "19.6 µs ± 2.18 µs per loop (mean ± std. dev. of 4 runs, 1000 loops each)\n"
     ]
    }
   ],
   "source": [
    "def constroiEquacoesNormais_v3(x,y):\n",
    "    p = \n",
    "    X = RegressaoPolinomial_getX(x,p);\n",
    "    A = \n",
    "    b = \n",
    "    return A, b\n",
    "\n",
    "%timeit constroiEquacoesNormais_v3(x,y)"
   ]
  },
  {
   "cell_type": "markdown",
   "metadata": {},
   "source": [
    "**3.4** Agora que você conhece uma forma eficiente de escrever as equações normais, use scipy.linalg.cho_factor e scipy.linalg.cho_solve para encontrar os coeficientes de quadrados mínimos usando Cholesky."
   ]
  },
  {
   "cell_type": "code",
   "execution_count": 49,
   "metadata": {},
   "outputs": [
    {
     "name": "stdout",
     "output_type": "stream",
     "text": [
      "[-0.0166203   0.58128594 -5.15570346 10.06877577 -5.36457357]\n"
     ]
    }
   ],
   "source": [
    "import scipy.linalg\n",
    "\n",
    "def leastSquares_Cholesky(X, y):\n",
    "    XtX =\n",
    "    Xty =\n",
    "    U, lower =\n",
    "    beta =\n",
    "    return beta\n",
    "    \n",
    "X = RegressaoPolinomial_getX(x,p)\n",
    "beta_chol = leastSquares_Cholesky(X,y)\n",
    "print(beta_chol)"
   ]
  },
  {
   "cell_type": "markdown",
   "metadata": {
    "collapsed": true
   },
   "source": [
    "A lista seguinte de métodos retorna os coeficientes estimador da regressão linear, dados a matriz $X$ e o vetor $y$:\n",
    "\n",
    "* leastSquares_Cholesky\n",
    "* leastSquares_SVD\n",
    "* leastSquares_Householder\n",
    "\n",
    "O código abaixo que compara o tempo de execução de cada um dos métodos anteriores."
   ]
  },
  {
   "cell_type": "code",
   "execution_count": 144,
   "metadata": {},
   "outputs": [],
   "source": [
    "names = ['EqN_Chol','SVD','Householder']\n",
    "function_names = [leastSquares_Cholesky,leastSquares_SVD,leastSquares_Householder]\n",
    "\n",
    "name2time = dict()\n",
    "for ix,f in enumerate(function_names):\n",
    "    time = %%timeit -q -o X = RegressaoPolinomial_getX(x,p); f(X,y)\n",
    "    name2time[names[ix]] = time.average"
   ]
  },
  {
   "cell_type": "code",
   "execution_count": 145,
   "metadata": {},
   "outputs": [
    {
     "data": {
      "text/plain": [
       "{'EqN_Chol': 8.630594195731516e-05,\n",
       " 'Householder': 0.00012098147330003225,\n",
       " 'SVD': 5.033531830039075e-05}"
      ]
     },
     "execution_count": 145,
     "metadata": {},
     "output_type": "execute_result"
    }
   ],
   "source": [
    "name2time"
   ]
  }
 ],
 "metadata": {
  "kernelspec": {
   "display_name": "Python 3",
   "language": "python",
   "name": "python3"
  },
  "language_info": {
   "codemirror_mode": {
    "name": "ipython",
    "version": 3
   },
   "file_extension": ".py",
   "mimetype": "text/x-python",
   "name": "python",
   "nbconvert_exporter": "python",
   "pygments_lexer": "ipython3",
   "version": "3.5.4"
  }
 },
 "nbformat": 4,
 "nbformat_minor": 2
}
