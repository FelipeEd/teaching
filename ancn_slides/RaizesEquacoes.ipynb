{
 "cells": [
  {
   "cell_type": "markdown",
   "metadata": {},
   "source": [
    "# Métodos numéricos para encontrar raízes (em construção)"
   ]
  },
  {
   "cell_type": "code",
   "execution_count": 4,
   "metadata": {},
   "outputs": [
    {
     "data": {
      "text/plain": [
       "<matplotlib.collections.LineCollection at 0x1f2d61ebda0>"
      ]
     },
     "execution_count": 4,
     "metadata": {},
     "output_type": "execute_result"
    },
    {
     "data": {
      "image/png": "[encoded data removed]",
      "text/plain": [
       "<matplotlib.figure.Figure at 0x1f2d65140b8>"
      ]
     },
     "metadata": {},
     "output_type": "display_data"
    }
   ],
   "source": [
    "import numpy as np\n",
    "import matplotlib.pyplot as plt\n",
    "%matplotlib inline\n",
    "\n",
    "x = np.linspace(0.1,4)\n",
    "y = np.sin(x)\n",
    "\n",
    "\n",
    "plt.plot(x,y)\n",
    "plt.hlines(y=0,xmin=0.1,xmax=4)"
   ]
  },
  {
   "cell_type": "code",
   "execution_count": 5,
   "metadata": {
    "collapsed": true
   },
   "outputs": [],
   "source": [
    "import numpy as np\n",
    "\n",
    "def f(x):\n",
    "    return (x-1)*(x-2)*(x-3)\n",
    "\n",
    "x = np.linspace(0,4)\n",
    "y = f(x)"
   ]
  },
  {
   "cell_type": "code",
   "execution_count": 8,
   "metadata": {},
   "outputs": [
    {
     "data": {
      "text/plain": [
       "(0.4, 1.3)"
      ]
     },
     "execution_count": 8,
     "metadata": {},
     "output_type": "execute_result"
    },
    {
     "data": {
      "image/png": "[encoded data removed]",
      "text/plain": [
       "<matplotlib.figure.Figure at 0x1f2d6648240>"
      ]
     },
     "metadata": {},
     "output_type": "display_data"
    }
   ],
   "source": [
    "import matplotlib.pyplot as plt\n",
    "%matplotlib inline\n",
    "\n",
    "plt.plot(x,y)\n",
    "plt.hlines(y=0,xmin=0,xmax=4)\n",
    "plt.xlim((0.4,1.3))"
   ]
  },
  {
   "cell_type": "code",
   "execution_count": 22,
   "metadata": {},
   "outputs": [
    {
     "name": "stdout",
     "output_type": "stream",
     "text": [
      "a=0.40000, f(a)=-2.49600, b=1.30000, f(b)=0.35700,x=0.850000, f(x)=-0.37087,\n",
      "a=0.85000, f(a)=-0.37087, b=1.30000, f(b)=0.35700,x=1.075000, f(x)=0.13355,\n",
      "a=0.85000, f(a)=-0.37087, b=1.07500, f(b)=0.13355,x=0.962500, f(x)=-0.07927,\n",
      "a=0.96250, f(a)=-0.07927, b=1.07500, f(b)=0.13355,x=1.018750, f(x)=0.03645,\n",
      "a=0.96250, f(a)=-0.07927, b=1.01875, f(b)=0.03645,x=0.990625, f(x)=-0.01901,\n",
      "a=0.99063, f(a)=-0.01901, b=1.01875, f(b)=0.03645,x=1.004688, f(x)=0.00931,\n",
      "a=0.99063, f(a)=-0.01901, b=1.00469, f(b)=0.00931,x=0.997656, f(x)=-0.00470,\n",
      "a=0.99766, f(a)=-0.00470, b=1.00469, f(b)=0.00931,x=1.001172, f(x)=0.00234,\n",
      "a=0.99766, f(a)=-0.00470, b=1.00117, f(b)=0.00234,x=0.999414, f(x)=-0.00117,\n",
      "a=0.99941, f(a)=-0.00117, b=1.00117, f(b)=0.00234,x=1.000293, f(x)=0.00059,\n",
      "a=0.99941, f(a)=-0.00117, b=1.00029, f(b)=0.00059,x=0.999854, f(x)=-0.00029,\n",
      "a=0.99985, f(a)=-0.00029, b=1.00029, f(b)=0.00059,x=1.000073, f(x)=0.00015,\n",
      "a=0.99985, f(a)=-0.00029, b=1.00007, f(b)=0.00015,x=0.999963, f(x)=-0.00007,\n",
      "a=0.99996, f(a)=-0.00007, b=1.00007, f(b)=0.00015,x=1.000018, f(x)=0.00004,\n"
     ]
    }
   ],
   "source": [
    "def Bissecao(f, a, b, tol):\n",
    "    k = int(np.ceil(np.log2((b-a)/tol)-1))\n",
    "    for i in range(k+1):\n",
    "        x = (a+b)/2.0\n",
    "        print('a={:.5f}, f(a)={:.5f}, b={:.5f}, f(b)={:.5f},x={:.6f}, f(x)={:.5f},'.\n",
    "              format( a, f(a), b, f(b), x, f(x)))\n",
    "        if f(a)*f(x) < 0:\n",
    "            b = x\n",
    "        elif f(b)*f(x) < 0:\n",
    "            a = x\n",
    "        else:\n",
    "            return x\n",
    "\n",
    "Bissecao(f,0.4,1.3,1e-4)"
   ]
  },
  {
   "cell_type": "code",
   "execution_count": 21,
   "metadata": {},
   "outputs": [
    {
     "data": {
      "text/plain": [
       "-0.00010999999999994348"
      ]
     },
     "execution_count": 21,
     "metadata": {},
     "output_type": "execute_result"
    }
   ],
   "source": [
    "0.999963-1.000073"
   ]
  },
  {
   "cell_type": "code",
   "execution_count": null,
   "metadata": {
    "collapsed": true
   },
   "outputs": [],
   "source": []
  }
 ],
 "metadata": {
  "kernelspec": {
   "display_name": "Python 2",
   "language": "python",
   "name": "python2"
  },
  "language_info": {
   "codemirror_mode": {
    "name": "ipython",
    "version": 2
   },
   "file_extension": ".py",
   "mimetype": "text/x-python",
   "name": "python",
   "nbconvert_exporter": "python",
   "pygments_lexer": "ipython2",
   "version": "2.7.13"
  }
 },
 "nbformat": 4,
 "nbformat_minor": 2
}
