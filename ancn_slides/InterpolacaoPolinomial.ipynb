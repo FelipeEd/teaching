{
 "cells": [
  {
   "cell_type": "markdown",
   "metadata": {},
   "source": [
    "# Interpolação Polinomial (em construção)\n",
    "\n",
    "Neste bloco da disciplina veremos como construir um polinômio que passe por $n$ pontos de uma função desconhecida ou cara de se calcular. A ideia é *interpolar* os valores da função entre dois pontos. \n",
    "\n",
    "**Q:** Qual vai ser o grau deste polinômio?"
   ]
  },
  {
   "cell_type": "markdown",
   "metadata": {},
   "source": [
    "Primeiro, vamos visualizar o que queremos fazer [neste applet](http://math.mercyhurst.edu/~lwilliams/Applets/Interpolation.html)."
   ]
  },
  {
   "cell_type": "markdown",
   "metadata": {},
   "source": [
    "## Exemplos de aplicações\n",
    "*Fonte: [Wikipedia](https://en.wikipedia.org/wiki/Polynomial_interpolation)*\n",
    "\n",
    "* Aproximação de curvas complicadas (p.ex., tipografia)\n",
    "* Cálculo rápido de aproximações para logaritmo natural e funções trigonométricas\n",
    "* Base para integração numérica e equações diferenciais ordinárias numéricas\n",
    "* Multiplicação e elevação ao quadrado de números com custo sub-quadrático no número de dígitos\n",
    "* Esquemas relacionados a criptografia"
   ]
  },
  {
   "cell_type": "markdown",
   "metadata": {},
   "source": [
    "### Exansão de Taylor do logaritmo natural\n",
    "\n",
    "Para qualquer $0 < x < 2$, com $x \\in \\mathbb{R}$:\n",
    "\n",
    "$$\n",
    "\\ln(x) = (x-1) - \\frac{1}{2}(x-1)^2 + \\frac{1}{3}(x-1)^3 - \\ldots = \\sum_{=1}^\\infty \\left[ \\frac{(-1)^{n+1}}{n} (x-1)^{n} \\right]\n",
    "$$\n",
    "\n",
    "Vamos calcular o tempo para obter uma aproximação com erro $|\\epsilon| < 10^{-10}$ para 100k pontos em $x \\in (0,2)$.\n",
    "\n",
    "CONTINUAR AQUI."
   ]
  },
  {
   "cell_type": "markdown",
   "metadata": {},
   "source": [
    "## Como fazíamos no ensino médio?\n",
    "\n",
    "### Interpolação Linear (grau 1)\n",
    "**Exemplo 1:** Construa o polinômio interpolador de grau 1 a partir dos pontos $(x_0,y_0)$, $(x_1, y_1)$."
   ]
  },
  {
   "cell_type": "code",
   "execution_count": 69,
   "metadata": {},
   "outputs": [
    {
     "name": "stdout",
     "output_type": "stream",
     "text": [
      "[[ 1.   0.1]\n",
      " [ 1.   0.6]]\n",
      "[ 0.8012  4.198 ]\n"
     ]
    }
   ],
   "source": [
    "import numpy as np\n",
    "\n",
    "data = np.array([[0.1,1.221],[0.6,3.320]])\n",
    "\n",
    "n = data.shape[0]\n",
    "X = np.array([np.ones(n),data[:,0]]).T\n",
    "print(X)\n",
    "y = data[:,1]\n",
    "\n",
    "a_lin = np.linalg.solve(X,y)\n",
    "print(a_lin)"
   ]
  },
  {
   "cell_type": "code",
   "execution_count": 70,
   "metadata": {},
   "outputs": [
    {
     "name": "stdout",
     "output_type": "stream",
     "text": [
      "(1.6408, 2.0606)\n"
     ]
    }
   ],
   "source": [
    "p1 = np.dot(np.array([1,0.2]),a_lin)\n",
    "p2 = np.dot(np.array([1,0.3]),a_lin)\n",
    "print(p1,p2)"
   ]
  },
  {
   "cell_type": "markdown",
   "metadata": {},
   "source": [
    "### Interpolação Quadrática (grau 2)\n",
    "**Exemplo 2:** Construa o polinômio interpolador de grau 2 a partir dos pontos $(x_0,y_0)$, $(x_1, y_1)$, $(x_2,y_2)$."
   ]
  },
  {
   "cell_type": "code",
   "execution_count": 71,
   "metadata": {},
   "outputs": [
    {
     "name": "stdout",
     "output_type": "stream",
     "text": [
      "[[ 1.    0.1   0.01]\n",
      " [ 1.    0.6   0.36]\n",
      " [ 1.    0.8   0.64]]\n",
      "[ 1.14122857  0.231       5.66714286]\n"
     ]
    }
   ],
   "source": [
    "data = np.array([[0.1,1.221],[0.6,3.320],[0.8,4.953]])\n",
    "\n",
    "n = data.shape[0]\n",
    "X = np.array([np.ones(n),data[:,0],data[:,0]**2]).T\n",
    "print(X)\n",
    "y = data[:,1]\n",
    "\n",
    "a_quad = np.linalg.solve(X,y)\n",
    "print(a_quad)"
   ]
  },
  {
   "cell_type": "code",
   "execution_count": 73,
   "metadata": {},
   "outputs": [
    {
     "name": "stdout",
     "output_type": "stream",
     "text": [
      "(1.4141142857142859, 1.7205714285714291)\n"
     ]
    }
   ],
   "source": [
    "q1 = np.dot(np.array([1,0.2,0.2**2]),a_quad)\n",
    "q2 = np.dot(np.array([1,0.3,0.3**2]),a_quad)\n",
    "print(q1,q2)"
   ]
  },
  {
   "cell_type": "code",
   "execution_count": 82,
   "metadata": {},
   "outputs": [],
   "source": [
    "%matplotlib inline\n",
    "import matplotlib.pyplot as plt\n",
    "\n",
    "x = np.linspace(0,1)\n",
    "n = len(x)\n",
    "\n",
    "f = np.exp(2*x)\n",
    "p_lin = np.array([np.ones(n),x]).T.dot(a_lin.T)\n",
    "p_quad = np.array([np.ones(n),x,x**2]).T.dot(a_quad.T)"
   ]
  },
  {
   "cell_type": "code",
   "execution_count": 86,
   "metadata": {},
   "outputs": [
    {
     "data": {
      "text/plain": [
       "[<matplotlib.lines.Line2D at 0x10efabbd0>]"
      ]
     },
     "execution_count": 86,
     "metadata": {},
     "output_type": "execute_result"
    },
    {
     "data": {
      "image/png": "[encoded data removed]",
      "text/plain": [
       "<matplotlib.figure.Figure at 0x10ebfde90>"
      ]
     },
     "metadata": {},
     "output_type": "display_data"
    }
   ],
   "source": [
    "fig, ax = plt.subplots(1,1)\n",
    "plt.plot(x,f)\n",
    "#plt.plot(x,p_lin)\n",
    "#plt.plot(x,p_quad)"
   ]
  },
  {
   "cell_type": "code",
   "execution_count": null,
   "metadata": {
    "collapsed": true
   },
   "outputs": [],
   "source": []
  }
 ],
 "metadata": {
  "kernelspec": {
   "display_name": "Python 2",
   "language": "python",
   "name": "python2"
  },
  "language_info": {
   "codemirror_mode": {
    "name": "ipython",
    "version": 2
   },
   "file_extension": ".py",
   "mimetype": "text/x-python",
   "name": "python",
   "nbconvert_exporter": "python",
   "pygments_lexer": "ipython2",
   "version": "2.7.13"
  }
 },
 "nbformat": 4,
 "nbformat_minor": 2
}
