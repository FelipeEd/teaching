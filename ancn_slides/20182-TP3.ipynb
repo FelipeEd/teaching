{
 "cells": [
  {
   "cell_type": "markdown",
   "metadata": {},
   "source": [
    "# TP3: Raízes de Polinônio via Matriz Companheira\n",
    "\n",
    "Nome:\n",
    "\n",
    "Matrícula:\n",
    "\n",
    "**Ao submeter este trabalho prático, eu, aluno, declaro que aceito a seguinte política de honestidade com relação ao plágio: \"O aluno que submeter soluções com mais que 40% das linhas similares a outra submissão ficará com zero neste trabalho prático. As soluções enviadas também serão comparadas com sumissões de semestres anteriores.**\n",
    "\n",
    "* Data de entrega: até 23:55 do dia 4/11/2018\n",
    "\n",
    "* As questões não podem ser discutidas entre os alunos em hipótese alguma. Dúvidas devem ser tiradas com os monitores ou com o professor.\n",
    "\n",
    "* Todo material consultado na Internet deve ser referenciado (incluir URL).\n",
    "\n",
    "* Submissão deve ser feita em formato de ipython notebook (extensão .ipynb) através do Moodle.\n",
    "\n",
    "\n",
    "Este trabalho consiste nos exercícios 6.67 a 6.71 do livro\n",
    "\n",
    "CAMPOS, filho, Frederico Ferreira. Algoritmos Numéricos, 3a. Edição. LTC, 2018,\n",
    "\n",
    "mais um exercício final para plotar os polinômios e as raízes encontradas. Não é necessário consultar o livro, pois os exercícios foram transcritos na íntegra."
   ]
  },
  {
   "cell_type": "markdown",
   "metadata": {},
   "source": [
    "**6.67**  Seja o polinômio de grau $n$ na forma de potências $P(x) = c_n x^n + c_{n-1}x^{n-1}+c_{n-2}x^{n-2} + \\ldots + c_1x+c_0$, $c_n \\neq 0$ e a matriz companheira formada por seus coeficientes\n",
    "\n",
    "$$\n",
    "C = \\begin{bmatrix}\n",
    "-\\frac{c_{n-1}}{c_n} & -\\frac{c_{n-2}}{c_n} & \\ldots & -\\frac{c_1}{c_n} & \\frac{-c_0}{c_n} \\\\\n",
    "1 & 0 & \\ldots & 0 & 0 \\\\\n",
    "0 & 1 & \\ldots & 0 & 0 \\\\\n",
    "\\vdots & \\vdots & \\ddots & \\vdots \\\\\n",
    "0 & 0 & \\ldots & 1 & 0 \\\\\n",
    "\\end{bmatrix}\n",
    "$$\n",
    "\n",
    "O polinômio característico $D_n(\\lambda)$ da matriz companheira C de ordem $n$ é igual a $P(x)$. Sendo os autovalores de uma matriz iguais aos zeros do seu polinômio característico, então os autovalores da matriz $C$ são iguais aos zeros de $P(x)$. Elabore um programa para calcular os zeros de um polinômio via os autovalores da matriz companheira."
   ]
  },
  {
   "cell_type": "code",
   "execution_count": 12,
   "metadata": {},
   "outputs": [],
   "source": [
    "import numpy as np\n",
    "\n",
    "def raizesPolinomioViaMatrizCompanheira(coef):\n",
    "    '''\n",
    "        coef: coeficientes do polinomio de maior grau para menor grau\n",
    "    '''\n",
    "    return roots"
   ]
  },
  {
   "cell_type": "markdown",
   "metadata": {},
   "source": [
    "Usando o programa do exercício anterior, calcule os zeros dos polinômios abaixo:\n",
    "\n",
    "**6.68** $P(x) = 4x^5 + 20x^4 + 25x^3 -10x^2 -20x + 8$\n",
    "\n",
    "**6.69** Polinômio de Legendre $P(x) = (231x^6 -315x^4 +105x^2 -5)/16$\n",
    "\n",
    "**6.70** Polinômio de Laguerre $L_4^{(1)} = \\frac{1}{24}x^4 - \\frac{5}{6}x^3 +5x^2 -10x + 5$\n",
    "\n",
    "**6.71** Polinômio de Hermite $H_5(x) = 32x^5 -160x^3 +120x$"
   ]
  },
  {
   "cell_type": "code",
   "execution_count": 14,
   "metadata": {},
   "outputs": [
    {
     "name": "stdout",
     "output_type": "stream",
     "text": [
      "As raizes de P1 são: [-1.99998925+0.00000000e+00j -2.00000537+9.30632273e-06j\n",
      " -2.00000537-9.30632273e-06j  0.5       +1.03912741e-08j\n",
      "  0.5       -1.03912741e-08j]\n"
     ]
    }
   ],
   "source": [
    "P1 = \n",
    "r1 = raizesPolinomioViaMatrizCompanheira(P1)\n",
    "print('As raizes de P1 são:',r1)"
   ]
  },
  {
   "cell_type": "markdown",
   "metadata": {},
   "source": [
    "**Exercício final** Plote os polinômios e as raízes encontradas. Certifique-se de que o intervalo $x$ utilizado inclua todas as raízes reais.\n",
    "\n",
    "Dica 1: você pode usar a função np.iscomplex para verificar se um número possui parte imaginária.\n",
    "\n",
    "Dica 2: para extrair a parte real de um array x, use x.real."
   ]
  },
  {
   "cell_type": "code",
   "execution_count": 8,
   "metadata": {},
   "outputs": [
    {
     "data": {
      "text/plain": [
       "[<matplotlib.lines.Line2D at 0x113988f60>]"
      ]
     },
     "execution_count": 8,
     "metadata": {},
     "output_type": "execute_result"
    },
    {
     "data": {
      "image/png": "[encoded data removed]",
      "text/plain": [
       "<Figure size 720x288 with 1 Axes>"
      ]
     },
     "metadata": {},
     "output_type": "display_data"
    }
   ],
   "source": [
    "import matplotlib.pyplot as plt\n",
    "%matplotlib inline\n",
    "\n",
    "plt.subplots(1,1,figsize=(10,4))\n",
    "real_roots = \n",
    "xmin = \n",
    "xmax = \n",
    "x = np.linspace(xmin,xmax)\n",
    "y = \n",
    "plt.plot(x,y)\n",
    "plt.plot(real_roots,[0]*len(real_roots),'o')"
   ]
  }
 ],
 "metadata": {
  "kernelspec": {
   "display_name": "Python 3",
   "language": "python",
   "name": "python3"
  },
  "language_info": {
   "codemirror_mode": {
    "name": "ipython",
    "version": 3
   },
   "file_extension": ".py",
   "mimetype": "text/x-python",
   "name": "python",
   "nbconvert_exporter": "python",
   "pygments_lexer": "ipython3",
   "version": "3.6.6"
  }
 },
 "nbformat": 4,
 "nbformat_minor": 2
}
