{
 "cells": [
  {
   "cell_type": "markdown",
   "metadata": {},
   "source": [
    "# Ajuste de curvas\n",
    "\n",
    "Nas últimas aulas vimos como interpolar um polinômio por um conjunto de pontos $(x_0,y_0), \\ldots, (x_n, y_n)$ usando a Interpolação de Lagrange e a Interpolação de Newton. **Interpolar** os pontos quer dizer que a função deve passar **exatamente** pelos pontos dados.\n",
    "\n",
    "Implicitamente, estamos assumindo que:\n",
    "* não existe um erro de medição nos pontos dados,\n",
    "* o polinômio de grau $n$ é uma boa aproximação para a função no intervalo $[x_0,x_n]$. "
   ]
  },
  {
   "cell_type": "code",
   "execution_count": null,
   "metadata": {
    "collapsed": true
   },
   "outputs": [],
   "source": []
  }
 ],
 "metadata": {
  "kernelspec": {
   "display_name": "Python 2",
   "language": "python",
   "name": "python2"
  },
  "language_info": {
   "codemirror_mode": {
    "name": "ipython",
    "version": 2
   },
   "file_extension": ".py",
   "mimetype": "text/x-python",
   "name": "python",
   "nbconvert_exporter": "python",
   "pygments_lexer": "ipython2",
   "version": "2.7.13"
  }
 },
 "nbformat": 4,
 "nbformat_minor": 2
}
