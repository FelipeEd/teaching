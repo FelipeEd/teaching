{
 "cells": [
  {
   "cell_type": "markdown",
   "metadata": {},
   "source": [
    "# Métodos baseados em Aproximação Linear (em construção)\n",
    "\n",
    "Na aula anterior vimos o primeiro método para encontrar raízes de função, o método da Bisseção. Nesta aula, veremos os seguintes métodos baseados em aproximação linear:\n",
    "* método das secantes\n",
    "* método da *regula falsi*\n",
    "* método pégaso\n",
    "\n",
    "Novamente, iremos assumir que $f$ é uma função contínua em um intervalo $[a,b]$ tal que $f(a)f(b) < 0$."
   ]
  },
  {
   "cell_type": "markdown",
   "metadata": {},
   "source": [
    "## Método das secantes\n",
    "\n",
    "Neste método, dois pontos $(x_{k-1},f(x_{k-1})$ e $(x_k,f(x_k))$ são utilizados para fazer uma interpolação linear. A aproximação seguinte é dada pelo cruzamento desta reta com o eixo $x$:\n",
    "\n",
    "$$\n",
    "x_{k+1} = x_{k} - \\frac{f(x_k)}{f(x_k) - f(x_{k-1})}(x_k - x_{k-1}).\n",
    "$$\n",
    "\n",
    "**Q:** Este método sempre converge? "
   ]
  },
  {
   "cell_type": "code",
   "execution_count": 14,
   "metadata": {
    "collapsed": true
   },
   "outputs": [],
   "source": [
    "import numpy as np\n",
    "np.set_printoptions(precision=2)\n",
    "def Secantes(f,a,b, tol, maxiter=100):\n",
    "    for i in range(maxiter):\n",
    "        x = b - f(b)/(f(b)-f(a)) * (b-a)\n",
    "        print('{} {:.5f} {:.5f} {:.5f} {:.5f} {:.5f} {:.5f}'.format(i,a,f(a),b,f(b),x,f(x)))\n",
    "        a = b\n",
    "        b = x\n",
    "        if abs(b-a) <= tol or abs(f(x)) < tol:\n",
    "            break\n",
    "    return x"
   ]
  },
  {
   "cell_type": "code",
   "execution_count": 15,
   "metadata": {},
   "outputs": [
    {
     "data": {
      "text/plain": [
       "[<matplotlib.lines.Line2D at 0x20dba00bef0>]"
      ]
     },
     "execution_count": 15,
     "metadata": {},
     "output_type": "execute_result"
    },
    {
     "data": {
      "image/png": "[encoded data removed]",
      "text/plain": [
       "<matplotlib.figure.Figure at 0x20db947b7b8>"
      ]
     },
     "metadata": {},
     "output_type": "display_data"
    }
   ],
   "source": [
    "import numpy as np\n",
    "import matplotlib.pyplot as plt\n",
    "%matplotlib inline\n",
    "\n",
    "def f(x):\n",
    "    return 2*x**3 - np.cos(x+1) -3\n",
    "\n",
    "x = np.linspace(-1.1,2.1)\n",
    "y = f(x)\n",
    "\n",
    "plt.plot(x,y)"
   ]
  },
  {
   "cell_type": "code",
   "execution_count": 16,
   "metadata": {},
   "outputs": [
    {
     "name": "stdout",
     "output_type": "stream",
     "text": [
      "0 -1.00000 -6.00000 2.00000 13.98999 -0.09955 -3.62323\n",
      "1 2.00000 13.98999 -0.09955 -3.62323 0.33235 -3.16277\n",
      "2 -0.09955 -3.62323 0.33235 -3.16277 3.29896 69.20802\n",
      "3 0.33235 -3.16277 3.29896 69.20802 0.46200 -2.91136\n",
      "4 3.29896 69.20802 0.46200 -2.91136 0.57652 -2.61103\n",
      "5 0.46200 -2.91136 0.57652 -2.61103 1.57216 5.61394\n",
      "6 0.57652 -2.61103 1.57216 5.61394 0.89259 -1.26146\n",
      "7 1.57216 5.61394 0.89259 -1.26146 1.01727 -0.46278\n",
      "8 0.89259 -1.26146 1.01727 -0.46278 1.08952 0.08239\n",
      "9 1.01727 -0.46278 1.08952 0.08239 1.07860 -0.00411\n"
     ]
    },
    {
     "data": {
      "text/plain": [
       "1.0785992182051987"
      ]
     },
     "execution_count": 16,
     "metadata": {},
     "output_type": "execute_result"
    }
   ],
   "source": [
    "Secantes(f,-1,2,1e-2)"
   ]
  },
  {
   "cell_type": "markdown",
   "metadata": {},
   "source": [
    "## Método da *regula falsi*\n",
    "\n",
    "Este método pode ser visto como uma pequena modificação do método das secantes de forma a garantir que o intervalo considerado seja sempre reduzido e que ele sempre contenha uma raiz.\n",
    "\n",
    "Na prática, o ponto $x$ substitui um ponto-base se suas imagens tiverem o mesmo sinal.\n",
    "\n",
    "**Q**: Este método sempre converge?\n",
    "\n",
    "**Q**: Qual a vantagem do método das secantes?"
   ]
  },
  {
   "cell_type": "code",
   "execution_count": 17,
   "metadata": {},
   "outputs": [
    {
     "name": "stdout",
     "output_type": "stream",
     "text": [
      "0 -1.00000 -6.00000 2.00000 13.98999 -0.09955 -3.62323\n",
      "1 -0.09955 -3.62323 2.00000 13.98999 0.33235 -3.16277\n",
      "2 0.33235 -3.16277 2.00000 13.98999 0.63985 -2.40710\n",
      "3 0.63985 -2.40710 2.00000 13.98999 0.83952 -1.55114\n",
      "4 0.83952 -1.55114 2.00000 13.98999 0.95534 -0.88102\n",
      "5 0.95534 -0.88102 2.00000 13.98999 1.01723 -0.46306\n",
      "6 1.01723 -0.46306 2.00000 13.98999 1.04872 -0.23328\n",
      "7 1.04872 -0.23328 2.00000 13.98999 1.06432 -0.11498\n",
      "8 1.06432 -0.11498 2.00000 13.98999 1.07195 -0.05607\n",
      "9 1.07195 -0.05607 2.00000 13.98999 1.07565 -0.02719\n",
      "10 1.07565 -0.02719 2.00000 13.98999 1.07745 -0.01315\n",
      "11 1.07745 -0.01315 2.00000 13.98999 1.07831 -0.00636\n"
     ]
    },
    {
     "data": {
      "text/plain": [
       "1.0783129973533456"
      ]
     },
     "execution_count": 17,
     "metadata": {},
     "output_type": "execute_result"
    }
   ],
   "source": [
    "def RegulaFalsi(f,a,b, tol, maxiter=100):\n",
    "    for i in range(maxiter):\n",
    "        x = b - f(b)/(f(b)-f(a)) * (b-a)\n",
    "        print('{} {:.5f} {:.5f} {:.5f} {:.5f} {:.5f} {:.5f}'.format(i,a,f(a),b,f(b),x,f(x)))\n",
    "        if f(a)*f(x) < 0:\n",
    "            b = x\n",
    "        else:\n",
    "            a = x\n",
    "        if abs(b-a) <= tol or abs(f(x)) < tol:\n",
    "            break\n",
    "    return x\n",
    "\n",
    "RegulaFalsi(f,-1,2,1e-2)"
   ]
  },
  {
   "cell_type": "markdown",
   "metadata": {},
   "source": [
    "Vimos um exemplo nos slides em que a retenção de um dos pontos-base faz com que a convergência seja lenta. Existem muitas variantes do *regula falsi* que corrigem este problema reduzindo a ordenada do ponto-base retido, multiplicando-o por um fator de correção.\n",
    "\n",
    "A seguir, veremos uma dessas variantes, conhecida como método pégaso.\n",
    "\n",
    "## Método pégaso\n",
    "\n",
    "No método pégaso, continuamos a usar dois pontos-base $a$ e $b$ tais que $f(a)f(b) < 0$ para fazer uma interpolação linear. Contudo, se o ponto-base $a$ já foi usado como ponto-base $a$ na iteração anterior, em vez de utilizar o valor de sua imagem, iremos utilizar este valor multiplicado por um fator de redução.\n",
    "\n",
    "É importante manter a variável Fa ao invés de calcular $f(a)$ a cada iteração, pois assim podemos guardar os valores reduzidos das imagens. **Nota:** constuma-se armazenar $f(b)$ em uma variável Fb também, apenas por conveniência."
   ]
  },
  {
   "cell_type": "code",
   "execution_count": null,
   "metadata": {
    "collapsed": true
   },
   "outputs": [],
   "source": [
    "def Pegaso(f,a,b, tol):\n",
    "    # to be continued..."
   ]
  }
 ],
 "metadata": {
  "kernelspec": {
   "display_name": "Python 2",
   "language": "python",
   "name": "python2"
  },
  "language_info": {
   "codemirror_mode": {
    "name": "ipython",
    "version": 2
   },
   "file_extension": ".py",
   "mimetype": "text/x-python",
   "name": "python",
   "nbconvert_exporter": "python",
   "pygments_lexer": "ipython2",
   "version": "2.7.13"
  }
 },
 "nbformat": 4,
 "nbformat_minor": 2
}
