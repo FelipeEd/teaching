{
 "cells": [
  {
   "cell_type": "markdown",
   "metadata": {},
   "source": [
    "# Interpolação de Lagrange\n",
    "\n",
    "A partir de um conjunto de pontos $(x_0,y_0)$ iremos construir um polinômio interpolador $L_n(x)$ de grau (no máximo) $n$. Uma das formas de fazê-lo sem a necessidade de resolver um sistema de equações lineares é através da **Interpolação de Lagrange**. A ideia é construir $L_n(x)$ a partir da combinação linear de $n+1$ polinômios de grau $n$:\n",
    "\n",
    "$$\n",
    "L_n(x) = c_0 P_0(x) + c_1 P_1(x) + \\ldots + c_n P_n(x) = \\sum_{i=1}^n c_i P_i(x).\n",
    "$$\n",
    "\n",
    "**IMPORTANTE:** Esta notação é ligeiramente inconsistente com o restante da notação usada nesse bloco do curso. Isto porque o índice $i$ em $P_i(x)$ é usado para indicar que o polinômio é construído usando o ponto $x_i$ como referência. Ou seja, nesse caso $i$ não tem a ver com o grau do polinõmio. De fato, todos os polinômios $P_i$ usados para compor a interpolação de Lagrange tem grau $n$.\n",
    "\n",
    "O polinômio $P_0(x)$ é o polinômio mais simples cujas raízes são $x_1, x_2, \\ldots, x_n$:\n",
    "\n",
    "$$ P_0(x) = (x-x_1)(x-x_2)\\cdots (x-x_n)$$\n",
    "\n",
    "O polinômio $P_1(x)$ é o polinômio mais simples cujas raízes são $x_0, x_2, \\ldots, x_n$:\n",
    "\n",
    "$$ P_1(x) = (x-x_0)(x-x_2)\\cdots (x-x_n)$$\n",
    "\n",
    "No caso geral, $P_i(x)$ é o polinômio mais simples cujas raízes são $x_0, \\ldots, x_{i-1}, x_{i+1} \\ldots, x_n$:\n",
    "\n",
    "$$ P_i(x) = (x-x_0)\\cdots(x-x_{i-1})(x-x_{i+1})\\cdots (x-x_n) = \\prod_{j=1; j \\neq i}^n (x-x_j) $$\n",
    "\n",
    "Mostramos no quadro como deduzir as contantes $c_i$:\n",
    "\n",
    "$$\n",
    "c_i = \\frac{y_0}{P_i(x_i)} = \\frac{y_0}{\\prod_{j=1; j \\neq i}^n (x_i-x_j)}\n",
    "$$\n",
    "\n",
    "Substituindo $c_i$'s e $P_i$'s em $L_n$, obtemos a fórmula geral\n",
    "\n",
    "$$\n",
    "L_n(x) = \\sum_{i=1}^n \\frac{y_0}{\\prod_{j=1; j \\neq i}^n (x_i-x_j)} \\prod_{j=1; j \\neq i}^n (x-x_j) = \n",
    "y_0\\prod_{j=1; j \\neq i}^n \\frac{x - x_j}{ x_i-x_j}.\n",
    "$$"
   ]
  },
  {
   "cell_type": "code",
   "execution_count": null,
   "metadata": {
    "collapsed": true
   },
   "outputs": [],
   "source": []
  }
 ],
 "metadata": {
  "kernelspec": {
   "display_name": "Python 2",
   "language": "python",
   "name": "python2"
  },
  "language_info": {
   "codemirror_mode": {
    "name": "ipython",
    "version": 2
   },
   "file_extension": ".py",
   "mimetype": "text/x-python",
   "name": "python",
   "nbconvert_exporter": "python",
   "pygments_lexer": "ipython2",
   "version": "2.7.13"
  }
 },
 "nbformat": 4,
 "nbformat_minor": 2
}
