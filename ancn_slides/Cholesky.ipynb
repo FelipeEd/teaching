{
 "cells": [
  {
   "cell_type": "markdown",
   "metadata": {},
   "source": [
    "# Fatoração Cholesky\n",
    "\n",
    "André-Louis Cholesky (1875-1918) foi um soldade francês conhecido pelo seu importante trabalho na matemática aplicada.\n",
    "\n",
    "<img  height=\"200\" width=\"200\" src=\"http://www.bibmath.net/bios/images/cholesky.jpg\"/>\n",
    "Source: http://www.bibmath.net/\n",
    "\n",
    "A fatoração Cholesky pode ser usada para a estimação de parâmetros de uma regressão linear. Mas o que é uma regresão linear?"
   ]
  },
  {
   "cell_type": "code",
   "execution_count": null,
   "metadata": {
    "collapsed": true
   },
   "outputs": [],
   "source": [
    "# incluir exemplo aqui"
   ]
  },
  {
   "cell_type": "markdown",
   "metadata": {},
   "source": [
    "Para estimar os parâmetros da regressão linear\n",
    "\n",
    "$$\n",
    "y_i = \\beta_0 + \\beta_1 f_1(x_i) + \\beta_2 f_2(x_i) + \\ldots + \\beta f_p(x_i) + \\epsilon\n",
    "$$\n",
    "\n",
    "a partir dos pontos $(x_i, y_i)$, com $i=1,\\ldots,m$, é preciso resolver o sistema\n",
    "\n",
    "$$\n",
    "A^\\top A x = A^\\top b,\n",
    "$$\n",
    "\n",
    "onde $A$ é uma matriz $m \\times (p+1)$, onde todos elementos da primeira coluna são iguais a 1 e o elemento $A_{i,j}=f_{j-1}(x_{i})$. Podemos usar a fatoração LU, mas o fato de que $A^\\top A$ é uma matriz semi-positiva definida pode ser utilizado para fazer uma \n",
    "\n"
   ]
  },
  {
   "cell_type": "code",
   "execution_count": null,
   "metadata": {
    "collapsed": true
   },
   "outputs": [],
   "source": []
  }
 ],
 "metadata": {
  "kernelspec": {
   "display_name": "Python 2",
   "language": "python",
   "name": "python2"
  },
  "language_info": {
   "codemirror_mode": {
    "name": "ipython",
    "version": 2
   },
   "file_extension": ".py",
   "mimetype": "text/x-python",
   "name": "python",
   "nbconvert_exporter": "python",
   "pygments_lexer": "ipython2",
   "version": "2.7.13"
  }
 },
 "nbformat": 4,
 "nbformat_minor": 2
}
