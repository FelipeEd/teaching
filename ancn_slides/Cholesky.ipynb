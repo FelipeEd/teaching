{
 "cells": [
  {
   "cell_type": "markdown",
   "metadata": {},
   "source": [
    "# Fatoração Cholesky\n",
    "\n",
    "<a href=\"http://socrative.com\">CQ: quando a Fatoração LU funciona?</a>\n",
    "\n",
    "André-Louis Cholesky (1875-1918) foi um soldado francês conhecido pelo seu importante trabalho na matemática aplicada.\n",
    "\n",
    "<img  height=\"200\" width=\"200\" src=\"http://www.bibmath.net/bios/images/cholesky.jpg\"/>\n",
    "Source: http://www.bibmath.net/\n",
    "\n",
    "A fatoração Cholesky pode ser usada para a estimação de parâmetros de uma regressão linear. Mas o que é uma regressão linear?\n",
    "\n",
    "Resposta curta: É um modelo que descreve a relação entre uma variável dependente $y$ e uma ou mais variáveis explanatórias denotadas por $X$."
   ]
  },
  {
   "cell_type": "markdown",
   "metadata": {
    "collapsed": true
   },
   "source": [
    "<img src=\"https://upload.wikimedia.org/wikipedia/commons/thumb/3/3a/Linear_regression.svg/1200px-Linear_regression.svg.png\" alt=\"Linear regression.svg\" width=\"400\">\n",
    "Source: <a href=\"https://en.wikipedia.org/wiki/Linear_regression\">Wikipedia</a>"
   ]
  },
  {
   "cell_type": "markdown",
   "metadata": {},
   "source": [
    "Para estimar os parâmetros da regressão linear\n",
    "\n",
    "$$\n",
    "f(x_i) = \\beta_0 + \\beta_1 x_i + \\beta_2 x_i^2 + \\ldots + \\beta_p x_i^p\n",
    "$$\n",
    "\n",
    "a partir dos pontos $(x_i, y_i)$, com $i=1,\\ldots,m$, é preciso resolver o sistema\n",
    "\n",
    "$$\n",
    "A^\\top A \\beta = A^\\top y,\n",
    "$$\n",
    "\n",
    "onde $$A =\n",
    "\\begin{bmatrix}\n",
    "    1 & x_{1} & x_{1}^2 & \\dots  & x_{1}^p \\\\\n",
    "    1 & x_{2} & x_{2}^2 & \\dots  & x_{2}^p \\\\\n",
    "    \\vdots & \\vdots & \\vdots & \\ddots & \\vdots \\\\\n",
    "    1 & x_{m} & x_{m}^2 & \\dots  & x_{m}^p\n",
    "\\end{bmatrix}\n",
    "$$"
   ]
  },
  {
   "cell_type": "markdown",
   "metadata": {
    "collapsed": true
   },
   "source": [
    "A fatoração de Cholesky pode ser usada para decompor $A^\\top A$, pois $A^\\top A$ é uma matriz **semidefinida positiva**, para qualquer $A \\in \\mathbb{R}^{n \\times n}$. De maneira mais geral, Cholesky pode ser aplicada a qualquer matriz semidefinida positiva. Mas o que é isso?"
   ]
  },
  {
   "cell_type": "markdown",
   "metadata": {},
   "source": [
    "Uma matriz **simétrica** $A_{n \\times n}$ pode ser classificada segundo o sinal dos seus autovalores ou, equivalentemente, segundo o sinal de sua forma quadrática $v^\\top A v$:\n",
    " * definida positiva: $\\lambda_i > 0 $, para $i=1,\\ldots,n$, ou $v^\\top A v > 0$;\n",
    " * semidefinida positiva: $\\lambda_i \\geq 0 $, para $i=1,\\ldots,n$ com pelo menos um $\\lambda_i = 0$, ou $v^\\top A v \\geq 0$;\n",
    " * definida negativa: $\\lambda_i < 0 $, para $i=1,\\ldots,n$, ou $v^\\top A v < 0$;\n",
    " * semidefinida negativa: $\\lambda_i \\leq 0 $, para $i=1,\\ldots,n$ com pelo menos um $\\lambda_i = 0$, ou $v^\\top A v \\leq 0$."
   ]
  },
  {
   "cell_type": "markdown",
   "metadata": {},
   "source": [
    "**Teorema**: toda matriz $A \\in \\mathbb{R}^{n \\times n}$ semidefinida positiva possui uma fatoração $A=L L^\\top$ onde $L$ é uma matriz triangular inferior. Em particular, quando $A$ é definida positiva, a fatoração $A=L L^\\top$ é única.\n",
    "\n",
    "O que podemos dizer da direção contrária? Uma matriz $A=L L^\\top$ é semidefinida positiva? \n",
    "\n",
    "A partir deste teorema, podemos definir o algoritmo."
   ]
  },
  {
   "cell_type": "markdown",
   "metadata": {},
   "source": [
    "$$A = L L^\\top = \n",
    "\\begin{bmatrix}\n",
    "    l_{11} & 0 & 0 & \\dots  & 0 \\\\\n",
    "    l_{21} & l_{22} & 0 & \\dots  & 0 \\\\\n",
    "    l_{31} & l_{32} & l_{33} & \\dots  & 0 \\\\\n",
    "    \\vdots & \\vdots & \\vdots & \\ddots & \\vdots \\\\\n",
    "    l_{n1} & l_{n2} & l_{n3} & \\dots  & l_{nn}\n",
    "\\end{bmatrix}\n",
    "\\begin{bmatrix}\n",
    "    l_{11} & l_{21} & l_{31} & \\dots  & l_{n1} \\\\\n",
    "    0 & l_{22} & l_{32} & \\dots  & l_{n2} \\\\\n",
    "    0 & 0 & l_{33} & \\dots  & l_{n3} \\\\\n",
    "    \\vdots & \\vdots & \\vdots & \\ddots & \\vdots \\\\\n",
    "    0 & 0 & 0 & \\dots  & l_{nn}\n",
    "\\end{bmatrix}\n",
    "$$"
   ]
  },
  {
   "cell_type": "code",
   "execution_count": 11,
   "metadata": {
    "collapsed": true
   },
   "outputs": [],
   "source": [
    "from math import sqrt\n",
    "from pprint import pprint\n",
    "import numpy as np\n",
    " \n",
    "def mycholesky(A):\n",
    "    \"\"\"Faz a fatoração Cholesky da matriz A, que precisa\n",
    "    ser semidefinida positiva. A função retorna a matriz\n",
    "    triangular inferior L.\"\"\"\n"
   ]
  },
  {
   "cell_type": "markdown",
   "metadata": {},
   "source": [
    "### Considerações adicionais\n",
    " * Em que situação o método acima vai gerar um erro?\n",
    " * Qual o custo computacional?"
   ]
  },
  {
   "cell_type": "code",
   "execution_count": null,
   "metadata": {
    "collapsed": true
   },
   "outputs": [],
   "source": []
  },
  {
   "cell_type": "code",
   "execution_count": 13,
   "metadata": {
    "collapsed": false
   },
   "outputs": [
    {
     "name": "stdout",
     "output_type": "stream",
     "text": [
      "[[ 9  6 -3  3]\n",
      " [ 6 20  2 22]\n",
      " [-3  2  6  2]\n",
      " [ 3 22  2 28]]\n"
     ]
    },
    {
     "data": {
      "text/plain": [
       "array([[ 3.,  0.,  0.,  0.],\n",
       "       [ 2.,  4.,  0.,  0.],\n",
       "       [-1.,  1.,  2.,  0.],\n",
       "       [ 1.,  5., -1.,  1.]])"
      ]
     },
     "execution_count": 13,
     "metadata": {},
     "output_type": "execute_result"
    }
   ],
   "source": [
    "import numpy as np\n",
    "from scipy.linalg import cholesky\n",
    "A = np.array([[9,6,-3,3],[6,20,2,22],[-3,2,6,2],[3,22,2,28]])\n",
    "print(A)\n",
    "U = cholesky(A)\n",
    "U.transpose()"
   ]
  },
  {
   "cell_type": "markdown",
   "metadata": {},
   "source": [
    "## Exemplos de matriz definida positiva\n",
    " * <a href=\"http://mathonweb.com/help/backgd4.htm\">Matrizes representando sistemas lineares vindos de redes de circuitos</a>\n",
    " * <a href=\"https://en.wikipedia.org/wiki/Laplacian_matrix\">Laplaciano de um grafo $L = D - A$, onde $D$ é uma matriz diagonal com os graus e $A$ é a matriz de adjacências de um grafo não-direcionado.</a>\n",
    " * <a href=\"http://ttic.uchicago.edu/~dmcallester/ttic101-07/lectures/Gaussians/Gaussians.pdf\">Matriz de covariância de um conjunto de variáveis aleatórias</a>\n",
    " * <a href=\"https://en.wikipedia.org/wiki/Kernel_method\">Matriz formada através de Kernel functions: cada entrada representa o produto interno de dois pontos representados em uma base formada por funções.</a> "
   ]
  },
  {
   "cell_type": "code",
   "execution_count": 23,
   "metadata": {
    "collapsed": true
   },
   "outputs": [],
   "source": [
    "?scipy.linalg.cho_factor"
   ]
  },
  {
   "cell_type": "code",
   "execution_count": 25,
   "metadata": {
    "collapsed": false
   },
   "outputs": [
    {
     "name": "stdout",
     "output_type": "stream",
     "text": [
      "[ 3.05555556 -4.91666667  2.5         3.5       ]\n"
     ]
    }
   ],
   "source": [
    "# Resolvendo um sistema usando Cholesky\n",
    "import scipy.linalg\n",
    "b = np.array([1,2,3,4])\n",
    "\n",
    "soln = scipy.linalg.cho_solve((U,False),b)\n",
    "print(soln)"
   ]
  }
 ],
 "metadata": {
  "kernelspec": {
   "display_name": "Python [Root]",
   "language": "python",
   "name": "Python [Root]"
  },
  "language_info": {
   "codemirror_mode": {
    "name": "ipython",
    "version": 2
   },
   "file_extension": ".py",
   "mimetype": "text/x-python",
   "name": "python",
   "nbconvert_exporter": "python",
   "pygments_lexer": "ipython2",
   "version": "2.7.12"
  }
 },
 "nbformat": 4,
 "nbformat_minor": 2
}
