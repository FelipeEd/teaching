{
 "cells": [
  {
   "cell_type": "markdown",
   "metadata": {},
   "source": [
    "# Resolvendo o problema de quadrados mínimos linear (em construção)\n",
    "*Créditos: parcialmente traduzido de https://users.wpi.edu/~walker/MA3257/HANDOUTS/least-squares_handout.pdf*\n",
    "\n",
    "O método dos quadrados mínimos aplicado à regressão linear $f(x_i) = \\beta_1 x_{i,1} + \\beta_2 x_{i,2} + \\ldots + \\beta_p x_{i,p}$ consiste em minimizar o desvio\n",
    "\n",
    "$$\n",
    "D(\\beta) = \\min_\\beta \\sum_i (\\beta_1 x_{i,1} + \\ldots + \\beta_p x_{i,p} -  y_i)^2.\n",
    "$$\n",
    "\n",
    "Podemos reescrever a função objetivo acima como\n",
    "\n",
    "$$\n",
    "D(\\beta) = \\min_\\beta \\| \\mathbf{X}\\beta - \\mathbf{y} \\|_2^2,\n",
    "$$\n",
    "\n",
    "onde\n",
    "\n",
    "$$\n",
    "\\mathbf{X} = \\begin{bmatrix}\n",
    "x_{1,1} & x_{1,2} & \\ldots & x_{1,p} \\\\ \n",
    "x_{2,1} & x_{2,2} & \\ldots & x_{2,p} \\\\ \n",
    "\\vdots & \\vdots & \\ddots & \\vdots \\\\\n",
    "x_{n,1} & x_{n,2} & \\ldots & x_{n,p} \\\\ \n",
    "\\end{bmatrix}\n",
    "$$\n",
    "\n",
    "Vimos em sala que minimizar $D(\\beta)$ equivale a resolver o sistema\n",
    "\n",
    "$$\n",
    "\\mathbf{X}^\\top \\mathbf{X} \\beta = \\mathbf{X}^\\top y,\n",
    "$$\n",
    "\n",
    "que é um sistema com $p$ equações e $p$ variáveis. Estas equações são conhecidas como **Equações Normais**, pois a solução $\\beta$ deve satisfazer $\\mathbf{X}^\\top (y - \\mathbf{X}\\beta) = \\mathbf{0}$, ou seja, o vetor resíduo $(y - \\mathbf{X}\\beta)$ deve ser ortogonal às colunas de $\\mathbf{X}$."
   ]
  },
  {
   "cell_type": "markdown",
   "metadata": {},
   "source": [
    "## Existência e Unicidade da solução\n",
    "\n",
    "Lembre-se que posto de uma matriz é o número máximo de linhas ou colunas linearmente independentes. Dado que $\\mathbf{X}$ é $n \\times p$ com $n \\neq p$, temos necessariamente que $\\textrm{posto}(\\mathbf{X}) \\leq p$. Se $\\textrm{posto}(\\mathbf{X}) = p$, dizemos que X é de **posto completo**.\n",
    "\n",
    "**Proposição 1**: Se $v \\in \\mathbf{R}^p, X^\\top X v = 0 \\iff Xv = 0$.\n",
    "\n",
    "**Proposição 2**: $X^\\top X$ é não-singular se e somente se $X$ é de posto completo.\n",
    "\n",
    "*Prova:* $X^\\top X \\,\\textrm{é não-singular}\\, \\iff X^\\top X v \\neq 0, \\quad \\forall v \\neq 0$.\n",
    "\n",
    "Pela Proposição 1, $X^\\top X v \\neq 0 \\iff Xv \\neq 0$. Note que $Xv$ é uma combinação linear das colunas de $X$. Portanto, a única forma de garantir que $Xv \\neq 0$ para todo $v \\neq 0$ é garantir que as colunas de $X$ são linearmente independentes. Portanto, $X$ é de posto completo. CQD.\n",
    "\n",
    "Como consequência da Proposição 2, as equações normais possuem solução única para todo $y$ se $X$ é de posto completo. Além disso, temos mais um resultado.\n",
    "\n",
    "**Proposição 3**: As equações normais sempre tem pelo menos uma solução.\n",
    "\n",
    "*Prova:* Vamos usar um resultado geral da Álgebra Linear que afirma que um sistema linear $Mz = c$ tem solução se e somente se $c^\\top v = 0$ sempre que $M^\\top v = 0$. \n",
    "\n",
    "Aplicamos este resultado fazendo $M = X^\\top X$ e $c = X^\\top y$. Suponha que $(X^\\top X)^\\top v = 0$. Como $(X^\\top X)^\\top = X^\\top X$, temos $X^\\top X v = 0$ e, pela Proposição 1, $X v = 0$. Então $(X^\\top y) v = y^\\top (Xv) = 0$. CQD.\n",
    "\n",
    "**Proposição 4**: Se $X$ não é de posto completo, então as equações normais tem infinitas soluções, e quaisquer duas soluções $\\beta$ e $\\widehat{\\beta}$ satisfazer $X(\\beta-\\widehat{\\beta})=0$.\n",
    "\n",
    "*Prova:* Pela Proposição 3, as equações normais tem uma solução $\\beta$. Se $X$ não é de posto completo, então existe $v$ não-nulo tal que $Xv = 0$. Para qualquer escalar $\\lambda$, verifica-se que $\\beta + \\lambda v$ também é uma solução. Portanto, existem infinitas soluções. Se $\\widehat{\\beta}$ também é uma solução, então\n",
    "\n",
    "$$\n",
    "X^\\top X (\\beta - \\widehat{\\beta}) = X^\\top X\\beta - X^\\top X\\widehat{\\beta} = X^\\top y - X^\\top y = 0.\n",
    "$$\n",
    "\n",
    "Da proposição 1, segue que $X(\\beta - \\widehat{\\beta}) = 0$."
   ]
  },
  {
   "cell_type": "markdown",
   "metadata": {},
   "source": [
    "## Resolvendo as equações normais\n",
    "\n",
    "Obviamente $X^\\top X$ é simétrica. Se $X$ é de posto completo, então para todo $v \\neq 0$, temos que $X^\\top X v \\neq 0$ pela Proposição 2 e, portanto $Xv \\neq 0$ pela Proposição 1. Nesse caso, podemos mostrar que $v^\\top (X^\\top X) v > 0$. Portanto, **se $X$ é de posto completo, então $X^\\top X$ é simétrica e definida positiva**.\n",
    "\n",
    "Assumindo que $X$ é de posto completo, podemos aplicar a Decomposição Cholesky a $X^\\top X$ e resolver as equações normais de maneira estável e eficiente."
   ]
  },
  {
   "cell_type": "markdown",
   "metadata": {},
   "source": [
    "## Métodos alternativos de solução\n",
    "\n",
    "Existem circustâncias em que resolver as equações normais não é a melhor forma de resolver o problema de quadrados mínimos linear. Seja $X$ de posto completo. O número de condição de $X^\\top X$ segundo a norma-2 é dado por\n",
    "\n",
    "$$\n",
    "\\kappa_2 (X^\\top X) = \\frac{\\sigma_1^2}{\\sigma_n^2},\n",
    "$$\n",
    "\n",
    "onde $\\sigma_1$ é o o maior valor singular de $X$ em módulo e $\\sigma_n$, o menor. Como $\\kappa_2 = \\frac{\\sigma_1}{\\sigma_n}$, podemos escrever\n",
    "\n",
    "$$\n",
    "\\kappa_2 (X^\\top X) = \\kappa_2(X)^2.\n",
    "$$\n",
    "\n",
    "**Consequência:** Quando $\\kappa_2(X)$ é grande, *não* devemos encontrar os parâmetros da regressão linear resolvendo as equações normais, mesmo que usando Cholesky.\n",
    "\n",
    "Iremos ver dois métodos alternativos:\n",
    "1. Resolução via Decomposição QR\n",
    "2. Resolução via Decomposição em Valores Singulares (SVD)"
   ]
  },
  {
   "cell_type": "markdown",
   "metadata": {},
   "source": []
  }
 ],
 "metadata": {
  "kernelspec": {
   "display_name": "Python 3",
   "language": "python",
   "name": "python3"
  },
  "language_info": {
   "codemirror_mode": {
    "name": "ipython",
    "version": 3
   },
   "file_extension": ".py",
   "mimetype": "text/x-python",
   "name": "python",
   "nbconvert_exporter": "python",
   "pygments_lexer": "ipython3",
   "version": "3.5.4"
  }
 },
 "nbformat": 4,
 "nbformat_minor": 2
}
