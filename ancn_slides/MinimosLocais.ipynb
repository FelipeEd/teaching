{
 "cells": [
  {
   "cell_type": "markdown",
   "metadata": {
    "collapsed": true
   },
   "source": [
    "# Otimização de funções (em construção)\n",
    "\n",
    "Para funções $f: \\mathbb{R} \\rightarrow \\mathbb{R}$, podemos utilizar qualquer um dos métodos vistos anteriormente para calcular pontos críticos (ou ótimos locais) de $f$.\n",
    "\n",
    "Para isto, basta definir uma função $g(x) = f'(x)$ e encontrar ums raiz $x^*$ de $g(x)$.\n",
    "\n",
    " * Se $f''(x^*) > 0$, então $(x^*)$ é um ponto de mínimo\n",
    " * Se $f''(x^*) < 0$, então $(x^*)$ é um ponto de máximo\n",
    " * Se $f''(x^*) = 0$, então $(x^*)$ é um ponto de inflexão\n",
    " \n",
    " Note que quando utilizamos o método de Newton, a relação de recorrência é\n",
    " \n",
    " $$\n",
    " x_{n+1} = x_n - \\frac{f'(x_n)}{f''(x_n)}.\n",
    " $$\n",
    " \n",
    " **Exemplo:** achar o ponto de mínimo de $f(x) = x^2 + exp(-x) + 3$."
   ]
  },
  {
   "cell_type": "code",
   "execution_count": 1,
   "metadata": {},
   "outputs": [
    {
     "data": {
      "text/plain": [
       "[<matplotlib.lines.Line2D at 0x116e74a90>]"
      ]
     },
     "execution_count": 1,
     "metadata": {},
     "output_type": "execute_result"
    },
    {
     "data": {
      "image/png": "[encoded data removed]",
      "text/plain": [
       "<matplotlib.figure.Figure at 0x110088950>"
      ]
     },
     "metadata": {},
     "output_type": "display_data"
    }
   ],
   "source": [
    "import numpy as np\n",
    "import matplotlib.pyplot as plt\n",
    "%matplotlib inline\n",
    "\n",
    "x = np.linspace(0,1)\n",
    "y = x**2+np.exp(-x)+3\n",
    "\n",
    "plt.plot(x,y)"
   ]
  },
  {
   "cell_type": "code",
   "execution_count": 2,
   "metadata": {},
   "outputs": [
    {
     "name": "stdout",
     "output_type": "stream",
     "text": [
      "0.333333333333\n",
      "0.351689331555\n",
      "0.351733710993\n",
      "0.351733711249\n",
      "0.351733711249\n"
     ]
    }
   ],
   "source": [
    "def Newton(x):\n",
    "    return x - (2*x-np.exp(-x))/(2+np.exp(-x))\n",
    "\n",
    "x = 0.0\n",
    "for i in range(5):\n",
    "    x = Newton(x)\n",
    "    print(x)"
   ]
  },
  {
   "cell_type": "markdown",
   "metadata": {},
   "source": [
    "## Newton para sistemas não-lineares\n",
    "\n",
    "Agora temos um campo vetorial $\\mathbf{f}: \\mathbb{R}^n \\rightarrow \\mathbb{R}^m$ e queremos resolver\n",
    "\n",
    "$$\n",
    "\\mathbf{f(x)} = \\mathbf{0}.\n",
    "$$\n"
   ]
  },
  {
   "cell_type": "code",
   "execution_count": 10,
   "metadata": {},
   "outputs": [
    {
     "name": "stdout",
     "output_type": "stream",
     "text": [
      "(0.52314331420765037, 4.4745964375948386)\n",
      "(-0.21047298817699367, 6.7579238532998609)\n",
      "(0.66870533186555425, 4.0194943630235009)\n",
      "(-0.83407167048330155, 6.5487247633725101)\n",
      "(0.78953707572860798, 4.0295893808544854)\n",
      "(-0.86280396038753104, 6.1819774990133638)\n",
      "(0.42141116329936534, 4.3541961901548589)\n",
      "(-0.29568732329170877, 7.3745414292647311)\n",
      "(1.5591986961477236, 2.5015394418518708)\n",
      "(5.8947399666771378, 2.680640670088791)\n",
      "(4.7593095950330042, 2.4886990196253405)\n",
      "(4.2163437235453012, 2.4427594115163571)\n",
      "(4.1421071781701269, 2.4320450870082739)\n",
      "(4.1402344138735012, 2.431755225451488)\n",
      "(4.1402331675146913, 2.4317550317137711)\n"
     ]
    }
   ],
   "source": [
    "def Newton2(t,alpha):\n",
    "    x = np.array([t,alpha])\n",
    "    f = np.array([t-1+t*np.cos(alpha), 1-np.exp(-t)-t*np.sin(alpha)+t**2/10])\n",
    "    J = np.array([[1+np.cos(alpha), -t*np.sin(alpha)],[np.exp(-t)-np.sin(alpha)+t/5,  -t*np.cos(alpha)]])\n",
    "    x = x - np.linalg.inv(J).dot(f)\n",
    "    return x[0],x[1]\n",
    "\n",
    "t = 0.1\n",
    "alpha = 0.1\n",
    "for i in range(15):\n",
    "    t,alpha = Newton2(t,alpha)\n",
    "    print(t,alpha)"
   ]
  },
  {
   "cell_type": "code",
   "execution_count": 14,
   "metadata": {},
   "outputs": [
    {
     "data": {
      "text/plain": [
       "[<matplotlib.lines.Line2D at 0x1100afa10>,\n",
       " <matplotlib.lines.Line2D at 0x1173e9c10>]"
      ]
     },
     "execution_count": 14,
     "metadata": {},
     "output_type": "execute_result"
    },
    {
     "data": {
      "image/png": "[encoded data removed]",
      "text/plain": [
       "<matplotlib.figure.Figure at 0x1171edd50>"
      ]
     },
     "metadata": {},
     "output_type": "display_data"
    }
   ],
   "source": [
    "t = np.linspace(0,5)\n",
    "xM = t\n",
    "yM = 1 - np.exp(-t)\n",
    "xI = 1-t*np.cos(alpha)\n",
    "yI = t*np.sin(alpha) - t**2/10\n",
    "\n",
    "plt.plot(t,xM,t,xI)"
   ]
  },
  {
   "cell_type": "code",
   "execution_count": null,
   "metadata": {
    "collapsed": true
   },
   "outputs": [],
   "source": [
    "plt.plot(t,M,t,xI)"
   ]
  },
  {
   "cell_type": "markdown",
   "metadata": {},
   "source": [
    "## Newton para otimização sobre múltiplas variáveis"
   ]
  },
  {
   "cell_type": "code",
   "execution_count": null,
   "metadata": {
    "collapsed": true
   },
   "outputs": [],
   "source": []
  }
 ],
 "metadata": {
  "kernelspec": {
   "display_name": "Python 2",
   "language": "python",
   "name": "python2"
  },
  "language_info": {
   "codemirror_mode": {
    "name": "ipython",
    "version": 2
   },
   "file_extension": ".py",
   "mimetype": "text/x-python",
   "name": "python",
   "nbconvert_exporter": "python",
   "pygments_lexer": "ipython2",
   "version": "2.7.13"
  }
 },
 "nbformat": 4,
 "nbformat_minor": 1
}
