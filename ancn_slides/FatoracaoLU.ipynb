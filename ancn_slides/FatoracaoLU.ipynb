{
 "cells": [
  {
   "cell_type": "markdown",
   "metadata": {},
   "source": [
    "# Decomposição LU (ou Fatoração LU)\n",
    "\n",
    "<i>Créditos: grande parte deste notebook foi traduzido de https://github.com/fastai/numerical-linear-algebra</i>\n",
    "\n",
    "A <b>Eliminação de Gauss</b> transforma um sistema linear em um triangular superior aplicando uma série de transformações lineares à sua esquerda. Cada transformação pode ser representada por uma pré-multiplicação por uma matriz triangular inferior $L_i$, para $i=1,\\ldots,n-1$.\n",
    "$$\n",
    "L_{n-1} L_{n-2} \\ldots L_{1} A = U\n",
    "$$\n",
    "\n",
    "O produto $L = (L_{n-1}\\ldots L_{1})^{-1} = L_{1}^{-1} \\ldots L_{n-1}^{-1}$ é uma matriz triangular inferior unitária (isto é, todos elementos da diagonal são iguais a 1)."
   ]
  },
  {
   "cell_type": "code",
   "execution_count": 22,
   "metadata": {
    "collapsed": true
   },
   "outputs": [],
   "source": [
    "import numpy as np\n",
    "def LU(A):\n",
    "    U = np.copy(A)\n",
    "    m, n = A.shape\n",
    "    L = np.eye(n)\n",
    "    for k in range(n-1):\n",
    "        for j in range(k+1,n):\n",
    "            L[j,k] = U[j,k]/U[k,k]\n",
    "            U[j,k:n] -= L[j,k] * U[k,k:n]\n",
    "    return L, U"
   ]
  },
  {
   "cell_type": "code",
   "execution_count": 23,
   "metadata": {
    "collapsed": true
   },
   "outputs": [],
   "source": [
    "A = np.array([[2,1,1,0],[4,3,3,1],[8,7,9,5],[6,7,9,8]]).astype(np.float)"
   ]
  },
  {
   "cell_type": "code",
   "execution_count": 24,
   "metadata": {
    "collapsed": true
   },
   "outputs": [],
   "source": [
    "L, U = LU(A)"
   ]
  },
  {
   "cell_type": "code",
   "execution_count": 25,
   "metadata": {
    "collapsed": false
   },
   "outputs": [
    {
     "data": {
      "text/plain": [
       "True"
      ]
     },
     "execution_count": 25,
     "metadata": {},
     "output_type": "execute_result"
    }
   ],
   "source": [
    "np.allclose(A, L.dot(U))"
   ]
  },
  {
   "cell_type": "markdown",
   "metadata": {},
   "source": [
    "A fatoração LU é útil!\n",
    "\n",
    "Resolver Ax = b passa a ser LUx = b:\n",
    "1. encontre A = LU\n",
    "2. resolva Ly = b\n",
    "3. resolva Ux = y"
   ]
  },
  {
   "cell_type": "markdown",
   "metadata": {},
   "source": [
    "**Tempo**\n",
    "\n",
    "Número de operações da Eliminação de Gauss: $2\\cdot\\frac{1}{3} n^3$"
   ]
  },
  {
   "cell_type": "markdown",
   "metadata": {},
   "source": [
    "**Memória**\n",
    "\n",
    "Na implementação acima nós criamos duas matrizes $L$ e $U$. Porém, podemos armazenar os valores de $L$ e $U$ na nossa matriz $A$ (sobrescrevendo a matriz original). Como a diagonal de $L$ é toda composta por $1$s, não é necessário armazená-la.  Realizar fatorações ou cálculos **in-place** é uma técnica comum em álgebra linear numérica para economizar memória.  Nota: isto não deve ser feito se você for precisar da matriz $A$ futuramente. Uma das questões da lista de exercícios é reescrever o método LU para ser executado in-place."
   ]
  },
  {
   "cell_type": "markdown",
   "metadata": {},
   "source": [
    "Considere a matriz $$ A = \\begin{bmatrix} 10^{-20} & 1 \\\\ 1 & 1 \\end{bmatrix} $$"
   ]
  },
  {
   "cell_type": "code",
   "execution_count": 26,
   "metadata": {
    "collapsed": true
   },
   "outputs": [],
   "source": [
    "A = np.array([[1e-20, 1], [1,1]])"
   ]
  },
  {
   "cell_type": "code",
   "execution_count": 28,
   "metadata": {
    "collapsed": true
   },
   "outputs": [],
   "source": [
    "?np.array"
   ]
  },
  {
   "cell_type": "markdown",
   "metadata": {},
   "source": [
    "Calcule manualmente os valores de $L$ e de $U$."
   ]
  },
  {
   "cell_type": "code",
   "execution_count": 29,
   "metadata": {
    "collapsed": false
   },
   "outputs": [],
   "source": [
    "L1 = np.array([[1,0],[1e20,1]],dtype=np.float64)\n",
    "U1 = np.array([[1e-20,1],[0,1-1e20]],dtype=np.float64)"
   ]
  },
  {
   "cell_type": "code",
   "execution_count": 30,
   "metadata": {
    "collapsed": false
   },
   "outputs": [
    {
     "data": {
      "text/plain": [
       "(array([[  1.00000000e+00,   0.00000000e+00],\n",
       "        [  1.00000000e+20,   1.00000000e+00]]),\n",
       " array([[  1.00000000e-20,   1.00000000e+00],\n",
       "        [  0.00000000e+00,  -1.00000000e+20]]))"
      ]
     },
     "execution_count": 30,
     "metadata": {},
     "output_type": "execute_result"
    }
   ],
   "source": [
    "np.set_printoptions(suppress=True)\n",
    "L2, U2 = LU(A)\n",
    "L2, U2"
   ]
  },
  {
   "cell_type": "code",
   "execution_count": 31,
   "metadata": {
    "collapsed": false
   },
   "outputs": [
    {
     "data": {
      "text/plain": [
       "True"
      ]
     },
     "execution_count": 31,
     "metadata": {},
     "output_type": "execute_result"
    }
   ],
   "source": [
    "np.allclose(L1, L2)"
   ]
  },
  {
   "cell_type": "code",
   "execution_count": 32,
   "metadata": {
    "collapsed": false
   },
   "outputs": [
    {
     "data": {
      "text/plain": [
       "True"
      ]
     },
     "execution_count": 32,
     "metadata": {},
     "output_type": "execute_result"
    }
   ],
   "source": [
    "np.allclose(U1, U2)"
   ]
  },
  {
   "cell_type": "code",
   "execution_count": 35,
   "metadata": {
    "collapsed": false
   },
   "outputs": [
    {
     "data": {
      "text/plain": [
       "False"
      ]
     },
     "execution_count": 35,
     "metadata": {},
     "output_type": "execute_result"
    }
   ],
   "source": [
    "np.allclose(A, L2.dot(U2))"
   ]
  },
  {
   "cell_type": "markdown",
   "metadata": {},
   "source": [
    "Esta é a motivação para a Fatoração $LU$ **com pivotação**.\n",
    "\n",
    "Este exemplo também mostra que a fatoração LU não é *retro-estável*. (spoiler alert: mesmo com pivotação parcial, LU é \"explosivamente instável\" para certas matrizes, embora estável na prática)."
   ]
  },
  {
   "cell_type": "markdown",
   "metadata": {},
   "source": [
    "#### Backward Stability (retro-estabilidade?)\n",
    "\n",
    "Existe o conceito de estabilidade, mas ele é mais complicado e não será útil agora (ver Trefethen, p. 104).\n",
    "\n",
    "Retro-estabilidade é mais **forte** e **simples** que estabilidade. \n",
    "\n",
    "Um algoritmo $\\hat{f}$ para um problema $f$ é **retro-estável** se para cada $x$,\n",
    "$$ \\hat{f}(x) = f(y) $$\n",
    "\n",
    "para algum $y$ tal que\n",
    "$$ \\frac{\\lVert y - x \\rVert }{\\lVert x \\rVert} = \\mathcal{O}(\\varepsilon_{machine}) $$\n",
    "\n",
    "**Um algoritmo retro-estável retorna exatamente a resposta correta para a pergunta quase correta** (Trefethen, pg 104)\n",
    "\n",
    "Traduzindo:\n",
    "\n",
    "- pergunta correta: $x$ (no caso, A)\n",
    "- pergunta quase correta: $y$ (no caso, $A'=L_2 U_2$ não satisfaz $\\frac{\\lVert y - x \\rVert }{\\lVert x \\rVert} = \\mathcal{O}(\\varepsilon_{machine})$)\n",
    "- resposta correta: $f$\n",
    "- resposta correta para a pergunta quase correta: $f(y)$"
   ]
  },
  {
   "cell_type": "markdown",
   "metadata": {},
   "source": [
    "### LU factorization with Partial Pivoting\n",
    "\n",
    "Considere agora a matriz $$ \\hat{A} = \\begin{bmatrix} 1 & 1 \\\\ 10^{-20} & 1 \\end{bmatrix} $$"
   ]
  },
  {
   "cell_type": "code",
   "execution_count": 36,
   "metadata": {
    "collapsed": true
   },
   "outputs": [],
   "source": [
    "A = np.array([[1,1], [1e-20, 1]])"
   ]
  },
  {
   "cell_type": "markdown",
   "metadata": {},
   "source": [
    "Use a eliminação de Gauss para calcular as matrizes $L$ e $U$."
   ]
  },
  {
   "cell_type": "code",
   "execution_count": 37,
   "metadata": {
    "collapsed": true
   },
   "outputs": [],
   "source": [
    "L1 = np.array([[1,0],[1e-20,1]])\n",
    "U1 = np.array([[1,1],[0,1-1e-20]])"
   ]
  },
  {
   "cell_type": "code",
   "execution_count": 38,
   "metadata": {
    "collapsed": true
   },
   "outputs": [],
   "source": [
    "L, U = LU(A)"
   ]
  },
  {
   "cell_type": "code",
   "execution_count": 39,
   "metadata": {
    "collapsed": false
   },
   "outputs": [
    {
     "data": {
      "text/plain": [
       "True"
      ]
     },
     "execution_count": 39,
     "metadata": {},
     "output_type": "execute_result"
    }
   ],
   "source": [
    "np.allclose(A, L.dot(U))"
   ]
  },
  {
   "cell_type": "markdown",
   "metadata": {},
   "source": [
    "**Ideia**: Podemos trocar a ordem das linhas para obter respostas mais estáveis! Isto é equivalente a pré-multiplicar por uma matriz de permutação $P$. Por exemplo,\n",
    "\n",
    "$$\\begin{bmatrix} 0 & 1 \\\\ 1 & 0 \\end{bmatrix} \\cdot \\begin{bmatrix} 10^{-20} & 1 \\\\ 1 & 1 \\end{bmatrix} =  \\begin{bmatrix} 1 & 1 \\\\ 10^{-20} & 1 \\end{bmatrix} $$\n",
    "\n",
    "$$ PA = \\hat{A} $$\n",
    "\n",
    "Na prática, estamos aplicando a Eliminação de Gauss a $PA$.\n",
    "\n",
    "**Pivotação parcial**: Na eliminação da coluna $k$, escolha o maior valor em módulo da coluna $k$, e permute aquela linha com a linha $k$."
   ]
  },
  {
   "cell_type": "markdown",
   "metadata": {},
   "source": [
    "#### Exercício"
   ]
  },
  {
   "cell_type": "code",
   "execution_count": 40,
   "metadata": {
    "collapsed": false
   },
   "outputs": [
    {
     "data": {
      "text/plain": [
       "(array([3, 2, 1]), array([1, 2, 3]))"
      ]
     },
     "execution_count": 40,
     "metadata": {},
     "output_type": "execute_result"
    }
   ],
   "source": [
    "def swap(a,b):\n",
    "    temp = np.copy(a)\n",
    "    a[:] = b\n",
    "    b[:] = temp\n",
    "\n",
    "a=np.array([1,2,3])\n",
    "b=np.array([3,2,1])\n",
    "swap(a,b)\n",
    "a,b"
   ]
  },
  {
   "cell_type": "code",
   "execution_count": null,
   "metadata": {
    "collapsed": true
   },
   "outputs": [],
   "source": [
    "#Exercício: reescreva a fatoração LU para usar pivotação"
   ]
  },
  {
   "cell_type": "markdown",
   "metadata": {},
   "source": [
    "**Pivotação parcial** permuta as linhas. É uma prática tão universal que isto é normalmente o que é conhecido como *Fatoração LU*.\n",
    "\n",
    "**Pivotação completa** permuta linhas e colunas. Pivotação completa consome um tempo significativo e raramente é utilizada na prática."
   ]
  },
  {
   "cell_type": "markdown",
   "metadata": {},
   "source": [
    "#### Exemplo\n",
    "Considere o sistema de equações:\n",
    "\n",
    "$$ \\begin{bmatrix} 1 & 0 & 0  & 0 & 0 & 1 \\\\ -1 & 1 & 0  & 0 & 0 & 1 \\\\ -1 & -1 & 1  & 0 & 0 & 1 \\\\ -1 & -1 & -1  & 1 & 0 & 1  \\\\  -1 & -1 & -1  & -1 & 1 & 1 \\\\ -1 & -1 & -1  & -1 & -1 & 1 \\end{bmatrix} \\mathbf{x} = \\begin{bmatrix} 1 \\\\ 1 \\\\ 1  \\\\ 1 \\\\ 2 \\\\ 1 \\end{bmatrix} $$"
   ]
  },
  {
   "cell_type": "code",
   "execution_count": 41,
   "metadata": {
    "collapsed": true
   },
   "outputs": [],
   "source": [
    "def make_matrix(n):\n",
    "    A = np.eye(n)\n",
    "    for i in range(n):\n",
    "        A[i,-1] = 1\n",
    "        for j in range(i):\n",
    "            A[i,j] = -1\n",
    "    return A "
   ]
  },
  {
   "cell_type": "code",
   "execution_count": 42,
   "metadata": {
    "collapsed": true
   },
   "outputs": [],
   "source": [
    "def make_vector(n):\n",
    "    b = np.ones(n)\n",
    "    b[-2] = 2\n",
    "    return b"
   ]
  },
  {
   "cell_type": "code",
   "execution_count": 43,
   "metadata": {
    "collapsed": false
   },
   "outputs": [
    {
     "data": {
      "text/plain": [
       "array([ 1.,  1.,  1.,  1.,  1.,  2.,  1.])"
      ]
     },
     "execution_count": 43,
     "metadata": {},
     "output_type": "execute_result"
    }
   ],
   "source": [
    "make_vector(7)"
   ]
  },
  {
   "cell_type": "markdown",
   "metadata": {},
   "source": [
    "#### Exercício\n",
    "\n",
    "Vamos utilizar a Eliminação de Gauss no sistema $5 \\times 5$.\n",
    "\n",
    "Scipy também tem esta funcionalidade.  Vamos olhar para a solução das 5 últimas equações com $n=10,\\,20,\\,30,\\,40,\\,50,\\,60$."
   ]
  },
  {
   "cell_type": "code",
   "execution_count": 19,
   "metadata": {
    "collapsed": true
   },
   "outputs": [],
   "source": [
    "import scipy.linalg\n",
    "import matplotlib.pyplot as plt\n",
    "%matplotlib inline"
   ]
  },
  {
   "cell_type": "code",
   "execution_count": 21,
   "metadata": {
    "collapsed": true
   },
   "outputs": [],
   "source": [
    "?scipy.linalg.lu_solve"
   ]
  },
  {
   "cell_type": "code",
   "execution_count": 45,
   "metadata": {
    "collapsed": false
   },
   "outputs": [
    {
     "data": {
      "text/plain": [
       "[(10, '--'), (20, ':'), (30, '-'), (40, '-.'), (50, '--'), (60, ':')]"
      ]
     },
     "execution_count": 45,
     "metadata": {},
     "output_type": "execute_result"
    }
   ],
   "source": [
    "zip(range(10, 70, 10), ['--', ':', '-', '-.', '--', ':'])"
   ]
  },
  {
   "cell_type": "code",
   "execution_count": 20,
   "metadata": {
    "collapsed": false
   },
   "outputs": [
    {
     "name": "stdout",
     "output_type": "stream",
     "text": [
      "[-0.00195312 -0.00390625 -0.0078125  -0.015625   -0.03125    -0.0625     -0.125\n",
      " -0.25        0.5         1.00195312]\n",
      "[ -1.90734863e-06  -3.81469727e-06  -7.62939453e-06  -1.52587891e-05\n",
      "  -3.05175781e-05  -6.10351562e-05  -1.22070312e-04  -2.44140625e-04\n",
      "  -4.88281250e-04  -9.76562500e-04  -1.95312500e-03  -3.90625000e-03\n",
      "  -7.81250000e-03  -1.56250000e-02  -3.12500000e-02  -6.25000000e-02\n",
      "  -1.25000000e-01  -2.50000000e-01   5.00000000e-01   1.00000191e+00]\n",
      "[ -1.86264515e-09  -3.72529030e-09  -7.45058060e-09  -1.49011612e-08\n",
      "  -2.98023224e-08  -5.96046448e-08  -1.19209290e-07  -2.38418579e-07\n",
      "  -4.76837158e-07  -9.53674316e-07  -1.90734863e-06  -3.81469727e-06\n",
      "  -7.62939453e-06  -1.52587891e-05  -3.05175781e-05  -6.10351562e-05\n",
      "  -1.22070312e-04  -2.44140625e-04  -4.88281250e-04  -9.76562500e-04\n",
      "  -1.95312500e-03  -3.90625000e-03  -7.81250000e-03  -1.56250000e-02\n",
      "  -3.12500000e-02  -6.25000000e-02  -1.25000000e-01  -2.50000000e-01\n",
      "   5.00000000e-01   1.00000000e+00]\n",
      "[ -1.81898940e-12  -3.63797881e-12  -7.27595761e-12  -1.45519152e-11\n",
      "  -2.91038305e-11  -5.82076609e-11  -1.16415322e-10  -2.32830644e-10\n",
      "  -4.65661287e-10  -9.31322575e-10  -1.86264515e-09  -3.72529030e-09\n",
      "  -7.45058060e-09  -1.49011612e-08  -2.98023224e-08  -5.96046448e-08\n",
      "  -1.19209290e-07  -2.38418579e-07  -4.76837158e-07  -9.53674316e-07\n",
      "  -1.90734863e-06  -3.81469727e-06  -7.62939453e-06  -1.52587891e-05\n",
      "  -3.05175781e-05  -6.10351562e-05  -1.22070312e-04  -2.44140625e-04\n",
      "  -4.88281250e-04  -9.76562500e-04  -1.95312500e-03  -3.90625000e-03\n",
      "  -7.81250000e-03  -1.56250000e-02  -3.12500000e-02  -6.25000000e-02\n",
      "  -1.25000000e-01  -2.50000000e-01   5.00000000e-01   1.00000000e+00]\n",
      "[ -1.77635684e-15  -3.55271368e-15  -7.10542736e-15  -1.42108547e-14\n",
      "  -2.84217094e-14  -5.68434189e-14  -1.13686838e-13  -2.27373675e-13\n",
      "  -4.54747351e-13  -9.09494702e-13  -1.81898940e-12  -3.63797881e-12\n",
      "  -7.27595761e-12  -1.45519152e-11  -2.91038305e-11  -5.82076609e-11\n",
      "  -1.16415322e-10  -2.32830644e-10  -4.65661287e-10  -9.31322575e-10\n",
      "  -1.86264515e-09  -3.72529030e-09  -7.45058060e-09  -1.49011612e-08\n",
      "  -2.98023224e-08  -5.96046448e-08  -1.19209290e-07  -2.38418579e-07\n",
      "  -4.76837158e-07  -9.53674316e-07  -1.90734863e-06  -3.81469727e-06\n",
      "  -7.62939453e-06  -1.52587891e-05  -3.05175781e-05  -6.10351562e-05\n",
      "  -1.22070312e-04  -2.44140625e-04  -4.88281250e-04  -9.76562500e-04\n",
      "  -1.95312500e-03  -3.90625000e-03  -7.81250000e-03  -1.56250000e-02\n",
      "  -3.12500000e-02  -6.25000000e-02  -1.25000000e-01  -2.50000000e-01\n",
      "   5.00000000e-01   1.00000000e+00]\n",
      "[ 0.  0.  0.  0.  0.  0.  0.  0.  0.  0.  0.  0.  0.  0.  0.  0.  0.  0.\n",
      "  0.  0.  0.  0.  0.  0.  0.  0.  0.  0.  0.  0.  0.  0.  0.  0.  0.  0.\n",
      "  0.  0.  0.  0.  0.  0.  0.  0.  0.  0.  0.  0.  0.  0.  0.  0.  0.  0.\n",
      "  0.  0.  0.  0.  0.  1.]\n"
     ]
    },
    {
     "data": {
      "image/png": "[encoded data removed]",
      "text/plain": [
       "<matplotlib.figure.Figure at 0x10f8903d0>"
      ]
     },
     "metadata": {},
     "output_type": "display_data"
    }
   ],
   "source": [
    "for n, ls in zip(range(10, 70, 10), ['--', ':', '-', '-.', '--', ':']):\n",
    "    soln = scipy.linalg.lu_solve(scipy.linalg.lu_factor(make_matrix(n)), make_vector(n))\n",
    "    plt.plot(soln[-5:], ls)\n",
    "    print(soln)"
   ]
  },
  {
   "cell_type": "markdown",
   "metadata": {},
   "source": [
    "O que está acontecendo quando $n=60$?\n",
    "\n",
    "**Teorema**: Seja a fatoração $PA = LU$ de uma matriz A calculada pela Eliminação de Gauss com pivotação parcial.  As matrizes *calculadas* (por um computador com Aritmética de Ponto Flutuante) $\\hat{P}$, $\\hat{L}$, e $\\hat{U}$ satisfazem\n",
    "\n",
    "$$\\hat{L}\\hat{U} = \\hat{P} A + \\delta A, \\quad \\frac{\\delta A}{A} = \\mathcal{O}(\\rho \\varepsilon_{machine}), $$\n",
    "\n",
    "onde $\\rho$ é o *fator de crescimento*, \n",
    "\n",
    "$$\\rho = \\frac{max_{i,j} \\lvert u_{ij} \\rvert }{max_{i,j} \\lvert a_{ij} \\rvert }. $$\n",
    "\n",
    "Para a nossa matriz acima, $\\rho = 2^{n-1}$."
   ]
  },
  {
   "cell_type": "markdown",
   "metadata": {},
   "source": [
    "#### Instável na teoria, estável na prática\n",
    "\n",
    "A estabilidade de maioria dos algoritmos numéricos (como QR) é bem direta. Este não é o caso da Eliminação de Gauss com pivotação parcial. Instabilidade na Eliminação de Gauss (com ou sem pivotação) acontece somente se $L$ e/ou $U$ são grandes em relação a norma de $A$.\n",
    "\n",
    "Trefethen: \"Despite examples like (22.4), Gaussian elimination with partial pivoting is utterly stable in practice... In fifty years of computing, no matrix problems that excite an explosive instability are known to have arisen under natural circumstances.\" [embora exemplos possam ser facilmente construídos]\n",
    "\n",
    "Embora algumas matrizes causem instabilidade, elas correspondem a uma proporção extraordinariamente pequena de todas as matrizes. Assim, elas \"nunca\" acontecem na prática por razões estatísticas.  \"Se você pegar um bilhão de matrizes aleatoriamente, você quase com certeza **não** irá encontrar uma para a qual a Eliminação de Gauss é instável.\""
   ]
  },
  {
   "cell_type": "code",
   "execution_count": null,
   "metadata": {
    "collapsed": true
   },
   "outputs": [],
   "source": []
  }
 ],
 "metadata": {
  "anaconda-cloud": {},
  "kernelspec": {
   "display_name": "Python [Root]",
   "language": "python",
   "name": "Python [Root]"
  },
  "language_info": {
   "codemirror_mode": {
    "name": "ipython",
    "version": 2
   },
   "file_extension": ".py",
   "mimetype": "text/x-python",
   "name": "python",
   "nbconvert_exporter": "python",
   "pygments_lexer": "ipython2",
   "version": "2.7.12"
  }
 },
 "nbformat": 4,
 "nbformat_minor": 0
}
