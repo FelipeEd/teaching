{
 "cells": [
  {
   "cell_type": "markdown",
   "metadata": {},
   "source": [
    "# Quadratura de Gauss-Legendre (em construção)\n",
    "\n",
    "Deseja-se aproximar a integral\n",
    "\n",
    "$$\n",
    "\\int_{-1}^{1} f(t) dt.\n",
    "$$\n",
    "\n",
    "Não se preocupe com os limites de integração. Veremos como utilizar a substituição de variáveis para integrar com outros limites.\n",
    "\n",
    "Suponha que você só possa fazer duas avaliações da função $f$. É claro que podemos usar o método dos trapézios, que irá avaliar $f$ em $-1$ e $1$. Esta aproximação será exata caso a função seja um polinômio do primeiro grau.\n",
    "\n",
    "Contudo, ao invés de usar a avaliação da função nos pontos extremos, podemos escolher dois pontos intermediários de forma a garantir que o erro será nulo para qualquer polinômio cúbico! Esta é a ideia da Integração de Gauss-Legendre.\n",
    "\n",
    "Com $n=2$ avaliações:\n",
    "\n",
    "$$\n",
    "G_2(f) = w_1 f(t_1) + w_2 f(t_2),\n",
    "$$\n",
    "\n",
    "onde $t_1 = -\\sqrt{3}/3$, $t_2 = \\sqrt{3}/3$, $w_1 = 1$, $w_2 = 1$.\n",
    "\n",
    "Com $n=3$ avaliações:\n",
    "\n",
    "$$\n",
    "G_3(f) = w_1 f(t_1) + w_2 f(t_2) + w_3 f(t_3),\n",
    "$$\n",
    "\n",
    "onde $t_1 = -0.7746$, $t_2 = 0$, $t_3 = 0.7746$, $w_1 = 0.5556$, $w_2 = 0.8889$, $w_3 = 0.5556$.\n",
    "\n",
    "Com $n=4$ avaliações:\n",
    "\n",
    "$$\n",
    "G_n(f) = w_1 f(t_1) + w_2 f(t_2) + \\ldots + w_n f(t_n),\n",
    "$$\n",
    "\n",
    "onde os valores de $t_i$ e $w_i$ podem ser consultados em uma tabela (ver método np.polynomial.legendre.leggauss)."
   ]
  },
  {
   "cell_type": "code",
   "execution_count": 1,
   "metadata": {},
   "outputs": [
    {
     "data": {
      "text/plain": [
       "(array([-0.57735027,  0.57735027]), array([ 1.,  1.]))"
      ]
     },
     "execution_count": 1,
     "metadata": {},
     "output_type": "execute_result"
    }
   ],
   "source": [
    "import numpy as np\n",
    "\n",
    "np.polynomial.legendre.leggauss(2)"
   ]
  },
  {
   "cell_type": "code",
   "execution_count": 6,
   "metadata": {},
   "outputs": [
    {
     "name": "stdout",
     "output_type": "stream",
     "text": [
      "2.66666666667\n"
     ]
    }
   ],
   "source": [
    "t,w = np.polynomial.legendre.leggauss(2)\n",
    "\n",
    "def f(t):\n",
    "    return t**3 + t**2 + t + 1\n",
    "\n",
    "y = np.array([f(t[0]),f(t[1])])\n",
    "G = np.sum(w*y)\n",
    "print(G)"
   ]
  },
  {
   "cell_type": "markdown",
   "metadata": {},
   "source": [
    "## Quadratura de Gauss-Legendre para um intervalo arbitrário [a,b]\n",
    "\n",
    "Para mapear um intervalo arbitrário $[a,b]$ no intervalo $[-1,1]$, basta fazer\n",
    "\n",
    "$$\n",
    "t = \\frac{a+b}{2} + \\frac{b-a}{2}x.\n",
    "$$\n",
    "\n",
    "Fazendo a substituição de variáveis na integral a ser calculada, temos\n",
    "\n",
    "$$\n",
    "\\int_a^b f(x) dx = \\int_{-1}^1 f\\left(\\frac{a+b}{2} + \\frac{b-a}{2}t\\right) \\frac{b-a}{2} dt,\n",
    "$$\n",
    "\n",
    "de onde se obtém a fórmula da quadratura\n",
    "\n",
    "$$\n",
    "\\int_a^b f(x) dx \\approx \\frac{b-a}{2} \\sum_{k=1}^n w_k f\\left(\\frac{a+b}{2} + \\frac{b-a}{2}t_k\\right).\n",
    "$$\n",
    "\n",
    "**Esta fórmula é exata para polinômios de grau menor ou igual a $2n-1$**."
   ]
  },
  {
   "cell_type": "code",
   "execution_count": 7,
   "metadata": {},
   "outputs": [
    {
     "data": {
      "text/plain": [
       "1.6026936026936032"
      ]
     },
     "execution_count": 7,
     "metadata": {},
     "output_type": "execute_result"
    }
   ],
   "source": [
    "def QuadraturaGaussLegendre(fname, a, b, n):\n",
    "    t,w = np.polynomial.legendre.leggauss(n)\n",
    "    x = (a+b)/2 + (b-a)/2*t\n",
    "    y = globals()[fname](x)\n",
    "    aprox = (b-a)/2 * np.sum(w*y)\n",
    "    return aprox\n",
    "\n",
    "\n",
    "def g(x):\n",
    "    return 1/x\n",
    "\n",
    "QuadraturaGaussLegendre('g', 1, 5, 3)"
   ]
  },
  {
   "cell_type": "markdown",
   "metadata": {},
   "source": [
    "Lembretes:\n",
    "\n",
    "* Fazer exemplo à mão\n",
    "* Falar sobre compensação dos erros\n",
    "* Falar sobre obtenção da fórmula geral\n",
    "* Falar sobre uso da tabela do formulário\n",
    "* Mostrar tabela Newton-Cotes vs. Gauss-Legendre\n",
    "* Comentar sobre integrais duplas\n",
    "\n",
    "**Material suplementar:** http://mathfaculty.fullerton.edu/mathews//n2003/gaussianquad/GaussianQuadProof.pdf"
   ]
  },
  {
   "cell_type": "markdown",
   "metadata": {},
   "source": [
    "## Erro de integração da Quadratura de Gauss-Legendre\n",
    "\n",
    "Não iremos demonstrar em sala, mas o erro de integração da fórmula de Gauss-Legendre é dado por\n",
    "\n",
    "$$\n",
    "\\exists \\theta \\in (a,b) \\; | \\; E_n = \\frac{(b-a)^{2n+1} (n!)^4}{((2n)!)^3 (2n+1)} f^{2n} (\\theta).\n",
    "$$"
   ]
  }
 ],
 "metadata": {
  "kernelspec": {
   "display_name": "Python 2",
   "language": "python",
   "name": "python2"
  },
  "language_info": {
   "codemirror_mode": {
    "name": "ipython",
    "version": 2
   },
   "file_extension": ".py",
   "mimetype": "text/x-python",
   "name": "python",
   "nbconvert_exporter": "python",
   "pygments_lexer": "ipython2",
   "version": "2.7.13"
  }
 },
 "nbformat": 4,
 "nbformat_minor": 2
}
