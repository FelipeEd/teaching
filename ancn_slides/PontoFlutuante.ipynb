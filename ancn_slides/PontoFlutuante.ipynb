{
 "cells": [
  {
   "cell_type": "markdown",
   "metadata": {},
   "source": [
    "# Aritmética de Ponto Flutuante"
   ]
  },
  {
   "cell_type": "markdown",
   "metadata": {},
   "source": [
    "Começamos a aula passada com o seguinte exemplo:"
   ]
  },
  {
   "cell_type": "code",
   "execution_count": 2,
   "metadata": {
    "collapsed": false
   },
   "outputs": [
    {
     "data": {
      "text/plain": [
       "False"
      ]
     },
     "execution_count": 2,
     "metadata": {},
     "output_type": "execute_result"
    }
   ],
   "source": [
    "0.1 + 0.1 + 0.1 == 0.3"
   ]
  },
  {
   "cell_type": "markdown",
   "metadata": {},
   "source": [
    "Isso acontece porque 0.1 não tem uma representação exata no sistema binário:"
   ]
  },
  {
   "cell_type": "code",
   "execution_count": 3,
   "metadata": {
    "collapsed": false
   },
   "outputs": [
    {
     "data": {
      "text/plain": [
       "'0.100000000000000005551115123126'"
      ]
     },
     "execution_count": 3,
     "metadata": {},
     "output_type": "execute_result"
    }
   ],
   "source": [
    "format(0.1,'.30f')"
   ]
  },
  {
   "cell_type": "markdown",
   "metadata": {},
   "source": [
    "As variáveis em python não precisam ser declaradas explicitamente. O separador decimal '.' sinaliza um número real. Nas arquiteturas de 64 bits, 53 bits são usados para a mantissa e 11 bits para o expoente (contando um para o sinal). Logo, o número máximo que podemos representar é\n",
    "\n",
    "$$\n",
    "(.111111\\ldots 1)_2 \\times 2^{1024}\n",
    "$$"
   ]
  },
  {
   "cell_type": "code",
   "execution_count": 29,
   "metadata": {
    "collapsed": false
   },
   "outputs": [
    {
     "name": "stdout",
     "output_type": "stream",
     "text": [
      "1.70780847812e+308\n",
      "<type 'float'>\n"
     ]
    }
   ],
   "source": [
    "x = 2.0**1023 * 1.9\n",
    "print(x)\n",
    "print(type(x))"
   ]
  },
  {
   "cell_type": "markdown",
   "metadata": {},
   "source": [
    "O que acontece se tentar declarar um número maior que esse?"
   ]
  },
  {
   "cell_type": "code",
   "execution_count": 31,
   "metadata": {
    "collapsed": false
   },
   "outputs": [
    {
     "name": "stdout",
     "output_type": "stream",
     "text": [
      "inf\n"
     ]
    }
   ],
   "source": [
    "x = 1e309\n",
    "print(x)"
   ]
  },
  {
   "cell_type": "markdown",
   "metadata": {},
   "source": [
    "Felizmente não precisamos ficar fazendo contas para saber os máximos e os mínimos. :)"
   ]
  },
  {
   "cell_type": "code",
   "execution_count": 32,
   "metadata": {
    "collapsed": false
   },
   "outputs": [
    {
     "data": {
      "text/plain": [
       "sys.float_info(max=1.7976931348623157e+308, max_exp=1024, max_10_exp=308, min=2.2250738585072014e-308, min_exp=-1021, min_10_exp=-307, dig=15, mant_dig=53, epsilon=2.220446049250313e-16, radix=2, rounds=1)"
      ]
     },
     "execution_count": 32,
     "metadata": {},
     "output_type": "execute_result"
    }
   ],
   "source": [
    "import sys\n",
    "sys.float_info"
   ]
  },
  {
   "cell_type": "markdown",
   "metadata": {},
   "source": [
    "Alguns cuidados (1)\n",
    "-------------------\n",
    "\n",
    " * $(A+B)+C$ pode não ser $A+(B+C)$ (idem para \\*)\n",
    " * $(A+B)-B$ pode não ser $A$ (idem para \\* e /)"
   ]
  },
  {
   "cell_type": "code",
   "execution_count": 34,
   "metadata": {
    "collapsed": false
   },
   "outputs": [
    {
     "name": "stdout",
     "output_type": "stream",
     "text": [
      "0.001 0.001 False\n",
      "0.0010000000000000 0.0009999999999999\n"
     ]
    }
   ],
   "source": [
    "x = 0.001\n",
    "y = (1.0+x)-1.0\n",
    "print x,y, x == y\n",
    "print \"%.16f %.16f\" % (x,y)"
   ]
  },
  {
   "cell_type": "markdown",
   "metadata": {},
   "source": [
    "Alguns cuidados (2)\n",
    "-------------------\n",
    "\n",
    " * $A+A+A$ pode não ser $3A$"
   ]
  },
  {
   "cell_type": "code",
   "execution_count": 35,
   "metadata": {
    "collapsed": false
   },
   "outputs": [
    {
     "name": "stdout",
     "output_type": "stream",
     "text": [
      "1.0 False\n",
      "0.166666666666666657 0.999999999999999889\n"
     ]
    }
   ],
   "source": [
    "x = 1.0/6.0\n",
    "y = x+x+x+x+x+x\n",
    "print y, y == 1.0\n",
    "print \"%.18f %.18f\" % (x, y)"
   ]
  },
  {
   "cell_type": "markdown",
   "metadata": {},
   "source": [
    "Alguns cuidados (3)\n",
    "-------------------\n",
    "\n",
    " * Seja $B=1.0/A$. Nem sempre $A\\times B= 1.0$"
   ]
  },
  {
   "cell_type": "code",
   "execution_count": 36,
   "metadata": {
    "collapsed": false
   },
   "outputs": [
    {
     "name": "stdout",
     "output_type": "stream",
     "text": [
      "False\n",
      "0.247116529859913198 4.046673852885865230 0.247116529859913225\n"
     ]
    }
   ],
   "source": [
    "from math import e\n",
    "x = e/11.0\n",
    "y = 1.0/x\n",
    "z = 1.0/y\n",
    "print x == z\n",
    "print\"%.18f %.18f %.18f\" % (x,y,z)"
   ]
  },
  {
   "cell_type": "markdown",
   "metadata": {},
   "source": [
    "Alguns cuidados (4)\n",
    "-------------------\n",
    "\n",
    " * Seja $B>0$. Nem sempre $A+B>A$."
   ]
  },
  {
   "cell_type": "code",
   "execution_count": 38,
   "metadata": {
    "collapsed": false
   },
   "outputs": [
    {
     "name": "stdout",
     "output_type": "stream",
     "text": [
      "True 2.5e-307\n",
      "1.000000e-20 5.000000e-307\n"
     ]
    }
   ],
   "source": [
    "x = 1.0e-20\n",
    "y = 5.0e-307\n",
    "print 1.0+x == 1.0, y/2.0\n",
    "print\"%.6e %.6e\" % (x,y)"
   ]
  },
  {
   "cell_type": "markdown",
   "metadata": {},
   "source": [
    "Alguns cuidados (5)\n",
    "-------------------\n",
    "\n",
    " * Seja $A>B$ e $C>D$. Nem sempre $A+C>B>D$."
   ]
  },
  {
   "cell_type": "code",
   "execution_count": 39,
   "metadata": {
    "collapsed": false
   },
   "outputs": [
    {
     "name": "stdout",
     "output_type": "stream",
     "text": [
      "True True False\n",
      "0.7500000000000001 0.7500000000000000 0.5000000000000000 0.4999999999999999\n",
      "1.2500000000000000 1.2500000000000000\n"
     ]
    }
   ],
   "source": [
    "a = 0.75+1.0e-16\n",
    "b = 0.75\n",
    "c = 0.5\n",
    "d = 0.5-1.0e-16\n",
    "print a > b, c > d, a+c > b+d\n",
    "print\"%.16f %.16f %.16f %.16f\" % (a,b,c,d)\n",
    "print \"%.16f %.16f\" % (a+c,b+d)"
   ]
  },
  {
   "cell_type": "markdown",
   "metadata": {},
   "source": [
    "Valores excepcionais\n",
    "--------------------\n",
    "* inf e -inf\n",
    "* NaN (Not-a-Number) é o resultado de um erro, uma operação matemática inválida."
   ]
  },
  {
   "cell_type": "code",
   "execution_count": 50,
   "metadata": {
    "collapsed": false
   },
   "outputs": [
    {
     "name": "stdout",
     "output_type": "stream",
     "text": [
      "inf\n"
     ]
    },
    {
     "ename": "ZeroDivisionError",
     "evalue": "float division by zero",
     "output_type": "error",
     "traceback": [
      "\u001b[0;31m---------------------------------------------------------------------------\u001b[0m",
      "\u001b[0;31mZeroDivisionError\u001b[0m                         Traceback (most recent call last)",
      "\u001b[0;32m<ipython-input-50-611a6b758805>\u001b[0m in \u001b[0;36m<module>\u001b[0;34m()\u001b[0m\n\u001b[1;32m      1\u001b[0m \u001b[0;32mfrom\u001b[0m \u001b[0mmath\u001b[0m \u001b[0;32mimport\u001b[0m \u001b[0mlog\u001b[0m\u001b[0;34m,\u001b[0m \u001b[0mexp\u001b[0m\u001b[0;34m\u001b[0m\u001b[0m\n\u001b[1;32m      2\u001b[0m \u001b[0;32mprint\u001b[0m \u001b[0;36m1.0\u001b[0m\u001b[0;34m/\u001b[0m\u001b[0;36m1.0e-309\u001b[0m\u001b[0;34m\u001b[0m\u001b[0m\n\u001b[0;32m----> 3\u001b[0;31m \u001b[0;32mprint\u001b[0m \u001b[0;36m1.0\u001b[0m\u001b[0;34m/\u001b[0m\u001b[0;36m0.0\u001b[0m\u001b[0;34m\u001b[0m\u001b[0m\n\u001b[0m",
      "\u001b[0;31mZeroDivisionError\u001b[0m: float division by zero"
     ]
    }
   ],
   "source": [
    "from math import log, exp\n",
    "print 1.0/1.0e-309\n",
    "print 1.0/0.0"
   ]
  },
  {
   "cell_type": "code",
   "execution_count": 54,
   "metadata": {
    "collapsed": false
   },
   "outputs": [
    {
     "name": "stdout",
     "output_type": "stream",
     "text": [
      " inf nan nan\n"
     ]
    }
   ],
   "source": [
    "x = float(\"inf\") # or 1e400\n",
    "print x/1.0, x//1, x%1.0"
   ]
  },
  {
   "cell_type": "markdown",
   "metadata": {},
   "source": [
    "Comparando NaN\n",
    "---------------\n",
    "Cuidado ao comparar NaN com números. Toda comparação é falsa, exceto !=."
   ]
  },
  {
   "cell_type": "code",
   "execution_count": 57,
   "metadata": {
    "collapsed": false
   },
   "outputs": [
    {
     "name": "stdout",
     "output_type": "stream",
     "text": [
      "nan\n",
      "False False False False\n",
      "False False\n",
      "True True\n"
     ]
    }
   ],
   "source": [
    "x = 1.0/1.0e-320\n",
    "y = x/x\n",
    "print(y)\n",
    "print y > y, y <= y, y < y, y >= y\n",
    "print y == y+0.0, y == y\n",
    "print y != y+0.0, y != y"
   ]
  },
  {
   "cell_type": "markdown",
   "metadata": {},
   "source": [
    "Algumas dicas de como escrever código a prova de NaNs e como tratar erros, po"
   ]
  },
  {
   "cell_type": "markdown",
   "metadata": {},
   "source": [
    "Iremos utilizar durante o curso a biblioteca numpy, que adiciona suporte a vetores e matrizes, além de uma variedade de funções sobre esses arrays. Ela permite declarar tipos explicitamente.\n",
    "\n",
    "Tipos básicos: https://docs.scipy.org/doc/numpy/user/basics.types.html"
   ]
  },
  {
   "cell_type": "code",
   "execution_count": 33,
   "metadata": {
    "collapsed": true
   },
   "outputs": [],
   "source": [
    "import numpy as np\n",
    "x = np.uint16(320)"
   ]
  },
  {
   "cell_type": "markdown",
   "metadata": {},
   "source": [
    "O que fazer se eu preciso fazer contas com números muito pequenos?"
   ]
  },
  {
   "cell_type": "code",
   "execution_count": null,
   "metadata": {
    "collapsed": true
   },
   "outputs": [],
   "source": []
  }
 ],
 "metadata": {
  "kernelspec": {
   "display_name": "Python [Root]",
   "language": "python",
   "name": "Python [Root]"
  },
  "language_info": {
   "codemirror_mode": {
    "name": "ipython",
    "version": 2
   },
   "file_extension": ".py",
   "mimetype": "text/x-python",
   "name": "python",
   "nbconvert_exporter": "python",
   "pygments_lexer": "ipython2",
   "version": "2.7.12"
  }
 },
 "nbformat": 4,
 "nbformat_minor": 0
}
