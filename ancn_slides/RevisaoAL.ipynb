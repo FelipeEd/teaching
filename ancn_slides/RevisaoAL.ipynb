{
 "cells": [
  {
   "cell_type": "markdown",
   "metadata": {},
   "source": [
    "# Revisão de Álgebra Linear\n",
    "\n",
    "Como explicado anteriormente, vamos utilizar a biblioteca numpy para manipulação de vetores e matrizes. Ambos são definidos como arrays, de uma ou duas dimensões, respectivamente."
   ]
  },
  {
   "cell_type": "code",
   "execution_count": 1,
   "metadata": {
    "collapsed": false
   },
   "outputs": [
    {
     "name": "stdout",
     "output_type": "stream",
     "text": [
      "[1 2 3]\n",
      "[[1 2 3]\n",
      " [4 5 6]\n",
      " [7 8 9]]\n",
      "[[1 2 3]\n",
      " [1 2 3]\n",
      " [1 2 3]]\n"
     ]
    }
   ],
   "source": [
    "import numpy as np\n",
    "\n",
    "# vetor\n",
    "v = np.array([1,2,3]) # alternativa: np.arange(1,4)\n",
    "print(v)\n",
    "\n",
    "# matriz\n",
    "M = np.array([[1,2,3],[4,5,6],[7,8,9]])\n",
    "print(M)\n",
    "\n",
    "# matriz como lista de vetores (por linha) \n",
    "V3 = np.array([v,v,v])\n",
    "print(V3)"
   ]
  },
  {
   "cell_type": "code",
   "execution_count": 2,
   "metadata": {
    "collapsed": false
   },
   "outputs": [
    {
     "name": "stdout",
     "output_type": "stream",
     "text": [
      "[ 0.  0.  0.]\n",
      "[[ 0.  0.]\n",
      " [ 0.  0.]\n",
      " [ 0.  0.]]\n",
      "[ 1.  1.  1.  1.]\n"
     ]
    }
   ],
   "source": [
    "# vetor nulo\n",
    "z = np.zeros(3)\n",
    "print(z)\n",
    "\n",
    "# matriz nula\n",
    "Z = np.zeros((3,2))\n",
    "print(Z)\n",
    "\n",
    "# vetor de uns\n",
    "e = np.ones(4)\n",
    "print(e)"
   ]
  },
  {
   "cell_type": "code",
   "execution_count": 3,
   "metadata": {
    "collapsed": false
   },
   "outputs": [
    {
     "name": "stdout",
     "output_type": "stream",
     "text": [
      "[[1 0 0 0]\n",
      " [0 2 0 0]\n",
      " [0 0 3 0]\n",
      " [0 0 0 4]]\n",
      "[[ 1.  0.  0.  0.]\n",
      " [ 0.  1.  0.  0.]\n",
      " [ 0.  0.  1.  0.]\n",
      " [ 0.  0.  0.  1.]]\n"
     ]
    }
   ],
   "source": [
    "# matriz diagonal\n",
    "D = np.diag(range(1,5))\n",
    "print(D)\n",
    "\n",
    "# matriz identidade\n",
    "I = np.diag(np.ones(4))\n",
    "print(I)"
   ]
  },
  {
   "cell_type": "markdown",
   "metadata": {},
   "source": [
    "O que faz a função abaixo?"
   ]
  },
  {
   "cell_type": "code",
   "execution_count": 4,
   "metadata": {
    "collapsed": false
   },
   "outputs": [
    {
     "name": "stdout",
     "output_type": "stream",
     "text": [
      "[[1 0 0]\n",
      " [4 5 0]\n",
      " [7 8 9]]\n"
     ]
    }
   ],
   "source": [
    "L = np.tril(M)\n",
    "print(L)"
   ]
  },
  {
   "cell_type": "markdown",
   "metadata": {},
   "source": [
    "## Produtos de Matrizes\n",
    "<img src=\"images/shop.png\" alt=\"floating point\" style=\"width: 100%\"/>(Source: [Several Simple Real-world Applications of Linear Algebra Tools](https://www.mff.cuni.cz/veda/konference/wds/proc/pdf06/WDS06_106_m8_Ulrychova.pdf))"
   ]
  },
  {
   "cell_type": "markdown",
   "metadata": {},
   "source": [
    "A função abaixo *não* calcula o produto de matrizes. Ela faz o produto elemento-a-elemento."
   ]
  },
  {
   "cell_type": "code",
   "execution_count": 17,
   "metadata": {
    "collapsed": false
   },
   "outputs": [
    {
     "name": "stdout",
     "output_type": "stream",
     "text": [
      "[[1 2 3]\n",
      " [4 5 6]\n",
      " [7 8 9]]\n",
      "[[1 0 0]\n",
      " [4 5 0]\n",
      " [7 8 9]]\n",
      "[[ 1  0  0]\n",
      " [16 25  0]\n",
      " [49 64 81]]\n"
     ]
    }
   ],
   "source": [
    "print(M)\n",
    "print(L)\n",
    "print(M * L)"
   ]
  },
  {
   "cell_type": "markdown",
   "metadata": {},
   "source": [
    "A função matmul deve ser usada para calcular o produto de matrizes."
   ]
  },
  {
   "cell_type": "code",
   "execution_count": 6,
   "metadata": {
    "collapsed": false
   },
   "outputs": [
    {
     "name": "stdout",
     "output_type": "stream",
     "text": [
      "[[ 30  34  27]\n",
      " [ 66  73  54]\n",
      " [102 112  81]]\n",
      "[ 8 17 26]\n"
     ]
    }
   ],
   "source": [
    "print(np.matmul(M,L))\n",
    "print(np.dot(M,np.arange(3)))\n"
   ]
  },
  {
   "cell_type": "markdown",
   "metadata": {},
   "source": [
    "## Produto Interno e Externo\n",
    "\n",
    " * Interno: Calculado através da função np.dot.\n",
    " * Externo: Calculado através da função np.outer."
   ]
  },
  {
   "cell_type": "code",
   "execution_count": 7,
   "metadata": {
    "collapsed": false
   },
   "outputs": [
    {
     "data": {
      "text/plain": [
       "14"
      ]
     },
     "execution_count": 7,
     "metadata": {},
     "output_type": "execute_result"
    }
   ],
   "source": [
    "np.dot(v,v)"
   ]
  },
  {
   "cell_type": "code",
   "execution_count": 8,
   "metadata": {
    "collapsed": false
   },
   "outputs": [
    {
     "data": {
      "text/plain": [
       "array([[1, 2, 3],\n",
       "       [2, 4, 6],\n",
       "       [3, 6, 9]])"
      ]
     },
     "execution_count": 8,
     "metadata": {},
     "output_type": "execute_result"
    }
   ],
   "source": [
    "np.outer(v,v)"
   ]
  },
  {
   "cell_type": "markdown",
   "metadata": {},
   "source": [
    "## Posto de uma matriz\n",
    "\n",
    "O posto de uma matriz $A_{m\\times n}$ é o máximo entre o número de vetores linha linearmente independentes e o número de colunas linearmente independentes. "
   ]
  },
  {
   "cell_type": "code",
   "execution_count": 24,
   "metadata": {
    "collapsed": false
   },
   "outputs": [
    {
     "data": {
      "text/plain": [
       "2"
      ]
     },
     "execution_count": 24,
     "metadata": {},
     "output_type": "execute_result"
    }
   ],
   "source": [
    "np.linalg.matrix_rank(M)"
   ]
  },
  {
   "cell_type": "markdown",
   "metadata": {},
   "source": [
    "## Outras funções importantes"
   ]
  },
  {
   "cell_type": "markdown",
   "metadata": {},
   "source": [
    "Criando uma matriz aleatória."
   ]
  },
  {
   "cell_type": "code",
   "execution_count": 13,
   "metadata": {
    "collapsed": false
   },
   "outputs": [
    {
     "name": "stdout",
     "output_type": "stream",
     "text": [
      "[[ 0.1088629   0.20727785]\n",
      " [ 0.85449602  0.1474393 ]\n",
      " [ 0.57883844  0.27542402]]\n"
     ]
    }
   ],
   "source": [
    "A = np.random.rand(3,2)\n",
    "print(A)"
   ]
  },
  {
   "cell_type": "markdown",
   "metadata": {},
   "source": [
    "Matriz transposta."
   ]
  },
  {
   "cell_type": "code",
   "execution_count": 14,
   "metadata": {
    "collapsed": false
   },
   "outputs": [
    {
     "data": {
      "text/plain": [
       "array([[ 0.1088629 ,  0.85449602,  0.57883844],\n",
       "       [ 0.20727785,  0.1474393 ,  0.27542402]])"
      ]
     },
     "execution_count": 14,
     "metadata": {},
     "output_type": "execute_result"
    }
   ],
   "source": [
    "A.transpose()"
   ]
  },
  {
   "cell_type": "markdown",
   "metadata": {},
   "source": [
    "Gerando uma matriz simétrica e verificando a simetria."
   ]
  },
  {
   "cell_type": "code",
   "execution_count": 19,
   "metadata": {
    "collapsed": false
   },
   "outputs": [
    {
     "name": "stdout",
     "output_type": "stream",
     "text": [
      "[[ 0.09614886  0.44308102  0.36084401]\n",
      " [ 0.44308102  0.25859806  0.88161416]\n",
      " [ 0.36084401  0.88161416  0.08190487]]\n"
     ]
    }
   ],
   "source": [
    "A = np.random.rand(3,3)\n",
    "A = (A + A.transpose())/2\n",
    "print(A)"
   ]
  },
  {
   "cell_type": "code",
   "execution_count": 22,
   "metadata": {
    "collapsed": false
   },
   "outputs": [
    {
     "name": "stdout",
     "output_type": "stream",
     "text": [
      "[[ True  True  True]\n",
      " [ True  True  True]\n",
      " [ True  True  True]]\n",
      "True\n"
     ]
    }
   ],
   "source": [
    "print(A==A.transpose())\n",
    "print(np.all(A==A.transpose()))"
   ]
  },
  {
   "cell_type": "markdown",
   "metadata": {},
   "source": [
    "Determinante.\n",
    "Definido apenas para matrizes quadradas. Pode ser calculado pela regra de Laplace:\n",
    "\n",
    "$$\n",
    "\\det(M) = a_{11}\\det(M_{11}) + a_{12}\\det(M_{12}) + \\ldots + a_{1n}\\det(M_{1n})\n",
    "$$"
   ]
  },
  {
   "cell_type": "code",
   "execution_count": 23,
   "metadata": {
    "collapsed": false
   },
   "outputs": [
    {
     "data": {
      "text/plain": [
       "0.15946459125216983"
      ]
     },
     "execution_count": 23,
     "metadata": {},
     "output_type": "execute_result"
    }
   ],
   "source": [
    "np.linalg.det(A)"
   ]
  },
  {
   "cell_type": "code",
   "execution_count": 25,
   "metadata": {
    "collapsed": false
   },
   "outputs": [
    {
     "data": {
      "text/plain": [
       "0.43665179012235011"
      ]
     },
     "execution_count": 25,
     "metadata": {},
     "output_type": "execute_result"
    }
   ],
   "source": [
    "np.trace(A)"
   ]
  },
  {
   "cell_type": "code",
   "execution_count": 28,
   "metadata": {
    "collapsed": false
   },
   "outputs": [
    {
     "data": {
      "text/plain": [
       "array([[-4.74126004,  1.76738103,  1.86444492],\n",
       "       [ 1.76738103, -0.76715047,  0.47105712],\n",
       "       [ 1.86444492,  0.47105712, -1.07520348]])"
      ]
     },
     "execution_count": 28,
     "metadata": {},
     "output_type": "execute_result"
    }
   ],
   "source": [
    "np.linalg.inv(A)"
   ]
  },
  {
   "cell_type": "markdown",
   "metadata": {},
   "source": [
    "## Propriedades da inversa e da transposta\n",
    "\n",
    " * $(A^\\top)^\\top = A$ e $(A^{-1})^{-1} = A$\n",
    " * $(A^{-1})^\\top = (A^\\top)^{-1}$\n",
    " * Se $A = BCD$, então $A^\\top = D^\\top C^\\top B^\\top$ e $A^{-1} = D^{-1} C^{-1} B^{-1}$\n",
    " * $(A^\\top + B^\\top) = (A+B)^\\top$, mas $(A^{-1} + B^{-1}) \\neq (A+B)^{-1}$"
   ]
  },
  {
   "cell_type": "markdown",
   "metadata": {},
   "source": [
    "## Autovalores e autovetores\n",
    "\n",
    "Relação de uma matriz $A$ de ordem $n$ com seus autovalores $\\lambda$ e seus respectivos autovetores $v$:\n",
    "\n",
    "$$\n",
    "Av = \\lambda v\n",
    "$$"
   ]
  },
  {
   "cell_type": "code",
   "execution_count": 30,
   "metadata": {
    "collapsed": false
   },
   "outputs": [
    {
     "name": "stdout",
     "output_type": "stream",
     "text": [
      "[2 4]\n"
     ]
    }
   ],
   "source": [
    "# Exemplo\n",
    "A = np.array([[10,-4], [12, -4]])\n",
    "v = np.array([1,2])\n",
    "\n",
    "print(np.dot(A,v))"
   ]
  },
  {
   "cell_type": "code",
   "execution_count": 32,
   "metadata": {
    "collapsed": false
   },
   "outputs": [
    {
     "name": "stdout",
     "output_type": "stream",
     "text": [
      "[ 4.  2.]\n",
      "[[ 0.5547002   0.4472136 ]\n",
      " [ 0.83205029  0.89442719]]\n"
     ]
    }
   ],
   "source": [
    "autovals, autovecs = np.linalg.eig(A)\n",
    "print(autovals)\n",
    "print(autovecs)"
   ]
  },
  {
   "cell_type": "markdown",
   "metadata": {},
   "source": [
    "Falar de polinômio característico no quadro. Pular normas vetoriais e normais matriciais por enquanto."
   ]
  },
  {
   "cell_type": "markdown",
   "metadata": {},
   "source": [
    "## Solução de Sistemas Lineares\n",
    "\n",
    "Sistema triangular inferior: método das substituições sucessivas."
   ]
  },
  {
   "cell_type": "code",
   "execution_count": 34,
   "metadata": {
    "collapsed": false
   },
   "outputs": [
    {
     "name": "stdout",
     "output_type": "stream",
     "text": [
      "[[ 0.33166357  0.          0.        ]\n",
      " [ 0.1891176   0.11851698  0.        ]\n",
      " [ 0.09248431  0.95162     0.96046504]]\n",
      "[ 0.51611703  0.63458502  0.17409502]\n"
     ]
    }
   ],
   "source": [
    "A = np.tril(np.random.rand(3,3))\n",
    "b = np.random.rand(3)\n",
    "print(A)\n",
    "print(b)"
   ]
  },
  {
   "cell_type": "code",
   "execution_count": 42,
   "metadata": {
    "collapsed": false
   },
   "outputs": [],
   "source": [
    "def substituicoesSucessivas(L,c):\n",
    "    n = len(c)\n",
    "    assert(L.shape == (n,n))\n",
    "    \n",
    "    x = np.zeros(n)\n",
    "    for i in range(n):\n",
    "        x[i] = \n",
    "        for j in range(i):\n",
    "            ???\n",
    "            \n",
    "        ???\n",
    "        \n",
    "    return x"
   ]
  },
  {
   "cell_type": "code",
   "execution_count": 44,
   "metadata": {
    "collapsed": false
   },
   "outputs": [],
   "source": [
    "x = substituicoesSucessivas(A,b)"
   ]
  },
  {
   "cell_type": "code",
   "execution_count": 45,
   "metadata": {
    "collapsed": false
   },
   "outputs": [
    {
     "data": {
      "text/plain": [
       "array([ 0.51611703,  0.63458502,  0.17409502])"
      ]
     },
     "execution_count": 45,
     "metadata": {},
     "output_type": "execute_result"
    }
   ],
   "source": [
    "np.dot(A,x)"
   ]
  },
  {
   "cell_type": "markdown",
   "metadata": {},
   "source": [
    "Sistema triangular superior: substituições retroativas (mesma ideia).\n",
    "\n",
    "Qual a ordem do número de operações?"
   ]
  },
  {
   "cell_type": "markdown",
   "metadata": {},
   "source": [
    "## Eliminação de Gauss e sistemas equivalentes\n",
    "\n",
    "Dois sistemas de equações lineares são ditos equivalentes se possuem o mesmo vetor solução.\n",
    "\n",
    "<b>Ideia da eliminação de Gauss</b>: uma sequência de transformações de $Ax = b$ em sistemas equivalentes que torna a matriz $A$ em uma matriz triangular superior.\n",
    "\n",
    "As transformações que geram sistemas equivalentes são conhecidas como operações elementares. São elas:\n",
    " * multiplicar uma linha (ou coluna) por uma constante não-nula\n",
    " * multiplicar uma linha (ou coluna) por uma constante não-nula e somar à outra\n",
    " * trocar duas linhas (ou duas colunas de posição\n",
    " \n",
    "Q: Suponha que $A$ é uma matriz quadrada. Quais das operações alteram o determinante de $A$?"
   ]
  },
  {
   "cell_type": "code",
   "execution_count": 51,
   "metadata": {
    "collapsed": true
   },
   "outputs": [],
   "source": [
    "def eliminacaoDeGauss(A, b):\n",
    "    n = len(b)\n",
    "    assert(A.shape == (n,n))\n",
    "    \n",
    "    for j in range(n-1):\n",
    "        for i in range(???):\n",
    "            m = ???\n",
    "            for k in range(???):\n",
    "                A[i,k] -= ???\n",
    "            b[i] -= ???\n",
    "    return A, b"
   ]
  },
  {
   "cell_type": "code",
   "execution_count": 54,
   "metadata": {
    "collapsed": false
   },
   "outputs": [
    {
     "name": "stdout",
     "output_type": "stream",
     "text": [
      "[[  1  -3   2]\n",
      " [  0   2   3]\n",
      " [  0   0 -12]]\n",
      "[ 11   7 -36]\n"
     ]
    }
   ],
   "source": [
    "A = np.array([[1,-3,2],[-2,8,-1],[4,-6,5]])\n",
    "b = np.array([11,-15,29])\n",
    "U,d = eliminacaoDeGauss(A,b)\n",
    "print(U)\n",
    "print(d)"
   ]
  },
  {
   "cell_type": "code",
   "execution_count": 57,
   "metadata": {
    "collapsed": false
   },
   "outputs": [
    {
     "name": "stdout",
     "output_type": "stream",
     "text": [
      "[ 11.    3.5   3. ]\n",
      "[ 4.5 -9.   0. ]\n"
     ]
    }
   ],
   "source": [
    "x = substituicoesSucessivas(U,d)\n",
    "print(x)\n",
    "r = b-np.dot(A,x)\n",
    "print(r)"
   ]
  },
  {
   "cell_type": "markdown",
   "metadata": {},
   "source": [
    "Note que a eliminação de Gauss só executa um tipo de operação elementar. Este tipo <b>não</b> altera o determinante da matriz resultante. Seja $U$ a matriz retornada ao se aplicar a eliminação de Gauss à matriz $A$. Temos que\n",
    "\n",
    "$$\n",
    "\\det(A) = \\prod_{i=1}^n U_{ii}.\n",
    "$$"
   ]
  }
 ],
 "metadata": {
  "anaconda-cloud": {},
  "kernelspec": {
   "display_name": "Python [Root]",
   "language": "python",
   "name": "Python [Root]"
  },
  "language_info": {
   "codemirror_mode": {
    "name": "ipython",
    "version": 2
   },
   "file_extension": ".py",
   "mimetype": "text/x-python",
   "name": "python",
   "nbconvert_exporter": "python",
   "pygments_lexer": "ipython2",
   "version": "2.7.12"
  }
 },
 "nbformat": 4,
 "nbformat_minor": 2
}
