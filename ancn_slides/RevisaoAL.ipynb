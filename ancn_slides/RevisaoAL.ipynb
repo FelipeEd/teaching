{
 "cells": [
  {
   "cell_type": "markdown",
   "metadata": {},
   "source": [
    "# Revisão de Álgebra Linear\n",
    "\n",
    "Como explicado anteriormente, vamos utilizar a biblioteca numpy para manipulação de vetores e matrizes. Ambos são definidos como arrays, de uma ou duas dimensões, respectivamente."
   ]
  },
  {
   "cell_type": "code",
   "execution_count": 1,
   "metadata": {
    "collapsed": false
   },
   "outputs": [
    {
     "name": "stdout",
     "output_type": "stream",
     "text": [
      "[1 2 3]\n",
      "[[1 2 3]\n",
      " [4 5 6]\n",
      " [7 8 9]]\n",
      "[[1 2 3]\n",
      " [1 2 3]\n",
      " [1 2 3]]\n"
     ]
    }
   ],
   "source": [
    "import numpy as np\n",
    "\n",
    "# vetor\n",
    "v = np.array([1,2,3]) # alternativa: np.arange(1,4)\n",
    "print(v)\n",
    "\n",
    "# matriz\n",
    "M = np.array([[1,2,3],[4,5,6],[7,8,9]])\n",
    "print(M)\n",
    "\n",
    "# matriz como lista de vetores (por linha) \n",
    "V3 = np.array([v,v,v])\n",
    "print(V3)"
   ]
  },
  {
   "cell_type": "code",
   "execution_count": 2,
   "metadata": {
    "collapsed": false
   },
   "outputs": [
    {
     "name": "stdout",
     "output_type": "stream",
     "text": [
      "[ 0.  0.  0.]\n",
      "[[ 0.  0.]\n",
      " [ 0.  0.]\n",
      " [ 0.  0.]]\n",
      "[ 1.  1.  1.  1.]\n"
     ]
    }
   ],
   "source": [
    "# vetor nulo\n",
    "z = np.zeros(3)\n",
    "print(z)\n",
    "\n",
    "# matriz nula\n",
    "Z = np.zeros((3,2))\n",
    "print(Z)\n",
    "\n",
    "# vetor de uns\n",
    "e = np.ones(4)\n",
    "print(e)"
   ]
  },
  {
   "cell_type": "code",
   "execution_count": 3,
   "metadata": {
    "collapsed": false
   },
   "outputs": [
    {
     "name": "stdout",
     "output_type": "stream",
     "text": [
      "[[1 0 0 0]\n",
      " [0 2 0 0]\n",
      " [0 0 3 0]\n",
      " [0 0 0 4]]\n",
      "[[ 1.  0.  0.  0.]\n",
      " [ 0.  1.  0.  0.]\n",
      " [ 0.  0.  1.  0.]\n",
      " [ 0.  0.  0.  1.]]\n"
     ]
    }
   ],
   "source": [
    "# matriz diagonal\n",
    "D = np.diag(range(1,5))\n",
    "print(D)\n",
    "\n",
    "# matriz identidade\n",
    "I = np.diag(np.ones(4))\n",
    "print(I)"
   ]
  },
  {
   "cell_type": "markdown",
   "metadata": {},
   "source": [
    "O que faz a função abaixo?"
   ]
  },
  {
   "cell_type": "code",
   "execution_count": 4,
   "metadata": {
    "collapsed": false
   },
   "outputs": [
    {
     "name": "stdout",
     "output_type": "stream",
     "text": [
      "[[1 0 0]\n",
      " [4 5 0]\n",
      " [7 8 9]]\n"
     ]
    }
   ],
   "source": [
    "L = np.tril(M)\n",
    "print(L)"
   ]
  },
  {
   "cell_type": "markdown",
   "metadata": {},
   "source": [
    "## Produtos de Matrizes\n",
    "<img src=\"images/shop.png\" alt=\"floating point\" style=\"width: 100%\"/>(Source: [Several Simple Real-world Applications of Linear Algebra Tools](https://www.mff.cuni.cz/veda/konference/wds/proc/pdf06/WDS06_106_m8_Ulrychova.pdf))"
   ]
  },
  {
   "cell_type": "markdown",
   "metadata": {},
   "source": [
    "A função abaixo *não* calcula o produto de matrizes. Ela faz o produto elemento-a-elemento."
   ]
  },
  {
   "cell_type": "code",
   "execution_count": 17,
   "metadata": {
    "collapsed": false
   },
   "outputs": [
    {
     "name": "stdout",
     "output_type": "stream",
     "text": [
      "[[1 2 3]\n",
      " [4 5 6]\n",
      " [7 8 9]]\n",
      "[[1 0 0]\n",
      " [4 5 0]\n",
      " [7 8 9]]\n",
      "[[ 1  0  0]\n",
      " [16 25  0]\n",
      " [49 64 81]]\n"
     ]
    }
   ],
   "source": [
    "print(M)\n",
    "print(L)\n",
    "print(M * L)"
   ]
  },
  {
   "cell_type": "markdown",
   "metadata": {},
   "source": [
    "A função matmul deve ser usada para calcular o produto de matrizes."
   ]
  },
  {
   "cell_type": "code",
   "execution_count": 68,
   "metadata": {
    "collapsed": false
   },
   "outputs": [
    {
     "name": "stdout",
     "output_type": "stream",
     "text": [
      "[[ 30  34  27]\n",
      " [ 66  73  54]\n",
      " [102 112  81]]\n",
      "[[ 30  34  27]\n",
      " [ 66  73  54]\n",
      " [102 112  81]]\n",
      "[ 8 17 26]\n"
     ]
    }
   ],
   "source": [
    "print(np.matmul(M,L))\n",
    "print(M.dot(L))\n",
    "print(np.dot(M,np.arange(3)))\n"
   ]
  },
  {
   "cell_type": "markdown",
   "metadata": {},
   "source": [
    "## Produto Interno e Externo\n",
    "\n",
    " * Interno: Calculado através da função np.dot.\n",
    " * Externo: Calculado através da função np.outer."
   ]
  },
  {
   "cell_type": "code",
   "execution_count": 72,
   "metadata": {
    "collapsed": false
   },
   "outputs": [
    {
     "name": "stdout",
     "output_type": "stream",
     "text": [
      "(array([4, 5, 6]), array([1, 2, 3]), 32)\n"
     ]
    }
   ],
   "source": [
    "v = np.arange(1,4)\n",
    "u = np.arange(4,7)\n",
    "print(u,v,np.dot(u,v))"
   ]
  },
  {
   "cell_type": "code",
   "execution_count": 75,
   "metadata": {
    "collapsed": false
   },
   "outputs": [
    {
     "name": "stdout",
     "output_type": "stream",
     "text": [
      "[[1 2 3]\n",
      " [2 4 6]\n",
      " [3 6 9]]\n"
     ]
    }
   ],
   "source": [
    "M = np.outer(v,v)\n",
    "print(M)"
   ]
  },
  {
   "cell_type": "markdown",
   "metadata": {},
   "source": [
    "## Posto de uma matriz\n",
    "\n",
    "O posto de uma matriz $A_{m\\times n}$ é o máximo entre o número de vetores linha linearmente independentes e o número de colunas linearmente independentes. "
   ]
  },
  {
   "cell_type": "code",
   "execution_count": 76,
   "metadata": {
    "collapsed": false
   },
   "outputs": [
    {
     "data": {
      "text/plain": [
       "1"
      ]
     },
     "execution_count": 76,
     "metadata": {},
     "output_type": "execute_result"
    }
   ],
   "source": [
    "np.linalg.matrix_rank(M)"
   ]
  },
  {
   "cell_type": "markdown",
   "metadata": {},
   "source": [
    "## Outras funções importantes"
   ]
  },
  {
   "cell_type": "markdown",
   "metadata": {},
   "source": [
    "Criando uma matriz aleatória."
   ]
  },
  {
   "cell_type": "code",
   "execution_count": 77,
   "metadata": {
    "collapsed": false
   },
   "outputs": [
    {
     "name": "stdout",
     "output_type": "stream",
     "text": [
      "[[ 0.01614433  0.77920084]\n",
      " [ 0.529526    0.26897115]\n",
      " [ 0.04034866  0.03500766]]\n"
     ]
    }
   ],
   "source": [
    "A = np.random.rand(3,2)\n",
    "print(A)"
   ]
  },
  {
   "cell_type": "markdown",
   "metadata": {},
   "source": [
    "Matriz transposta."
   ]
  },
  {
   "cell_type": "code",
   "execution_count": 78,
   "metadata": {
    "collapsed": false
   },
   "outputs": [
    {
     "data": {
      "text/plain": [
       "array([[ 0.01614433,  0.529526  ,  0.04034866],\n",
       "       [ 0.77920084,  0.26897115,  0.03500766]])"
      ]
     },
     "execution_count": 78,
     "metadata": {},
     "output_type": "execute_result"
    }
   ],
   "source": [
    "A.transpose()"
   ]
  },
  {
   "cell_type": "markdown",
   "metadata": {},
   "source": [
    "Gerando uma matriz simétrica e verificando a simetria."
   ]
  },
  {
   "cell_type": "code",
   "execution_count": 79,
   "metadata": {
    "collapsed": false
   },
   "outputs": [
    {
     "name": "stdout",
     "output_type": "stream",
     "text": [
      "[[ 0.3490637   0.30482848  0.49346712]\n",
      " [ 0.30482848  0.61675409  0.1734747 ]\n",
      " [ 0.49346712  0.1734747   0.77924667]]\n"
     ]
    }
   ],
   "source": [
    "A = np.random.rand(3,3)\n",
    "A = (A + A.transpose())/2\n",
    "print(A)"
   ]
  },
  {
   "cell_type": "code",
   "execution_count": 80,
   "metadata": {
    "collapsed": false
   },
   "outputs": [
    {
     "name": "stdout",
     "output_type": "stream",
     "text": [
      "[[ True  True  True]\n",
      " [ True  True  True]\n",
      " [ True  True  True]]\n",
      "True\n"
     ]
    }
   ],
   "source": [
    "print(A==A.transpose())\n",
    "print(np.all(A==A.transpose()))"
   ]
  },
  {
   "cell_type": "markdown",
   "metadata": {},
   "source": [
    "Determinante.\n",
    "Definido apenas para matrizes quadradas. Pode ser calculado pela regra de Laplace:\n",
    "\n",
    "$$\n",
    "\\det(A) = (-1)^{1+1} a_{11}\\det(A_{11}) + (-1)^{1+2}a_{12}\\det(A_{12}) + \\ldots +\n",
    "(-1)^{1+j}a_{1j}\\det(A_{1j}) + \\ldots (-1)^{1+n}a_{1n}\\det(A_{1n})\n",
    "$$"
   ]
  },
  {
   "cell_type": "code",
   "execution_count": 23,
   "metadata": {
    "collapsed": false
   },
   "outputs": [
    {
     "data": {
      "text/plain": [
       "0.15946459125216983"
      ]
     },
     "execution_count": 23,
     "metadata": {},
     "output_type": "execute_result"
    }
   ],
   "source": [
    "np.linalg.det(A)"
   ]
  },
  {
   "cell_type": "code",
   "execution_count": 25,
   "metadata": {
    "collapsed": false
   },
   "outputs": [
    {
     "data": {
      "text/plain": [
       "0.43665179012235011"
      ]
     },
     "execution_count": 25,
     "metadata": {},
     "output_type": "execute_result"
    }
   ],
   "source": [
    "np.trace(A)"
   ]
  },
  {
   "cell_type": "code",
   "execution_count": 85,
   "metadata": {
    "collapsed": false
   },
   "outputs": [
    {
     "data": {
      "text/plain": [
       "True"
      ]
     },
     "execution_count": 85,
     "metadata": {},
     "output_type": "execute_result"
    }
   ],
   "source": [
    "invA = np.linalg.inv(A)\n",
    "np.allclose(A.dot(invA),np.eye(3))"
   ]
  },
  {
   "cell_type": "markdown",
   "metadata": {},
   "source": [
    "## Propriedades da inversa e da transposta\n",
    "\n",
    " * $(A^\\top)^\\top = A$ e $(A^{-1})^{-1} = A$\n",
    " * $(A^{-1})^\\top = (A^\\top)^{-1}$\n",
    " * Se $A = BCD$, então $A^\\top = D^\\top C^\\top B^\\top$ e $A^{-1} = D^{-1} C^{-1} B^{-1}$\n",
    " * $(A^\\top + B^\\top) = (A+B)^\\top$, mas $(A^{-1} + B^{-1}) \\neq (A+B)^{-1}$"
   ]
  },
  {
   "cell_type": "markdown",
   "metadata": {},
   "source": [
    "## Autovalores e autovetores\n",
    "\n",
    "Relação de uma matriz $A$ de ordem $n$ com seus autovalores $\\lambda$ e seus respectivos autovetores $v$:\n",
    "\n",
    "$$\n",
    "Av = \\lambda v\n",
    "$$"
   ]
  },
  {
   "cell_type": "code",
   "execution_count": 86,
   "metadata": {
    "collapsed": false
   },
   "outputs": [
    {
     "name": "stdout",
     "output_type": "stream",
     "text": [
      "[2 4]\n"
     ]
    }
   ],
   "source": [
    "# Exemplo\n",
    "A = np.array([[10,-4], [12, -4]])\n",
    "v = np.array([1,2])\n",
    "\n",
    "print(np.dot(A,v))"
   ]
  },
  {
   "cell_type": "code",
   "execution_count": 32,
   "metadata": {
    "collapsed": false
   },
   "outputs": [
    {
     "name": "stdout",
     "output_type": "stream",
     "text": [
      "[ 4.  2.]\n",
      "[[ 0.5547002   0.4472136 ]\n",
      " [ 0.83205029  0.89442719]]\n"
     ]
    }
   ],
   "source": [
    "autovals, autovecs = np.linalg.eig(A)\n",
    "print(autovals)\n",
    "print(autovecs)"
   ]
  },
  {
   "cell_type": "markdown",
   "metadata": {},
   "source": [
    "Falar de polinômio característico no quadro. Pular normas vetoriais e normais matriciais por enquanto."
   ]
  },
  {
   "cell_type": "markdown",
   "metadata": {},
   "source": [
    "## Solução de Sistemas Lineares\n",
    "\n",
    "Sistema triangular inferior: método das substituições sucessivas."
   ]
  },
  {
   "cell_type": "code",
   "execution_count": 87,
   "metadata": {
    "collapsed": false
   },
   "outputs": [
    {
     "name": "stdout",
     "output_type": "stream",
     "text": [
      "[[ 0.22836111  0.          0.        ]\n",
      " [ 0.51212116  0.83891964  0.        ]\n",
      " [ 0.60966786  0.94001156  0.04660697]]\n",
      "[ 0.76734159  0.50334633  0.78582493]\n"
     ]
    }
   ],
   "source": [
    "A = np.tril(np.random.rand(3,3))\n",
    "b = np.random.rand(3)\n",
    "print(A)\n",
    "print(b)"
   ]
  },
  {
   "cell_type": "code",
   "execution_count": 88,
   "metadata": {
    "collapsed": false
   },
   "outputs": [],
   "source": [
    "def substituicoesSucessivas(L,c):\n",
    "    n = len(c)\n",
    "    assert(L.shape == (n,n))\n",
    "    \n",
    "    x = np.zeros(n)\n",
    "    for i in range(n): #for(i=0; i<n; i++)\n",
    "        soma = 0.0\n",
    "        for j in range(i):\n",
    "            soma += L[i,j]*x[j]\n",
    "        x[i] = (c[i]-soma)/L[i,i] \n",
    "        \n",
    "    return x"
   ]
  },
  {
   "cell_type": "code",
   "execution_count": 90,
   "metadata": {
    "collapsed": false
   },
   "outputs": [
    {
     "name": "stdout",
     "output_type": "stream",
     "text": [
      "[ 3.36021126 -1.45125813  2.1758882 ]\n"
     ]
    }
   ],
   "source": [
    "x = substituicoesSucessivas(A,b)\n",
    "print(x)"
   ]
  },
  {
   "cell_type": "code",
   "execution_count": 91,
   "metadata": {
    "collapsed": false
   },
   "outputs": [
    {
     "data": {
      "text/plain": [
       "array([ 0.76734159,  0.50334633,  0.78582493])"
      ]
     },
     "execution_count": 91,
     "metadata": {},
     "output_type": "execute_result"
    }
   ],
   "source": [
    "np.dot(A,x)"
   ]
  },
  {
   "cell_type": "markdown",
   "metadata": {},
   "source": [
    "Sistema triangular superior: substituições retroativas (mesma ideia).\n",
    "\n",
    "Qual a ordem do número de operações?"
   ]
  },
  {
   "cell_type": "code",
   "execution_count": 92,
   "metadata": {
    "collapsed": true
   },
   "outputs": [],
   "source": [
    "def substituicoesRetroativas(U,d):\n",
    "    n = len(d)\n",
    "    assert(U.shape == (n,n))\n",
    "    \n",
    "    x = np.zeros(n)\n",
    "    for i in range(n-1,-1,-1):\n",
    "        x[i] = d[i]\n",
    "        for j in range(i+1,n):\n",
    "            x[i] -= x[j]*U[i,j]\n",
    "            \n",
    "        x[i] /= U[i,i]\n",
    "        \n",
    "    return x"
   ]
  },
  {
   "cell_type": "code",
   "execution_count": 94,
   "metadata": {
    "collapsed": false
   },
   "outputs": [
    {
     "name": "stdout",
     "output_type": "stream",
     "text": [
      "[[ 0.86700549  0.58877923  0.1823046 ]\n",
      " [ 0.          0.53845327  0.50952528]\n",
      " [ 0.          0.          0.50504054]]\n",
      "[ 0.50984577  0.30749178  0.49544158]\n",
      "True\n"
     ]
    }
   ],
   "source": [
    "U = np.triu(np.random.rand(3,3))\n",
    "d = np.random.rand(3)\n",
    "print(U)\n",
    "print(d)\n",
    "x = substituicoesRetroativas(U,d)\n",
    "print(np.allclose(U.dot(x),d))"
   ]
  },
  {
   "cell_type": "markdown",
   "metadata": {},
   "source": [
    "## Eliminação de Gauss e sistemas equivalentes\n",
    "\n",
    "Dois sistemas de equações lineares são ditos equivalentes se possuem o mesmo vetor solução.\n",
    "\n",
    "<b>Ideia da eliminação de Gauss</b>: uma sequência de transformações de $Ax = b$ em sistemas equivalentes que torna a matriz $A$ em uma matriz triangular superior.\n",
    "\n",
    "As transformações que geram sistemas equivalentes são conhecidas como operações elementares. São elas:\n",
    " * multiplicar uma linha (ou coluna) por uma constante não-nula\n",
    " * multiplicar uma linha (ou coluna) por uma constante não-nula e somar à outra\n",
    " * trocar duas linhas (ou duas colunas de posição\n",
    " \n",
    "Q: Suponha que $A$ é uma matriz quadrada. Quais das operações alteram o determinante de $A$?"
   ]
  },
  {
   "cell_type": "code",
   "execution_count": 51,
   "metadata": {
    "collapsed": true
   },
   "outputs": [],
   "source": [
    "def eliminacaoDeGauss(A, b):\n",
    "    n = len(b)\n",
    "    assert(A.shape == (n,n))\n",
    "    \n",
    "    for j in range(n-1):\n",
    "        for i in range(???):\n",
    "            m = ???\n",
    "            for k in range(???):\n",
    "                A[i,k] -= ???\n",
    "            b[i] -= ???\n",
    "    return A, b"
   ]
  },
  {
   "cell_type": "code",
   "execution_count": 54,
   "metadata": {
    "collapsed": false
   },
   "outputs": [
    {
     "name": "stdout",
     "output_type": "stream",
     "text": [
      "[[  1  -3   2]\n",
      " [  0   2   3]\n",
      " [  0   0 -12]]\n",
      "[ 11   7 -36]\n"
     ]
    }
   ],
   "source": [
    "A = np.array([[1,-3,2],[-2,8,-1],[4,-6,5]])\n",
    "b = np.array([11,-15,29])\n",
    "U,d = eliminacaoDeGauss(A,b)\n",
    "print(U)\n",
    "print(d)"
   ]
  },
  {
   "cell_type": "code",
   "execution_count": 57,
   "metadata": {
    "collapsed": false
   },
   "outputs": [
    {
     "name": "stdout",
     "output_type": "stream",
     "text": [
      "[ 11.    3.5   3. ]\n",
      "[ 4.5 -9.   0. ]\n"
     ]
    }
   ],
   "source": [
    "x = substituicoesSucessivas(U,d)\n",
    "print(x)\n",
    "r = b-np.dot(A,x)\n",
    "print(r)"
   ]
  },
  {
   "cell_type": "markdown",
   "metadata": {},
   "source": [
    "Note que a eliminação de Gauss só executa um tipo de operação elementar. Este tipo <b>não</b> altera o determinante da matriz resultante. Seja $U$ a matriz retornada ao se aplicar a eliminação de Gauss à matriz $A$. Temos que\n",
    "\n",
    "$$\n",
    "\\det(A) = \\prod_{i=1}^n U_{ii}.\n",
    "$$"
   ]
  }
 ],
 "metadata": {
  "anaconda-cloud": {},
  "kernelspec": {
   "display_name": "Python [Root]",
   "language": "python",
   "name": "Python [Root]"
  },
  "language_info": {
   "codemirror_mode": {
    "name": "ipython",
    "version": 2
   },
   "file_extension": ".py",
   "mimetype": "text/x-python",
   "name": "python",
   "nbconvert_exporter": "python",
   "pygments_lexer": "ipython2",
   "version": "2.7.12"
  }
 },
 "nbformat": 4,
 "nbformat_minor": 2
}
