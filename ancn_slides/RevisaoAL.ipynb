{
 "cells": [
  {
   "cell_type": "markdown",
   "metadata": {},
   "source": [
    "# Revisão de Álgebra Linear\n",
    "\n",
    "Como explicado anteriormente, vamos utilizar a biblioteca numpy para manipulação de vetores e matrizes. Ambos são definidos como arrays, de uma ou duas dimensões, respectivamente."
   ]
  },
  {
   "cell_type": "code",
   "execution_count": 19,
   "metadata": {},
   "outputs": [
    {
     "name": "stdout",
     "output_type": "stream",
     "text": [
      "[1 2 3]\n",
      "[[1 2 3]\n",
      " [4 5 6]\n",
      " [7 8 9]]\n",
      "[[1 2 3]\n",
      " [1 2 3]\n",
      " [1 2 3]]\n"
     ]
    }
   ],
   "source": [
    "import numpy as np\n",
    "\n",
    "# vetor\n",
    "v = np.array([1,2,3]) # alternativa: np.arange(1,4)\n",
    "print(v)\n",
    "\n",
    "# matriz\n",
    "M = np.array([[1,2,3],[4,5,6],[7,8,9]])\n",
    "print(M)\n",
    "\n",
    "# matriz como lista de vetores (por linha) \n",
    "V3 = np.array([v,v,v])\n",
    "print(V3)"
   ]
  },
  {
   "cell_type": "code",
   "execution_count": 16,
   "metadata": {},
   "outputs": [
    {
     "name": "stdout",
     "output_type": "stream",
     "text": [
      "[ 0.  0.  0.]\n",
      "[[ 0.  0.]\n",
      " [ 0.  0.]\n",
      " [ 0.  0.]]\n",
      "[ 1.  1.  1.  1.]\n"
     ]
    }
   ],
   "source": [
    "# vetor nulo\n",
    "z = np.zeros(3)\n",
    "print(z)\n",
    "\n",
    "# matriz nula\n",
    "Z = np.zeros((3,2))\n",
    "print(Z)\n",
    "\n",
    "# vetor de uns\n",
    "e = np.ones(4)\n",
    "print(e)"
   ]
  },
  {
   "cell_type": "code",
   "execution_count": 17,
   "metadata": {},
   "outputs": [
    {
     "name": "stdout",
     "output_type": "stream",
     "text": [
      "[[1 0 0 0]\n",
      " [0 2 0 0]\n",
      " [0 0 3 0]\n",
      " [0 0 0 4]]\n",
      "[[ 1.  0.  0.  0.]\n",
      " [ 0.  1.  0.  0.]\n",
      " [ 0.  0.  1.  0.]\n",
      " [ 0.  0.  0.  1.]]\n"
     ]
    }
   ],
   "source": [
    "# matriz diagonal\n",
    "D = np.diag(range(1,5))\n",
    "print(D)\n",
    "\n",
    "# matriz identidade\n",
    "I = np.diag(np.ones(4))\n",
    "print(I)"
   ]
  },
  {
   "cell_type": "markdown",
   "metadata": {},
   "source": [
    "O que faz a função abaixo?"
   ]
  },
  {
   "cell_type": "code",
   "execution_count": 21,
   "metadata": {},
   "outputs": [
    {
     "name": "stdout",
     "output_type": "stream",
     "text": [
      "[[1 0 0]\n",
      " [1 2 0]\n",
      " [1 2 3]]\n"
     ]
    }
   ],
   "source": [
    "L = np.tril(M)\n",
    "print(L)"
   ]
  },
  {
   "cell_type": "markdown",
   "metadata": {},
   "source": [
    "O que faz a função abaixo?"
   ]
  },
  {
   "cell_type": "code",
   "execution_count": 24,
   "metadata": {},
   "outputs": [
    {
     "name": "stdout",
     "output_type": "stream",
     "text": [
      "(array([[1, 2, 3],\n",
      "       [4, 5, 6],\n",
      "       [7, 8, 9]]), array([[1, 0, 0],\n",
      "       [1, 2, 0],\n",
      "       [1, 2, 3]]), array([[ 1,  0,  0],\n",
      "       [ 4, 10,  0],\n",
      "       [ 7, 16, 27]]))\n"
     ]
    }
   ],
   "source": [
    "print(M)\n",
    "print(L)\n",
    "print(M * L)"
   ]
  },
  {
   "cell_type": "code",
   "execution_count": 29,
   "metadata": {},
   "outputs": [
    {
     "name": "stdout",
     "output_type": "stream",
     "text": [
      "[[ 6 10  9]\n",
      " [15 22 18]\n",
      " [24 34 27]]\n",
      "[ 8 17 26]\n"
     ]
    }
   ],
   "source": [
    "print(np.matmul(M,L))\n",
    "print(np.dot(M,np.arange(3)))\n"
   ]
  },
  {
   "cell_type": "markdown",
   "metadata": {},
   "source": [
    "## Produto Interno e Externo\n",
    "\n",
    " * Interno: Calculado através da função np.dot.\n",
    " * Externo: Calculado através da função np.outer."
   ]
  },
  {
   "cell_type": "code",
   "execution_count": 34,
   "metadata": {},
   "outputs": [
    {
     "data": {
      "text/plain": [
       "14"
      ]
     },
     "execution_count": 34,
     "metadata": {},
     "output_type": "execute_result"
    }
   ],
   "source": [
    "np.dot(v,v)"
   ]
  },
  {
   "cell_type": "code",
   "execution_count": 35,
   "metadata": {},
   "outputs": [
    {
     "data": {
      "text/plain": [
       "array([[1, 2, 3],\n",
       "       [2, 4, 6],\n",
       "       [3, 6, 9]])"
      ]
     },
     "execution_count": 35,
     "metadata": {},
     "output_type": "execute_result"
    }
   ],
   "source": [
    "np.outer(v,v)"
   ]
  },
  {
   "cell_type": "markdown",
   "metadata": {},
   "source": [
    "## Posto de uma matriz\n",
    "\n",
    "O posto de uma matriz $A_{m\\times n}$ é o máximo entre o número de vetores linha linearmente independentes e o número de colunas linearmente independentes. "
   ]
  },
  {
   "cell_type": "code",
   "execution_count": 36,
   "metadata": {},
   "outputs": [
    {
     "data": {
      "text/plain": [
       "2"
      ]
     },
     "execution_count": 36,
     "metadata": {},
     "output_type": "execute_result"
    }
   ],
   "source": [
    "np.linalg.matrix_rank(M)"
   ]
  },
  {
   "cell_type": "code",
   "execution_count": null,
   "metadata": {
    "collapsed": true
   },
   "outputs": [],
   "source": []
  }
 ],
 "metadata": {
  "kernelspec": {
   "display_name": "Python 2",
   "language": "python",
   "name": "python2"
  },
  "language_info": {
   "codemirror_mode": {
    "name": "ipython",
    "version": 2
   },
   "file_extension": ".py",
   "mimetype": "text/x-python",
   "name": "python",
   "nbconvert_exporter": "python",
   "pygments_lexer": "ipython2",
   "version": "2.7.13"
  }
 },
 "nbformat": 4,
 "nbformat_minor": 2
}
