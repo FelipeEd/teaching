{
 "cells": [
  {
   "cell_type": "markdown",
   "metadata": {},
   "source": [
    "# TP1: PageRank\n",
    "\n",
    "Nome: *escreva seu nome aqui*\n",
    "\n",
    "Matrícula: *escreva sua matrícula aqui*\n",
    "\n",
    "* Data de entrega: até 23:59 do dia 17/05/2018\n",
    "\n",
    "* Questões podem ser discutidas entre até três alunos. Nomes dos colegas precisam ser listados. Contudo, a escrita do código e a submissão deve ser feita individualmente.\n",
    "\n",
    "* Todo material consultado na Internet deve ser referenciado (incluir URL).\n",
    "\n",
    "* Submissão deve ser feita em formato de ipython notebook (extensão .ipynb) através do Moodle.\n",
    "\n",
    "Este trabalho está dividido em cinco partes:\n",
    " * **Parte 0**: Esta parte não vale nota, mas é fundamental para entender o que se pede a seguir.\n",
    " * **Parte 1**: Pagerank sem saltos aleatórios em grafo pequeno\n",
    " * **Parte 2**: Pagerank (com saltos aleatórios) em grafo pequeno\n",
    " * **Parte 3**: Manipulação de matrizes esparsas\n",
    " * **Parte 4**: Pagerank sparso em grafo grande"
   ]
  },
  {
   "cell_type": "markdown",
   "metadata": {},
   "source": [
    "## Parte 0: Revisão de conceitos\n",
    "\n",
    "I. O **primeiro autovetor** (isto é, o autovetor associado ao maior autovalor em módulo) pode ser calculado rapidamente através do método da potência, desde que o *gap* entre o maior e o segundo maior autovalor (em módulo) seja grande. Uma implementação simples do método da potência é mostrada a seguir."
   ]
  },
  {
   "cell_type": "code",
   "execution_count": 143,
   "metadata": {},
   "outputs": [],
   "source": [
    "def powerMethod(A, niter=10):\n",
    "    n = len(A)\n",
    "    w = np.ones((n,1))/n\n",
    "    for i in range(niter):\n",
    "        w = A.dot(w)        \n",
    "    return w"
   ]
  },
  {
   "cell_type": "markdown",
   "metadata": {},
   "source": [
    "II. Dado um grafo $G=(V,E)$, podemos obter uma **matriz de probabilidade de transição** $P$ dividindo-se cada linha de $A$ pela soma dos elementos da linha. Seja $D = A \\times \\mathbf{1}$ a matriz diagonal contendo a soma das linhas de $A$. Temos que\n",
    "\n",
    "$$\n",
    "P = D^{-1} \\times A.\n",
    "$$"
   ]
  },
  {
   "cell_type": "markdown",
   "metadata": {},
   "source": [
    "III. A matriz de probabilidade de transição $P$ de certos grafos direcionados satisfaz\n",
    "\n",
    "$$\n",
    "v^\\top P = v^\\top \\textrm{ou $P^\\top v = v$},\n",
    "$$\n",
    "\n",
    "onde $v$ é o primeiro autovetor de $P^\\top$. A equação da direita é mais fácil de ser utilizada, pois ela tem a forma canônica $Ax=b$. Já a equação da direita é mais fácil de ser interpretada. Para todo $j=1,\\ldots,n$,\n",
    "\n",
    "$$\n",
    "\\sum_{i=1} v_i P_{ij} = v_j \\\\\n",
    "\\sum_{i=1} v_i \\frac{A_{ij}}{D_{ii}} = v_j \\\\\n",
    "\\sum_{i:(i,j) \\in E} v_i \\frac{1}{D_{ii}} = v_j\n",
    "$$"
   ]
  },
  {
   "cell_type": "markdown",
   "metadata": {},
   "source": [
    "IV. Assuma que $v$ seja normalizado de forma que $\\sum_j v_j = 1$. O PageRank (sem saltos) de um vértice $j$ é dado por $v_j$, onde $v$ é o primeiro autovetor de $P^\\top$. Esta é uma maneira de medir sua relevância. A intuição da Equação $\\sum_{i:(i,j) \\in E} v_i /D_{ii} = v_j$ é que a relevância de $j$ é a soma das relevâncias dos vértices $i$ que apontam para $j$ normalizados pelos seus respectivos graus de saída."
   ]
  },
  {
   "cell_type": "markdown",
   "metadata": {},
   "source": [
    "## Parte 1: Pagerank sem saltos aleatórios em grafo pequeno\n",
    "\n",
    "Considere o grafo a seguir composto por $n=4$ vértices e $m=8$ arestas. \n",
    "<img src=\"images/directedgraph.png\"/>\n",
    "\n",
    "Certifique-se de que encontrou as $m=8$ arestas."
   ]
  },
  {
   "cell_type": "markdown",
   "metadata": {},
   "source": [
    "**1.1** Crie um numpy array $A$ contendo a matriz de adjacência."
   ]
  },
  {
   "cell_type": "code",
   "execution_count": 138,
   "metadata": {},
   "outputs": [],
   "source": [
    "import numpy as np\n",
    "A = np.array()"
   ]
  },
  {
   "cell_type": "markdown",
   "metadata": {},
   "source": [
    "**1.2** Escreva uma função matrizDeTransicao que recebe como entrada uma matriz $n \\times n$ e retorna a matriz de probabilidade de transição. Imprima $P$, a matriz de transição para $A$."
   ]
  },
  {
   "cell_type": "code",
   "execution_count": 139,
   "metadata": {},
   "outputs": [
    {
     "name": "stdout",
     "output_type": "stream",
     "text": [
      "[[0.         0.5        0.5        0.        ]\n",
      " [0.         0.         0.5        0.5       ]\n",
      " [0.         0.         0.         1.        ]\n",
      " [0.33333333 0.33333333 0.33333333 0.        ]]\n"
     ]
    }
   ],
   "source": [
    "def matrizDeTransicao(M):\n",
    "    return \n",
    "\n",
    "P = matrizDeTransicao(A)\n",
    "print(P)"
   ]
  },
  {
   "cell_type": "markdown",
   "metadata": {},
   "source": [
    "**1.3** Use a função np.linalg.eig para calcular o primeiro autovetor de $P^\\top$. Normalize o autovetor pela sua soma e imprima o resultado. (Observação: os elementos do autovetor serão retornados como números complexos, mas a parte imaginária será nula e pode ser ignorada.)"
   ]
  },
  {
   "cell_type": "code",
   "execution_count": 4,
   "metadata": {},
   "outputs": [
    {
     "name": "stdout",
     "output_type": "stream",
     "text": [
      "[0.12903226+0.j 0.19354839+0.j 0.29032258+0.j 0.38709677+0.j]\n"
     ]
    }
   ],
   "source": [
    "autoval,autovec = np.linalg.eig()\n",
    "autovec =\n",
    "print()"
   ]
  },
  {
   "cell_type": "markdown",
   "metadata": {},
   "source": [
    "**1.4** Verifique que o método da potência aplicado a $P^\\top$ retorna uma aproximação para o primeiro autovetor. "
   ]
  },
  {
   "cell_type": "code",
   "execution_count": 5,
   "metadata": {},
   "outputs": [
    {
     "data": {
      "text/plain": [
       "array([[0.12885802],\n",
       "       [0.19331115],\n",
       "       [0.29024402],\n",
       "       [0.38758681]])"
      ]
     },
     "execution_count": 5,
     "metadata": {},
     "output_type": "execute_result"
    }
   ],
   "source": [
    "powerMethod()"
   ]
  },
  {
   "cell_type": "markdown",
   "metadata": {},
   "source": [
    "**1.5** Implemente uma função powerMethodEps(A, epsilon) que executa o método da potência até que a condição de convergência $\\|w_{t} - w_{t-1}\\| < \\epsilon$ seja atingida. Para a matriz $P^\\top$ com $\\epsilon=10^{-5}$ quantas iterações foram realizadas? "
   ]
  },
  {
   "cell_type": "code",
   "execution_count": 6,
   "metadata": {},
   "outputs": [
    {
     "name": "stdout",
     "output_type": "stream",
     "text": [
      "20\n"
     ]
    },
    {
     "data": {
      "text/plain": [
       "array([[0.12903346],\n",
       "       [0.19354849],\n",
       "       [0.29032191],\n",
       "       [0.38709614]])"
      ]
     },
     "execution_count": 6,
     "metadata": {},
     "output_type": "execute_result"
    }
   ],
   "source": [
    "def powerMethodEps(A, eps=1e-5):\n",
    "    n = len(A)\n",
    "    w = np.ones((n,1))/n\n",
    "    w_new = A @ w\n",
    "    count = 1\n",
    "    while :\n",
    "        w = w_new\n",
    "        w_new = A @ w\n",
    "    print(count)\n",
    "    \n",
    "    return w\n",
    "\n",
    "powerMethodEps(P.T)"
   ]
  },
  {
   "cell_type": "markdown",
   "metadata": {},
   "source": [
    "## Parte II: Pagerank (com saltos aleatórios) em grafo pequeno\n",
    "\n",
    "Agora iremos modificar a matriz A de forma a:\n",
    " * adicionar um novo vértice 4, e\n",
    " * adicionar uma aresta de 3 para 4.\n",
    " \n",
    "Obviamente a matriz de probabilidade de transição não está definida para a nova matriz $A$. Vértices que não possuem arestas de saída (como o vértice 4) são conhecidos como *dangling nodes*. Para resolver este e outros problemas, incluiremos a possibilidade de realizar saltos aleatórios de um vértice para qualquer outro vértice.\n",
    "\n",
    "Em particular, assume-se que com probabilidade $\\alpha$, seguimos uma das arestas de saída em $A$ e, com probabilidade $1-\\alpha$ realizamos um salto aleatório, isto é, transicionamos do vértice $v$ para um dos $n$ vértices do grafo (incluindo $v$) escolhido uniformemente. Quando não existem *dangling nodes*, a nova matriz de probabilidade de transição é dada por\n",
    "\n",
    "$$\n",
    "P = \\alpha D^{-1} A + (1-\\alpha) \\frac{\\mathbf{1}\\mathbf{1}^\\top}{n}\n",
    "$$\n",
    "\n",
    "Quando existem *dangling nodes*, a única possibilidade a partir desses nós é fazer saltos aleatórios. Mais precisamente, se $i$ é um vértice sem arestas de saída, desejamos que a $i$-ésima linha de $P$ seja o vetor $[1/n,\\ldots,1/n]$. Uma forma de satisfazer essa definição é preencher com 1's as linhas de $A$ que correspondem aos *dangling nodes*. Uma desvantagem desta estratégia é que faz com que $A$ fique mais densa (mais elementos não-nulos).\n",
    "\n",
    "Um valor típico usado para $\\alpha$ é $0.85$."
   ]
  },
  {
   "cell_type": "markdown",
   "metadata": {},
   "source": [
    "**2.1** Crie um novo numpy array $A_\\textrm{new}$ contendo o vértice 4 e a aresta (3,4)."
   ]
  },
  {
   "cell_type": "code",
   "execution_count": 7,
   "metadata": {},
   "outputs": [],
   "source": [
    "A_new = "
   ]
  },
  {
   "cell_type": "markdown",
   "metadata": {},
   "source": [
    "**2.2** Crie uma função fixDangling(M) que retorna uma cópia modificada da matriz de adjacência M onde cada *dangling node* do grafo original possui arestas para todos os vértices do grafo. *Dica:* Você pode criar um vetor $d$ com os graus de saída e acessar as linhas de $M$ correpondentes aos *dangling nodes* por $M[d==0,:]$. Imprima a matriz $A_\\textrm{fixed}$ retornada após chamar fixDangling para $A_\\textrm{new}$.  "
   ]
  },
  {
   "cell_type": "code",
   "execution_count": 8,
   "metadata": {},
   "outputs": [
    {
     "data": {
      "text/plain": [
       "array([[0, 1, 1, 0, 0],\n",
       "       [0, 0, 1, 1, 0],\n",
       "       [0, 0, 0, 1, 0],\n",
       "       [1, 1, 1, 0, 1],\n",
       "       [1, 1, 1, 1, 1]])"
      ]
     },
     "execution_count": 8,
     "metadata": {},
     "output_type": "execute_result"
    }
   ],
   "source": [
    "def fixDangling(M):\n",
    "    M2 = M.copy()\n",
    "\n",
    "    return M2\n",
    "    \n",
    "A_fixed = fixDangling(A_new)\n",
    "A_fixed"
   ]
  },
  {
   "cell_type": "markdown",
   "metadata": {},
   "source": [
    "**2.3** Crie uma função matrizDeTransicao(M, alpha) que receba como parâmetro também a probabilidade $\\alpha$ de não fazermos um salto aleatório. Você pode assumir que $M$ foi retornada por fixDanglig, logo, não possui *dangling nodes*. Imprima as matrizes:\n",
    " * $P_2$ obtida ao chamar matrizDeTransicao para os parâmetros $A$ e $\\alpha=0.85$;\n",
    " * $P_\\textrm{new}$ obtida ao chamar matrizDeTransicao para os parâmetros $A_\\textrm{fixed}$ e $\\alpha=0.85$."
   ]
  },
  {
   "cell_type": "code",
   "execution_count": 9,
   "metadata": {},
   "outputs": [
    {
     "name": "stdout",
     "output_type": "stream",
     "text": [
      "[[0.0375     0.4625     0.4625     0.0375    ]\n",
      " [0.0375     0.0375     0.4625     0.4625    ]\n",
      " [0.0375     0.0375     0.0375     0.8875    ]\n",
      " [0.32083333 0.32083333 0.32083333 0.0375    ]]\n",
      "[[0.03   0.455  0.455  0.03   0.03  ]\n",
      " [0.03   0.03   0.455  0.455  0.03  ]\n",
      " [0.03   0.03   0.03   0.88   0.03  ]\n",
      " [0.2425 0.2425 0.2425 0.03   0.2425]\n",
      " [0.2    0.2    0.2    0.2    0.2   ]]\n"
     ]
    }
   ],
   "source": [
    "def matrizDeTransicao(A, alpha=1.0):\n",
    "    n = A.shape[0]\n",
    "    d = A.sum(axis=1)\n",
    "    return \n",
    "\n",
    "P_2 = matrizDeTransicao(A,0.85)\n",
    "print(P_2)\n",
    "P_new = matrizDeTransicao(A_fixed,0.85)\n",
    "print(P_new)"
   ]
  },
  {
   "cell_type": "markdown",
   "metadata": {},
   "source": [
    "**2.4** Imprima o resultado do método da potência com:\n",
    "* $P_2^\\top$ e $\\epsilon=10^{-5}$\n",
    "* $P_\\textrm{new}^\\top$ e $\\epsilon=10^{-5}$."
   ]
  },
  {
   "cell_type": "code",
   "execution_count": 10,
   "metadata": {},
   "outputs": [
    {
     "name": "stdout",
     "output_type": "stream",
     "text": [
      "16\n",
      "14\n",
      "[[0.14180823]\n",
      " [0.20207804]\n",
      " [0.2879621 ]\n",
      " [0.36815162]]\n",
      "[[0.12190027]\n",
      " [0.17370876]\n",
      " [0.24753563]\n",
      " [0.33495506]\n",
      " [0.12190027]]\n"
     ]
    }
   ],
   "source": [
    "pr_2 = powerMethodEps(P_2.T,eps=1e-5)\n",
    "pr_new = powerMethodEps(,eps=1e-5)\n",
    "print(pr_2)\n",
    "print(pr_new)"
   ]
  },
  {
   "cell_type": "markdown",
   "metadata": {},
   "source": [
    "**2.5** Sejam $i_\\max$ e $i_\\min$ os índices dos vértices com maior e menor PageRank de $A_\\textrm{fixed}$. Vamos verificar como a adição de um novo link pode ajudar a promover uma página web (vértice). Adicione uma aresta do vértice $i_\\max$ para o vértice $i_\\min$ (se já houver aresta, aumente de 1 para 2 o elemento da matriz de adjacência). Qual é o novo pagerank de $i_\\min$?"
   ]
  },
  {
   "cell_type": "code",
   "execution_count": 11,
   "metadata": {},
   "outputs": [],
   "source": [
    "ind_sorted = np.argsort(np.squeeze(pr_new))\n",
    "imax = ind_sorted[-1]\n",
    "imin = ind_sorted[0]"
   ]
  },
  {
   "cell_type": "code",
   "execution_count": 12,
   "metadata": {},
   "outputs": [
    {
     "name": "stdout",
     "output_type": "stream",
     "text": [
      "13\n",
      "[[0.1583561 ]\n",
      " [0.17021269]\n",
      " [0.24253671]\n",
      " [0.32596931]\n",
      " [0.10292519]]\n"
     ]
    }
   ],
   "source": [
    "A_fixed2 = A_fixed.copy()\n",
    "\n",
    "P_fixed2 = matrizDeTransicao(A_fixed2,0.85)\n",
    "pr = powerMethodEps(P_fixed2.T,eps=1e-4)\n",
    "print(pr)"
   ]
  },
  {
   "cell_type": "markdown",
   "metadata": {},
   "source": [
    "## Parte 3: Manipulação de matrizes esparsas\n",
    "\n",
    "*Parte do material foi traduzido de http://www.scipy-lectures.org/advanced/scipy_sparse/introduction.html*\n",
    "\n",
    "Nesta parte do TP faremos algumas manipulações simples envolvendo matrizes esparsas.\n",
    "\n",
    "Matrizes (densas) são:\n",
    "* um objeto matemático\n",
    "* uma estrutura de dados usada para armazenar um array de valores 2D\n",
    "\n",
    "Features importantes:\n",
    "* A memória é alocada de uma vez para todos os itens\n",
    "* Provê acesso rápido aos seus itens\n",
    "\n",
    "**Q:** Por que usar matrizes esparsas?\n",
    "\n",
    "**R:** O uso da memória cresce quadraticamente para matrizes densas.\n",
    "\n",
    "Matrizes esparsas e esquemas de armazenamento\n",
    "* Uma matriz esparsa é uma matriz que é quase vazia\n",
    "* Armazenar todos os elementos é um desperdício => é melhor armazenar apenas os elementos não-nulos\n",
    "* Pense em **compressão**\n",
    "* Prós: economia dramática de memória\n",
    "* Contras: dependendo do esquema de armazenamento, o acesso aos itens pode não ser rápido\n",
    "\n",
    "Aplicações típicas:\n",
    "* Solução de equações diferenciais parciais (EDPs)\n",
    "* Teoria dos grafos"
   ]
  },
  {
   "cell_type": "markdown",
   "metadata": {},
   "source": [
    "**3.1** O formato COO (Coordinate Format) é tipicamente usado para inicializar matrizes esparsas. O construtor recebe como entrada um par (**data**, **indices**) onde data é uma lista contendo os elementos não-nulos da matriz e **indices** é um par (**ind_linhas**, **ind_colunas**), onde **ind_linhas** são os índices das linhas e **ind_colunas** são os índices das colunas.\n",
    "\n",
    "Mostre como criar a matriz de adjacência $A_\\textrm{sparse}$ usando o scipy.sparse.coo_matrix. "
   ]
  },
  {
   "cell_type": "code",
   "execution_count": 123,
   "metadata": {},
   "outputs": [],
   "source": [
    "import scipy.sparse\n",
    "\n",
    "data = \n",
    "ind_linhas = \n",
    "ind_colunas = \n",
    "\n",
    "A_sparse = scipy.sparse.coo_matrix((data,(ind_linhas,ind_colunas)))"
   ]
  },
  {
   "cell_type": "markdown",
   "metadata": {},
   "source": [
    "**3.2** Após criarmos uma matriz espasa do tipo COO, ela é tipicamente convertida para o formato CSR (Compressed Sparse Row) ou CSC (Compressed Sparse Column).\n",
    "\n",
    "O código a seguir converte a matriz anterior para o formato CSC. Imprima uma mensagem que explique o que está armazenado em A_sparse.indices."
   ]
  },
  {
   "cell_type": "code",
   "execution_count": 203,
   "metadata": {},
   "outputs": [
    {
     "name": "stdout",
     "output_type": "stream",
     "text": [
      "[3 0 3 0 1 3 1 2]\n",
      "indices...\n"
     ]
    }
   ],
   "source": [
    "A_sparse = scipy.sparse.csc_matrix(A_sparse)\n",
    "print(A_sparse.indices)\n",
    "print('indices[i] corresponde a ...')"
   ]
  },
  {
   "cell_type": "markdown",
   "metadata": {},
   "source": [
    "**3.3** Imprima uma mensagem que explique o que está armazendo em A_sparse.indptr."
   ]
  },
  {
   "cell_type": "code",
   "execution_count": 204,
   "metadata": {},
   "outputs": [
    {
     "name": "stdout",
     "output_type": "stream",
     "text": [
      "[0 1 3 6 8]\n",
      "indptr...\n"
     ]
    }
   ],
   "source": [
    "print(A_sparse.indptr)\n",
    "print('indptr[i] corresponde a ...')"
   ]
  },
  {
   "cell_type": "markdown",
   "metadata": {},
   "source": [
    "**3.4** Implemente o método somaDasLinhas que retorne a soma das linhas ao receber como parâmetros uma matriz esparsa do tipo CSC. Este método deve ter o comportamento semelhante ao de A_sparse.sum(axis=1)."
   ]
  },
  {
   "cell_type": "code",
   "execution_count": 205,
   "metadata": {},
   "outputs": [
    {
     "data": {
      "text/plain": [
       "array([[0, 1, 1, 0],\n",
       "       [0, 0, 1, 1],\n",
       "       [0, 0, 0, 1],\n",
       "       [1, 1, 1, 0]])"
      ]
     },
     "execution_count": 205,
     "metadata": {},
     "output_type": "execute_result"
    }
   ],
   "source": [
    "A"
   ]
  },
  {
   "cell_type": "code",
   "execution_count": 210,
   "metadata": {},
   "outputs": [
    {
     "name": "stdout",
     "output_type": "stream",
     "text": [
      "[2. 2. 1. 3.] [[2]\n",
      " [2]\n",
      " [1]\n",
      " [3]]\n"
     ]
    }
   ],
   "source": [
    "def somaDasLinhas(A):\n",
    "    data = A.data\n",
    "    indices = A.indices\n",
    "    n = len(indices)\n",
    "    soma = np.zeros(len(A.indptr)-1)\n",
    "    for i in range(n):\n",
    "        soma[indices[i]] += data[i] \n",
    "    return soma\n",
    "\n",
    "print(somaDasLinhas(A_sparse),A_sparse.sum(axis=1))"
   ]
  },
  {
   "cell_type": "markdown",
   "metadata": {},
   "source": [
    "**3.5** É um pouco estranho, mas o numpy considera matrix e array 2D como objetos diferentes. Uma forma de converter a matrix $M$ para array 2D é fazer np.asarray(M). Em alguns casos, $M$ é uma matriz linha ou uma matriz coluna e desejamos transformá-la em um array 1D. Para isto, podemos chamar M.A1. Corrija o código abaixo para somar o array $v$ e a soma das linhas de $A_\\textrm{sparse}$."
   ]
  },
  {
   "cell_type": "code",
   "execution_count": 137,
   "metadata": {},
   "outputs": [
    {
     "data": {
      "text/plain": [
       "matrix([[2, 2, 2, 2],\n",
       "        [2, 2, 2, 2],\n",
       "        [1, 1, 1, 1],\n",
       "        [3, 3, 3, 3]])"
      ]
     },
     "execution_count": 137,
     "metadata": {},
     "output_type": "execute_result"
    }
   ],
   "source": [
    "v = np.array([0,0,0,0])\n",
    "somaLinha = A_sparse.sum(axis=1)\n",
    "v + somaLinha"
   ]
  },
  {
   "cell_type": "markdown",
   "metadata": {},
   "source": [
    "## Parte 4: Pagerank esparso em grafos grandes\n",
    "\n",
    "Nesta parte do TP vamos escrever novas versões dos métodos anteriores que façam uso de representações esparsas das matrizes. Desta forma, podemos trabalhar com grafos grandes sem utilizar muita memória. No entanto, é fundamental garantir que as representações esparsas sejam usadas durante todos os passos. Por exemplo, não podemos criar uma matriz diagonal $D$ não-esparsa em nenhum momento.\n",
    "\n",
    "Para testar nossas implementações, vamos representar a matriz de adjacência do grafo $G$ com estruturas esparsas da biblioteca scipy.sparse."
   ]
  },
  {
   "cell_type": "code",
   "execution_count": 219,
   "metadata": {},
   "outputs": [],
   "source": [
    "import scipy.sparse\n",
    "A_sparse = scipy.sparse.csc_matrix(A)"
   ]
  },
  {
   "cell_type": "markdown",
   "metadata": {},
   "source": [
    "### Implementação do cálculo da matriz de transição\n",
    "\n",
    "Nesta parte também iremos considerar saltos aleatórios. Contudo, se somássemos $A_\\textrm{sparse}$ e $\\frac{\\mathbf{1}\\mathbf{1}^\\top}{n}$, teríamos uma matriz densa novamente. Por esta razão, o método matrizDeTransicaoEsparsa que você irá implementar irá apenas normalizar as linhas. Ele não deve receber o parâmetro $\\alpha$.\n",
    "\n",
    "**4.1** Implemente o método matrizDeTransicaoEsparsa(M) que retorna uma cópia de M, onde cada linha é normalizada por sua soma. Você pode assumir que a soma de cada linha é estritamente positiva. Salve  na variável $X$ o resultado retornado ao chamar a função para a matriz A_sparse."
   ]
  },
  {
   "cell_type": "code",
   "execution_count": 220,
   "metadata": {},
   "outputs": [],
   "source": [
    "def matrizDeTransicaoEsparsa(A_sparse):\n",
    "    B = A_sparse.copy()\n",
    "    d = B.sum(axis=1)\n",
    "    B.data = B.data / \n",
    "    return B"
   ]
  },
  {
   "cell_type": "code",
   "execution_count": 221,
   "metadata": {},
   "outputs": [
    {
     "data": {
      "text/plain": [
       "matrix([[0.        , 0.5       , 0.5       , 0.        ],\n",
       "        [0.        , 0.        , 0.5       , 0.5       ],\n",
       "        [0.        , 0.        , 0.        , 1.        ],\n",
       "        [0.33333333, 0.33333333, 0.33333333, 0.        ]])"
      ]
     },
     "execution_count": 221,
     "metadata": {},
     "output_type": "execute_result"
    }
   ],
   "source": [
    "P_sparse = matrizDeTransicaoEsparsa(A_sparse)\n",
    "P_sparse.todense()"
   ]
  },
  {
   "cell_type": "markdown",
   "metadata": {},
   "source": [
    "O método powerMethod fornecido no início TP pode ser aplicado a matrizes esparsas sem problemas, pois a única operação que ele realiza é a multiplicação de uma matriz por um vetor, que retorna um vetor. Portanto, não cria novas matrizes densas.\n",
    "\n",
    "No entanto, iremos criar uma versão nova do método que em vez de executar o método da potência para matriz $M$ recebida como entrada, irá executá-lo para $\\alpha M + (1-\\alpha) \\frac{\\mathbf{1}\\mathbf{1}^\\top}{n}$. O truque para realizar este cálculo sem criar grandes matrizes densas é distribuir a multiplicação:\n",
    "\n",
    "$$\n",
    "\\left(\\alpha M + (1-\\alpha) \\frac{\\mathbf{1}\\mathbf{1}^\\top}{n}\\right)w = \\\\\n",
    "\\alpha M w + (1-\\alpha) \\frac{\\mathbf{1}\\mathbf{1}^\\top}{n} w = \\\\\n",
    "\\alpha M^\\top w + \\frac{1-\\alpha}{n} \\mathbf{1}.\n",
    "$$\n",
    "\n",
    "Como os saltos aleatórios fazem parte do pagerank, chamaremos esta função de pageRankEsparso(M_sparse,niter,alpha).\n",
    "\n",
    "**4.2** Implemente o método pageRankEsparso. Imprima o resultado de pageRankEsparso(X.T, niter=20,alpha=0.85)."
   ]
  },
  {
   "cell_type": "code",
   "execution_count": 141,
   "metadata": {},
   "outputs": [],
   "source": [
    "def pageRankEsparso(A_sparse, niter=10, alpha=0.85):\n",
    "    n = A_sparse.shape[0]\n",
    "    w = np.ones((n,1))/n\n",
    "    for i in range(niter):\n",
    "        w = alpha * () + (1-alpha)/n *    \n",
    "    return w"
   ]
  },
  {
   "cell_type": "code",
   "execution_count": 142,
   "metadata": {},
   "outputs": [
    {
     "data": {
      "text/plain": [
       "array([[0.14180935],\n",
       "       [0.20207835],\n",
       "       [0.28796164],\n",
       "       [0.36815065]])"
      ]
     },
     "execution_count": 142,
     "metadata": {},
     "output_type": "execute_result"
    }
   ],
   "source": [
    "pageRankEsparso(X.T, niter=20)"
   ]
  },
  {
   "cell_type": "markdown",
   "metadata": {},
   "source": [
    "**4.3** Vamos redefinir o método matrizDeTransicaoEsparsa para que ele não lançe uma exceção ao processar linhas cuja soma é igual a zero. Caso a soma da linha seja 0, a linha não deve ser alterada. Dica: Você pode calcular o vetor $d$ contendo a soma das linhas fazendo A_sparse.sum(axis=1) e substituir as entradas nulas de $d$ por qualquer constante. Porém, antes de usar $d$ para normalizar $A$, é preciso trasformá-lo em um numpy array fazendo d = d.A1\n",
    "\n",
    "Imprima o resultado para $A_\\textrm{new}$. Lembre-se de que você deve converter $A_\\textrm{new}$ para o formato esparso $A_\\textrm{new_sparse}$ primeiro."
   ]
  },
  {
   "cell_type": "code",
   "execution_count": 187,
   "metadata": {},
   "outputs": [],
   "source": [
    "def matrizDeTransicaoEsparsa(A_sparse):\n",
    "    B = A_sparse.copy()\n",
    "    d = B.sum(axis=1)\n",
    "\n",
    "    B.data = B.data / \n",
    "    return B\n",
    "\n"
   ]
  },
  {
   "cell_type": "markdown",
   "metadata": {},
   "source": [
    "**4.4** Vamos redefinir o método pageRankEsparso para que ele faça um tratamento especial das colunas cuja soma é zero. Note que as colunas nulas em $M$ correspondem aos *dangling nodes*. Para estes vértices, os saltos aleatórios totalizam 100% da probabilidade de transição e não apenas $1-\\alpha$. Considere o seguinte exemplo **que deve ser generalizado** pelo método que você irá implementar.\n",
    "\n",
    "Suponha que o segundo vértice é um *dangling node*. Neste caso, no lugar da matriz\n",
    "\n",
    "$$\n",
    "(1-\\alpha) \\frac{\\mathbf{1}\\mathbf{1}^\\top}{n} =\n",
    "\\begin{pmatrix}\n",
    "\\frac{1-\\alpha}{n} & \\frac{1-\\alpha}{n}& \\frac{1-\\alpha}{n} & \\ldots & \\frac{1-\\alpha}{n} \\\\\n",
    "\\frac{1-\\alpha}{n} & \\frac{1-\\alpha}{n}& \\frac{1-\\alpha}{n} & \\ldots & \\frac{1-\\alpha}{n} \\\\\n",
    "\\vdots & \\vdots & \\vdots & \\ddots & \\vdots \\\\\n",
    "\\frac{1-\\alpha}{n} & \\frac{1-\\alpha}{n}& \\frac{1-\\alpha}{n} & \\ldots & \\frac{1-\\alpha}{n} \\\\\n",
    "\\end{pmatrix}\n",
    "$$\n",
    "\n",
    "deve ser utilizada a matriz\n",
    "\n",
    "$$\n",
    "R = \n",
    "\\begin{pmatrix}\n",
    "\\frac{1-\\alpha}{n} & \\frac{1}{n}& \\frac{1-\\alpha}{n} & \\ldots & \\frac{1-\\alpha}{n} \\\\\n",
    "\\frac{1-\\alpha}{n} & \\frac{1}{n}& \\frac{1-\\alpha}{n} & \\ldots & \\frac{1-\\alpha}{n} \\\\\n",
    "\\vdots & \\vdots & \\vdots & \\ddots & \\vdots \\\\\n",
    "\\frac{1-\\alpha}{n} & \\frac{1}{n}& \\frac{1-\\alpha}{n} & \\ldots & \\frac{1-\\alpha}{n} \\\\\n",
    "\\end{pmatrix} = \n",
    "(1-\\alpha) \\frac{\\mathbf{1}\\mathbf{1}^\\top}{n} +\n",
    "\\begin{pmatrix}\n",
    "0 & \\frac{\\alpha}{n}& 0 & \\ldots & 0 \\\\\n",
    "0 & \\frac{\\alpha}{n}& 0 & \\ldots & 0 \\\\\n",
    "\\vdots & \\vdots & \\vdots & \\ddots & \\vdots \\\\\n",
    "0 & \\frac{\\alpha}{n}& 0 & \\ldots & 0 \\\\\n",
    "\\end{pmatrix}\n",
    "$$\n",
    "\n",
    "Note que\n",
    "$$Rw = (1-\\alpha) \\frac{\\mathbf{1}\\mathbf{1}^\\top}{n} w + \\frac{\\alpha w_2}{n} \\mathbf{1}.\n",
    "$$\n",
    "\n",
    "Imprima o resultado de pageRankEsparso para a matriz $A_\\textrm{new_sparse}$. Lembre-se de que você precisa obter a matriz de transição $P_\\textrm{new_sparse}$ a partir de $A_\\textrm{new_sparse}$."
   ]
  },
  {
   "cell_type": "code",
   "execution_count": 118,
   "metadata": {},
   "outputs": [],
   "source": [
    "def pageRankEsparso(A_sparse, niter=10, alpha=0.85):\n",
    "    n = A_sparse.shape[0]\n",
    "    d = A_sparse.sum(axis=0).A1\n",
    "    \n",
    "    w = np.ones((n,1))/n\n",
    "    for i in range(niter):\n",
    "        w = alpha * () +  + \n",
    "    return w"
   ]
  },
  {
   "cell_type": "code",
   "execution_count": 119,
   "metadata": {},
   "outputs": [
    {
     "data": {
      "text/plain": [
       "array([[0.12189213],\n",
       "       [0.17370957],\n",
       "       [0.24754394],\n",
       "       [0.33496224],\n",
       "       [0.12189213]])"
      ]
     },
     "execution_count": 119,
     "metadata": {},
     "output_type": "execute_result"
    }
   ],
   "source": [
    "pageRankEsparso(P_new_sparse.T,niter=10)"
   ]
  },
  {
   "cell_type": "markdown",
   "metadata": {},
   "source": [
    "**4.5** Execute o método pageRankEsparso para a matriz de adjacências do Wikipedia em Português, obtida através do notebook DecomposicaoEspectral. Retorne o título da página com maior pagerank. Atenção: o código abaixo assume que a matriz de adjacência $A$ foi salva no arquivo 'data/dbpedia/A.pkl' em formato CSC."
   ]
  },
  {
   "cell_type": "code",
   "execution_count": 152,
   "metadata": {},
   "outputs": [],
   "source": [
    "import pickle\n",
    "\n",
    "PATH = 'data/dbpedia/'\n",
    "A_wiki = pickle.load(open(PATH+'A.pkl', 'rb'))\n",
    "index_map = pickle.load(open(PATH+'index_map.pkl', 'rb'))\n",
    "\n",
    "names = {i: name for name, i in index_map.items()}"
   ]
  },
  {
   "cell_type": "code",
   "execution_count": 201,
   "metadata": {},
   "outputs": [],
   "source": [
    "def show_ex(v):\n",
    "    print('\\n'.join(names[i] for i in np.abs(v.squeeze()).argsort()[-1:-20:-1]))"
   ]
  },
  {
   "cell_type": "code",
   "execution_count": 195,
   "metadata": {},
   "outputs": [],
   "source": [
    "= matrizDeTransicaoEsparsa(A_wiki)\n",
    "pr_wiki = pageRankEsparso(,niter=20,alpha=0.85)"
   ]
  },
  {
   "cell_type": "code",
   "execution_count": 202,
   "metadata": {},
   "outputs": [
    {
     "name": "stdout",
     "output_type": "stream",
     "text": [
      "Anexo:Lista_de_asteroides\n",
      "Brasil\n",
      "Estados_Unidos\n",
      "Quil\\u00F3metro_quadrado\n",
      "Densidade_populacional\n",
      "Cintura_de_asteroides\n",
      "Wikip\\u00E9dia:Artigo_sobre_evento_futuro\n",
      "Portugal\n",
      "Ficheiro:Small-city-symbol.svg\n",
      "Categoria:Desambigua\\u00E7\\u00E3o\n",
      "Animalia\n",
      "Censo_demogr\\u00E1fico\n",
      "Fran\\u00E7a\n",
      "Alemanha\n",
      "Regi\\u00F5es_da_Fran\\u00E7a\n",
      "Comuna_francesa\n",
      "Departamentos_da_Fran\\u00E7a\n",
      "Plantae\n",
      "Asteroide\n"
     ]
    }
   ],
   "source": [
    "show_ex(pr_wiki)"
   ]
  }
 ],
 "metadata": {
  "kernelspec": {
   "display_name": "Python 3",
   "language": "python",
   "name": "python3"
  },
  "language_info": {
   "codemirror_mode": {
    "name": "ipython",
    "version": 3
   },
   "file_extension": ".py",
   "mimetype": "text/x-python",
   "name": "python",
   "nbconvert_exporter": "python",
   "pygments_lexer": "ipython3",
   "version": "3.5.4"
  }
 },
 "nbformat": 4,
 "nbformat_minor": 2
}
