{
 "cells": [
  {
   "cell_type": "markdown",
   "metadata": {},
   "source": [
    "# Funções Lineares nos Parâmetros (Regressão Linear)\n",
    "\n",
    "Na aula anterior, falamos sobre o problema de ajustar uma função (curva) a um conjunto de pontos $(x_1,y_1), \\ldots, (x_n,y_n)$. Diferente do problema de interpolação, as funções que iremos considerar podem não interpolar os pontos, isto é, passar exatamente por eles. Por essa razão, foi necessário definir medidas da qualidade do ajuste.\n",
    "\n",
    "## Qualidade do Ajuste\n",
    "\n",
    "Falamos sobre três medidas:\n",
    "\n",
    "1. Erro máximo\n",
    "$$E_\\infty(f) = \\max_{i=1\\,\\ldots,n} |f(x_i) - y_i|$$\n",
    "\n",
    "2. Erro médio (ou erro $L_1$)\n",
    "$$E_1(f) = \\frac{1}{n} \\sum_{i=1}^n |f(x_i) - y_i|$$\n",
    "\n",
    "3. Raiz do erro médio quadrático (ou erro $L_2$)\n",
    "$$E_2(f) = \\sqrt{\\frac{1}{n} \\sum_{i=1}^n (f(x_i) - y_i)^2}$$\n",
    "\n",
    "Ranqueando as métricas de qualidade em ordem crescente segundo à sensiblidade à *outliers*, vimos que\n",
    "$$\n",
    "E_1 \\prec E_2 \\prec E_\\infty. \n",
    "$$\n",
    "Vimos também que $E_2(f)$ é mais fácil de ser minimizada que $E_1(f)$. A minimização de $E_2(f)$, ou mais especificamente de $\\sum_{i=1}^n (f(x_i) - y_i)^2$ dá origem ao método dos quadrados mínimos.\n",
    "\n",
    "## Método dos quadrados mínimos\n",
    "\n",
    "Foi desenvolvido no quadro."
   ]
  },
  {
   "cell_type": "markdown",
   "metadata": {},
   "source": [
    "Hoje vamos estudar um caso específico de ajuste de curva que acontece quando a função é linear nos parâmetros. O problema de ajuste, neste caso, é chamado de **Regressão Linear**.\n",
    "\n",
    "## Exemplos de Regressão Linear\n",
    "\n",
    "* Regressão Linear...\n",
    "$$\n",
    "f(x) = \\beta_0 + \\beta_1 x\n",
    "$$\n",
    "\n",
    "*  Regressão Linear...\n",
    "$$\n",
    "f(x) = ax + b \\textrm{sen}(x)\n",
    "$$\n",
    "\n",
    "*  Regressão Linear...\n",
    "$$\n",
    "f(x) = \\beta_0 + \\beta_1 x + \\beta_2 x^2 + \\ldots \\beta_p x^p\n",
    "$$"
   ]
  },
  {
   "cell_type": "markdown",
   "metadata": {},
   "source": [
    "## Regressão Linear Simples\n",
    "\n",
    "Deduzimos na aula anterior:\n",
    "\n",
    "$$\n",
    "\\begin{bmatrix}\n",
    "n & \\sum x_i \\\\\n",
    "\\sum x_i & \\sum x_i ^2\n",
    "\\end{bmatrix}\n",
    "\\beta\n",
    "= \n",
    "\\begin{bmatrix}\n",
    "\\sum y_i \\\\\n",
    "\\sum y_i x_i\n",
    "\\end{bmatrix}\n",
    "$$\n",
    "\n",
    "Resolvendo-se o sistema acima, temos:\n",
    "\n",
    "$$\n",
    "\\beta_1 = \\frac{\\sum x_i \\sum y_i -n \\sum x_i y_i}{\\left(\\sum x_i\\right)^2 -n \\sum x_i^2}\n",
    " \\quad \\textrm{e} \\quad\n",
    "\\beta_0 = \\frac{\\sum y_i - b_1 \\sum x_i}{n}.\n",
    "$$\n",
    "\n",
    "Considere o exemplo a seguir."
   ]
  },
  {
   "cell_type": "code",
   "execution_count": 3,
   "metadata": {},
   "outputs": [
    {
     "data": {
      "text/plain": [
       "array([[  0.3 ,   1.8 ,   0.09,   0.54,   3.24],\n",
       "       [  2.7 ,   1.9 ,   7.29,   5.13,   3.61],\n",
       "       [  4.5 ,   3.1 ,  20.25,  13.95,   9.61],\n",
       "       [  5.9 ,   3.9 ,  34.81,  23.01,  15.21],\n",
       "       [  7.8 ,   3.3 ,  60.84,  25.74,  10.89]])"
      ]
     },
     "execution_count": 3,
     "metadata": {},
     "output_type": "execute_result"
    }
   ],
   "source": [
    "import numpy as np\n",
    "\n",
    "x = np.array([0.3,2.7,4.5,5.9,7.8])\n",
    "y = np.array([1.8,1.9,3.1,3.9,3.3])\n",
    "\n",
    "M = np.vstack([x,y,x**2,x*y,y**2]).T\n",
    "M"
   ]
  },
  {
   "cell_type": "code",
   "execution_count": null,
   "metadata": {
    "collapsed": true
   },
   "outputs": [],
   "source": []
  }
 ],
 "metadata": {
  "kernelspec": {
   "display_name": "Python 2",
   "language": "python",
   "name": "python2"
  },
  "language_info": {
   "codemirror_mode": {
    "name": "ipython",
    "version": 2
   },
   "file_extension": ".py",
   "mimetype": "text/x-python",
   "name": "python",
   "nbconvert_exporter": "python",
   "pygments_lexer": "ipython2",
   "version": "2.7.13"
  }
 },
 "nbformat": 4,
 "nbformat_minor": 2
}
