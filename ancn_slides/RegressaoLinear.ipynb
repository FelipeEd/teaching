{
 "cells": [
  {
   "cell_type": "markdown",
   "metadata": {},
   "source": [
    "# Funções Lineares nos Parâmetros (Regressão Linear)\n",
    "\n",
    "Na aula anterior, falamos sobre o problema de ajustar uma função (curva) a um conjunto de pontos $(x_1,y_1), \\ldots, (x_n,y_n)$.\n",
    "\n",
    "Nomeclatura:\n",
    "* $y$ é chamada **resposta** ou **variável dependente**,\n",
    "* $x$ é chamado **preditor** ou **variável independente**.\n",
    "\n",
    "Diferente do problema de interpolação, as funções que iremos considerar podem não interpolar os pontos, isto é, passar exatamente por eles. Por essa razão, foi necessário definir medidas da qualidade do ajuste.\n",
    "\n",
    "## Qualidade do Ajuste\n",
    "\n",
    "Falamos sobre três medidas:\n",
    "\n",
    "1. Erro máximo\n",
    "$$E_\\infty(f) = \\max_{i=1\\,\\ldots,n} |f(x_i) - y_i|$$\n",
    "\n",
    "2. Erro médio (ou erro $L_1$)\n",
    "$$E_1(f) = \\frac{1}{n} \\sum_{i=1}^n |f(x_i) - y_i|$$\n",
    "\n",
    "3. Raiz do erro médio quadrático (ou erro $L_2$)\n",
    "$$E_2(f) = \\sqrt{\\frac{1}{n} \\sum_{i=1}^n (f(x_i) - y_i)^2}$$\n",
    "\n",
    "Ranqueando as métricas de qualidade em ordem crescente segundo à sensiblidade à *outliers*, vimos que\n",
    "$$\n",
    "E_1 \\prec E_2 \\prec E_\\infty. \n",
    "$$\n",
    "Vimos também que $E_2(f)$ é mais fácil de ser minimizada que $E_1(f)$. A minimização de $E_2(f)$, ou mais especificamente de $D(\\beta) = \\sum_{i=1}^n (f(x_i) - y_i)^2$ dá origem ao método dos quadrados mínimos.\n",
    "\n",
    "## Método dos quadrados mínimos\n",
    "\n",
    "Foi desenvolvido no quadro."
   ]
  },
  {
   "cell_type": "markdown",
   "metadata": {},
   "source": [
    "Hoje vamos estudar um caso específico de ajuste de curva que acontece quando a função é linear nos parâmetros. O problema de ajuste, neste caso, é chamado de **Regressão Linear**.\n",
    "\n",
    "## Exemplos de Regressão Linear\n",
    "\n",
    "* Regressão Linear...\n",
    "$$\n",
    "f(x) = \\beta_0 + \\beta_1 x\n",
    "$$\n",
    "\n",
    "*  Regressão Linear...\n",
    "$$\n",
    "f(x) = \\beta_0 x + \\beta_1 \\textrm{sen}(x)\n",
    "$$\n",
    "\n",
    "*  Regressão Linear...\n",
    "$$\n",
    "f(x) = \\beta_0 + \\beta_1 x + \\beta_2 x^2 + \\ldots \\beta_p x^p\n",
    "$$"
   ]
  },
  {
   "cell_type": "markdown",
   "metadata": {},
   "source": [
    "## Regressão Linear Simples\n",
    "\n",
    "Deduzimos na aula anterior:\n",
    "\n",
    "$$\n",
    "\\begin{bmatrix}\n",
    "n & \\sum x_i \\\\\n",
    "\\sum x_i & \\sum x_i ^2\n",
    "\\end{bmatrix}\n",
    "\\beta\n",
    "= \n",
    "\\begin{bmatrix}\n",
    "\\sum y_i \\\\\n",
    "\\sum y_i x_i\n",
    "\\end{bmatrix}\n",
    "$$\n",
    "\n",
    "Resolvendo-se o sistema acima, temos:\n",
    "\n",
    "$$\n",
    "\\beta_1 = \\frac{\\sum x_i \\sum y_i -n \\sum x_i y_i}{\\left(\\sum x_i\\right)^2 -n \\sum x_i^2}\n",
    " \\quad \\textrm{e} \\quad\n",
    "\\beta_0 = \\frac{\\sum y_i - \\beta_1 \\sum x_i}{n}.\n",
    "$$\n",
    "\n",
    "Considere o exemplo a seguir."
   ]
  },
  {
   "cell_type": "code",
   "execution_count": 1,
   "metadata": {},
   "outputs": [
    {
     "data": {
      "text/plain": [
       "array([[ 0.3 ,  1.8 ,  0.09,  0.54],\n",
       "       [ 2.7 ,  1.9 ,  7.29,  5.13],\n",
       "       [ 4.5 ,  3.1 , 20.25, 13.95],\n",
       "       [ 5.9 ,  3.9 , 34.81, 23.01],\n",
       "       [ 7.8 ,  3.3 , 60.84, 25.74]])"
      ]
     },
     "execution_count": 1,
     "metadata": {},
     "output_type": "execute_result"
    }
   ],
   "source": [
    "import numpy as np\n",
    "\n",
    "x = np.array([0.3,2.7,4.5,5.9,7.8])\n",
    "y = np.array([1.8,1.9,3.1,3.9,3.3])\n",
    "\n",
    "M = np.vstack([x,y,x**2,x*y]).T\n",
    "M"
   ]
  },
  {
   "cell_type": "code",
   "execution_count": 3,
   "metadata": {},
   "outputs": [
    {
     "data": {
      "text/plain": [
       "array([ 21.2 ,  14.  , 123.28,  68.37])"
      ]
     },
     "execution_count": 3,
     "metadata": {},
     "output_type": "execute_result"
    }
   ],
   "source": [
    "M.sum(axis=0)"
   ]
  },
  {
   "cell_type": "code",
   "execution_count": 5,
   "metadata": {},
   "outputs": [
    {
     "name": "stdout",
     "output_type": "stream",
     "text": [
      "1.6559415428845228 0.26982510781025404\n"
     ]
    }
   ],
   "source": [
    "n = len(x)\n",
    "beta1 = ()/()\n",
    "beta0 = ()/\n",
    "print(beta0,beta1)"
   ]
  },
  {
   "cell_type": "markdown",
   "metadata": {},
   "source": [
    "**Retornar ao exemplo de y=ax+b com erros de medição. **"
   ]
  },
  {
   "cell_type": "markdown",
   "metadata": {},
   "source": [
    "### Um exemplo mais realístico\n",
    "\n",
    "Imagine que a gente queira estudar a relação entre a latitude de uma região e a mortalidade por câncer de pele. Sabe-se que quanto menor a latitude (mais próximo do Equador), maior a incidência de raios solares.  \n",
    "\n",
    "Será que a latitude é um bom preditor para a mortalidade por câncer de pele?\n",
    "\n",
    "Vamos usar o conjunto de dados desse link:\n",
    "\n",
    "https://onlinecourses.science.psu.edu/stat501/sites/onlinecourses.science.psu.edu.stat501/files/data/skincancer.txt"
   ]
  },
  {
   "cell_type": "code",
   "execution_count": 10,
   "metadata": {},
   "outputs": [],
   "source": [
    "import pandas as pd\n",
    "df = pd.read_table('skincancer.txt',sep='\\s+')"
   ]
  },
  {
   "cell_type": "markdown",
   "metadata": {},
   "source": [
    "## Diagrama de dispersão (scatter plot)\n",
    "\n",
    "Gráfico que mostra a natureza da relação intrínseca entre duas variáveis estudadas."
   ]
  },
  {
   "cell_type": "code",
   "execution_count": 47,
   "metadata": {},
   "outputs": [
    {
     "data": {
      "text/plain": [
       "<matplotlib.axes._subplots.AxesSubplot at 0x109af9da0>"
      ]
     },
     "execution_count": 47,
     "metadata": {},
     "output_type": "execute_result"
    },
    {
     "data": {
      "image/png": "[encoded data removed]",
      "text/plain": [
       "<Figure size 432x288 with 1 Axes>"
      ]
     },
     "metadata": {},
     "output_type": "display_data"
    }
   ],
   "source": [
    "import matplotlib.pyplot as plt\n",
    "%matplotlib inline\n",
    "df.plot.scatter('Lat','Mort')"
   ]
  },
  {
   "cell_type": "code",
   "execution_count": 48,
   "metadata": {},
   "outputs": [
    {
     "name": "stdout",
     "output_type": "stream",
     "text": [
      "[[4.900000e+01 1.937100e+03]\n",
      " [1.937100e+03 7.759919e+04]]\n",
      "[[  7491.]\n",
      " [290039.]]\n"
     ]
    }
   ],
   "source": [
    "x = df.Lat\n",
    "y = df.Mort\n",
    "\n",
    "n = len(x)\n",
    "XtX = np.array([[n, x.sum()],[x.sum(), (x**2).sum()]])\n",
    "XtY = np.array([[y.sum()],[(x*y).sum()]])\n",
    "print(XtX)\n",
    "print(XtY)"
   ]
  },
  {
   "cell_type": "code",
   "execution_count": 49,
   "metadata": {},
   "outputs": [
    {
     "data": {
      "text/plain": [
       "array([[389.18935103],\n",
       "       [ -5.97763574]])"
      ]
     },
     "execution_count": 49,
     "metadata": {},
     "output_type": "execute_result"
    }
   ],
   "source": [
    "beta = np.linalg.solve(XtX,XtY)\n",
    "beta"
   ]
  },
  {
   "cell_type": "code",
   "execution_count": 50,
   "metadata": {},
   "outputs": [
    {
     "data": {
      "text/plain": [
       "Text(0,0.5,'Mortalidade Câncer de Pele')"
      ]
     },
     "execution_count": 50,
     "metadata": {},
     "output_type": "execute_result"
    },
    {
     "data": {
      "image/png": "[encoded data removed]",
      "text/plain": [
       "<Figure size 432x288 with 1 Axes>"
      ]
     },
     "metadata": {},
     "output_type": "display_data"
    }
   ],
   "source": [
    "x_intervalo = np.array([x.min(),x.max()])\n",
    "yhat = beta[0] + beta[1]*x_intervalo\n",
    "df.plot.scatter('Lat','Mort')\n",
    "plt.plot(x_intervalo,yhat,'b--',label='reg. linear')\n",
    "plt.xlabel('Latitude')\n",
    "plt.ylabel('Mortalidade Câncer de Pele')"
   ]
  },
  {
   "cell_type": "markdown",
   "metadata": {},
   "source": [
    "## Regressão linear múltipla\n",
    "\n",
    "Em alguns casos, possuímos mais de um preditor (variável independente). No caso de\n",
    "\n",
    "$$f(x) = \\beta_0 x + \\beta_1 \\textrm{sen(x)},$$\n",
    "\n",
    "$x$ e $\\textrm{sen(x)}$ são preditores.\n",
    "\n",
    "Um outro exemplo de regressão linear múltipla pode ser obtido a partir do conjunto de dados do câncer de pele:\n",
    "\n",
    "$$\n",
    "f(x) = \\beta_0 + \\beta_1 \\textrm{Lat}(x) + \\beta_2 \\textrm{Ocean}(x)\n",
    "$$\n",
    "\n",
    "Vamos fazer o ajuste da função usando o método dos quadrados mínimos.\n",
    "\n",
    "FEITO NO QUADRO."
   ]
  },
  {
   "cell_type": "code",
   "execution_count": 51,
   "metadata": {},
   "outputs": [
    {
     "data": {
      "text/plain": [
       "array([360.69047381,  -5.4887734 ,  20.43044214])"
      ]
     },
     "execution_count": 51,
     "metadata": {},
     "output_type": "execute_result"
    }
   ],
   "source": [
    "x1 = df.Lat\n",
    "x2 = df.Ocean\n",
    "\n",
    "XtX = np.array([[n, x1.sum(), x2.sum()],\n",
    "                [x1.sum(), (x1*x1).sum(), (x1*x2).sum()],\n",
    "                [x2.sum(), (x1*x2).sum(), (x2*x2).sum()]])\n",
    "XtY = np.array([y.sum(), (y*x1).sum(), (y*x2).sum()])\n",
    "beta = np.linalg.solve(XtX,XtY)\n",
    "beta"
   ]
  },
  {
   "cell_type": "code",
   "execution_count": 52,
   "metadata": {},
   "outputs": [],
   "source": [
    "yhat2 = beta[0] + beta[1]*x1 + beta[2]*x2\n",
    "color=pd.Series(['Blue']*n)\n",
    "color[df.Ocean==0] = 'Orange'\n"
   ]
  },
  {
   "cell_type": "code",
   "execution_count": 53,
   "metadata": {},
   "outputs": [
    {
     "data": {
      "text/plain": [
       "Text(0,0.5,'Mortalidade Câncer de Pele')"
      ]
     },
     "execution_count": 53,
     "metadata": {},
     "output_type": "execute_result"
    },
    {
     "data": {
      "image/png": "[encoded data removed]",
      "text/plain": [
       "<Figure size 432x288 with 1 Axes>"
      ]
     },
     "metadata": {},
     "output_type": "display_data"
    }
   ],
   "source": [
    "df.plot.scatter('Lat','Mort',c=color)\n",
    "plt.plot(x_intervalo,yhat,'b--',label='reg. linear simples')\n",
    "plt.plot(x1,yhat2,'ro',label='reg. linear múltipla')\n",
    "plt.xlabel('Latitude')\n",
    "plt.ylabel('Mortalidade Câncer de Pele')"
   ]
  },
  {
   "cell_type": "markdown",
   "metadata": {},
   "source": [
    "Vejamos mais um exemplo. \n",
    "\n",
    "http://lib.stat.cmu.edu/DASL/Datafiles/Cereals.html"
   ]
  },
  {
   "cell_type": "code",
   "execution_count": 54,
   "metadata": {},
   "outputs": [],
   "source": [
    "df2 = pd.read_table('cereal.txt',sep='\\s+')\n"
   ]
  },
  {
   "cell_type": "code",
   "execution_count": 60,
   "metadata": {},
   "outputs": [
    {
     "data": {
      "text/plain": [
       "<matplotlib.axes._subplots.AxesSubplot at 0x1094755f8>"
      ]
     },
     "execution_count": 60,
     "metadata": {},
     "output_type": "execute_result"
    },
    {
     "data": {
      "image/png": "[encoded data removed]",
      "text/plain": [
       "<Figure size 432x288 with 1 Axes>"
      ]
     },
     "metadata": {},
     "output_type": "display_data"
    }
   ],
   "source": [
    "df2.plot.scatter('fat','rating')"
   ]
  },
  {
   "cell_type": "code",
   "execution_count": 62,
   "metadata": {},
   "outputs": [
    {
     "data": {
      "text/plain": [
       "array([61.0886002 , -3.06577983, -2.21281821])"
      ]
     },
     "execution_count": 62,
     "metadata": {},
     "output_type": "execute_result"
    }
   ],
   "source": [
    "x1 = df2.fat\n",
    "x2 = df2.sugars\n",
    "y = df2.rating\n",
    "n = len(x1)\n",
    "\n",
    "XtX = np.array([[n, x1.sum(), x2.sum()],\n",
    "                [x1.sum(), (x1*x1).sum(), (x1*x2).sum()],\n",
    "                [x2.sum(), (x1*x2).sum(), (x2*x2).sum()]])\n",
    "XtY = np.array([y.sum(), (y*x1).sum(), (y*x2).sum()])\n",
    "beta = np.linalg.solve(XtX,XtY)\n",
    "beta"
   ]
  },
  {
   "cell_type": "markdown",
   "metadata": {},
   "source": [
    "**Q:** Quantas operações são necessárias para montar o sistema linear?"
   ]
  },
  {
   "cell_type": "markdown",
   "metadata": {},
   "source": [
    "## Regressão Polinomial\n",
    "\n",
    "A regressão polinomial é um caso específico de regressão linear múltipla, onde a função considerada é um polinômio:\n",
    "\n",
    "$$\n",
    "f(x) = \\beta_0 + \\beta_1 x + \\beta_2 x^2 + \\ldots + \\beta_p x^p\n",
    "$$\n",
    "\n",
    "**Q**: Isto é uma regressão linear?\n",
    "\n",
    "Quais equações devem ser satisfeitas para encontrarmos os $\\beta$s?\n",
    "\n",
    "FEITO NO QUADRO.\n",
    "\n",
    "**Q**: Qual a diferença da *regressão polinomial* e da *interpolação polinomial*?"
   ]
  },
  {
   "cell_type": "code",
   "execution_count": null,
   "metadata": {},
   "outputs": [],
   "source": []
  }
 ],
 "metadata": {
  "kernelspec": {
   "display_name": "Python 3",
   "language": "python",
   "name": "python3"
  },
  "language_info": {
   "codemirror_mode": {
    "name": "ipython",
    "version": 3
   },
   "file_extension": ".py",
   "mimetype": "text/x-python",
   "name": "python",
   "nbconvert_exporter": "python",
   "pygments_lexer": "ipython3",
   "version": "3.5.4"
  }
 },
 "nbformat": 4,
 "nbformat_minor": 2
}
