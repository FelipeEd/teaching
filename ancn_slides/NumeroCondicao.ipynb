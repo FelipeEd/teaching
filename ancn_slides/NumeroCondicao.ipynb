{
 "cells": [
  {
   "cell_type": "raw",
   "metadata": {},
   "source": [
    "<style type=\"text/css\">\n",
    ".reveal {\n",
    "font-size: 200%;\n",
    "}</style>"
   ]
  },
  {
   "cell_type": "markdown",
   "metadata": {
    "slideshow": {
     "slide_type": "slide"
    }
   },
   "source": [
    "# Normas e número de condição\n",
    "\n",
    "*Créditos: os exemplos deste notebook foram retirados de Campos Filho, Frederico Ferreira, Algoritmos Numéricos 2a. edição, LTC.*\n",
    "\n",
    "Vimos anteriormente que:\n",
    " * Nem sempre é possível representar números de forma exata. Isso pode acontecer mesmo na hora de representar $A$ e $b$, quando se deseja resolver um sistema linear $Ax=b$.\n",
    " * Erros de arredondamento podem acontecer durante as operações realizadas por um método de fatoração ou de solução."
   ]
  },
  {
   "cell_type": "markdown",
   "metadata": {
    "slideshow": {
     "slide_type": "subslide"
    }
   },
   "source": [
    "Muitos desses sistemas lineares são construídos a partir de medições. Por exemplo: medição da corrente passando por pontos de um circuito, temperatura, umidade, etc. Essas medições normalmente possuem um erro, que pode ser visto como uma perturbação nos valores exatos de $A$ ou $b$. Estas perturbações são uma terceira causa para erros na solução encontrada."
   ]
  },
  {
   "cell_type": "markdown",
   "metadata": {
    "slideshow": {
     "slide_type": "slide"
    }
   },
   "source": [
    "## Como é que perturbações em A e b afetam a solução encontrada?\n",
    "\n",
    "Considere o exemplo a seguir:"
   ]
  },
  {
   "cell_type": "code",
   "execution_count": 38,
   "metadata": {},
   "outputs": [
    {
     "name": "stdout",
     "output_type": "stream",
     "text": [
      "[1. 1.]\n"
     ]
    }
   ],
   "source": [
    "import numpy as np\n",
    "\n",
    "A = np.array([[1,0.99],[0.99,0.98]])\n",
    "b = np.array([1.99,1.97])\n",
    "\n",
    "x = np.linalg.solve(A,b)\n",
    "print(x)"
   ]
  },
  {
   "cell_type": "markdown",
   "metadata": {},
   "source": [
    "Agora iremos aplicar uma pequena perturbação no vetor $b$ e obter $\\tilde{b}$:"
   ]
  },
  {
   "cell_type": "code",
   "execution_count": 2,
   "metadata": {},
   "outputs": [
    {
     "data": {
      "text/plain": [
       "array([100., -99.])"
      ]
     },
     "execution_count": 2,
     "metadata": {},
     "output_type": "execute_result"
    }
   ],
   "source": [
    "b_til = b + np.array([0.,0.01])\n",
    "np.linalg.solve(A,b_til)"
   ]
  },
  {
   "cell_type": "markdown",
   "metadata": {},
   "source": [
    "E se aplicarmos uma perturbação à matrix $A$?"
   ]
  },
  {
   "cell_type": "code",
   "execution_count": 6,
   "metadata": {},
   "outputs": [
    {
     "data": {
      "text/plain": [
       "array([ 2.        , -0.01010101])"
      ]
     },
     "execution_count": 6,
     "metadata": {},
     "output_type": "execute_result"
    }
   ],
   "source": [
    "A_til = A.copy()\n",
    "A_til[1,1] += 0.01\n",
    "\n",
    "np.linalg.solve(A_til,b)"
   ]
  },
  {
   "cell_type": "markdown",
   "metadata": {},
   "source": [
    "A solução de $Ax = b$ é muito diferente das soluções de $Ax = \\tilde{b}$ e de $\\tilde{A}x = b$. Por quê? "
   ]
  },
  {
   "cell_type": "markdown",
   "metadata": {},
   "source": [
    "**Nota:** O sistema $Ax=b$ é um exemplo de sistema malcondiconado. Quando o sistema é malcondicionado, o resíduo não é um bom indicador da precisão da solução. Isto porque uma solução precisa ou exata para o sistema incorreto (resíduo pequeno) pode estar muito distante da solução exata para o sistema correto."
   ]
  },
  {
   "cell_type": "markdown",
   "metadata": {},
   "source": [
    "**Q**: Será que malcondiconamento a ver com o determinante de $A$?"
   ]
  },
  {
   "cell_type": "code",
   "execution_count": 7,
   "metadata": {},
   "outputs": [
    {
     "data": {
      "text/plain": [
       "-0.00010000000000000026"
      ]
     },
     "execution_count": 7,
     "metadata": {},
     "output_type": "execute_result"
    }
   ],
   "source": [
    "np.linalg.det(A)"
   ]
  },
  {
   "cell_type": "markdown",
   "metadata": {},
   "source": [
    "**R**: Não. Contra-exemplo:"
   ]
  },
  {
   "cell_type": "code",
   "execution_count": 28,
   "metadata": {},
   "outputs": [
    {
     "data": {
      "text/plain": [
       "2.000000000000001e-06"
      ]
     },
     "execution_count": 28,
     "metadata": {},
     "output_type": "execute_result"
    }
   ],
   "source": [
    "B = np.array([[1e-3,1e-3],[-1e-3,1e-3]])\n",
    "np.linalg.det(B)"
   ]
  },
  {
   "cell_type": "markdown",
   "metadata": {},
   "source": [
    "Embora o determinante de $B$ seja pequeno, a matriz é muito bem condicionada. Seu determinante é pequeno porque seus elementos são pequenos."
   ]
  },
  {
   "cell_type": "markdown",
   "metadata": {},
   "source": [
    "Na verdade, o malcondicionamento é medido pelo número de condição $\\kappa$ (às vezes denotado por $\\eta$) de uma matriz, definido por\n",
    "\n",
    "$$\n",
    "\\kappa(A) = \\|A\\| \\|A^{-1}\\|,\n",
    "$$\n",
    "\n",
    "onde $\\|.\\|$ é alguma norma matricial (p. ex.: norma-1, norma-2, norma-infinito, norma de Frobenius)."
   ]
  },
  {
   "cell_type": "markdown",
   "metadata": {},
   "source": [
    "## Parênteses: normas vetorias e matriciais\n",
    "\n",
    "**Definição** (Wikipedia): em álgebra linear, *norma* é uma função que associa um comprimento ou tamanho estritamente positivo a cada vetor de um espaço vetorial, exceto ao vetor nulo, para o qual a norma é zero.\n",
    "\n",
    "**Dica**: as normas vetoriais e matriciais são definidas de forma diferente.\n",
    "\n",
    "*Material suplementar pode ser encontrado [aqui](http://www.cis.upenn.edu/~cis515/cis515-12-sl4.pdf).*"
   ]
  },
  {
   "cell_type": "markdown",
   "metadata": {},
   "source": [
    "### Normas vetoriais\n",
    "\n",
    "Todas as normas vetoriais são variações da norma-p. Para um vetor $v=(v_1,\\ldots,v_n)$, ela é definida como\n",
    "\n",
    "$$\n",
    "\\|v\\|_p = \\sqrt[p]{\\sum_{i=1}^n |v_i|^p}.\n",
    "$$\n",
    "\n",
    "As normas vetoriais principais são:\n",
    " * Norma-1: $\\sum_{i=1}^n |v_i|$\n",
    " * Norma-2 (Euclidiana): $\\sqrt{\\sum_{i=1}^n |v_i|^2}$\n",
    " * Norma-$\\infty$: ???"
   ]
  },
  {
   "cell_type": "markdown",
   "metadata": {},
   "source": [
    "### Normas matriciais\n",
    "\n",
    "Se $\\|.\\|$ é uma norma vetorial no $\\mathbb{R}^n$, definimos a função $\\|.\\|$ no ${R}^{m \\times n}$ por\n",
    "\n",
    "$$\n",
    "\\|A\\| = \\max_{x \\in \\mathbb{R}^n,\\,x \\neq 0} \\frac{\\|Ax\\|}{\\|x\\|} = \\max_{x \\in \\mathbb{R}^n} \\|Ax\\|.\n",
    "$$\n",
    "\n",
    "A função $A \\mapsto \\|A\\|$ é chmada de norma matricial subordinada ou operador norma induzido pela norma $\\|.\\|$.\n",
    "\n",
    "Usando a definição acima, é possível mostrar que as normas matriciais induzidas pelas normas anteriores são:\n",
    "* Norma-$\\infty$ ou norma de soma máxima de linha:\n",
    "$\\|A\\|_\\infty = \\max_{1 \\leq i \\leq m} \\sum_{j=1}^n |a_{ij}|$\n",
    "* Norma-1 ou norma de soma máxima de coluna:\n",
    "$\\|A\\|_1 = \\max_{1 \\leq j \\leq n} \\sum_{i=1}^m |a_{ij}|$\n",
    "* Norma-2 ou norma espectral:\n",
    "$\\|A\\|_2 = \\begin{cases}\\lambda_\\max & \\textrm{se } A = A^\\top \\\\\n",
    "\\sigma_\\max & \\textrm{caso contrário} \\end{cases}$, onde\n",
    " * $\\lambda_\\max$ é o maior autovalor de $A$ em módulo\n",
    " * $\\sigma_\\max$ é o maior valor singular de $A$ (que já vimos ser $\\sigma_\\max = \\sqrt{\\lambda_\\max(A^\\top A)}$).\n",
    " \n",
    "Uma outra norma matricial importante é a \n",
    " * Norma de Frobenius:\n",
    "$\\|A\\|_F = \\sqrt{ \\sum_{i=1}^m \\sum_{j=1}^n |a_{ij}|^2}$.\n",
    "Embora ela não seja induzida por nenhuma das normas vetoriais anteriores, ela serve como um limite superior para a Norma-2:\n",
    "$$\n",
    "\\|A\\|_2 \\leq \\|A\\|_F.\n",
    "$$"
   ]
  },
  {
   "cell_type": "markdown",
   "metadata": {},
   "source": [
    "## Cálculo do número de condição\n",
    "\n",
    "O número de condição varia segundo a escolha da norma. Considere e matriz $A = \\begin{bmatrix} 1 & 4 \\\\ 0 & 2 \\end{bmatrix}$ cuja inversa é\n",
    "$A^{-1} = \\begin{bmatrix} 1 & -2 \\\\ 0 & 0.5 \\end{bmatrix}$. O número de condição de $A$ é:\n",
    "* Norma-1: ???\n",
    "* Norma-infinito: ???\n",
    "* Norma-2: ???\n",
    "\n",
    "Note que a Norma-2 pode ser calculada sem que usemos a inversa de $A$:\n",
    "$$\n",
    "\\kappa_2(A) = \\begin{cases}\n",
    "\\frac{\\lambda_\\max}{\\lambda_\\min} & \\textrm{se $A = A^\\top$},\\\\\n",
    "\\frac{\\sigma_\\max}{\\sigma_\\min} & \\textrm{se $A \\neq A^\\top$}.\n",
    "\\end{cases}\n",
    "$$\n",
    "\n",
    "O sistema é dito malcondicionado se $\\kappa(A) \\gg 1$."
   ]
  },
  {
   "cell_type": "markdown",
   "metadata": {},
   "source": [
    "## Sensibilidade da solução\n",
    "\n",
    "O número de condição $\\kappa(A)$ nos permite derivar limites superiores para o erro da solução de $Ax = b$:\n",
    " * Quando o vetor $b$ é perturbado:\n",
    " $$\n",
    " \\frac{\\| \\delta x \\|}{\\| x \\|} \\leq \\kappa(A) \\frac{\\| \\delta b \\|}{\\| b \\|}.\n",
    " $$\n",
    " * Quando a matriz $A$ é perturbada:\n",
    " $$\n",
    " \\frac{\\| \\delta x \\|}{\\| x + \\delta x\\|} \\leq \\kappa(A) \\frac{\\| \\delta A \\|}{\\| A \\|}.\n",
    " $$"
   ]
  },
  {
   "cell_type": "code",
   "execution_count": 31,
   "metadata": {},
   "outputs": [
    {
     "data": {
      "text/plain": [
       "array([[1.  , 0.99],\n",
       "       [0.99, 0.98]])"
      ]
     },
     "execution_count": 31,
     "metadata": {},
     "output_type": "execute_result"
    }
   ],
   "source": [
    "A"
   ]
  },
  {
   "cell_type": "code",
   "execution_count": 37,
   "metadata": {},
   "outputs": [
    {
     "data": {
      "text/plain": [
       "(39205.99997457373, 39205.99997449362)"
      ]
     },
     "execution_count": 37,
     "metadata": {},
     "output_type": "execute_result"
    }
   ],
   "source": [
    "# nao use lambda como nome de variavel\n",
    "# palavra reservada usada para funções anônimas\n",
    "\n",
    "Lambda,V = np.linalg.eig(A)\n",
    "cond = max(abs(Lambda))/min(abs(Lambda))\n",
    "cond, np.linalg.cond(A,p=2)"
   ]
  },
  {
   "cell_type": "code",
   "execution_count": 40,
   "metadata": {},
   "outputs": [],
   "source": [
    "delta_b = np.array([0,0.01])\n",
    "x1 = np.linalg.solve(A,b+delta_b)\n",
    "delta_x1 = x1 - x"
   ]
  },
  {
   "cell_type": "code",
   "execution_count": 42,
   "metadata": {},
   "outputs": [
    {
     "data": {
      "text/plain": [
       "(99.50125627347623, 39304.62843611766)"
      ]
     },
     "execution_count": 42,
     "metadata": {},
     "output_type": "execute_result"
    }
   ],
   "source": [
    "LHS = np.linalg.norm(,ord=2)/np.linalg.norm(,ord=2)\n",
    "RHS = cond * np.linalg.norm(,ord=2)/np.linalg.norm(,ord=2)\n",
    "LHS,RHS"
   ]
  },
  {
   "cell_type": "code",
   "execution_count": 44,
   "metadata": {},
   "outputs": [
    {
     "data": {
      "text/plain": [
       "(0.7106779366933601, 198.00505037663498)"
      ]
     },
     "execution_count": 44,
     "metadata": {},
     "output_type": "execute_result"
    }
   ],
   "source": [
    "delta_A = np.array([[0,0],[0,0.01]])\n",
    "x2 = np.linalg.solve(A+delta_A,b)\n",
    "delta_x2 = x2 - x\n",
    "LHS = np.linalg.norm(delta_x2,ord=2)/np.linalg.norm(x2,ord=2)\n",
    "RHS = cond * np.linalg.norm(delta_A,ord=2)/np.linalg.norm(A,ord=2)\n",
    "LHS, RHS"
   ]
  }
 ],
 "metadata": {
  "kernelspec": {
   "display_name": "Python 3",
   "language": "python",
   "name": "python3"
  },
  "language_info": {
   "codemirror_mode": {
    "name": "ipython",
    "version": 3
   },
   "file_extension": ".py",
   "mimetype": "text/x-python",
   "name": "python",
   "nbconvert_exporter": "python",
   "pygments_lexer": "ipython3",
   "version": "3.5.4"
  }
 },
 "nbformat": 4,
 "nbformat_minor": 2
}
