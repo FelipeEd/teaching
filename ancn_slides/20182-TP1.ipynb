{
 "cells": [
  {
   "cell_type": "markdown",
   "metadata": {},
   "source": [
    "# TP1: LU vs Cholesky\n",
    "\n",
    "Nome:\n",
    "\n",
    "Matrícula:\n",
    "\n",
    "**Ao submeter este trabalho prático, eu, aluno, declaro que aceito a seguinte política de honestidade com relação ao plágio: \"O aluno que submeter soluções com mais que 40% das linhas similares a outra submissão ficará com zero neste trabalho prático. As soluções enviadas também serão comparadas com sumissões de semestres anteriores.**\n",
    "\n",
    "* Data de entrega: até 23:55 do dia 09/09/2018\n",
    "\n",
    "* As questões não podem ser discutidas entre os alunos em hipótese alguma. Dúvidas devem ser tiradas com os monitores ou com o professor.\n",
    "\n",
    "* Todo material consultado na Internet deve ser referenciado (incluir URL).\n",
    "\n",
    "* Submissão deve ser feita em formato de ipython notebook (extensão .ipynb) através do Moodle.\n",
    "\n",
    "\n",
    "Este trabalho está dividido em cinco partes:\n",
    " * **Parte 0**: Apresentação da implementação da Decomposição LU\n",
    " * **Parte 1**: Implementação da Decomposição LU com pivotação parcial\n",
    " * **Parte 2**: Implementação da Decomposição de Cholesky\n",
    " * **Parte 3**: Comparação do tempo de execução LU vs. Cholesky e geração de gráfico"
   ]
  },
  {
   "cell_type": "markdown",
   "metadata": {},
   "source": [
    "## Parte 0: Apresentação da Decomposição LU\n",
    "\n",
    "Na aula do dia 23/08 vimos que a decomposição $A = LU$ consiste em decompor uma matriz $A$ no produto de uma matriz triangular inferior $L$ por uma matriz triangular superior $U$. Em particular, observamos que os multiplicadores da eliminação de Gauss são utilizados para \"preencher\" a matriz $L$.\n",
    "\n",
    "**Por simplicidade, vamos assumir que todas as matrizes são quadradas.**\n",
    "\n",
    "A implementação da decomposição LU é apresentada abaixo."
   ]
  },
  {
   "cell_type": "code",
   "execution_count": 1,
   "metadata": {},
   "outputs": [],
   "source": [
    "import numpy as np\n",
    "def LU(A):\n",
    "    U = np.copy(A)\n",
    "    m, n = A.shape\n",
    "    L = np.zeros((n,n))\n",
    "    for k in range(n-1):\n",
    "        for j in range(k+1,n):\n",
    "            L[j,k] = U[j,k]/U[k,k]\n",
    "            U[j,k:n] -= L[j,k] * U[k,k:n]\n",
    "    L = L + np.eye(n)\n",
    "    return L, U"
   ]
  },
  {
   "cell_type": "markdown",
   "metadata": {},
   "source": [
    "A solução de um sistema do tipo $Ax=b$ a partir da decomposição LU de $A$ é realizada em duas etapas.\n",
    "* Etapa 1: solução do sistema triangular $Ly=b$\n",
    "* Etapa 2: solução do sistema triangular $Ux=y$.\n",
    "\n",
    "O exemplo a seguir mostra a construção de uma matriz $A$ $n \\times n$, um vetor $b$ de tamanho $n$ e a solução do sistema $Ax=b$ usando a função LU definida anteriormente."
   ]
  },
  {
   "cell_type": "code",
   "execution_count": 2,
   "metadata": {},
   "outputs": [
    {
     "name": "stdout",
     "output_type": "stream",
     "text": [
      "A = [[0.97193249 0.84856803 0.11086722]\n",
      " [0.85943158 0.11029809 0.28734887]\n",
      " [0.81937767 0.66872445 0.24645304]]\n",
      "b = [0.85552158 0.94275264 0.62846045]\n",
      "x = [ 0.4851796  -0.13743655  4.51516703]\n"
     ]
    }
   ],
   "source": [
    "from scipy.linalg import solve_triangular\n",
    " \n",
    "n = 3\n",
    "A = np.random.random((n,n))\n",
    "b = np.random.random(n)\n",
    "print('A =',A)\n",
    "print('b =',b)\n",
    "\n",
    "L, U = LU(A)\n",
    "y = solve_triangular(L,b)\n",
    "x = solve_triangular(U,y)\n",
    "print('x =',x)"
   ]
  },
  {
   "cell_type": "markdown",
   "metadata": {},
   "source": [
    "Um dos problemas da decomposição LU sem pivotação é a possibilidade de ocorrerem divisões por zero. Ainda que elas não ocorram, a pivotação parcial traz maior estabilidade numérica (reduz erros de arredondamento intrínsecos à precisão finita) ao dividir sempre por números de grande magnitude."
   ]
  },
  {
   "cell_type": "markdown",
   "metadata": {},
   "source": [
    "## Parte 1: Implementação da Decomposição LU com pivotação parcial\n",
    "\n",
    "Na pivotação parcial, ao invés de escolhermos sempre os elementos da diagonal como pivô, iremos escolher o elemento, da diagonal para baixo, que tiver o maior valor absoluto.\n",
    "\n",
    "Em sala, vimos como manter um vetor $p$ indicando as permutações de linhas efetuadas durante a pivotação parcial. Desta vez, iremos realmente permutar as linhas da matriz $U$ (cópia de $A$) de lugar."
   ]
  },
  {
   "cell_type": "markdown",
   "metadata": {},
   "source": [
    "**1.1** Escreva uma função troca(a,b) que troca o conteúdo de dois numpy arrays a e b. Ela não deve retornar nada."
   ]
  },
  {
   "cell_type": "code",
   "execution_count": 3,
   "metadata": {},
   "outputs": [],
   "source": [
    "def troca(a,b):\n"
   ]
  },
  {
   "cell_type": "code",
   "execution_count": 4,
   "metadata": {},
   "outputs": [
    {
     "name": "stdout",
     "output_type": "stream",
     "text": [
      "u [4 5 6]\n",
      "v [1 2 3]\n"
     ]
    }
   ],
   "source": [
    "# exemplo de uso\n",
    "u = np.array([1,2,3])\n",
    "v = np.array([4,5,6])\n",
    "troca(u,v)\n",
    "\n",
    "print('u', u)\n",
    "print('v', v)"
   ]
  },
  {
   "cell_type": "markdown",
   "metadata": {},
   "source": [
    "**1.2** Implemente a função encontraIndicePivo(v) que retorna o índice do elemento de maior valor absoluto dado um numpy array $v$. Se quiser, você pode usar uma função do numpy para resolver esta questão."
   ]
  },
  {
   "cell_type": "code",
   "execution_count": 5,
   "metadata": {},
   "outputs": [],
   "source": [
    "def encontraIndicePivo(v):\n"
   ]
  },
  {
   "cell_type": "code",
   "execution_count": 6,
   "metadata": {},
   "outputs": [
    {
     "name": "stdout",
     "output_type": "stream",
     "text": [
      "2\n",
      "1\n"
     ]
    }
   ],
   "source": [
    "# exemplo de uso\n",
    "a = np.array([1,-2,3])\n",
    "b = np.array([1,-4,3])\n",
    "\n",
    "print(encontraIndicePivo(a))\n",
    "print(encontraIndicePivo(b))"
   ]
  },
  {
   "cell_type": "markdown",
   "metadata": {},
   "source": [
    "**1.3** Usando a função LU da Parte 0 como base, mostre como usar as funções que você criou para implementar a decomposição $PA=LU$. A função LUPivot(A) deve retornar L, U e a matriz de permutação P.\n",
    "\n",
    "*Dica 1:* Note que o índice do pivô na $k$-ésima iteração não é simplesmente encontraIndicePivo(U[k:,k]).\n",
    "\n",
    "*Dica 2*: Após encontrar o pivô, você deve trocar as linhas correspondentes em L, U e P."
   ]
  },
  {
   "cell_type": "code",
   "execution_count": 7,
   "metadata": {},
   "outputs": [],
   "source": [
    "def LUPivot(A):\n",
    "\n",
    "    return L, U, P"
   ]
  },
  {
   "cell_type": "code",
   "execution_count": 8,
   "metadata": {},
   "outputs": [
    {
     "name": "stdout",
     "output_type": "stream",
     "text": [
      "L= [[ 1.    0.    0.    0.  ]\n",
      " [ 0.    1.    0.    0.  ]\n",
      " [ 0.8  -0.25  1.    0.  ]\n",
      " [ 0.2  -0.5   0.4   1.  ]]\n",
      "U= [[ 5.    0.    5.   -1.  ]\n",
      " [ 0.    4.   -4.    1.  ]\n",
      " [ 0.    0.   -5.    0.05]\n",
      " [ 0.    0.    0.    0.68]]\n",
      "P= [[0. 0. 0. 1.]\n",
      " [0. 0. 1. 0.]\n",
      " [1. 0. 0. 0.]\n",
      " [0. 1. 0. 0.]]\n"
     ]
    }
   ],
   "source": [
    "# exemplo de uso\n",
    "A = np.array([[4,-1,0,-1],[1,-2,1,0],[0,4,-4,1],[5,0,5,-1]]).astype(np.float)\n",
    "L,U,P = LUPivot(A)\n",
    "print('L=',L)\n",
    "print('U=',U)\n",
    "print('P=',P)"
   ]
  },
  {
   "cell_type": "markdown",
   "metadata": {},
   "source": [
    "## Parte 2: Implementação da Decomposição de Cholesky\n",
    "\n",
    "Na aula do dia 25/08 vimos que matrizes simétricas definidas positivas (DP) admitem uma decomposição $A = LL^\\top$ onde $L$ é uma matriz triangular inferior de números reais. Em particular, vimos que o seu custo é aproximadamente metade da decomposição LU.\n",
    "\n",
    "**Por simplicidade, vamos gerar matrizes simétricas definidas positivas a partir daqui.**\n",
    "\n",
    "Abaixo ilustramos a geração de uma matriz $A$ $n \\times n$ simétrica definida positiva."
   ]
  },
  {
   "cell_type": "code",
   "execution_count": 9,
   "metadata": {},
   "outputs": [
    {
     "name": "stdout",
     "output_type": "stream",
     "text": [
      "A= [[1.96904545 1.25879631 1.23543335]\n",
      " [1.25879631 1.48451423 1.4986055 ]\n",
      " [1.23543335 1.4986055  1.80861347]]\n",
      "autovalores de A: [4.41972483 0.71832874 0.12411957]\n"
     ]
    }
   ],
   "source": [
    "n,m = 3,4\n",
    "X = np.random.random((n,m))\n",
    "A = X @ X.T\n",
    "print('A=',A)\n",
    "\n",
    "autoval, autovec = np.linalg.eig(A)\n",
    "print('autovalores de A:',autoval)"
   ]
  },
  {
   "cell_type": "markdown",
   "metadata": {},
   "source": [
    "**2.1** Implemente a função Cholesky(A) que recebe uma matriz definida positiva A e retorna a matriz $L$. Abaixo importamos a função sqrt da biblioteca math."
   ]
  },
  {
   "cell_type": "code",
   "execution_count": 10,
   "metadata": {},
   "outputs": [],
   "source": [
    "from math import sqrt\n",
    "import numpy as np\n",
    " \n",
    "def Cholesky(A):\n",
    "\n",
    "    return L"
   ]
  },
  {
   "cell_type": "code",
   "execution_count": 11,
   "metadata": {},
   "outputs": [
    {
     "name": "stdout",
     "output_type": "stream",
     "text": [
      "L= [[1.4032268  0.         0.        ]\n",
      " [0.89707259 0.82448468 0.        ]\n",
      " [0.88042315 0.85969096 0.5425864 ]]\n"
     ]
    },
    {
     "data": {
      "text/plain": [
       "True"
      ]
     },
     "execution_count": 11,
     "metadata": {},
     "output_type": "execute_result"
    }
   ],
   "source": [
    "# exemplo de uso\n",
    "\n",
    "L = Cholesky(A)\n",
    "print('L=',L)\n",
    "np.allclose(L@L.T,A)"
   ]
  },
  {
   "cell_type": "markdown",
   "metadata": {},
   "source": [
    "**2.2** Implemente a função resolveCholesky(L,b) que dada a matriz L encontra a solução do sistema $Ax=b$ para uma matriz $A = L L^\\top$ simétrica definida positiva."
   ]
  },
  {
   "cell_type": "code",
   "execution_count": 12,
   "metadata": {},
   "outputs": [],
   "source": [
    "def resolveCholesky(L,b):\n",
    "\n",
    "    return x"
   ]
  },
  {
   "cell_type": "code",
   "execution_count": 13,
   "metadata": {},
   "outputs": [
    {
     "name": "stdout",
     "output_type": "stream",
     "text": [
      "x= [-0.12344248 -1.92364853  2.30708921]\n"
     ]
    }
   ],
   "source": [
    "# exemplo de uso\n",
    "\n",
    "b = np.random.random(3)\n",
    "x = resolveCholesky(L,b)\n",
    "print('x=',x)"
   ]
  },
  {
   "cell_type": "markdown",
   "metadata": {},
   "source": [
    "## Parte 3: Comparação do tempo de execução LU vs. Cholesky e geração de gráfico\n",
    "\n",
    "Nesta parte, iremos comparar o tempo de execução das nossas implementações LU (Parte 0) e Cholesky (Parte 2) para matrizes DPs de diferentes tamanhos. Note que Python não é uma linguagem compilada e, portanto, as nossas implementações serão bem mais lentas que as implementações disponíveis na biblioteca scipy.\n",
    "\n",
    "Para medir o tempo de execução usaremos um <a href=\"https://ipython.readthedocs.io/en/stable/interactive/magics.html\">comando mágico</a> chamado %timeit.\n",
    "\n",
    "No exemplo abaixo, executamos o comando\n",
    "\n",
    "    L, U = LU(A)\n",
    "\n",
    "em 3 loops consecutivos de 5 iterações cada. Apenas o loop mais rápido é levado em consideração. A opção -q evita que o resultado seja impresso no output. A opção -o salva o resultado em uma variável. Esta variável possui um atribute average, que é o que nos interessa."
   ]
  },
  {
   "cell_type": "code",
   "execution_count": 14,
   "metadata": {},
   "outputs": [
    {
     "name": "stdout",
     "output_type": "stream",
     "text": [
      "O tempo medio de LU foi 3.1843067457278566e-05 segundos\n"
     ]
    }
   ],
   "source": [
    "time_info = %timeit -r 3 -n 5 -q -o L,U = LU(A)\n",
    "print('O tempo medio de LU foi',time_info.average,'segundos')"
   ]
  },
  {
   "cell_type": "markdown",
   "metadata": {},
   "source": [
    "**3.1** A seguir, implemente o código que irá salvar os resultados dos tempos de execução de LU e Cholesky para matrizes quadradas $A$ de ordem $n=2^8,2^9,2^{10},2^{11},2^{12}$. Note que as matrizes devem ser simétricas e DP para que possam ser decompostas por ambos os métodos."
   ]
  },
  {
   "cell_type": "code",
   "execution_count": 15,
   "metadata": {},
   "outputs": [],
   "source": [
    "expoentes = np.arange(8,12)\n",
    "tempos_LU = np.zeros(len(expoentes))\n",
    "tempos_Chol = np.zeros(len(expoentes))\n",
    "\n",
    "for expoente in expoentes:\n"
   ]
  },
  {
   "cell_type": "markdown",
   "metadata": {},
   "source": [
    "**3.2** Usando a biblioteca matplotlib, gere um gráfico comparando os dois resultados. Segue um exemplo de gráfico com duas curvas para usar como referência."
   ]
  },
  {
   "cell_type": "code",
   "execution_count": 17,
   "metadata": {},
   "outputs": [
    {
     "data": {
      "text/plain": [
       "<matplotlib.legend.Legend at 0x61cec26a0>"
      ]
     },
     "execution_count": 17,
     "metadata": {},
     "output_type": "execute_result"
    },
    {
     "name": "stderr",
     "output_type": "stream",
     "text": [
      "/usr/local/miniconda3/envs/py3/lib/python3.6/site-packages/matplotlib/font_manager.py:278: UserWarning: Matplotlib is building the font cache using fc-list. This may take a moment.\n",
      "  'Matplotlib is building the font cache using fc-list. '\n"
     ]
    },
    {
     "data": {
      "image/png": "[encoded data removed]",
      "text/plain": [
       "<Figure size 432x288 with 1 Axes>"
      ]
     },
     "metadata": {},
     "output_type": "display_data"
    }
   ],
   "source": [
    "import matplotlib.pyplot as plt\n",
    "%matplotlib inline\n",
    "\n",
    "x = np.array([1,2,3,4])\n",
    "y1= np.array([1,10,100,1000])\n",
    "y2= np.array([2,20,200,2000])\n",
    "\n",
    "plt.plot(x,y1,'r-',label='red curve')\n",
    "plt.plot(x,y2,'b-',label='blue curve')\n",
    "plt.xlabel('xlabel')\n",
    "plt.ylabel('ylabel')\n",
    "# tente descomentar a linha abaixo\n",
    "#plt.yscale('log')\n",
    "plt.legend()"
   ]
  }
 ],
 "metadata": {
  "kernelspec": {
   "display_name": "Python 3",
   "language": "python",
   "name": "python3"
  },
  "language_info": {
   "codemirror_mode": {
    "name": "ipython",
    "version": 3
   },
   "file_extension": ".py",
   "mimetype": "text/x-python",
   "name": "python",
   "nbconvert_exporter": "python",
   "pygments_lexer": "ipython3",
   "version": "3.6.6"
  }
 },
 "nbformat": 4,
 "nbformat_minor": 2
}
