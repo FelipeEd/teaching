{
 "cells": [
  {
   "cell_type": "markdown",
   "metadata": {},
   "source": [
    "# Erro de Integração\n",
    "\n",
    "Na aula anterior, falamos sobre a importância da Integração Numérica e estudamos uma classe de métodos para realizá-la, conhecida como Fórmulas de Newton-Cotes.\n",
    "\n",
    "As fórmulas de Newton-Cotes dividem o intervalo de integração em $m$ subintervalos. A função a ser integrada é então aproximada por um polinômio de grau $n < m$ a cada grupo de $n$ subintervalos.\n",
    "\n",
    "[Applet para Fórmulas de Newton-Cotes](https://www.geogebra.org/m/KqExrwbS)\n",
    "\n",
    "Da mesma forma como é possível calcular um limite superior para o erro de truncamento ao se interpolar uma função $f(x)$ conhecida, pode-se calcular um limite superior para o erro de integração de tal função.\n",
    "\n",
    "Nesta aula vamos derivar a fórmula do erro para o método dos trapézios. As fórmulas para os métodos de Simpson serão apenas listadas, pois as derivações são relativamente complicadas."
   ]
  },
  {
   "cell_type": "markdown",
   "metadata": {},
   "source": [
    "## Método dos trapézios\n",
    "\n",
    "Erro de integração:\n",
    "\n",
    "$$\n",
    "E_1 = - \\frac{(b-a)^3}{12m^2} f''(\\theta) \n",
    "$$\n",
    "\n",
    "para algum $a < \\theta < b$."
   ]
  },
  {
   "cell_type": "markdown",
   "metadata": {},
   "source": [
    "## Regra do 1/3 de Simpson\n",
    "\n",
    "Erro de integração:\n",
    "\n",
    "$$\n",
    "E_2 = - \\frac{(b-a)^5}{180 m^4} f^{iv}(\\theta) \n",
    "$$\n",
    "\n",
    "para algum $a < \\theta < b$. É interessante que embora a aproximação seja feita por parábolas, o erro depende da quarta derivada de $f$. Isso implica que qualquer cúbica terá erro de integração igual a 0.\n",
    "\n",
    "Em algumas referências, a fórmula do erro é apresentada da seguinte forma, para o caso de $m=2$ subintervalos.\n",
    "\n",
    "$$\n",
    "E_2 = - \\frac{1}{90} \\left(\\frac{b-a}{2}\\right)^5 f^{iv}(\\theta). \n",
    "$$\n",
    "\n",
    "Fazendo-se $m=2$ na primeira equação, verifica-se que as duas fórmulas são equivalentes."
   ]
  },
  {
   "cell_type": "markdown",
   "metadata": {},
   "source": [
    "## Regra dos 3/8 de Simpson\n",
    "\n",
    "Erro de integração:\n",
    "\n",
    "$$\n",
    "E_3 = - \\frac{(b-a)^5}{80 m^4} f^{iv}(\\theta) \n",
    "$$\n",
    "\n",
    "para algum $a < \\theta < b$.\n",
    "\n",
    "Em algumas referências, a fórmula do erro é apresentada da seguinte forma, para o caso de $m=3$ subintervalos:\n",
    "\n",
    "$$\n",
    "E_3 = - \\frac{3}{80} h^5 f^{iv}(\\theta). \n",
    "$$\n",
    "\n",
    "Substituindo-se 3 por $m$ e fazendo-se $h = \\frac{b-a}{m}$ na equação cima, verifica-se a igualdade das duas equações. Outras referências apresentam a fórmula do erro como sendo:\n",
    "\n",
    "$$\n",
    "E_3 = - \\frac{(b-a)^5}{6480} f^{iv}(\\theta). \n",
    "$$\n",
    "\n",
    "Esta fórmula pode ser obtida fazendo-se $m=3$ na primeira equação. "
   ]
  }
 ],
 "metadata": {
  "kernelspec": {
   "display_name": "Python 3",
   "language": "python",
   "name": "python3"
  },
  "language_info": {
   "codemirror_mode": {
    "name": "ipython",
    "version": 3
   },
   "file_extension": ".py",
   "mimetype": "text/x-python",
   "name": "python",
   "nbconvert_exporter": "python",
   "pygments_lexer": "ipython3",
   "version": "3.5.4"
  }
 },
 "nbformat": 4,
 "nbformat_minor": 2
}
