{
 "cells": [
  {
   "cell_type": "markdown",
   "metadata": {},
   "source": [
    "# Interpolação/Polinômio/Forma de Newton (em construção)\n",
    "\n",
    "Na aula passada vimos que, dados $n+1$ pontos $(x_0,y_0)\\ldots,(x_n,y_n)$ a Interpolação Polinomial é uma aproximação para um ponto $z$ a partir de um polinômio de grau (no máximo $n$) [ver applet](http://math.mercyhurst.edu/~lwilliams/Applets/Interpolation.html). Estes pontos podem ser experimentais ou calculados a partir de uma função conhecida.\n",
    "\n",
    "## Revisão da Interpolação de Lagrange\n",
    "\n",
    "A **Interpolação de Lagrange** é um método baseado na combinação linear de $n+1$ polinômios de grau $n$, cuja complexidade de tempo é $\\mathcal{O}(n^2)$. O polinômio de Lagrange é dado pela fórmula\n",
    "$$\n",
    "L_n(x) = \\sum_{i=0}^n y_i \\prod_{j=0,j\\neq i}^n \\frac{(x-x_j)}{(x_i-x_j)}.\n",
    "$$\n",
    "Mais precisamente, o número de operações aritméticas realizadas ao avaliar a expressão acima é:\n",
    "* Adições: $2n^2 + 3n + 1$\n",
    "* Multiplicações: $2n^2 + 3n + 1$\n",
    "* Divisões: $n+1$\n",
    "É possível reduzir quase 50% do número de adições e multiplicações ao se construir a matriz $G$ que vimos em sala. No entanto, o cálculo de $G_d$ e dos $G_i$'s pode ocasionar *overflow* ou *underflow* e não é usado na prática.\n",
    "\n",
    "Pior do que isso, mesmo a implementação clássica do método sofre problemas de instabilidade devido às divisões e multiplicações.\n",
    "\n",
    "## Interpolação de Newton\n",
    "\n",
    "Hoje veremos a **Interpolação de Newton**, que é construída a partir da soma de polinômios de grau crescente $0, 1, \\ldots, n$. Uma vez calculada a matriz de diferenças divididas, é trivial:\n",
    "* interpolar um outro ponto $z_2$ com $\\mathcal{O}(n)$ operações;\n",
    "* adicionar um novo ponto $(x_{n+1},y_{n+1})$ com $\\mathcal{O}(n)$ operações.\n",
    "\n",
    "Na implementação clássica da Interpolação de Lagrange, as operações anteriores necessitam que o polinômio seja completamente recalculado. Logo, tem custo $\\mathcal{O}(n^2)$.\n",
    "\n",
    "A partir do desenvolvimento feito no quadro, vimos que o polinômio de Newton é dado por\n",
    "\n",
    "$$\n",
    "P_n(x) = y_0 + \\sum_{i=1}^n \\omega(x_0,\\ldots,x_i) \\prod_{j=0}^{i-1} (x-x_j),\n",
    "$$\n",
    "\n",
    "onde $\\omega(x_0,\\ldots,x_i)$ é a diferença dividida de ordem $i$ em $y_0$. No livro do Algoritmos Numéricos a diferença dividida $\\omega(x_0,\\ldots,x_i)$ é representada por um delta cortado ao meio, com expoente $i$ seguido de $y_0$.\n",
    "\n",
    "Veremos na aula de hoje que o número de operações aritméticas realizadas ao avaliar a expressão acima é:\n",
    "* Adições: $2n^2 + 4n$\n",
    "* Multiplicações: $n$\n",
    "* Divisões: $\\frac{n^2}{2} + \\frac{n}{2}$"
   ]
  },
  {
   "cell_type": "code",
   "execution_count": 39,
   "metadata": {
    "collapsed": true
   },
   "outputs": [],
   "source": [
    "import sympy\n",
    "np.set_printoptions(precision=3)\n",
    "sympy.init_printing()"
   ]
  },
  {
   "cell_type": "code",
   "execution_count": 46,
   "metadata": {
    "collapsed": true
   },
   "outputs": [],
   "source": [
    "# implementacao sem o processo de Horner\n",
    "\n",
    "import numpy as np\n",
    "def PolinomioNewton(x, y, z):\n",
    "    m = len(x)\n",
    "    Delta = np.zeros((m,m))\n",
    "    Delta[:,0] = y\n",
    "    for j in range(1,m):\n",
    "        for i in range(m-j):\n",
    "            Delta[i,j] = (Delta[i+1,j-1] - Delta[i,j-1])/(x[i+j]-x[i])\n",
    "        print(Delta)\n",
    "    \n",
    "    res = y[0]\n",
    "    for j in range(1,m):\n",
    "        prod = 1\n",
    "        for k in range(j):\n",
    "            prod *= z-x[k]\n",
    "        res += Delta[0,j]*prod\n",
    "        \n",
    "    return res"
   ]
  },
  {
   "cell_type": "code",
   "execution_count": 47,
   "metadata": {},
   "outputs": [
    {
     "name": "stdout",
     "output_type": "stream",
     "text": [
      "[[ 3.    -1.2    0.     0.     0.     0.   ]\n",
      " [ 2.76  -1.05   0.     0.     0.     0.   ]\n",
      " [ 2.655 -0.55   0.     0.     0.     0.   ]\n",
      " [ 2.6    1.45   0.     0.     0.     0.   ]\n",
      " [ 3.035  5.45   0.     0.     0.     0.   ]\n",
      " [ 4.125  0.     0.     0.     0.     0.   ]]\n",
      "[[ 3.    -1.2    0.5    0.     0.     0.   ]\n",
      " [ 2.76  -1.05   2.5    0.     0.     0.   ]\n",
      " [ 2.655 -0.55   5.     0.     0.     0.   ]\n",
      " [ 2.6    1.45   8.     0.     0.     0.   ]\n",
      " [ 3.035  5.45   0.     0.     0.     0.   ]\n",
      " [ 4.125  0.     0.     0.     0.     0.   ]]\n",
      "[[ 3.    -1.2    0.5    5.     0.     0.   ]\n",
      " [ 2.76  -1.05   2.5    5.     0.     0.   ]\n",
      " [ 2.655 -0.55   5.     5.     0.     0.   ]\n",
      " [ 2.6    1.45   8.     0.     0.     0.   ]\n",
      " [ 3.035  5.45   0.     0.     0.     0.   ]\n",
      " [ 4.125  0.     0.     0.     0.     0.   ]]\n",
      "[[  3.000e+00  -1.200e+00   5.000e-01   5.000e+00  -1.028e-13   0.000e+00]\n",
      " [  2.760e+00  -1.050e+00   2.500e+00   5.000e+00   6.217e-14   0.000e+00]\n",
      " [  2.655e+00  -5.500e-01   5.000e+00   5.000e+00   0.000e+00   0.000e+00]\n",
      " [  2.600e+00   1.450e+00   8.000e+00   0.000e+00   0.000e+00   0.000e+00]\n",
      " [  3.035e+00   5.450e+00   0.000e+00   0.000e+00   0.000e+00   0.000e+00]\n",
      " [  4.125e+00   0.000e+00   0.000e+00   0.000e+00   0.000e+00   0.000e+00]]\n",
      "[[  3.000e+00  -1.200e+00   5.000e-01   5.000e+00  -1.028e-13   1.833e-13]\n",
      " [  2.760e+00  -1.050e+00   2.500e+00   5.000e+00   6.217e-14   0.000e+00]\n",
      " [  2.655e+00  -5.500e-01   5.000e+00   5.000e+00   0.000e+00   0.000e+00]\n",
      " [  2.600e+00   1.450e+00   8.000e+00   0.000e+00   0.000e+00   0.000e+00]\n",
      " [  3.035e+00   5.450e+00   0.000e+00   0.000e+00   0.000e+00   0.000e+00]\n",
      " [  4.125e+00   0.000e+00   0.000e+00   0.000e+00   0.000e+00   0.000e+00]]\n"
     ]
    }
   ],
   "source": [
    "x = np.array([.0,.2,.3,.4,.7,.9])\n",
    "y = np.array([3.,2.76,2.655,2.6,3.035,4.125])\n",
    "z = .1\n",
    "res = PolinomioNewton(x,y,z)"
   ]
  },
  {
   "cell_type": "code",
   "execution_count": 44,
   "metadata": {},
   "outputs": [
    {
     "data": {
      "image/png": "[encoded data removed]",
      "text/latex": [
       "$$2.885$$"
      ],
      "text/plain": [
       "2.885"
      ]
     },
     "execution_count": 44,
     "metadata": {},
     "output_type": "execute_result"
    }
   ],
   "source": [
    "res"
   ]
  },
  {
   "cell_type": "code",
   "execution_count": 45,
   "metadata": {},
   "outputs": [
    {
     "data": {
      "image/png": "[encoded data removed]",
      "text/latex": [
       "$$2.885$$"
      ],
      "text/plain": [
       "2.885"
      ]
     },
     "execution_count": 45,
     "metadata": {},
     "output_type": "execute_result"
    }
   ],
   "source": [
    "5*z**3-2*z**2-z+3"
   ]
  },
  {
   "cell_type": "markdown",
   "metadata": {},
   "source": [
    "## Reduzindo o número de operações\n",
    "\n",
    "**Q**: Qual a complexidade de tempo e de  do algoritmo acima?\n",
    "\n",
    "Como reduzir o número de operações realizadas no laço final? Considere o cálculo de $P_n(z)$ para\n",
    "\n",
    "$$\n",
    "    P_n(x) = a_0 + a_1 x + a_2 x^2 + \\ldots a_n x^n.\n",
    "$$"
   ]
  },
  {
   "cell_type": "markdown",
   "metadata": {},
   "source": [
    "Para reduzir o número de multiplicações realizadas, podemos colocar $x$ em evidência:\n",
    "$$\n",
    "P_n(x) = a_0 + x(a_1 + a_2(x + \\ldots a_n x) \\ldots )\n",
    "$$\n",
    "\n",
    "Este processo é conhecido como **Processo de Horner**. Ele pode ser usado na avaliação do Polinômio de Lagrange."
   ]
  },
  {
   "cell_type": "code",
   "execution_count": 23,
   "metadata": {},
   "outputs": [
    {
     "data": {
      "image/png": "[encoded data removed]",
      "text/latex": [
       "$$\\left[\\begin{matrix}1 & 2\\\\3 & 4\\end{matrix}\\right]$$"
      ],
      "text/plain": [
       "⎡1  2⎤\n",
       "⎢    ⎥\n",
       "⎣3  4⎦"
      ]
     },
     "execution_count": 23,
     "metadata": {},
     "output_type": "execute_result"
    }
   ],
   "source": [
    "# renderizando as matrizes usando sympy\n",
    "\n",
    "A = np.array([[1,2],[3,4]])\n",
    "sympy.Matrix(A)"
   ]
  }
 ],
 "metadata": {
  "kernelspec": {
   "display_name": "Python 2",
   "language": "python",
   "name": "python2"
  },
  "language_info": {
   "codemirror_mode": {
    "name": "ipython",
    "version": 2
   },
   "file_extension": ".py",
   "mimetype": "text/x-python",
   "name": "python",
   "nbconvert_exporter": "python",
   "pygments_lexer": "ipython2",
   "version": "2.7.13"
  }
 },
 "nbformat": 4,
 "nbformat_minor": 2
}
