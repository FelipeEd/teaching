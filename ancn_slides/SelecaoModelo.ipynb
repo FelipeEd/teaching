{
 "cells": [
  {
   "cell_type": "markdown",
   "metadata": {},
   "source": [
    "# Escolha do modelo de regressão linear\n",
    "\n",
    "Vimos no início do bloco sobre **Ajuste de Curvas** que a **Interpolação Polinomial** pode não capturar bem a relação entre $x$ e $y$, embora sempre passe por todos os pontos dados.\n",
    "\n",
    "No exemplo que utilizamos, analisando o **Diagrama de Dispersão** era possível concluir que a **Regressão Linear Simples**, $f_1(x) = \\beta_0 + \\beta_1 x$ era muito mais adequada.\n",
    "\n",
    "Nem sempre é possível tirar conclusões deste tipo visualmente. Em certas situações, poderíamos nos perguntar se seria uma boa ideia adicionar um novo termo à regressão, resultando na função $f_2(x) = \\beta_0 + \\beta_1 x + \\beta_2 x^2$.\n",
    "\n",
    "Neste caso, nenhuma das métricas de qualidade de ajuste que vimos seria útil para decidir qual das duas funções é \"melhor\". O coeficiente de determinação, por exemplo, definido por\n",
    "\n",
    "$$\n",
    "R^2 = 1 - \\frac{\\textrm{SQRes}}{\\textrm{SQTot}},\n",
    "$$\n",
    "\n",
    "onde $\\textrm{SQRes} = \\sum_i (y_i - f(x_i))^2$ e $\\textrm{SQTot} = \\sum_i (y_i - \\bar y)^2$, será menor para $f_2(x)$ que para $f_1(x)$, assumindo que os parâmetros sejam encontrados, em cada caso, pelo método dos quadrados mínimos.\n",
    "\n",
    "De fato, poderíamos continuar adicionando novos termos $\\beta_3 x^3, \\beta_4 x^4, \\ldots, \\beta_{n-1} x^{n-1}$ até que finalmente tivéssemos desvio $D(\\beta) = 0 \\Rightarrow R^2 = 1$. Neste caso, o resultado da regressão linear seria igual ao da interpolação polinomial. Claramente, o coeficiente de determinação $R^2$ não pode ser usado para decidir entre um modelo mais simples e outro com mais parâmetros.\n",
    "\n",
    "Na aula de hoje veremos duas maneiras de decidir qual é o melhor modelo dentre vários modelos possíveis."
   ]
  },
  {
   "cell_type": "markdown",
   "metadata": {},
   "source": [
    "## Validação cruzada\n",
    "\n",
    "Dentre um conjunto de modelos (funções) possíveis para relacionar preditores e a resposta, podemos considerar como sendo o **melhor** aquele que resulta no menor erro de predição para **pontos ainda não-observados**.\n",
    "\n",
    "Mas como podemos usar esta ideia se não temos como calcular o erro de predição para os pontos não-observados?\n",
    "\n",
    "...\n",
    "\n",
    "...\n",
    "\n",
    "...\n",
    "\n",
    "**Ideia:** Vamos \"fingir\" que não vimos alguns desses pontos ainda. Vamos separar X% dos pontos dados e usar o restante para encontar os parâmetros de cada um dos modelos (de regressão, neste caso) que queremos testar.\n",
    "\n",
    "**Q**: Mas como escolher estes pontos?\n",
    "\n",
    "...\n",
    "\n",
    "...\n",
    "\n",
    "...\n",
    "\n",
    "Mesmo que a escolha seja aleatória, poderíamos ter dado \"sorte\".\n",
    "\n",
    "**Q**: Como fazer para tornar este teste mais robusto?\n",
    "\n",
    "...\n",
    "\n",
    "...\n",
    "\n",
    "...\n",
    "\n",
    "**Ideia melhorada:** Vamos embaralhar o conjunto de pontos $(x_1,y_1), \\ldots, (x_n,y_n)$ e dividí-lo em $K$ partes de tamanho $n/K$. Denotemos cada uma dessas partes por $(X_k,Y_k)$, para $k=1,\\ldots,K$. Para cada modelo, vamos repetir o seguinte procedimento:\n",
    "\n",
    "\n",
    "* Erro = 0\n",
    "* Para $k=1,\\ldots,K$:\n",
    "    * Conjunto de teste: $(X_k,Y_k)$\n",
    "    * Conjunto de treinamento: $(X_1,Y_1), \\ldots, (X_{k-1},Y_{k-1}), (X_{k+1},Y_{k+1}), \\ldots, (X_{K},Y_{K})$.\n",
    "    * Obter os parâmetros $\\beta$ a partir dos pontos no conjunto de treinamento\n",
    "    * Para cada $(x,y)$ no conjunto de teste $(X_k,Y_k)$:\n",
    "        * Erro = Erro + $(y - f_\\beta (x))^2$\n",
    "* Erro = Erro / $n$\n",
    "\n",
    "Ao final, escolhemos o modelo que retorna o menor erro.\n",
    "\n",
    "**No exemplo a seguir**, vamos revisitar o problema da primeira aula e usar a validação cruzada para decidir entre $f_1(x) = \\beta_0 + \\beta_1 x$ e $f_2(x) = \\beta_0 + \\beta_1 x + \\beta_2 x^2$."
   ]
  },
  {
   "cell_type": "code",
   "execution_count": 20,
   "metadata": {},
   "outputs": [
    {
     "data": {
      "text/plain": [
       "<matplotlib.text.Text at 0x119c7bd50>"
      ]
     },
     "execution_count": 20,
     "metadata": {},
     "output_type": "execute_result"
    },
    {
     "data": {
      "image/png": "[encoded data removed]",
      "text/plain": [
       "<matplotlib.figure.Figure at 0x11994a050>"
      ]
     },
     "metadata": {},
     "output_type": "display_data"
    }
   ],
   "source": [
    "import numpy as np\n",
    "import matplotlib.pyplot as plt\n",
    "%matplotlib inline\n",
    "\n",
    "b = 2\n",
    "a = 1\n",
    "\n",
    "x = np.arange(20)\n",
    "y = a*x + b + (2*np.random.rand(len(x))-1)\n",
    "\n",
    "fig, ax = plt.subplots(1,1)\n",
    "plt.plot(x,y,'go')\n",
    "plt.xlabel('x')\n",
    "plt.ylabel('y')"
   ]
  },
  {
   "cell_type": "code",
   "execution_count": 21,
   "metadata": {},
   "outputs": [
    {
     "data": {
      "text/plain": [
       "array([ 5,  0,  4, 19, 14, 12,  3, 15,  7,  1,  8, 17, 10, 18, 13,  2, 16,\n",
       "        6,  9, 11])"
      ]
     },
     "execution_count": 21,
     "metadata": {},
     "output_type": "execute_result"
    }
   ],
   "source": [
    "# Embaralhando os pontos:\n",
    "inds = np.arange(20)\n",
    "np.random.shuffle(inds)\n",
    "shuffled_x = x[inds]\n",
    "shuffled_y = y[inds]\n",
    "shuffled_x"
   ]
  },
  {
   "cell_type": "code",
   "execution_count": 22,
   "metadata": {},
   "outputs": [
    {
     "name": "stdout",
     "output_type": "stream",
     "text": [
      "0.293478686909\n"
     ]
    }
   ],
   "source": [
    "from sklearn.linear_model import LinearRegression\n",
    "# Validação cruzada para f(x) = beta0 + beta1x\n",
    "\n",
    "n = 20\n",
    "K = 4\n",
    "\n",
    "lr = LinearRegression()\n",
    "error = 0.0\n",
    "for k in range(K):\n",
    "    test_inds = np.array([False for i in range(n)])\n",
    "    test_inds[int(k*n/K):int((k+1)*n/K)] = True\n",
    "    \n",
    "    test_x = shuffled_x[test_inds].reshape(5,1)\n",
    "    test_y = shuffled_y[test_inds]\n",
    "    \n",
    "    train_x = shuffled_x[~test_inds].reshape(15,1)\n",
    "    train_y = shuffled_y[~test_inds]\n",
    "    \n",
    "    model_1 = lr.fit(X=train_x,y=train_y)\n",
    "    yhat = model_1.predict(test_x)\n",
    "    error += np.sum((test_y - yhat)**2)\n",
    "    \n",
    "error /= n\n",
    "print(error)"
   ]
  },
  {
   "cell_type": "code",
   "execution_count": 23,
   "metadata": {},
   "outputs": [
    {
     "name": "stdout",
     "output_type": "stream",
     "text": [
      "0.326513566633\n"
     ]
    }
   ],
   "source": [
    "# Validação cruzada para f(x) = beta0 + beta1 x + beta2 x^2\n",
    "\n",
    "\n",
    "lr = LinearRegression()\n",
    "error = 0.0\n",
    "for k in range(K):\n",
    "    test_inds = np.array([False for i in range(n)])\n",
    "    test_inds[int(k*n/K):int((k+1)*n/K)] = True\n",
    "    \n",
    "    test_x = shuffled_x[test_inds]\n",
    "    test_x = np.array([test_x,test_x**2]).T\n",
    "    test_y = shuffled_y[test_inds]\n",
    "    \n",
    "    train_x = shuffled_x[~test_inds]\n",
    "    train_x = np.array([train_x,train_x**2]).T\n",
    "    train_y = shuffled_y[~test_inds]\n",
    "    \n",
    "    model_2 = lr.fit(X=train_x,y=train_y)\n",
    "    yhat = model_2.predict(test_x)\n",
    "    error += np.sum((test_y - yhat)**2)\n",
    "    \n",
    "error /= n\n",
    "print(error)"
   ]
  },
  {
   "cell_type": "markdown",
   "metadata": {},
   "source": [
    "## Regularização\n",
    "\n",
    "A validação cruzada é uma excelente solução para comparar um pequeno número de modelos. Contudo, ao considerarmos todos os modelos possíveis dados $p$ preditores, teremos de ajustar e testar $2^p$ modelos. Para $p$ grande, isso impossibilita a seleção de modelos através da validação cruzada.\n",
    "\n",
    "Veremos agora uma maneira de escolher um modelo de regressão sem que seja preciso testar o conjunto potência dos preditores.\n",
    "\n",
    "Para motivar o método em questão, vamos voltar ao exemplo anterior. Lembre-se de que a regressão polinomial de grau $n-1$ a partir de $n$ pontos é idêntica a interpolação polinomial desses pontos. O excesso de preditores na regressão linear costuma resultar em valores altos para os parâmetros. Isto pode ser verificado a seguir:"
   ]
  },
  {
   "cell_type": "code",
   "execution_count": 28,
   "metadata": {},
   "outputs": [
    {
     "name": "stderr",
     "output_type": "stream",
     "text": [
      "/Users/fabricio/anaconda2/envs/py3.5/lib/python3.5/site-packages/ipykernel_launcher.py:1: RankWarning: Polyfit may be poorly conditioned\n",
      "  \"\"\"Entry point for launching an IPython kernel.\n"
     ]
    },
    {
     "data": {
      "text/plain": [
       "array([ 6.64389193e-14, -1.02135899e-11,  6.95630281e-10, -2.70936649e-08,\n",
       "        6.32291611e-07, -7.37798133e-06, -4.10546175e-05,  3.55465897e-03,\n",
       "       -7.79399714e-02,  1.06593890e+00, -1.03076380e+01,  7.32114987e+01,\n",
       "       -3.85444010e+02,  1.49368139e+03, -4.17220058e+03,  8.08587261e+03,\n",
       "       -1.01805356e+04,  7.36051437e+03, -2.26402367e+03,  1.37639006e+00])"
      ]
     },
     "execution_count": 28,
     "metadata": {},
     "output_type": "execute_result"
    }
   ],
   "source": [
    "coef = np.polyfit(x,y,deg=19)\n",
    "coef"
   ]
  },
  {
   "cell_type": "markdown",
   "metadata": {},
   "source": [
    "A solução conhecida como **regularização** consiste em considerar **todos os preditores simultaneamente** e **penalizar** modelos com coeficientes (valores de parâmetros) muito elevados. Veremos a seguir dois tipos de regularização.\n",
    "\n",
    "### Regularização $L_1$ (LASSO)\n",
    "\n",
    "Consiste em impor uma restrição à soma dos módulos dos parâmetros $\\beta$ (exceto o intercepto $\\beta_0$):\n",
    "\n",
    "$$\n",
    "\\min_\\beta D(\\beta) = \\sum_{i=1}^n (y_i - f_\\beta(x_i))^2\\\\\n",
    "\\textrm{sujeito à $\\sum_{j=1}^p |\\beta_j| < s$}\n",
    "$$\n",
    "\n",
    "para alguma escolha de $s > 0$. Pode-se mostrar que isto é equivalente a\n",
    "\n",
    "$$\n",
    "\\min_\\beta \\sum_{i=1}^n (y_i - f_\\beta(x_i))^2 + \\alpha \\sum_{j=1}^p |\\beta_j|\n",
    "$$\n",
    "\n",
    "para algum $\\alpha(s) > 0$.\n",
    "\n",
    "O efeito do termo de \"penalização\" $\\alpha \\sum_{j=1}^p |\\beta_j|$ é forçar que os $\\beta$'s sejam menores. Note que não estamos mais otimizando o desvio $D(\\beta)$. Ou seja, os parâmetros encontrados não serão os parâmetros de quadrados mínimos.\n",
    "\n",
    "Com a presença do módulo no termo de penalização, esta função objetivo deixa de ser derivável. Felizmente, uma solução aproximada pode ser encontrada em tempo polinomial."
   ]
  },
  {
   "cell_type": "code",
   "execution_count": 48,
   "metadata": {
    "collapsed": true
   },
   "outputs": [],
   "source": [
    "x = x*1.0\n",
    "x_powers = np.array([np.power(x,i) for i in range(1,19)]).T\n",
    "#x_powers"
   ]
  },
  {
   "cell_type": "code",
   "execution_count": 54,
   "metadata": {},
   "outputs": [
    {
     "name": "stdout",
     "output_type": "stream",
     "text": [
      "2.1214901542478906 [ 9.71850356e-01  3.54654299e-03 -3.10308690e-04  1.24805949e-05\n",
      "  8.49748252e-07  2.50299909e-08  1.39669694e-10 -4.19188245e-11\n",
      " -3.79674990e-12 -2.31130423e-13 -1.15256639e-14 -4.85706029e-16\n",
      " -1.63063259e-17 -2.93979028e-19  1.52643412e-20  2.36499079e-21\n",
      "  1.99991736e-22  1.40399427e-23]\n"
     ]
    },
    {
     "name": "stderr",
     "output_type": "stream",
     "text": [
      "/Users/fabricio/anaconda2/envs/py3.5/lib/python3.5/site-packages/sklearn/linear_model/coordinate_descent.py:491: ConvergenceWarning: Objective did not converge. You might want to increase the number of iterations. Fitting data with very small alpha may cause precision problems.\n",
      "  ConvergenceWarning)\n"
     ]
    }
   ],
   "source": [
    "from sklearn.linear_model import Lasso\n",
    "\n",
    "lr1 = Lasso(alpha=0.1)\n",
    "lr1.fit(x_powers,y)\n",
    "print(lr1.intercept_,lr1.coef_)"
   ]
  },
  {
   "cell_type": "markdown",
   "metadata": {},
   "source": [
    "### Regularização $L_2$ (Ridge)\n",
    "\n",
    "A regularização $L_2$ é semelhante à $L_1$, mas usa a norma-2 como base para a penalização:\n",
    "\n",
    "$$\n",
    "\\min_\\beta D(\\beta) = \\sum_{i=1}^n (y_i - f_\\beta(x_i))^2\\\\\n",
    "\\textrm{sujeito à $\\sum_{j=1}^p \\beta_j^2 < s$}\n",
    "$$\n",
    "\n",
    "para alguma escolha de $s > 0$. Pode-se mostrar que isto é equivalente a\n",
    "\n",
    "$$\n",
    "\\min_\\beta  \\sum_{i=1}^n (y_i - f_\\beta(x_i))^2 + \\alpha \\sum_{j=1}^p \\beta_j^2\n",
    "$$\n",
    "\n",
    "para algum $\\alpha(s) > 0$.\n",
    "\n",
    "De novo, o efeito do termo de \"penalização\" $\\alpha \\sum_{j=1}^p \\beta_j^2$ é forçar que os $\\beta$'s sejam menores. Esta penalidade é maior que no LASSO para $|\\beta_j| > 1$, mas menores que naquele para $|\\beta_j| < 1$.\n",
    "\n",
    "Ao contrário do LASSO, a solução exata para o Ridge pode ser calculada em tempo polinomial. Esta solução é dada por\n",
    "\n",
    "$$\n",
    "\\beta = (X^\\top X + \\alpha \\mathbf{I})^{-1} X^\\top y.\n",
    "$$"
   ]
  },
  {
   "cell_type": "code",
   "execution_count": 63,
   "metadata": {},
   "outputs": [
    {
     "name": "stdout",
     "output_type": "stream",
     "text": [
      "4.505986784549927 [ 1.36516031e+00 -4.83493572e-07  1.11678717e-04  7.91826901e-02\n",
      "  4.14803667e-01 -7.35158137e-01  5.06316510e-01 -1.99025341e-01\n",
      "  5.10051809e-02 -9.08752555e-03  1.16429368e-03 -1.08983126e-04\n",
      "  7.47148221e-06 -3.71220470e-07  1.30126700e-08 -3.05146107e-10\n",
      "  4.29533208e-12 -2.74382777e-14]\n"
     ]
    }
   ],
   "source": [
    "from sklearn.linear_model import Ridge\n",
    "\n",
    "lr2 = Ridge(alpha=0.1)\n",
    "lr2.fit(x_powers,y)\n",
    "print(lr2.intercept_,lr2.coef_)"
   ]
  },
  {
   "cell_type": "markdown",
   "metadata": {},
   "source": [
    "### Material suplementar\n",
    "\n",
    "[Complete tutorial Ridge and Lasso Regression in Python](https://www.analyticsvidhya.com/blog/2016/01/complete-tutorial-ridge-lasso-regression-python/)"
   ]
  }
 ],
 "metadata": {
  "anaconda-cloud": {},
  "kernelspec": {
   "display_name": "Python 2",
   "language": "python",
   "name": "python2"
  },
  "language_info": {
   "codemirror_mode": {
    "name": "ipython",
    "version": 2
   },
   "file_extension": ".py",
   "mimetype": "text/x-python",
   "name": "python",
   "nbconvert_exporter": "python",
   "pygments_lexer": "ipython2",
   "version": "2.7.13"
  }
 },
 "nbformat": 4,
 "nbformat_minor": 1
}
