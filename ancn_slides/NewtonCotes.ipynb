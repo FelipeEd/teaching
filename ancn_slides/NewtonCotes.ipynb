{
 "cells": [
  {
   "cell_type": "markdown",
   "metadata": {},
   "source": [
    "# Fórmulas de Newton-Cotes (em construção)\n",
    "\n",
    "As fórmulas de Netwon-Cotes representam um dos métodos de Integração Numérica. A ideia é aproximar segmentos da função $f(x)$ a ser integrada por um polinômio (ou seja, através da interpolação polinomial). As abcissas escolhidas para formar a partição são igualmente espaçadas.\n",
    "\n",
    "Alguns casos especiais têm nomes específicos:\n",
    "\n",
    "* polinômios de grau 1: método dos trapézios\n",
    "* polinômios de grau 2: regra do 1/3 de Simpson\n",
    "* polinômios de grau 3: regra dos 3/8 de Simpson"
   ]
  },
  {
   "cell_type": "markdown",
   "metadata": {},
   "source": [
    "## Método dos trapézios\n",
    "\n",
    "Desejamos calcular a integral de uma função $f(x)$ no intervalo $[a,b]$. Vamos dividir o intervalo $[a,b]$ em $m$ partes iguais:\n",
    "\n",
    "$$\n",
    "    x_0 = a, x_1 = a + h, x_2 = a + 2h, \\ldots x_m = a + mh,\n",
    "$$\n",
    "\n",
    "onde $h = \\frac{b-a}{m}$. O método dos trapézios aproxima a função $f$ no intervalo $[x_i, x_{i+1}]$ por uma reta. \n",
    "\n",
    "[Desenvolvido no quadro]\n",
    "\n",
    "Fórmula:\n",
    "\n",
    "$$\n",
    "I_1 = \\frac{h}{2} [f(x_0) + 2f(x_1) + 2f(x_2) + \\ldots + 2f(x_{m-1}) + f(x_m)]\n",
    "$$"
   ]
  },
  {
   "cell_type": "code",
   "execution_count": 3,
   "metadata": {},
   "outputs": [
    {
     "data": {
      "text/plain": [
       "10.0"
      ]
     },
     "execution_count": 3,
     "metadata": {},
     "output_type": "execute_result"
    }
   ],
   "source": [
    "def metodoTrapezios(x, y):\n",
    "    h =                    # calcula tamanho do intervalo\n",
    "    m =                    # numero de segmentos\n",
    "    I =                    # 1*primeiro ponto\n",
    "    for i in range():      # 2*pontos internos\n",
    "        I += \n",
    "    I +=                   # 1*ultimo ponto\n",
    "    I *= h/2.0\n",
    "    return I\n",
    "\n",
    "metodoTrapezios([1,2,3],[3,5,7]) # teste de sanidade"
   ]
  },
  {
   "cell_type": "markdown",
   "metadata": {},
   "source": [
    "## Regra do 1/3 de Simpson\n",
    "\n",
    "Desta vez, cada três pontos serão usados para aproximar a função por uma parábola. Por esta razão, o número de segmentos deve ser par, i.e. $n = 2k$ para $k=1,2,\\ldots$.\n",
    "\n",
    "[Desenvolvido no quadro]\n",
    "\n",
    "Fórmula:\n",
    "\n",
    "$$\n",
    "I_2 = \\frac{h}{3} [f(x_0) + 4f(x_1) + 2f(x_2) + 4f(x_3) + 2f(x_4) + \\ldots + 4f(x_{m-1}) + f(x_m)]\n",
    "$$"
   ]
  },
  {
   "cell_type": "code",
   "execution_count": 5,
   "metadata": {},
   "outputs": [
    {
     "data": {
      "text/plain": [
       "3.1416000000000004"
      ]
     },
     "execution_count": 5,
     "metadata": {},
     "output_type": "execute_result"
    }
   ],
   "source": [
    "def primeiraRegraSimpson(x, y):\n",
    "    h = x[1]-x[0]                   # calcula tamanho do intervalo\n",
    "    m = len(y)-1                   # numero de segmentos\n",
    "    I = y[0]                   # 1*primeiro ponto\n",
    "    for i in range(1,m):       # pontos internos * 4,2,4,2,...,4\n",
    "        if i% ??? == ???:\n",
    "            I +=\n",
    "        else:\n",
    "            I +=\n",
    "    I += y[m]                  # 1*ultimo ponto\n",
    "    I *= h/3.0\n",
    "    return I\n",
    "\n",
    "# Exemplo 6: calculo de Pi\n",
    "4*primeiraRegraSimpson([0,.25,.5,.75,1],[1,0.9412,0.8,0.64,0.5])"
   ]
  },
  {
   "cell_type": "markdown",
   "metadata": {},
   "source": [
    "## Regra dos 3/8 de Simpson\n",
    "\n",
    "Desta vez, cada quatro pontos serão usados para aproximar a função por uma cúbica. Por esta razão, o número de segmentos deve ser múltiplo de três, i.e. $n = 3k$ para $k=1,2,\\ldots$.\n",
    "\n",
    "[Desenvolvido no quadro]\n",
    "\n",
    "Fórmula:\n",
    "\n",
    "$$\n",
    "I_3 = \\frac{3h}{8} [f(x_0) + 3f(x_1) + 3f(x_2) + 2f(x_3) + 3f(x_4) + \\ldots + 3f(x_{m-1}) + f(x_m)]\n",
    "$$"
   ]
  },
  {
   "cell_type": "code",
   "execution_count": 8,
   "metadata": {},
   "outputs": [
    {
     "data": {
      "text/plain": [
       "8.56329375"
      ]
     },
     "execution_count": 8,
     "metadata": {},
     "output_type": "execute_result"
    }
   ],
   "source": [
    "def segundaRegraSimpson(x, y):\n",
    "    h = x[1]-x[0]                   # calcula tamanho do intervalo\n",
    "    n = len(y)-1                   # numero de segmentos\n",
    "    I = y[0]                   # 1*primeiro ponto\n",
    "    for i in range(1,m):       # pontos internos * 3,3,2,3,3,2,...,3,3\n",
    "        if i%??? != ???:\n",
    "            I +=\n",
    "        else:\n",
    "            I +=\n",
    "    I += y[m]                  # 1*ultimo ponto\n",
    "    I *= 3.0*h/8\n",
    "    return I\n",
    "\n",
    "# Exemplo 8\n",
    "segundaRegraSimpson([1,1.5,2,2.5,3,3.5,4],[1.0744,1.7433,2.3884,2.9578,3.4529,3.8860,4.2691])"
   ]
  }
 ],
 "metadata": {
  "kernelspec": {
   "display_name": "Python 2",
   "language": "python",
   "name": "python2"
  },
  "language_info": {
   "codemirror_mode": {
    "name": "ipython",
    "version": 2
   },
   "file_extension": ".py",
   "mimetype": "text/x-python",
   "name": "python",
   "nbconvert_exporter": "python",
   "pygments_lexer": "ipython2",
   "version": "2.7.13"
  }
 },
 "nbformat": 4,
 "nbformat_minor": 2
}
