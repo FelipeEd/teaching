{
 "cells": [
  {
   "cell_type": "markdown",
   "metadata": {},
   "source": [
    "# Decomposição em valores singulares (SVD ou singular value decomposition)\n",
    "\n",
    "<i>Créditos: grande parte deste notebook foi traduzido de https://github.com/fastai/numerical-linear-algebra</i>\n",
    "\n",
    "## Aplicação: modelagem de tópicos\n",
    "\n",
    "Uma aplicação importante de fatoração de matrizes é a modelagem de tópicos. Seja a **matriz termos por documentos**:\n",
    "\n",
    "<img src=\"images/document_term.png\" alt=\"term-document matrix\" style=\"width: 80%\"/>\n",
    "(Source: [Introduction to Information Retrieval](http://player.slideplayer.com/15/4528582/#))\n",
    "\n",
    "Podemos decompô-la em uma matriz alta e magra multiplicada por uma matriz curta e larga (possivelmente com uma matriz diagonal no meio).\n",
    "\n",
    "Note que esta representação não leva em conta a ordem das palavras ou a estrutura da frase. Este é um exemplo de abordagem **bag of words**."
   ]
  },
  {
   "cell_type": "markdown",
   "metadata": {},
   "source": [
    "## Motivação\n",
    "\n",
    "Considere o caso mais extremo: reconstruir a matriz usando um produto externo de dois vetores. Claramente, na maior parte dos casos não seremos capazes de reconstruir a matriz de maneira exata. Porém, usando um vetor com a frequência relativa de cada palavra e um com o número de palavras por documento, então o produto externo vai estar quase tão perto quanto possível.\n",
    "\n",
    "Agora considere aumentar estas matrizes para duas colunas e duas linhas. A decomposição ótima agora seria agrupar (clusterizar) os documentos em dois grupos, cada um com uma distribuição de palavras tão diferente quanto possível da outra, mas tão similar quanto possível aos outros documentos no grupo. Nós iremos chamar estes dois grupos de \"tópicos\". Vamos agrupar as palavras em dois grupos, baseados naqueles que aparecem mais frequentemente em cada um dos tópicos."
   ]
  },
  {
   "cell_type": "markdown",
   "metadata": {},
   "source": [
    "## No restante da aula de hoje\n",
    "\n",
    "Vamos pegar um dataset de documentos com categorias diferentes, encontrar os tópicos (que consistem em grupos de palavras) para eles. Neste caso, conhecer as categorias reais nos ajuda a avaliar se os tópicos encontrados fazem sentido.\n",
    "\n",
    "Iremos fazer isso através do **Singular Value Decomposition (SVD)**."
   ]
  },
  {
   "cell_type": "code",
   "execution_count": 1,
   "metadata": {
    "collapsed": true
   },
   "outputs": [],
   "source": [
    "import numpy as np\n",
    "from sklearn.datasets import fetch_20newsgroups\n",
    "from sklearn import decomposition\n",
    "from scipy import linalg\n",
    "import matplotlib.pyplot as plt"
   ]
  },
  {
   "cell_type": "code",
   "execution_count": 2,
   "metadata": {
    "collapsed": true
   },
   "outputs": [],
   "source": [
    "%matplotlib inline\n",
    "np.set_printoptions(suppress=True)"
   ]
  },
  {
   "cell_type": "markdown",
   "metadata": {},
   "source": [
    "## Material suplementar\n",
    "- [Data source](http://scikit-learn.org/stable/datasets/twenty_newsgroups.html): Newsgroups are discussion groups on Usenet, which was popular in the 80s and 90s before the web really took off.  This dataset includes 18,000 newsgroups posts with 20 topics.\n",
    "- [Chris Manning's book chapter](https://nlp.stanford.edu/IR-book/pdf/18lsi.pdf) on matrix factorization and LSI \n",
    "- Scikit learn [truncated SVD LSI details](http://scikit-learn.org/stable/modules/decomposition.html#lsa)\n",
    "\n",
    "### Outros tutoriais\n",
    "- [Scikit-Learn: Out-of-core classification of text documents](http://scikit-learn.org/stable/auto_examples/applications/plot_out_of_core_classification.html): uses [Reuters-21578](https://archive.ics.uci.edu/ml/datasets/reuters-21578+text+categorization+collection) dataset (Reuters articles labeled with ~100 categories), HashingVectorizer\n",
    "- [Text Analysis with Topic Models for the Humanities and Social Sciences](https://de.dariah.eu/tatom/index.html): uses [British and French Literature dataset](https://de.dariah.eu/tatom/datasets.html) of Jane Austen, Charlotte Bronte, Victor Hugo, and more"
   ]
  },
  {
   "cell_type": "markdown",
   "metadata": {},
   "source": [
    "## Preparando os dados\n",
    "\n",
    "Scikit Learn vem com vários datasets incluídos, além de ferramentas de carregamento para carregar diversos datasets externos padrão. Este é um [ótimo recurso](http://scikit-learn.org/stable/datasets/). Os Datasets incluem preços das moradias em Boston, imagens faciais, patches de floresta, diabetes, câncer de mama, e outros. Vamos usar o dataset de newsgroups.\n",
    "\n",
    "Newsgroups são grupos de discussão criados no Usenet, que era uma rede popular nos anos 80 e 90 antes da web realmente estourar. Este dataset inclui 18000 posts em newsgroups espalhados em 20 tópicos.  "
   ]
  },
  {
   "cell_type": "code",
   "execution_count": 3,
   "metadata": {
    "collapsed": false
   },
   "outputs": [],
   "source": [
    "categories = ['alt.atheism', 'talk.religion.misc', 'comp.graphics', 'sci.space']\n",
    "remove = ('headers', 'footers', 'quotes')\n",
    "newsgroups_train = fetch_20newsgroups(subset='train', categories=categories, remove=remove)\n",
    "newsgroups_test = fetch_20newsgroups(subset='test', categories=categories, remove=remove)"
   ]
  },
  {
   "cell_type": "code",
   "execution_count": 4,
   "metadata": {
    "collapsed": false
   },
   "outputs": [
    {
     "data": {
      "text/plain": [
       "((2034,), (2034,))"
      ]
     },
     "execution_count": 4,
     "metadata": {},
     "output_type": "execute_result"
    }
   ],
   "source": [
    "newsgroups_train.filenames.shape, newsgroups_train.target.shape"
   ]
  },
  {
   "cell_type": "markdown",
   "metadata": {},
   "source": [
    "Vamos dar uma olhada nos dados. Você consegue advinhar em que categoria estão estas mensagens?"
   ]
  },
  {
   "cell_type": "code",
   "execution_count": 8,
   "metadata": {
    "collapsed": false
   },
   "outputs": [
    {
     "name": "stdout",
     "output_type": "stream",
     "text": [
      "Hi,\n",
      "\n",
      "I've noticed that if you only save a model (with all your mapping planes\n",
      "positioned carefully) to a .3DS file that when you reload it after restarting\n",
      "3DS, they are given a default position and orientation.  But if you save\n",
      "to a .PRJ file their positions/orientation are preserved.  Does anyone\n",
      "know why this information is not stored in the .3DS file?  Nothing is\n",
      "explicitly said in the manual about saving texture rules in the .PRJ file. \n",
      "I'd like to be able to read the texture rule information, does anyone have \n",
      "the format for the .PRJ file?\n",
      "\n",
      "Is the .CEL file format available from somewhere?\n",
      "\n",
      "Rych\n",
      "\n",
      "\n",
      "Seems to be, barring evidence to the contrary, that Koresh was simply\n",
      "another deranged fanatic who thought it neccessary to take a whole bunch of\n",
      "folks with him, children and all, to satisfy his delusional mania. Jim\n",
      "Jones, circa 1993.\n",
      "\n",
      "\n",
      "Nope - fruitcakes like Koresh have been demonstrating such evil corruption\n",
      "for centuries.\n",
      "\n",
      " >In article <1993Apr19.020359.26996@sq.sq.com>, msb@sq.sq.com (Mark Brader) \n",
      "\n",
      "MB>                                                             So the\n",
      "MB> 1970 figure seems unlikely to actually be anything but a perijove.\n",
      "\n",
      "JG>Sorry, _perijoves_...I'm not used to talking this language.\n",
      "\n",
      "Couldn't we just say periapsis or apoapsis?\n",
      "\n",
      " \n"
     ]
    }
   ],
   "source": [
    "print(\"\\n\".join(newsgroups_train.data[:3]))"
   ]
  },
  {
   "cell_type": "markdown",
   "metadata": {},
   "source": [
    "**Dica**: Definition of perijove. plural -s. : the point in the orbit of a satellite of Jupiter nearest the planet's center — compare apojove.\n",
    "\n",
    "Source: Merriam-Webster"
   ]
  },
  {
   "cell_type": "code",
   "execution_count": 9,
   "metadata": {
    "collapsed": false
   },
   "outputs": [
    {
     "data": {
      "text/plain": [
       "array(['comp.graphics', 'talk.religion.misc', 'sci.space'], \n",
       "      dtype='|S18')"
      ]
     },
     "execution_count": 9,
     "metadata": {},
     "output_type": "execute_result"
    }
   ],
   "source": [
    "np.array(newsgroups_train.target_names)[newsgroups_train.target[:3]]"
   ]
  },
  {
   "cell_type": "markdown",
   "metadata": {},
   "source": [
    "O atributo *target* é o índice da categoria (número inteiro)."
   ]
  },
  {
   "cell_type": "code",
   "execution_count": 10,
   "metadata": {
    "collapsed": false
   },
   "outputs": [
    {
     "data": {
      "text/plain": [
       "array([1, 3, 2, 0, 2, 0, 2, 1, 2, 1])"
      ]
     },
     "execution_count": 10,
     "metadata": {},
     "output_type": "execute_result"
    }
   ],
   "source": [
    "newsgroups_train.target[:10]"
   ]
  },
  {
   "cell_type": "markdown",
   "metadata": {},
   "source": [
    "A seguir, usaremos um método do scikit learn que irá calcular todos os *word counts* (contagem de palavras)."
   ]
  },
  {
   "cell_type": "code",
   "execution_count": 11,
   "metadata": {
    "collapsed": false
   },
   "outputs": [
    {
     "data": {
      "text/plain": [
       "(2034, 26577)"
      ]
     },
     "execution_count": 11,
     "metadata": {},
     "output_type": "execute_result"
    }
   ],
   "source": [
    "from sklearn.feature_extraction.text import CountVectorizer, TfidfVectorizer\n",
    "\n",
    "vectorizer = CountVectorizer(stop_words='english')\n",
    "vectors = vectorizer.fit_transform(newsgroups_train.data).todense() # (documents, vocab)\n",
    "vectors.shape #, vectors.nnz / vectors.shape[0], row_means.shape"
   ]
  },
  {
   "cell_type": "code",
   "execution_count": 13,
   "metadata": {
    "collapsed": false
   },
   "outputs": [
    {
     "name": "stdout",
     "output_type": "stream",
     "text": [
      "(2034, (2034, 26577))\n"
     ]
    }
   ],
   "source": [
    "print(len(newsgroups_train.data), vectors.shape)"
   ]
  },
  {
   "cell_type": "code",
   "execution_count": 14,
   "metadata": {
    "collapsed": true
   },
   "outputs": [],
   "source": [
    "vocab = np.array(vectorizer.get_feature_names())\n",
    "vocab.shape"
   ]
  },
  {
   "cell_type": "code",
   "execution_count": null,
   "metadata": {
    "collapsed": true
   },
   "outputs": [],
   "source": [
    "vocab[7000:7020]"
   ]
  },
  {
   "cell_type": "markdown",
   "metadata": {},
   "source": [
    "## Singular Value Decomposition\n",
    "\n",
    "\"SVD is not nearly as famous as it should be.\" - Gilbert Strang\n",
    "\n",
    "Nota: Vamos assumir que as entradas das matrizes são números reais.\n",
    "\n",
    "É de se esperar que as palavras que aparecem com mais frequência em um tópico apareçam com menos frequência no outro - caso contrário a palavra não seria uma boa escolha para separar os dois tópicos. Portanto, esperamos que os tópicos sejam **ortogonais**.\n",
    "\n",
    "O algoritmo SVD fatora uma matriz em uma matriz com **colunas ortogonais** e uma com **linhas ortogonais**, em conjunto  com uma matriz diagonal, que contém a **importância relativa** de cada fator).\n",
    "\n",
    "<img src=\"images/svd_fb.png\" alt=\"\" style=\"width: 80%\"/>\n",
    "(source: [Facebook Research: Fast Randomized SVD](https://research.fb.com/fast-randomized-svd/))\n",
    "\n",
    "SVD é uma **decomposição exata**, dado que as matrizes que ela retorna são grandes o suficiente para cobrir a matriz original inteira. SVD é extremamente utilizado em álgebra linear, e especificamente em ciência dos dados para:\n",
    "\n",
    "- análise semântica\n",
    "- filtragem colaborativa / sistemas de recomendação ([winning entry for Netflix Prize](https://datajobs.com/data-science-repo/Recommender-Systems-%5BNetflix%5D.pdf))\n",
    "- calcular a pseudo-inversa Moore-Penrose\n",
    "- compressão de dados\n",
    "- principal component analysis"
   ]
  },
  {
   "cell_type": "markdown",
   "metadata": {},
   "source": [
    "O SVD pode ser visto como uma generalização da decomposição espectral (em autovalores e autovetores) para matrizes não-quadradas. A ideia é encontrar a fatorar a matriz $A_{m \\times n}$ em\n",
    "\n",
    "$$A = U \\Sigma V^\\top$$\n",
    "\n",
    "onde:\n",
    " * $U$ é uma matriz ortogonal $m \\times m$;\n",
    " * $\\Sigma$ é uma matriz retangular diagonal $m \\times n$ com números reais não-negativos na diagonal;\n",
    " * $V$ é uma matriz ortogonal $n \\times n$.\n",
    " \n",
    "Os elementos da diagonal de $\\Sigma$ são chamados valores singulares de $A$. As colunas de $U$ e de $V$ são chamadas vetores singulares esquerdos (*left singular vectors*) e direitos (*right singular vectors*) de $A$, respectivamente.\n",
    "\n",
    "**Observação:** quando $m > n$, as colunas $n+1,\\ldots,m$ de $U$ serão multiplicadas pelos zeros de $\\Sigma$. Na prática, utilizamos a versão reduzida do SVD, onde $U$ é $m \\times n$ e $\\Sigma$ é $n \\times n$.  "
   ]
  },
  {
   "cell_type": "code",
   "execution_count": 17,
   "metadata": {
    "collapsed": false
   },
   "outputs": [
    {
     "name": "stdout",
     "output_type": "stream",
     "text": [
      "CPU times: user 48.4 s, sys: 2.27 s, total: 50.7 s\n",
      "Wall time: 27.8 s\n"
     ]
    }
   ],
   "source": [
    "%time U, s, Vt = linalg.svd(vectors, full_matrices=False)"
   ]
  },
  {
   "cell_type": "code",
   "execution_count": null,
   "metadata": {
    "collapsed": true
   },
   "outputs": [],
   "source": [
    "print(U.shape, s.shape, Vt.shape)"
   ]
  },
  {
   "cell_type": "markdown",
   "metadata": {},
   "source": [
    "Confirme que esta é uma decomposição da entrada."
   ]
  },
  {
   "cell_type": "code",
   "execution_count": null,
   "metadata": {
    "collapsed": true
   },
   "outputs": [],
   "source": [
    "#Resposta:"
   ]
  },
  {
   "cell_type": "markdown",
   "metadata": {},
   "source": [
    "Confirme que U e V são ortogonais."
   ]
  },
  {
   "cell_type": "code",
   "execution_count": null,
   "metadata": {
    "collapsed": true
   },
   "outputs": [],
   "source": [
    "#Resposta:"
   ]
  },
  {
   "cell_type": "markdown",
   "metadata": {},
   "source": [
    "## Tópicos\n",
    "\n",
    "O que podemos dizer a respeito dos valores singulares $s$?"
   ]
  },
  {
   "cell_type": "code",
   "execution_count": 18,
   "metadata": {
    "collapsed": false
   },
   "outputs": [
    {
     "data": {
      "image/png": "[encoded data removed]",
      "text/plain": [
       "<matplotlib.figure.Figure at 0x11276a090>"
      ]
     },
     "metadata": {},
     "output_type": "display_data"
    }
   ],
   "source": [
    "plt.plot(s);"
   ]
  },
  {
   "cell_type": "code",
   "execution_count": 19,
   "metadata": {
    "collapsed": true
   },
   "outputs": [],
   "source": [
    "num_top_words=8\n",
    "\n",
    "def show_topics(a):\n",
    "    top_words = lambda t: [vocab[i] for i in np.argsort(t)[:-num_top_words-1:-1]]\n",
    "    topic_words = ([top_words(t) for t in a])\n",
    "    return [' '.join(t) for t in topic_words]"
   ]
  },
  {
   "cell_type": "code",
   "execution_count": 20,
   "metadata": {
    "collapsed": false
   },
   "outputs": [
    {
     "data": {
      "text/plain": [
       "[u'ditto critus propagandist surname galacticentric kindergarten surreal imaginative',\n",
       " u'jpeg gif file color quality image jfif format',\n",
       " u'graphics edu pub mail 128 3d ray ftp',\n",
       " u'jesus god matthew people atheists atheism does graphics',\n",
       " u'image data processing analysis software available tools display',\n",
       " u'god atheists atheism religious believe religion argument true',\n",
       " u'space nasa lunar mars probe moon missions probes',\n",
       " u'image probe surface lunar mars probes moon orbit',\n",
       " u'argument fallacy conclusion example true ad argumentum premises',\n",
       " u'space larson image theory universe physical nasa material']"
      ]
     },
     "execution_count": 20,
     "metadata": {},
     "output_type": "execute_result"
    }
   ],
   "source": [
    "show_topics(Vt[:10])"
   ]
  },
  {
   "cell_type": "markdown",
   "metadata": {},
   "source": [
    "Nós obtivemos tópicos que casam com os tipos de clustes que espávamos! Isto acontece apesar deste ser um **algoritmo não-supervisionado**, ou seja, nunca dissemos para o algoritmo como é que os documentos estavam agrupados."
   ]
  },
  {
   "cell_type": "code",
   "execution_count": 51,
   "metadata": {
    "collapsed": false
   },
   "outputs": [
    {
     "name": "stdout",
     "output_type": "stream",
     "text": [
      "['comp.graphics' 'talk.religion.misc' 'sci.space' 'alt.atheism' 'sci.space'\n",
      " 'alt.atheism' 'sci.space' 'comp.graphics' 'sci.space' 'comp.graphics']\n"
     ]
    }
   ],
   "source": [
    "target_names = np.array(newsgroups_train.target_names)[newsgroups_train.target[:10]]\n",
    "print(target_names)"
   ]
  },
  {
   "cell_type": "code",
   "execution_count": 67,
   "metadata": {
    "collapsed": false
   },
   "outputs": [
    {
     "name": "stdout",
     "output_type": "stream",
     "text": [
      "[10287  1152 19067  8554 10606]\n"
     ]
    }
   ],
   "source": [
    "yhat = (U[0,:]*s).dot(Vt)\n",
    "\n",
    "num_doc_words = 5\n",
    "inds = np.argsort(yhat)[:-num_doc_words-1:-1]\n",
    "print(inds)"
   ]
  },
  {
   "cell_type": "code",
   "execution_count": 68,
   "metadata": {
    "collapsed": false
   },
   "outputs": [
    {
     "data": {
      "text/plain": [
       "array([u'file', u'3ds', u'prj', u'does', u'format'], \n",
       "      dtype='<U80')"
      ]
     },
     "execution_count": 68,
     "metadata": {},
     "output_type": "execute_result"
    }
   ],
   "source": [
    "vocab[inds]"
   ]
  },
  {
   "cell_type": "code",
   "execution_count": 70,
   "metadata": {
    "collapsed": false
   },
   "outputs": [
    {
     "data": {
      "text/plain": [
       "[<matplotlib.lines.Line2D at 0x10baedb90>]"
      ]
     },
     "execution_count": 70,
     "metadata": {},
     "output_type": "execute_result"
    },
    {
     "data": {
      "image/png": "[encoded data removed]",
      "text/plain": [
       "<matplotlib.figure.Figure at 0x10ba8d0d0>"
      ]
     },
     "metadata": {},
     "output_type": "display_data"
    }
   ],
   "source": [
    "Us = U[0,:]*s\n",
    "plt.plot(Us)"
   ]
  },
  {
   "cell_type": "code",
   "execution_count": 72,
   "metadata": {
    "collapsed": false
   },
   "outputs": [
    {
     "data": {
      "text/plain": [
       "383"
      ]
     },
     "execution_count": 72,
     "metadata": {},
     "output_type": "execute_result"
    }
   ],
   "source": [
    "np.argmax(Us)"
   ]
  },
  {
   "cell_type": "code",
   "execution_count": 74,
   "metadata": {
    "collapsed": false
   },
   "outputs": [
    {
     "data": {
      "text/plain": [
       "[u'read file koran linux mode given list interesting']"
      ]
     },
     "execution_count": 74,
     "metadata": {},
     "output_type": "execute_result"
    }
   ],
   "source": [
    "show_topics(Vt[383:384])"
   ]
  },
  {
   "cell_type": "code",
   "execution_count": null,
   "metadata": {
    "collapsed": true
   },
   "outputs": [],
   "source": []
  }
 ],
 "metadata": {
  "kernelspec": {
   "display_name": "Python [Root]",
   "language": "python",
   "name": "Python [Root]"
  },
  "language_info": {
   "codemirror_mode": {
    "name": "ipython",
    "version": 2
   },
   "file_extension": ".py",
   "mimetype": "text/x-python",
   "name": "python",
   "nbconvert_exporter": "python",
   "pygments_lexer": "ipython2",
   "version": "2.7.12"
  }
 },
 "nbformat": 4,
 "nbformat_minor": 2
}
