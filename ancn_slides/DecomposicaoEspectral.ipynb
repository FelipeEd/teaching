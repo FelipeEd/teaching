{
 "cells": [
  {
   "cell_type": "markdown",
   "metadata": {},
   "source": [
    "# PageRank e Decomposição espectral\n",
    "\n",
    "*Créditos: grande parte deste notebook foi traduzido de* https://github.com/fastai/numerical-linear-algebra\n",
    "\n",
    "### Dois truques muito úteis\n",
    "\n",
    "Aqui descrevemos duas ferramentas que vamos usar hoje, que são úteis de maneira geral.\n",
    "\n",
    "1\\. [Psutil](https://github.com/giampaolo/psutil) é uma ótima maneira de checar a utilização de memória. Isso vai ser útil pois iremos trabalhar com um dataset grande."
   ]
  },
  {
   "cell_type": "code",
   "execution_count": 48,
   "metadata": {},
   "outputs": [
    {
     "data": {
      "text/plain": [
       "(5964115968, 1541984256)"
      ]
     },
     "execution_count": 48,
     "metadata": {},
     "output_type": "execute_result"
    }
   ],
   "source": [
    "import psutil\n",
    "import os\n",
    "process = psutil.Process(os.getpid())\n",
    "t = process.memory_info()\n",
    "t.vms, t.rss"
   ]
  },
  {
   "cell_type": "code",
   "execution_count": 49,
   "metadata": {},
   "outputs": [],
   "source": [
    "def mem_usage():\n",
    "    process = psutil.Process(os.getpid())\n",
    "    return process.memory_info().rss * 1.0 / psutil.virtual_memory().total"
   ]
  },
  {
   "cell_type": "code",
   "execution_count": 50,
   "metadata": {},
   "outputs": [
    {
     "data": {
      "text/plain": [
       "0.17951059341430664"
      ]
     },
     "execution_count": 50,
     "metadata": {},
     "output_type": "execute_result"
    }
   ],
   "source": [
    "mem_usage()"
   ]
  },
  {
   "cell_type": "markdown",
   "metadata": {},
   "source": [
    "2\\. [TQDM](https://github.com/tqdm/tqdm) gives you progress bars."
   ]
  },
  {
   "cell_type": "code",
   "execution_count": 51,
   "metadata": {},
   "outputs": [
    {
     "name": "stdout",
     "output_type": "stream",
     "text": [
      "45\n"
     ]
    }
   ],
   "source": [
    "from time import sleep\n",
    "# Without TQDM\n",
    "s = 0\n",
    "for i in range(10):\n",
    "    s += i\n",
    "    sleep(0.2)\n",
    "print(s)"
   ]
  },
  {
   "cell_type": "code",
   "execution_count": 52,
   "metadata": {},
   "outputs": [
    {
     "name": "stderr",
     "output_type": "stream",
     "text": [
      "100%|██████████| 20/20 [00:04<00:00,  4.91it/s]"
     ]
    },
    {
     "name": "stdout",
     "output_type": "stream",
     "text": [
      "190\n"
     ]
    },
    {
     "name": "stderr",
     "output_type": "stream",
     "text": [
      "\n"
     ]
    }
   ],
   "source": [
    "# With TQDM\n",
    "from tqdm import tqdm\n",
    "\n",
    "s = 0\n",
    "for i in tqdm(range(20)):\n",
    "    s += i\n",
    "    sleep(0.2)\n",
    "print(s)"
   ]
  },
  {
   "cell_type": "markdown",
   "metadata": {},
   "source": [
    "### Maneiras de pensar no SVD\n",
    "\n",
    "- Compressão de dados\n",
    "- SVD truncado permite substituir um conjunto grande de features por um conjunto pequeno de boas features\n",
    "\n",
    "### SVD sob outras perspectivas\n",
    "\n",
    "Nós normalmente descrevemos o SVD em termos de matrizes, $$A = U \\Sigma V^\\top,$$ mas também podemos descrevê-lo em termos de vetores.  SVD nos dá conjunto de vetores ortonormais ${v_j}$ e ${u_j}$ tais que $$ A v_j = \\sigma_j u_j $$\n",
    "\n",
    "onde $\\sigma_j$ são escalares, chamados valores singulares.\n",
    "\n",
    "**Q**: Isso nos lembra de alguma coisa?\n"
   ]
  },
  {
   "cell_type": "markdown",
   "metadata": {},
   "source": [
    "**Resposta**\n",
    "\n",
    "**Relação entre SVD e Decomposição Espectral**: os vetores singulares esquerdos de A são os autovetores de $AA^\\top$. os vetores singulares direitos de A são os autovetores de $A^\\top A$. Os valores singulares não-nulos de A são as raízes quadradas dos autovalores de $A^\\top A$ (e $A A^\\top$).\n",
    "\n",
    "SVD é uma generalização da decomposição espectral. Nem todas as matrizes tem autovalores, mas TODAS tem valores singulares.\n",
    "\n",
    "Vamos deixar o SVD de lado por um tempo e falar de como encontrar os autovalores de uma matriz definida positiva..."
   ]
  },
  {
   "cell_type": "markdown",
   "metadata": {},
   "source": [
    "## Hoje: decomposição espectral\n",
    "\n",
    "Os melhores métodos clássicos para computar o SVD são variantes de métodos para computar autovalores. Além da sua relação com o SVD, a decomposição espectral é útil por si só. Seguem abaixo alguns exemplos de aplicações da decomposição espectral:\n",
    "\n",
    "- [calcular potências de matrizes rapidamente](http://www.onmyphd.com/?p=eigen.decomposition#h2_why)\n",
    "- [n-ésimo número de Fibonacci](http://mathproofs.blogspot.com/2005/04/nth-term-of-fibonacci-sequence.html)\n",
    "- Comportamento de EDOs\n",
    "- Cadeias de Markov (Page Rank e muitos outro)\n",
    "- [Linear Discriminant Analysis no dataset Iris](http://sebastianraschka.com/Articles/2014_python_lda.html)"
   ]
  },
  {
   "cell_type": "markdown",
   "metadata": {},
   "source": [
    "\"Eigenvalues are a way to see into the heart of a matrix... All the difficulties of matrices are swept away\" - Gilbert Strang\n",
    "\n",
    "**Teoremas relevantes:**\n",
    "\n",
    "* Se A é simétrica, os autovalores de A são reais e $A=Q\\Lambda Q^\\top$, onde $Q$ é ortonormal.\n",
    "* Se A é triangular, seus autovalores são...?"
   ]
  },
  {
   "cell_type": "markdown",
   "metadata": {},
   "source": [
    "## Dataset DBpedia\n",
    "\n",
    "Vamos começar com o **Power Method** (método da potência?), que encontra um autovetor. Talvez você esteja se perguntando *De que me serve um único autovetor?*  Na verdade, esta é a base do PageRank (leia [O autovetor de $25,000,000,000: a álgebra linear por trás do Google](http://www.rose-hulman.edu/~bryan/googleFinalVersionFixed.pdf) para maiores informações)\n",
    "\n",
    "Em vez de tentar ranquear a importância de todos os websites da Internet, vamos usar um dataset de links do Wikipedia [DBpedia](http://wiki.dbpedia.org/). A DBpedia provê dados estruturados do Wikipedia de 125 idiomas.  \n",
    "\n",
    "\"*The full DBpedia data set features 38 million labels and abstracts in 125 different languages, 25.2 million links to images and 29.8 million links to external web pages; 80.9 million links to Wikipedia categories, and 41.2 million links to [YAGO](http://www.mpi-inf.mpg.de/departments/databases-and-information-systems/research/yago-naga/yago/) categories*\" --[about DBpedia](http://wiki.dbpedia.org/about)"
   ]
  },
  {
   "cell_type": "markdown",
   "metadata": {},
   "source": [
    "### Imports"
   ]
  },
  {
   "cell_type": "code",
   "execution_count": 53,
   "metadata": {},
   "outputs": [],
   "source": [
    "import os, numpy as np, pickle\n",
    "#from bz2 import BZ2File\n",
    "#from datetime import datetime\n",
    "#from pprint import pprint\n",
    "from time import time\n",
    "from tqdm import tqdm_notebook\n",
    "from scipy import sparse\n",
    "\n",
    "from sklearn.decomposition import randomized_svd\n",
    "from sklearn.externals.joblib import Memory\n",
    "from urllib.request import urlopen   # for python 2, use: from urllib2 import urlopen "
   ]
  },
  {
   "cell_type": "markdown",
   "metadata": {},
   "source": [
    "### Baixando os dados\n",
    "\n",
    "Os dados que nós usaremos são:\n",
    "- **redirects**: URLs que redirecionam para outras URLs\n",
    "- **links**: que páginas apontam para quais páginas\n"
   ]
  },
  {
   "cell_type": "code",
   "execution_count": 54,
   "metadata": {},
   "outputs": [],
   "source": [
    "PATH = 'data/dbpedia/'\n",
    "URL_BASE = 'http://downloads.dbpedia.org/3.9/pt/'\n",
    "filenames = [\"redirects_pt.nt.bz2\", \"page_links_pt.nt.bz2\"]\n",
    "\n",
    "for filename in filenames:\n",
    "    if not os.path.exists(PATH+filename):\n",
    "        print(\"Downloading '%s', please wait...\" % filename)\n",
    "        open(PATH+filename, 'wb').write(urlopen(URL_BASE+filename).read())"
   ]
  },
  {
   "cell_type": "code",
   "execution_count": 55,
   "metadata": {},
   "outputs": [
    {
     "data": {
      "text/plain": [
       "'data/dbpedia/redirects_pt.nt.bz2'"
      ]
     },
     "execution_count": 55,
     "metadata": {},
     "output_type": "execute_result"
    }
   ],
   "source": [
    "redirects_filename = PATH+filenames[0]\n",
    "page_links_filename = PATH+filenames[1]\n",
    "redirects_filename"
   ]
  },
  {
   "cell_type": "markdown",
   "metadata": {},
   "source": [
    "### Matriz de Adjacência do grafo\n",
    "\n",
    "Nós iremos construir a **matriz de adjacência** do grafo, de que páginas apontam para quais páginas.\n",
    "\n",
    "<img src=\"images/graph.png\" alt=\"\" style=\"width: 25%\"/>\n",
    "(source: [PageRank and HyperLink Induced Topic Search](https://www.slideshare.net/priyabrata232/page-rank-and-hyperlink))\n",
    "\n",
    "<img src=\"images/adjaceny_matrix.png\" alt=\"\" style=\"width: 80%\"/>\n",
    "(source: [PageRank and HyperLink Induced Topic Search](https://www.slideshare.net/priyabrata232/page-rank-and-hyperlink))\n",
    "\n",
    "*Q*: O que é que a potência $A^2$ nos diz?\n",
    "\n",
    "Você poderá encontrar um exemplo aplicado a trechos de linhas aéreas em [worked out in these notes](http://www.utdallas.edu/~jwz120030/Teaching/PastCoursesUMBC/M221HS06/ProjectFiles/Adjacency.pdf).\n",
    "\n",
    "Nós queremos armazenar que páginas apontam para quais páginas. Nós iremos armazenar essa informação em uma matriz quadrada, com um $1$ na posição $(r,c)$ indicando que o tópico na linha $r$ aponta para o tópico na coluna $c$. \n",
    "\n",
    "Você pode ler [mais sobre grafos aqui](http://www.geeksforgeeks.org/graph-and-its-representations/)."
   ]
  },
  {
   "cell_type": "markdown",
   "metadata": {},
   "source": [
    "### Formato dos dados\n",
    "\n",
    "Cada linha do arquivo redirect tem o seguinte formato\n",
    "- `<http://pt.dbpedia.org/resource/Afonso_de_Espanha> <http://dbpedia.org/ontology/wikiPageRedirects> <http://pt.dbpedia.org/resource/Afonso_XIII_de_Espanha> .`\n",
    "\n",
    "No slice abaixo, o mais 1, -1 servem para remover o <>"
   ]
  },
  {
   "cell_type": "code",
   "execution_count": 56,
   "metadata": {},
   "outputs": [],
   "source": [
    "DBPEDIA_RESOURCE_PREFIX_LEN = len(\"http://pt.dbpedia.org/resource/\")\n",
    "SLICE = slice(DBPEDIA_RESOURCE_PREFIX_LEN + 1, -1)"
   ]
  },
  {
   "cell_type": "code",
   "execution_count": 57,
   "metadata": {},
   "outputs": [
    {
     "data": {
      "text/plain": [
       "slice(32, -1, None)"
      ]
     },
     "execution_count": 57,
     "metadata": {},
     "output_type": "execute_result"
    }
   ],
   "source": [
    "SLICE"
   ]
  },
  {
   "cell_type": "code",
   "execution_count": 58,
   "metadata": {},
   "outputs": [],
   "source": [
    "# BUG? o arquivo nao esta lendo direito com BZ2File\n",
    "def get_lines(filename): return (line.split() for line in BZ2File(filename) if line.count(' ') == 3)"
   ]
  },
  {
   "cell_type": "code",
   "execution_count": 59,
   "metadata": {},
   "outputs": [],
   "source": [
    "def get_lines2(filename): return (line.split() for line in open(filename[:-4]) if line.count(' ') == 3)"
   ]
  },
  {
   "cell_type": "markdown",
   "metadata": {},
   "source": [
    "Itere pelos redirections e crie um dicionário de origem para destino final."
   ]
  },
  {
   "cell_type": "code",
   "execution_count": 60,
   "metadata": {},
   "outputs": [],
   "source": [
    "def get_redirect(targ, redirects):\n",
    "    seen = set()\n",
    "    while True:\n",
    "        transitive_targ = targ\n",
    "        targ = redirects.get(targ)\n",
    "        if targ is None or targ in seen: break\n",
    "        seen.add(targ)\n",
    "    return transitive_targ"
   ]
  },
  {
   "cell_type": "code",
   "execution_count": 61,
   "metadata": {},
   "outputs": [],
   "source": [
    "def get_redirects(redirects_filename):\n",
    "    redirects={}\n",
    "    lines = get_lines2(redirects_filename)\n",
    "    return {src[SLICE]:get_redirect(targ[SLICE], redirects) \n",
    "                for src,_,targ,_ in tqdm_notebook(lines, leave=False)}"
   ]
  },
  {
   "cell_type": "code",
   "execution_count": 62,
   "metadata": {},
   "outputs": [
    {
     "data": {
      "application/vnd.jupyter.widget-view+json": {
       "model_id": "d25cbac96a5443748286e337d509beb0",
       "version_major": 2,
       "version_minor": 0
      },
      "text/html": [
       "<p>Failed to display Jupyter Widget of type <code>HBox</code>.</p>\n",
       "<p>\n",
       "  If you're reading this message in the Jupyter Notebook or JupyterLab Notebook, it may mean\n",
       "  that the widgets JavaScript is still loading. If this message persists, it\n",
       "  likely means that the widgets JavaScript library is either not installed or\n",
       "  not enabled. See the <a href=\"https://ipywidgets.readthedocs.io/en/stable/user_install.html\">Jupyter\n",
       "  Widgets Documentation</a> for setup instructions.\n",
       "</p>\n",
       "<p>\n",
       "  If you're reading this message in another frontend (for example, a static\n",
       "  rendering on GitHub or <a href=\"https://nbviewer.jupyter.org/\">NBViewer</a>),\n",
       "  it may mean that your frontend doesn't currently support widgets.\n",
       "</p>\n"
      ],
      "text/plain": [
       "HBox(children=(IntProgress(value=1, bar_style='info', max=1), HTML(value='')))"
      ]
     },
     "metadata": {},
     "output_type": "display_data"
    },
    {
     "name": "stdout",
     "output_type": "stream",
     "text": [
      "\r"
     ]
    }
   ],
   "source": [
    "redirects = get_redirects(redirects_filename)"
   ]
  },
  {
   "cell_type": "code",
   "execution_count": 63,
   "metadata": {},
   "outputs": [
    {
     "data": {
      "text/plain": [
       "'Carb\\\\u00FAnculo'"
      ]
     },
     "execution_count": 63,
     "metadata": {},
     "output_type": "execute_result"
    }
   ],
   "source": [
    "redirects['Antraz']"
   ]
  },
  {
   "cell_type": "code",
   "execution_count": 64,
   "metadata": {},
   "outputs": [
    {
     "data": {
      "text/plain": [
       "605623"
      ]
     },
     "execution_count": 64,
     "metadata": {},
     "output_type": "execute_result"
    }
   ],
   "source": [
    "len(redirects)"
   ]
  },
  {
   "cell_type": "code",
   "execution_count": 65,
   "metadata": {},
   "outputs": [
    {
     "data": {
      "text/plain": [
       "0.1927952766418457"
      ]
     },
     "execution_count": 65,
     "metadata": {},
     "output_type": "execute_result"
    }
   ],
   "source": [
    "mem_usage()"
   ]
  },
  {
   "cell_type": "code",
   "execution_count": 66,
   "metadata": {},
   "outputs": [],
   "source": [
    "def add_item(lst, redirects, index_map, item):\n",
    "    k = item[SLICE]\n",
    "    lst.append(index_map.setdefault(redirects.get(k, k), len(index_map)))"
   ]
  },
  {
   "cell_type": "code",
   "execution_count": 67,
   "metadata": {},
   "outputs": [],
   "source": [
    "limit=24000000 #24000000"
   ]
  },
  {
   "cell_type": "code",
   "execution_count": 88,
   "metadata": {},
   "outputs": [
    {
     "data": {
      "application/vnd.jupyter.widget-view+json": {
       "model_id": "9c5e1ffc95de47a79bd89129398462dd",
       "version_major": 2,
       "version_minor": 0
      },
      "text/html": [
       "<p>Failed to display Jupyter Widget of type <code>HBox</code>.</p>\n",
       "<p>\n",
       "  If you're reading this message in the Jupyter Notebook or JupyterLab Notebook, it may mean\n",
       "  that the widgets JavaScript is still loading. If this message persists, it\n",
       "  likely means that the widgets JavaScript library is either not installed or\n",
       "  not enabled. See the <a href=\"https://ipywidgets.readthedocs.io/en/stable/user_install.html\">Jupyter\n",
       "  Widgets Documentation</a> for setup instructions.\n",
       "</p>\n",
       "<p>\n",
       "  If you're reading this message in another frontend (for example, a static\n",
       "  rendering on GitHub or <a href=\"https://nbviewer.jupyter.org/\">NBViewer</a>),\n",
       "  it may mean that your frontend doesn't currently support widgets.\n",
       "</p>\n"
      ],
      "text/plain": [
       "HBox(children=(IntProgress(value=0, max=24000000), HTML(value='')))"
      ]
     },
     "metadata": {},
     "output_type": "display_data"
    },
    {
     "name": "stdout",
     "output_type": "stream",
     "text": [
      "\n"
     ]
    }
   ],
   "source": [
    "# Computing the integer index map\n",
    "index_map = dict() # links->IDs\n",
    "lines = get_lines2(page_links_filename)\n",
    "source, destination, data = [],[],[]\n",
    "for l, split in tqdm_notebook(enumerate(lines), total=limit):\n",
    "    if l >= limit: break\n",
    "    add_item(source, redirects, index_map, split[0])\n",
    "    add_item(destination, redirects, index_map, split[2])\n",
    "    data.append(1)"
   ]
  },
  {
   "cell_type": "code",
   "execution_count": 69,
   "metadata": {},
   "outputs": [
    {
     "data": {
      "text/plain": [
       "2467466"
      ]
     },
     "execution_count": 69,
     "metadata": {},
     "output_type": "execute_result"
    }
   ],
   "source": [
    "len(index_map)"
   ]
  },
  {
   "cell_type": "markdown",
   "metadata": {},
   "source": [
    "### Análise exploratória dos dados\n",
    "\n",
    "Os passos abaixo são só para ilustrar que informação está em data e como ele está estruturada. Elas não são eficientes.\n",
    "\n",
    "Vamos ver que tipo de itens estão no index_map:"
   ]
  },
  {
   "cell_type": "code",
   "execution_count": 22,
   "metadata": {},
   "outputs": [
    {
     "name": "stdout",
     "output_type": "stream",
     "text": [
      "Albino_Forjaz_de_Sampaio 0\n"
     ]
    }
   ],
   "source": [
    "page = 'Albino_Forjaz_de_Sampaio'\n",
    "page_ind = index_map[page];\n",
    "print(page,page_ind)"
   ]
  },
  {
   "cell_type": "markdown",
   "metadata": {},
   "source": [
    "Vamos ver quantas vezes ele aparece como origem:"
   ]
  },
  {
   "cell_type": "code",
   "execution_count": 23,
   "metadata": {},
   "outputs": [
    {
     "name": "stdout",
     "output_type": "stream",
     "text": [
      "[0, 1, 2, 3, 4, 5, 6, 7, 8, 9, 10, 11, 12, 13, 14, 15, 16, 17, 18, 19, 20, 21, 22, 23, 24, 25, 26, 27, 28, 29, 30, 31, 32, 33, 7791909, 9946199]\n"
     ]
    }
   ],
   "source": [
    "link_ind = [i for i,x in enumerate(source) if x == page_ind]\n",
    "print(link_ind)"
   ]
  },
  {
   "cell_type": "markdown",
   "metadata": {},
   "source": [
    "Quais são os links de saída?"
   ]
  },
  {
   "cell_type": "code",
   "execution_count": 24,
   "metadata": {},
   "outputs": [
    {
     "name": "stdout",
     "output_type": "stream",
     "text": [
      "0 1\n",
      "0 1\n",
      "0 2\n",
      "0 3\n",
      "0 4\n",
      "0 5\n",
      "0 6\n",
      "0 7\n",
      "0 8\n",
      "0 9\n",
      "0 10\n",
      "0 11\n",
      "0 12\n",
      "0 13\n",
      "0 14\n",
      "0 15\n",
      "0 11\n",
      "0 16\n",
      "0 17\n",
      "0 18\n",
      "0 19\n",
      "0 20\n",
      "0 21\n",
      "0 22\n",
      "0 23\n",
      "0 24\n",
      "0 25\n",
      "0 7\n",
      "0 1\n",
      "0 26\n",
      "0 27\n",
      "0 28\n",
      "0 29\n",
      "0 30\n",
      "0 0\n",
      "0 0\n"
     ]
    }
   ],
   "source": [
    "for ind in link_ind:\n",
    "    print(source[ind],destination[ind])"
   ]
  },
  {
   "cell_type": "markdown",
   "metadata": {},
   "source": [
    "Agora queremos checar uma das páginas de destino (aquela de índice $1$). Nota: normalmente você não acessa um dicionário procurando por seus valores. Isto é ineficiente e não é a forma como os dicionários são projetados para serem usados."
   ]
  },
  {
   "cell_type": "code",
   "execution_count": 25,
   "metadata": {},
   "outputs": [],
   "source": [
    "def printPagenameFromIndex(ind):\n",
    "    for page_name, index in index_map.items():\n",
    "        if index == ind:\n",
    "            print(page_name)\n",
    "            break"
   ]
  },
  {
   "cell_type": "code",
   "execution_count": 26,
   "metadata": {},
   "outputs": [
    {
     "name": "stdout",
     "output_type": "stream",
     "text": [
      "Lisboa\n"
     ]
    }
   ],
   "source": [
    "printPagenameFromIndex(1)"
   ]
  },
  {
   "cell_type": "markdown",
   "metadata": {},
   "source": [
    "[Link para página em maio de 2015](https://pt.wikipedia.org/w/index.php?title=Albino_Forjaz_de_Sampaio&oldid=42207793)"
   ]
  },
  {
   "cell_type": "markdown",
   "metadata": {},
   "source": [
    "Vamos encontrar o índice da página principal."
   ]
  },
  {
   "cell_type": "code",
   "execution_count": 95,
   "metadata": {},
   "outputs": [],
   "source": [
    "mainpage = b'Wikip\\u00E9dia:P\\u00E1gina_principal'.decode()\n",
    "mainpage_ind = index_map[mainpage]; mainpage_ind\n",
    "\n",
    "for ind in range(len(index_map)):\n",
    "    source.append(ind)\n",
    "    destination.append(mainpage_ind)\n",
    "    data.append(0.1)\n",
    "#     source.append(mainpage_ind)\n",
    "#     destination.append(ind)\n",
    "#     data.append(1)"
   ]
  },
  {
   "cell_type": "markdown",
   "metadata": {},
   "source": [
    "### Criando a matriz\n",
    "\n",
    "Nós iremos criar a seguir uma matriz esparsa usando o formato COO do Scipy, e então convertê-lo para CSR.\n",
    "\n",
    "**Questão**: O que são COO e CSR?  Por que é que devemos criá-la com COO e convertê-la logo em seguida?"
   ]
  },
  {
   "cell_type": "code",
   "execution_count": 96,
   "metadata": {},
   "outputs": [],
   "source": [
    "n = len(index_map); n\n",
    "X = sparse.coo_matrix((data, (destination,source)), shape=(n,n), dtype=np.float32)\n",
    "X = X.tocsr()"
   ]
  },
  {
   "cell_type": "code",
   "execution_count": 32,
   "metadata": {},
   "outputs": [
    {
     "data": {
      "text/plain": [
       "0.2007579803466797"
      ]
     },
     "execution_count": 32,
     "metadata": {},
     "output_type": "execute_result"
    }
   ],
   "source": [
    "mem_usage()"
   ]
  },
  {
   "cell_type": "code",
   "execution_count": 81,
   "metadata": {
    "collapsed": true
   },
   "outputs": [],
   "source": [
    "del(data,destination, source)"
   ]
  },
  {
   "cell_type": "code",
   "execution_count": 45,
   "metadata": {},
   "outputs": [],
   "source": [
    "names = {i: name for name, i in index_map.items()}"
   ]
  },
  {
   "cell_type": "code",
   "execution_count": 29,
   "metadata": {},
   "outputs": [
    {
     "data": {
      "text/plain": [
       "0.08244991302490234"
      ]
     },
     "execution_count": 29,
     "metadata": {},
     "output_type": "execute_result"
    }
   ],
   "source": [
    "mem_usage()"
   ]
  },
  {
   "cell_type": "markdown",
   "metadata": {},
   "source": [
    "### Salvar a matriz para não termos que recomputá-la"
   ]
  },
  {
   "cell_type": "code",
   "execution_count": 33,
   "metadata": {},
   "outputs": [],
   "source": [
    "pickle.dump(X, open(PATH+'X.pkl', 'wb'))\n",
    "pickle.dump(index_map, open(PATH+'index_map.pkl', 'wb'))"
   ]
  },
  {
   "cell_type": "code",
   "execution_count": 33,
   "metadata": {},
   "outputs": [],
   "source": [
    "import pickle\n",
    "import numpy as np\n",
    "np.set_printoptions(precision=2)\n",
    "\n",
    "PATH = 'data/dbpedia/'\n",
    "X = pickle.load(open(PATH+'X.pkl', 'rb'))\n",
    "index_map = pickle.load(open(PATH+'index_map.pkl', 'rb'))"
   ]
  },
  {
   "cell_type": "markdown",
   "metadata": {},
   "source": [
    "## Power method (método da potência)\n",
    "\n",
    "### Motivação\n",
    "\n",
    "Uma matriz $n \\times n$ é **diagonalizável** se ela possui $n$ autovetores linearmente independentes $v_1,\\, \\ldots v_n$.\n",
    "\n",
    "Neste caso, qualquer vetor $w$ pode ser expresso como $w = \\sum_{j=1}^n c_j v_j $, para alguns escalares $c_j$.\n",
    "\n",
    "**Exercício:** Mostre que $$ A^k w = \\sum_{j=1}^n c_j \\lambda_j^k v_j$$\n",
    "\n",
    "**Questão**: O que acontece quando $k$ é grande?\n",
    "\n",
    "Esta é a ideia-chave do **power method**."
   ]
  },
  {
   "cell_type": "markdown",
   "metadata": {},
   "source": [
    "### Um exemplo pequeno\n",
    "\n",
    "Vamos pegar as 10 primeiras linhas e colunas da matriz X para executar o método da potência. No entanto, o método não vai ser aplicado diretamente a esta submatriz. Estamos interessados na submatriz obtida ao se dividir cada coluna por sua soma."
   ]
  },
  {
   "cell_type": "code",
   "execution_count": 34,
   "metadata": {},
   "outputs": [
    {
     "data": {
      "text/plain": [
       "matrix([[0.14, 0.  , 0.  , 0.  , 0.  , 0.  , 0.  , 0.  , 0.  , 0.  ],\n",
       "        [0.21, 0.57, 0.  , 0.  , 0.  , 0.  , 0.  , 0.69, 0.  , 0.  ],\n",
       "        [0.07, 0.  , 0.67, 0.  , 0.  , 0.  , 0.  , 0.  , 0.  , 0.  ],\n",
       "        [0.07, 0.  , 0.  , 0.  , 0.43, 0.  , 0.  , 0.  , 0.  , 0.  ],\n",
       "        [0.07, 0.  , 0.  , 0.  , 0.29, 0.  , 0.  , 0.  , 0.  , 0.  ],\n",
       "        [0.07, 0.  , 0.33, 0.5 , 0.14, 0.  , 0.  , 0.  , 0.  , 0.33],\n",
       "        [0.07, 0.  , 0.  , 0.  , 0.  , 0.  , 0.5 , 0.  , 0.  , 0.17],\n",
       "        [0.14, 0.43, 0.  , 0.  , 0.14, 0.  , 0.25, 0.31, 0.  , 0.  ],\n",
       "        [0.07, 0.  , 0.  , 0.  , 0.  , 0.  , 0.25, 0.  , 0.67, 0.  ],\n",
       "        [0.07, 0.  , 0.  , 0.5 , 0.  , 1.  , 0.  , 0.  , 0.33, 0.5 ]],\n",
       "       dtype=float32)"
      ]
     },
     "execution_count": 34,
     "metadata": {},
     "output_type": "execute_result"
    }
   ],
   "source": [
    "a = X[:10,:10].copy().todense()\n",
    "a /= a.sum(axis=0)\n",
    "a"
   ]
  },
  {
   "cell_type": "code",
   "execution_count": 103,
   "metadata": {},
   "outputs": [
    {
     "name": "stdout",
     "output_type": "stream",
     "text": [
      "[[3.09e-86 6.11e-01 2.80e-19 8.82e-56 5.88e-56 1.35e-03 1.42e-03 3.81e-01\n",
      "  1.23e-03 3.88e-03]]\n"
     ]
    }
   ],
   "source": [
    "w = (np.ones((10,1))/10.0)\n",
    "for i in range(100):\n",
    "    w = a @ w\n",
    "w /= np.sum(w)\n",
    "print(w.T)"
   ]
  },
  {
   "cell_type": "markdown",
   "metadata": {},
   "source": [
    "### Tirando a prova real\n",
    "\n",
    "**Nota:** Não se preocupe com a parte imaginária. Ela aparece pois alguns dos autovalores são imaginários."
   ]
  },
  {
   "cell_type": "code",
   "execution_count": 104,
   "metadata": {},
   "outputs": [
    {
     "name": "stdout",
     "output_type": "stream",
     "text": [
      "[[0.00e+00+0.j 6.16e-01+0.j 0.00e+00+0.j 0.00e+00+0.j 0.00e+00+0.j\n",
      "  2.01e-16+0.j 3.83e-16+0.j 3.84e-01+0.j 3.83e-16+0.j 2.42e-16+0.j]]\n"
     ]
    }
   ],
   "source": [
    "Lambda, V = np.linalg.eig(a)\n",
    "v = V[:,0] # autovetor associado ao maior autovalor em modulo\n",
    "v /= np.sum(v)\n",
    "print(v.T)"
   ]
  },
  {
   "cell_type": "markdown",
   "metadata": {},
   "source": [
    "### Parêntesis: Entendo a representação de matrizes esparsas"
   ]
  },
  {
   "cell_type": "code",
   "execution_count": 37,
   "metadata": {},
   "outputs": [
    {
     "data": {
      "text/plain": [
       "array([ 4, 10,  7], dtype=int64)"
      ]
     },
     "execution_count": 37,
     "metadata": {},
     "output_type": "execute_result"
    }
   ],
   "source": [
    "S = sparse.csr_matrix(np.array([[1,0,2],[3,4,5],[0,6,0]]))\n",
    "Sr = S.sum(axis=0).A1; Sr"
   ]
  },
  {
   "cell_type": "code",
   "execution_count": 40,
   "metadata": {},
   "outputs": [
    {
     "data": {
      "text/plain": [
       "<3x3 sparse matrix of type '<type 'numpy.int64'>'\n",
       "\twith 6 stored elements in Compressed Sparse Row format>"
      ]
     },
     "execution_count": 40,
     "metadata": {},
     "output_type": "execute_result"
    }
   ],
   "source": [
    "S"
   ]
  },
  {
   "cell_type": "markdown",
   "metadata": {},
   "source": [
    "[numpy.matrix.A1](https://docs.scipy.org/doc/numpy/reference/generated/numpy.matrix.A1.html#numpy.matrix.A1)"
   ]
  },
  {
   "cell_type": "code",
   "execution_count": 41,
   "metadata": {},
   "outputs": [
    {
     "data": {
      "text/plain": [
       "array([0, 2, 0, 1, 2, 1], dtype=int32)"
      ]
     },
     "execution_count": 41,
     "metadata": {},
     "output_type": "execute_result"
    }
   ],
   "source": [
    "S.indices"
   ]
  },
  {
   "cell_type": "code",
   "execution_count": 46,
   "metadata": {},
   "outputs": [
    {
     "data": {
      "text/plain": [
       "array([1, 2, 3, 4, 5, 6])"
      ]
     },
     "execution_count": 46,
     "metadata": {},
     "output_type": "execute_result"
    }
   ],
   "source": [
    "S.data"
   ]
  },
  {
   "cell_type": "code",
   "execution_count": 48,
   "metadata": {},
   "outputs": [
    {
     "data": {
      "text/plain": [
       "array([ 4,  7,  4, 10,  7, 10])"
      ]
     },
     "execution_count": 48,
     "metadata": {},
     "output_type": "execute_result"
    }
   ],
   "source": [
    "np.take(Sr, S.indices)"
   ]
  },
  {
   "cell_type": "code",
   "execution_count": 47,
   "metadata": {},
   "outputs": [
    {
     "data": {
      "text/plain": [
       "array([ 0.25      ,  0.28571429,  0.75      ,  0.4       ,  0.71428571,\n",
       "        0.6       ])"
      ]
     },
     "execution_count": 47,
     "metadata": {},
     "output_type": "execute_result"
    }
   ],
   "source": [
    "S.data * 1.0 / np.take(Sr, S.indice"
   ]
  },
  {
   "cell_type": "markdown",
   "metadata": {},
   "source": [
    "### Implementando o método da potência como função"
   ]
  },
  {
   "cell_type": "code",
   "execution_count": 38,
   "metadata": {},
   "outputs": [],
   "source": [
    "def power_method_dense(a, max_iter=100):\n",
    "    n = a.shape[0]\n",
    "    a /= a.sum(axis=0) # divide pela soma das colunas, pois estamos usando a.T\n",
    "\n",
    "    scores = np.ones((n,1), dtype=np.float32)/n  # chute inicial: todas mesmo ranking\n",
    "    #scores = np.random.rand(n,1)                 # chute inicial: aleatorio\n",
    "    for i in range(max_iter):\n",
    "        scores = a @ scores\n",
    "        nrm = np.linalg.norm(scores)\n",
    "        scores /= nrm\n",
    "        print(nrm)\n",
    "\n",
    "    return scores.T"
   ]
  },
  {
   "cell_type": "code",
   "execution_count": 39,
   "metadata": {},
   "outputs": [
    {
     "name": "stdout",
     "output_type": "stream",
     "text": [
      "0.3735547\n",
      "1.1439383\n",
      "1.0389824\n",
      "1.0085995\n",
      "0.99967587\n",
      "1.0001061\n",
      "1.0025631\n",
      "1.0055002\n",
      "1.0080296\n",
      "1.0100648\n"
     ]
    },
    {
     "data": {
      "text/plain": [
       "matrix([[7.70e-10, 6.43e-01, 4.29e-03, 1.77e-06, 1.18e-06, 1.89e-01,\n",
       "         1.96e-01, 4.47e-01, 1.61e-01, 5.35e-01]], dtype=float32)"
      ]
     },
     "execution_count": 39,
     "metadata": {},
     "output_type": "execute_result"
    }
   ],
   "source": [
    "power_method_dense(a,10)"
   ]
  },
  {
   "cell_type": "code",
   "execution_count": 97,
   "metadata": {},
   "outputs": [],
   "source": [
    "def power_method(A, max_iter=100):\n",
    "    n = A.shape[1]\n",
    "    A.data /= np.take(A.sum(axis=0).A1, A.indices)\n",
    "\n",
    "    scores = np.ones((n,1), dtype=np.float32) * np.sqrt(A.sum()/(n*n)) # initial guess\n",
    "    for i in range(max_iter):\n",
    "        scores = A.dot(scores)\n",
    "        nrm = np.linalg.norm(scores)\n",
    "        scores /= nrm\n",
    "        print(nrm)\n",
    "\n",
    "    return scores.T"
   ]
  },
  {
   "cell_type": "code",
   "execution_count": 102,
   "metadata": {},
   "outputs": [
    {
     "name": "stdout",
     "output_type": "stream",
     "text": [
      "1061.2333\n",
      "1.076787\n",
      "1.0333565\n",
      "1.0273565\n",
      "1.0221232\n",
      "1.018504\n",
      "1.0155473\n",
      "1.0131183\n",
      "1.0110149\n",
      "1.0092705\n"
     ]
    }
   ],
   "source": [
    "n = X.shape\n",
    "A = X.copy()\n",
    "z = power_method(A, max_iter=10)"
   ]
  },
  {
   "cell_type": "code",
   "execution_count": 93,
   "metadata": {},
   "outputs": [],
   "source": [
    "def show_ex(v):\n",
    "    print(', '.join(names[i] for i in np.abs(v.squeeze()).argsort()[-1:-10:-1]))"
   ]
  },
  {
   "cell_type": "code",
   "execution_count": 100,
   "metadata": {},
   "outputs": [
    {
     "name": "stdout",
     "output_type": "stream",
     "text": [
      "Wikip\\u00E9dia:P\\u00E1gina_principal, Anexo:Lista_de_asteroides, Wikip\\u00E9dia:Artigo_sobre_evento_futuro, Estados_Unidos, Brasil, Anexo:Lista_de_presidentes_da_Bol\\u00EDvia, Anexo:Lista_de_presidentes_da_Argentina, Anexo:Lista_de_Estados_soberanos, Portugal\n"
     ]
    }
   ],
   "source": [
    "show_ex(z)"
   ]
  },
  {
   "cell_type": "markdown",
   "metadata": {},
   "source": [
    "**Questão**: Por que normalizar os scores a cada iteração?"
   ]
  },
  {
   "cell_type": "markdown",
   "metadata": {},
   "source": [
    "**Decomposição espectral versus SVD:**\n",
    "\n",
    "- SVD envolve duas bases, decomposição espectra envolve uma base\n",
    "- Bases do SVD são ortonormais, base da decomposição espectral normalmente não é\n",
    "- Todas as matrizes possuem um SVD, nem todas as matrizes (nem mesmo todas quadradas) tem uma decomposição espectral"
   ]
  }
 ],
 "metadata": {
  "kernelspec": {
   "display_name": "Python 3",
   "language": "python",
   "name": "python3"
  },
  "language_info": {
   "codemirror_mode": {
    "name": "ipython",
    "version": 3
   },
   "file_extension": ".py",
   "mimetype": "text/x-python",
   "name": "python",
   "nbconvert_exporter": "python",
   "pygments_lexer": "ipython3",
   "version": "3.5.4"
  }
 },
 "nbformat": 4,
 "nbformat_minor": 1
}
