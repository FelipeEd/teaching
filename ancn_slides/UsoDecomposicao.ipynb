{
 "cells": [
  {
   "cell_type": "markdown",
   "metadata": {},
   "source": [
    "# Usos da decomposição"
   ]
  },
  {
   "cell_type": "markdown",
   "metadata": {},
   "source": [
    "A decomposição ou fatoração de uma matriz são utilizadas quando é preciso resolver sistemas lineares do tipo $Ax = b$ para vários vetores $b$ diferentes.\n",
    "\n",
    "Exemplos:\n",
    " * calcular a inversa de uma matriz\n",
    " * refinamento de uma solução"
   ]
  },
  {
   "cell_type": "code",
   "execution_count": 1,
   "metadata": {},
   "outputs": [],
   "source": [
    "import numpy as np\n",
    "import scipy.linalg\n",
    "\n",
    "def makeIdentityColumn(n,i):\n",
    "    v = np.zeros(n)\n",
    "    v[i] = 1\n",
    "    return v\n",
    "\n",
    "n = 10\n",
    "A = np.random.rand(n,n)\n",
    "inv_A = np.zeros((n,n))\n",
    "\n",
    "LU, P = scipy.linalg.lu_factor(A)\n",
    "for i in range(n):\n",
    "    inv_A[:,i] = scipy.linalg.lu_solve((LU,P), makeIdentityColumn(n,i))"
   ]
  },
  {
   "cell_type": "code",
   "execution_count": 3,
   "metadata": {},
   "outputs": [],
   "source": [
    "?scipy.linalg.lu_solve"
   ]
  },
  {
   "cell_type": "code",
   "execution_count": 9,
   "metadata": {},
   "outputs": [
    {
     "data": {
      "text/plain": [
       "array([[  1.00000000e+00,  -3.19242876e-17,  -5.23723757e-17,\n",
       "          1.22759173e-16,   4.78979959e-17,  -3.41772114e-16,\n",
       "         -8.88365790e-17,  -9.89003885e-17,   0.00000000e+00,\n",
       "         -2.22044605e-16],\n",
       "       [ -7.42526724e-17,   1.00000000e+00,   3.95126329e-20,\n",
       "          4.53597005e-17,   1.30420429e-16,  -1.76421837e-16,\n",
       "          1.28750613e-16,  -1.21329368e-16,   0.00000000e+00,\n",
       "         -1.11022302e-16],\n",
       "       [ -1.97077807e-16,  -1.60754731e-16,   1.00000000e+00,\n",
       "          5.93717358e-16,   7.09249186e-17,  -3.58201444e-16,\n",
       "         -7.36368463e-18,   2.12372974e-16,  -2.22044605e-16,\n",
       "          1.11022302e-16],\n",
       "       [ -2.59967699e-16,  -4.10566858e-17,  -1.71600659e-16,\n",
       "          1.00000000e+00,   1.19835939e-16,  -1.28499327e-15,\n",
       "          9.67207816e-17,   2.56391500e-16,  -4.44089210e-16,\n",
       "          2.22044605e-16],\n",
       "       [ -2.56342851e-16,  -2.90311975e-16,  -4.84015091e-17,\n",
       "          6.25442407e-16,   1.00000000e+00,  -5.40126390e-16,\n",
       "          4.81928027e-17,  -4.42477783e-16,  -4.44089210e-16,\n",
       "          0.00000000e+00],\n",
       "       [ -2.47441664e-16,  -1.92311450e-18,  -1.69408037e-16,\n",
       "          4.57689310e-16,   5.03378145e-17,   1.00000000e+00,\n",
       "         -5.15462538e-17,   5.72626204e-16,  -4.44089210e-16,\n",
       "          0.00000000e+00],\n",
       "       [ -4.02087213e-17,  -1.04688876e-16,   1.13220119e-17,\n",
       "          7.56177991e-17,   1.63407532e-16,  -3.04704112e-16,\n",
       "          1.00000000e+00,  -1.43378882e-16,   0.00000000e+00,\n",
       "         -4.16333634e-17],\n",
       "       [ -3.78770264e-17,   5.79643609e-17,  -6.58424987e-17,\n",
       "         -6.70702544e-16,  -2.07955105e-17,   2.57144512e-17,\n",
       "         -1.75445903e-16,   1.00000000e+00,   4.44089210e-16,\n",
       "          1.11022302e-16],\n",
       "       [ -1.10957707e-16,  -7.25382938e-17,  -6.52217137e-17,\n",
       "          2.40184830e-16,   6.51403706e-17,  -1.39643285e-15,\n",
       "         -2.58386699e-17,   2.71121169e-16,   1.00000000e+00,\n",
       "         -2.22044605e-16],\n",
       "       [ -1.00524820e-16,   3.26433131e-17,  -4.52221014e-17,\n",
       "         -3.76235382e-16,   6.51841826e-18,   6.41996569e-16,\n",
       "         -9.54132590e-17,  -6.83721218e-16,   8.88178420e-16,\n",
       "          1.00000000e+00]])"
      ]
     },
     "execution_count": 9,
     "metadata": {},
     "output_type": "execute_result"
    }
   ],
   "source": [
    "A.dot(inv_A)"
   ]
  },
  {
   "cell_type": "code",
   "execution_count": null,
   "metadata": {
    "collapsed": true
   },
   "outputs": [],
   "source": []
  }
 ],
 "metadata": {
  "kernelspec": {
   "display_name": "Python 2",
   "language": "python",
   "name": "python2"
  },
  "language_info": {
   "codemirror_mode": {
    "name": "ipython",
    "version": 2
   },
   "file_extension": ".py",
   "mimetype": "text/x-python",
   "name": "python",
   "nbconvert_exporter": "python",
   "pygments_lexer": "ipython2",
   "version": "2.7.15"
  }
 },
 "nbformat": 4,
 "nbformat_minor": 2
}
